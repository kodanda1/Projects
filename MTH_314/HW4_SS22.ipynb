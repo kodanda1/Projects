{
 "cells": [
  {
   "cell_type": "markdown",
   "metadata": {},
   "source": [
    "In order to successfully complete this assignment, you must follow all the instructions in this notebook and upload your edited ipynb file to [D2L](http://d2l.msu.edu/) with your answers on or before **10:00am on Friday, April 1st**.\n"
   ]
  },
  {
   "cell_type": "markdown",
   "metadata": {},
   "source": [
    "# Homework 4: Projection and Diagonalization"
   ]
  },
  {
   "cell_type": "code",
   "execution_count": 180,
   "metadata": {},
   "outputs": [],
   "source": [
    "%matplotlib inline\n",
    "import matplotlib.pylab as plt\n",
    "import numpy as np\n",
    "import sympy as sym\n",
    "#sym.init_printing(use_unicode=True)"
   ]
  },
  {
   "cell_type": "code",
   "execution_count": 181,
   "metadata": {},
   "outputs": [],
   "source": [
    "import os.path\n",
    "from urllib.request import urlretrieve\n",
    "if not os.path.isfile(\"answercheck.py\"):\n",
    "    urlretrieve('https://raw.githubusercontent.com/colbrydi/jupytercheck/master/answercheck.py', 'answercheck.py');"
   ]
  },
  {
   "cell_type": "code",
   "execution_count": 182,
   "metadata": {},
   "outputs": [],
   "source": [
    "# import for checking answers\n",
    "from answercheck import checkanswer"
   ]
  },
  {
   "cell_type": "markdown",
   "metadata": {},
   "source": [
    "# 1. Projection (35 pts)"
   ]
  },
  {
   "cell_type": "markdown",
   "metadata": {},
   "source": [
    "Given the vector $v=[1,4,-1]^\\top$ and the plane $W = \\{(x_1,x_2,x_3): x_1-2x_2-3x_3=0\\},$ in\n",
    "$\\mathbb{R}^3$, we want to find the projection of $v$ onto $W$ using the following steps.\n",
    "\n"
   ]
  },
  {
   "cell_type": "markdown",
   "metadata": {},
   "source": [
    "&#9989;  **<font color=red>QUESTION 1.1:</font>** (5 pts) In the markdown cell below, explain why $W$ forms a vector space and what the dimension of this space is."
   ]
  },
  {
   "cell_type": "markdown",
   "metadata": {},
   "source": [
    "Since it satisfies the two requirements of scalar multiplication and scalar adition it forms a vector space."
   ]
  },
  {
   "cell_type": "markdown",
   "metadata": {},
   "source": [
    "&#9989;  **<font color=red>QUESTION 1.2:</font>** (5 pts) What is a matrix $A$ such that $W$ is the nullspace of $A$? "
   ]
  },
  {
   "cell_type": "code",
   "execution_count": 183,
   "metadata": {},
   "outputs": [],
   "source": [
    "#put your answer here\n",
    "A = np.matrix([1,-2,-3])"
   ]
  },
  {
   "cell_type": "markdown",
   "metadata": {},
   "source": [
    "&#9989;  **<font color=red>QUESTION 1.3:</font>** (5 pts)\n",
    "Find two arbitrary vectors in the plane $W$ that are not parallel to each other."
   ]
  },
  {
   "cell_type": "code",
   "execution_count": 184,
   "metadata": {},
   "outputs": [],
   "source": [
    "# Put your answer to the above question here\n",
    "v1 = [2,4,-2]\n",
    "v2 = [8,1,2]"
   ]
  },
  {
   "cell_type": "markdown",
   "metadata": {},
   "source": [
    "&#9989;  **<font color=red>QUESTION 1.4:</font>** (5 pts)\n",
    "Orthogonalize `v1` and `v2` by applying the Gram-Schmidt process. Store the resulting orthonormal vectors as `w1` and `w2`"
   ]
  },
  {
   "cell_type": "code",
   "execution_count": 185,
   "metadata": {},
   "outputs": [],
   "source": [
    "#Put your answer to the above question here\n",
    "w1=v1/np.dot(v1,v1)**(0.5)\n",
    "result = v2 - (np.dot(v2,w1))*w1\n",
    "w2=(result)/np.dot(result,result)**(0.5)\n",
    "\n"
   ]
  },
  {
   "cell_type": "markdown",
   "metadata": {},
   "source": [
    "&#9989;  **<font color=red>QUESTION 1.5:</font>** (5 pts) Use python to verify that {`w1`,`w2`} is indeed an orthonormal basis of the plane $W$. Specifically, verify\n",
    "\n",
    "-  each basis vector has unit length \n",
    "-  orthogonality between different basis vectors.\n",
    "-  `w1`, `w2` $\\in W$ "
   ]
  },
  {
   "cell_type": "code",
   "execution_count": 186,
   "metadata": {},
   "outputs": [
    {
     "name": "stdout",
     "output_type": "stream",
     "text": [
      "True\n",
      "True\n",
      "True\n",
      "True\n"
     ]
    }
   ],
   "source": [
    "print(np.linalg.norm(w1)==1)\n",
    "print(np.allclose(np.dot(w1,w2),0))\n",
    "print(np.allclose(np.dot(w1,w1),1))\n",
    "print(np.allclose(np.dot(w2,w2),1))\n",
    "\n"
   ]
  },
  {
   "cell_type": "markdown",
   "metadata": {},
   "source": [
    "Recall that in Pre-class 15, the following mathematical definition of projection onto a subspace was defined.\n",
    "\n",
    "**Definition**: Let $W$ be a subspace of $R^n$ of dimension $m$. Let $\\{w_1,\\cdots,w_m\\}$ be an orthonormal basis for $W$. Then the projection of vector $v$ in $R^n$ onto $W$ is denoted as $\\mbox{proj}_Wv$ and is defined as \n",
    "$$\\mbox{proj}_Wv = (v\\cdot w_1)w_1+(v\\cdot w_2)w_2+\\cdots+(v\\cdot w_m)w_m$$\n"
   ]
  },
  {
   "cell_type": "markdown",
   "metadata": {},
   "source": [
    "&#9989;  **<font color=red>QUESTION 1.6:</font>** (5 pts) Use this formula to find $P_W v$, the projection of $v=[1,4,-1]^T$ onto $W$.\n"
   ]
  },
  {
   "cell_type": "code",
   "execution_count": 187,
   "metadata": {},
   "outputs": [
    {
     "data": {
      "text/plain": [
       "array([ 1.28571429,  3.42857143, -1.85714286])"
      ]
     },
     "execution_count": 187,
     "metadata": {},
     "output_type": "execute_result"
    }
   ],
   "source": [
    "# Put your answer to the above question here\n",
    "v = [1,4,-1]\n",
    "Pwv = np.dot(v,w1)*(w1) + np.dot(v,w2)*(w2)\n",
    "Pwv"
   ]
  },
  {
   "cell_type": "markdown",
   "metadata": {},
   "source": [
    "&#9989;  **<font color=red>QUESTION 1.7:</font>** (5 pts) What is the geometric meaning of $v-P_W v$? Use this to find the distance from $v$ to $W$."
   ]
  },
  {
   "cell_type": "code",
   "execution_count": 188,
   "metadata": {},
   "outputs": [
    {
     "data": {
      "text/plain": [
       "1.0690449676496976"
      ]
     },
     "execution_count": 188,
     "metadata": {},
     "output_type": "execute_result"
    }
   ],
   "source": [
    "#Put your code here\n",
    "distance = np.linalg.norm(v-Pwv)\n",
    "distance"
   ]
  },
  {
   "cell_type": "markdown",
   "metadata": {},
   "source": [
    "# 2. Properties of orthogonal matrices (35 pts)\n"
   ]
  },
  {
   "cell_type": "markdown",
   "metadata": {},
   "source": [
    "In pre-class 15, we learned the definition of orthogonal matrices. Let us  review it here.\n",
    "\n",
    "**Definition:** A $n\\times n$ matrix $U$ is orthogonal if the columns of $U$ form an orthonormal basis of  $\\mathbb {R} ^{n}$.\n",
    "\n",
    "Orthogonal matrices have many alternative definitions. Explictly, the following conditions are all equivalent."
   ]
  },
  {
   "cell_type": "markdown",
   "metadata": {},
   "source": [
    "- $U$ is orthogonal\n",
    "\n",
    "- the rows of $U$ form an orthonormal basis of  $\\mathbb {R} ^{n}$.\n",
    "\n",
    "- the columns of $U$ form an orthonormal basis of  $\\mathbb {R} ^{n}$.\n",
    "\n",
    "- Given two vectors $x$ and $y$ in $\\mathbb{R}^n$, multiplication by U preserves their dot product; that is, $(Ux)\\cdot (Uy) = x \\cdot y$.\n",
    " \n",
    "- U is invertible, and $U^T = U^{-1}$."
   ]
  },
  {
   "cell_type": "markdown",
   "metadata": {},
   "source": [
    "&#9989;  **<font color=red>QUESTION 2.1:</font>** (5 pts) Let $v_1 = [\\frac{1}{2}, \\frac{1}{2}, \\frac{1}{2}, \\frac{1}{2}]$, $v_2 = [\\frac{1}{2}, \\frac{1}{2}, -\\frac{1}{2}, -\\frac{1}{2}]$,\n",
    "$v_3 = [\\frac{1}{\\sqrt 2}, -\\frac{1}{\\sqrt 2}, 0, 0]$, $v_4 = [0, 0, \\frac{1}{\\sqrt 2}, -\\frac{1}{\\sqrt 2}]$.\n",
    "Use a subset of the above equivalent conditions to verify that $v_1,v_2,v_3$, and $v_4$ form an orthonormal basis of $\\mathbb{R}^4$."
   ]
  },
  {
   "cell_type": "code",
   "execution_count": 189,
   "metadata": {},
   "outputs": [
    {
     "data": {
      "text/plain": [
       "True"
      ]
     },
     "execution_count": 189,
     "metadata": {},
     "output_type": "execute_result"
    }
   ],
   "source": [
    "v = np.matrix([[1/2,1/2,1/2,1/2], [1/2,1/2,-1/2,-1/2],[1/(2)**(0.5),-1/(2)**(0.5),0,0],[0,0,1/(2)**(0.5),-1/(2)**(0.5)]])\n",
    "np.allclose(v.T*v, np.identity(v.shape[0]))"
   ]
  },
  {
   "cell_type": "markdown",
   "metadata": {},
   "source": [
    "&#9989;  **<font color=red>QUESTION 2.2:</font>** (5 pts) Use python code  to construct the following two $3\\times 3$ transformation matrices: \n",
    "+ Rotation matrix `R` that rotates a given vector in $\\mathbb{R}^3$ around the $x$-axis counter-clockwise by an angle of $60^\\circ$ \n",
    "+ Reflection matrix `F` that reflects a given vector in $\\mathbb{R}^3$ with respect to the $y$-$z$ plane."
   ]
  },
  {
   "cell_type": "code",
   "execution_count": 190,
   "metadata": {},
   "outputs": [
    {
     "name": "stdout",
     "output_type": "stream",
     "text": [
      "[[ 1.         0.         0.       ]\n",
      " [ 0.         0.5       -0.8660254]\n",
      " [ 0.         0.8660254  0.5      ]]\n",
      "[[-1  0  0]\n",
      " [ 0  1  0]\n",
      " [ 0  0  1]]\n"
     ]
    }
   ],
   "source": [
    "theta = 60 *(np.pi/180)\n",
    "R = np.matrix([[1,0,0],[0,np.cos(theta), -np.sin(theta)],[0,np.sin(theta),np.cos(theta)]])\n",
    "F = np.matrix([[-1,0,0],[0,1,0],[0,0,1]])\n",
    "\n",
    "print(R)\n",
    "print(F)"
   ]
  },
  {
   "cell_type": "markdown",
   "metadata": {},
   "source": [
    "&#9989;  **<font color=red>QUESTION 2.3:</font>** (5 pts) Verify that `R`,`F` and their products `FR`, `RFRF` are all orthogonal. This tells us that any product of orthogonal matrices is still an orthogonal matrix."
   ]
  },
  {
   "cell_type": "code",
   "execution_count": 191,
   "metadata": {},
   "outputs": [
    {
     "name": "stdout",
     "output_type": "stream",
     "text": [
      "True\n",
      "True\n",
      "True\n",
      "True\n"
     ]
    }
   ],
   "source": [
    "print(np.allclose(R*R.T, np.identity(R.shape[0])))\n",
    "print(np.allclose(F*F.T, np.identity(F.shape[0])))\n",
    "\n",
    "print(np.allclose((F*R)*(F*R).T, np.identity((R*F).shape[0])))\n",
    "print(np.allclose((R*F*R*F)*(R*F*R*F).T,np.identity((R*F*R*F).shape[0])))"
   ]
  },
  {
   "cell_type": "markdown",
   "metadata": {},
   "source": [
    "&#9989;  **<font color=red>QUESTION 2.4:</font>** (5 pts) Rotations and reflections are known as rigid motions, meaning that they do not change the length of the vectors being rotated/reflected. This is in fact an intrinsic property of orthogonal matrices and is guaranteed by one of the equivalent conditions of orthogonal matrices listed above. Which condition is that? Be sure to explain your reasoning.\n",
    "\n",
    "(Hint: for an orthogonal matrix $U$, when we say it does not change the length of the input, we mean $\\|Ux\\|=\\|x\\|$ for any $x$, that is, the length of $Ux$ is always the same as the length of $x$. You are asked to find the condition of orthogonal matrices that implies this.)"
   ]
  },
  {
   "cell_type": "markdown",
   "metadata": {},
   "source": [
    "By multiplying with U you can preserve their dot product.\n",
    "\n",
    "(Ux).(Uy) = x.y"
   ]
  },
  {
   "cell_type": "markdown",
   "metadata": {},
   "source": [
    "&#9989;  **<font color=red>QUESTION 2.5:</font>** (10 pts) Find possible values $a,b,c,d,e,f$ such that\n",
    "$$A = \\begin{bmatrix}\n",
    "1 & a & b \\\\\n",
    "c & 0.6 & d \\\\\n",
    "e & 0.8 & f\n",
    "\\end{bmatrix}$$\n",
    "is orthogonal."
   ]
  },
  {
   "cell_type": "code",
   "execution_count": 192,
   "metadata": {},
   "outputs": [],
   "source": [
    "a=0\n",
    "b=0\n",
    "c=0\n",
    "d=-0.8\n",
    "e=0\n",
    "f=0.6"
   ]
  },
  {
   "cell_type": "code",
   "execution_count": 193,
   "metadata": {},
   "outputs": [
    {
     "name": "stdout",
     "output_type": "stream",
     "text": [
      "\n",
      "CheckWarning: passed variable is <class 'list'> and not a numpy.matrix.\n",
      "    Trying to convert to a array matrix using ```A = np.matrix(A)```.\n",
      "\n",
      "\n",
      "CheckWarning: Vector contains negative values for zero...\n",
      "    Converting to positive values of zero using  ```A[A==-0] = 0```.\n",
      "\n",
      "Testing [[ 0.    0.    0.    0.8   0.   -0.48]]\n",
      "Answer seems to be correct\n",
      "\n"
     ]
    }
   ],
   "source": [
    "from answercheck import checkanswer\n",
    "checkanswer.vector([a,b,c,abs(d),e,f*d], \"1592b4d30e72d792d5e5c17c5eb1c4a6\");"
   ]
  },
  {
   "cell_type": "markdown",
   "metadata": {},
   "source": [
    "&#9989;  **<font color=red>QUESTION 2.6:</font>** (5 pts) Compute the eigenvalues of the matrix with the vectors in QUESTION 2.1 as its columns, as well as the eigenvalues of the matrix `FR` in QUESTION 2.3. What do you find about the magnitudes of the eigenvalues? Could you come up with a theoretical explanation for this phenomenon?"
   ]
  },
  {
   "cell_type": "code",
   "execution_count": 194,
   "metadata": {},
   "outputs": [
    {
     "name": "stdout",
     "output_type": "stream",
     "text": [
      "[ 1.        +0.j         -0.85355339+0.52100538j -0.85355339-0.52100538j\n",
      "  1.        +0.j        ]\n",
      "[ 0.5+0.8660254j  0.5-0.8660254j -1. +0.j       ]\n",
      "magnitude of A = [1. 1. 1. 1.]\n",
      "magnitude of B = [1. 1. 1.]\n"
     ]
    }
   ],
   "source": [
    "A = np.linalg.eig(v.T)[0]\n",
    "print(A)\n",
    "B =np.linalg.eig(F*R)[0]\n",
    "print(B)\n",
    "\n",
    "print(\"magnitude of A =\",np.absolute(A))\n",
    "print(\"magnitude of B =\",np.absolute(B))\n"
   ]
  },
  {
   "cell_type": "markdown",
   "metadata": {},
   "source": [
    "The magnitudes look similar and that is 1 and the eigen values are complex numbers. There are only two real eigen values in both these matrices 1, -1 respectively. This is due to the multiplication by U which prserves their dot product."
   ]
  },
  {
   "cell_type": "markdown",
   "metadata": {},
   "source": [
    "# 3. Singular Value Decomposition for Image Restoration (30 pts)\n"
   ]
  },
  {
   "cell_type": "markdown",
   "metadata": {},
   "source": [
    "In this question, we will use SVD to remove noise in an image by approximating the image with a low-rank matrix.\n",
    "\n",
    "First, let's construct an image. \n",
    "A grayscale image can be represented by a matrix, whose elements are values between $0$ (black) and $1$ (white). \n",
    "Run the following code to see a grayscale image of size $25\\times 25$."
   ]
  },
  {
   "cell_type": "code",
   "execution_count": 195,
   "metadata": {},
   "outputs": [
    {
     "data": {
      "image/png": "[encoded data removed]",
      "text/plain": [
       "<Figure size 432x288 with 1 Axes>"
      ]
     },
     "metadata": {
      "needs_background": "light"
     },
     "output_type": "display_data"
    }
   ],
   "source": [
    "M = np.zeros((25, 25))\n",
    "M[::2, 1::2] = 1\n",
    "M[1::2, ::2] = 1\n",
    "imgPlot = plt.imshow(M, cmap='gray')\n",
    "plt.show()"
   ]
  },
  {
   "cell_type": "markdown",
   "metadata": {},
   "source": [
    "&#9989; <font color=red>**Question 3.1:**</font> (5 pts) Find the rank of this matrix $M$ (the grayscale image). "
   ]
  },
  {
   "cell_type": "code",
   "execution_count": 196,
   "metadata": {},
   "outputs": [
    {
     "name": "stdout",
     "output_type": "stream",
     "text": [
      "2\n"
     ]
    }
   ],
   "source": [
    "#####Start your code here #####\n",
    "rank = np.linalg.matrix_rank(M)\n",
    "print(rank)\n",
    "\n",
    "#####End of your code here#####"
   ]
  },
  {
   "cell_type": "markdown",
   "metadata": {},
   "source": [
    "&#9989; <font color=red>**Question 3.2:**</font> (10 pts) Find an approximation of the image with only one singular value. What happens? Why?  "
   ]
  },
  {
   "cell_type": "code",
   "execution_count": 197,
   "metadata": {},
   "outputs": [
    {
     "data": {
      "image/png": "[encoded data removed]",
      "text/plain": [
       "<Figure size 432x288 with 1 Axes>"
      ]
     },
     "metadata": {
      "needs_background": "light"
     },
     "output_type": "display_data"
    }
   ],
   "source": [
    "#####Start your code here #####\n",
    "\n",
    "U, e, Vt = np.linalg.svd(M)\n",
    "\n",
    "A =np.matrix(e[0:1]) \n",
    "B = np.matrix(U[:,0:1])\n",
    "C = np.matrix(Vt[0:1,:])\n",
    "\n",
    "M_modified = B@A@C\n",
    "\n",
    "plt.imshow(M_modified, cmap='gray')\n",
    "plt.show()\n",
    "#####End of your code here#####"
   ]
  },
  {
   "cell_type": "markdown",
   "metadata": {},
   "source": [
    "The lines get thicker and since there are less singular value the image is not clearly depicted."
   ]
  },
  {
   "cell_type": "markdown",
   "metadata": {},
   "source": [
    "Since this grayscale image can be represented as a low-rank matrix. We can use the singular value decomposition to remove random noise that corrupts the image. The following code adds Gaussian noise onto the image."
   ]
  },
  {
   "cell_type": "code",
   "execution_count": 198,
   "metadata": {},
   "outputs": [
    {
     "data": {
      "image/png": "[encoded data removed]",
      "text/plain": [
       "<Figure size 432x288 with 1 Axes>"
      ]
     },
     "metadata": {
      "needs_background": "light"
     },
     "output_type": "display_data"
    }
   ],
   "source": [
    "Mn = M + 0.15* np.random.randn(M.shape[0],M.shape[1])\n",
    "\n",
    "plt.imshow(Mn, cmap='gray')\n",
    "plt.show()"
   ]
  },
  {
   "cell_type": "markdown",
   "metadata": {},
   "source": [
    "&#9989; <font color=red>**Question 3.3:**</font> (5 pts) Plot the singular values of this noisy image. What do you observe? "
   ]
  },
  {
   "cell_type": "code",
   "execution_count": 199,
   "metadata": {},
   "outputs": [
    {
     "data": {
      "text/plain": [
       "Text(0, 0.5, 'singular value')"
      ]
     },
     "execution_count": 199,
     "metadata": {},
     "output_type": "execute_result"
    },
    {
     "data": {
      "image/png": "[encoded data removed]",
      "text/plain": [
       "<Figure size 432x288 with 1 Axes>"
      ]
     },
     "metadata": {
      "needs_background": "light"
     },
     "output_type": "display_data"
    }
   ],
   "source": [
    "#####Start your code here #####\n",
    "\n",
    "U, e, Vt = np.linalg.svd(Mn)\n",
    "\n",
    "plt.plot(e)\n",
    "\n",
    "#plt.gca().set_yscale('log')\n",
    "plt.xlabel('index')\n",
    "plt.ylabel('singular value')\n",
    "#####End of your code here#####"
   ]
  },
  {
   "cell_type": "markdown",
   "metadata": {},
   "source": [
    "There is less noise at the first two singular values when compared to other values."
   ]
  },
  {
   "cell_type": "markdown",
   "metadata": {},
   "source": [
    "We think the main signal is contained in large singular values and the noise is in small singular values. So we would like to keep only the largest singular values. \n",
    "From the previous tasks, we know the rank of the original image. Let's apply that rank to the corrupted image, and see the results.\n",
    "\n",
    "&#9989; <font color=red>**Question 3.4:**</font> (10 pts) Find an approximation of the noisy image with only the first few singular values. Print the distances (using norm) between the noisy image and clean image as well as between the denoised image and clean image to see at what rank do you get a denoised image that is closest to the original image. Display the noisy and denoised results. "
   ]
  },
  {
   "cell_type": "code",
   "execution_count": 200,
   "metadata": {
    "scrolled": true
   },
   "outputs": [
    {
     "data": {
      "image/png": "[encoded data removed]",
      "text/plain": [
       "<Figure size 432x288 with 1 Axes>"
      ]
     },
     "metadata": {
      "needs_background": "light"
     },
     "output_type": "display_data"
    },
    {
     "data": {
      "image/png": "[encoded data removed]",
      "text/plain": [
       "<Figure size 432x288 with 1 Axes>"
      ]
     },
     "metadata": {
      "needs_background": "light"
     },
     "output_type": "display_data"
    },
    {
     "data": {
      "image/png": "[encoded data removed]",
      "text/plain": [
       "<Figure size 432x288 with 1 Axes>"
      ]
     },
     "metadata": {
      "needs_background": "light"
     },
     "output_type": "display_data"
    },
    {
     "name": "stdout",
     "output_type": "stream",
     "text": [
      "distance between the noisy image and the clear image = 3.7549104910316013\n",
      "distance between the denoised image and the clear image = 1.3693040378617898\n",
      "rank = 25\n"
     ]
    }
   ],
   "source": [
    "#####Start your code here #####\n",
    "U, e, Vt = np.linalg.svd(Mn)\n",
    "\n",
    "A =np.diag(e[0:2]) \n",
    "B = np.matrix(U[:,0:2])\n",
    "C = np.matrix(Vt[0:2,:])\n",
    "\n",
    "\n",
    "Mdn_modified = B@A@C\n",
    "\n",
    "plt.imshow(Mn, cmap='gray') \n",
    "plt.show()\n",
    "\n",
    "plt.imshow(Mdn_modified, cmap='gray')\n",
    "plt.show()\n",
    "\n",
    "plt.imshow(M, cmap='gray')\n",
    "plt.show()\n",
    "\n",
    "print(\"distance between the noisy image and the clear image =\",np.linalg.norm(Mn - M))\n",
    "\n",
    "D = np.linalg.norm(Mdn_modified - M)\n",
    "print(\"distance between the denoised image and the clear image =\",D)\n",
    "\n",
    "rank = np.linalg.matrix_rank(Mn)\n",
    "print(\"rank =\",rank)\n",
    "#####End of your code here#####"
   ]
  },
  {
   "cell_type": "markdown",
   "metadata": {},
   "source": [
    "### Congratulations, we're done!"
   ]
  }
 ],
 "metadata": {
  "kernelspec": {
   "display_name": "Python 3",
   "language": "python",
   "name": "python3"
  },
  "language_info": {
   "codemirror_mode": {
    "name": "ipython",
    "version": 3
   },
   "file_extension": ".py",
   "mimetype": "text/x-python",
   "name": "python",
   "nbconvert_exporter": "python",
   "pygments_lexer": "ipython3",
   "version": "3.8.8"
  }
 },
 "nbformat": 4,
 "nbformat_minor": 4
}
