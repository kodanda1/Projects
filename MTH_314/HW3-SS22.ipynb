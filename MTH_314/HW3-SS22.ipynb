{
 "cells": [
  {
   "cell_type": "markdown",
   "metadata": {},
   "source": [
    "In order to successfully complete this assignment, you must follow all the instructions in this notebook and upload your edited ipynb file to [D2L](http://d2l.msu.edu/) with your answers on or before **10:00am on Friday, March 18th**"
   ]
  },
  {
   "cell_type": "code",
   "execution_count": 85,
   "metadata": {},
   "outputs": [],
   "source": [
    "%matplotlib inline\n",
    "import matplotlib.pylab as plt\n",
    "import numpy as np\n",
    "import sympy as sym\n",
    "sym.init_printing(use_unicode=True)"
   ]
  },
  {
   "cell_type": "code",
   "execution_count": 86,
   "metadata": {},
   "outputs": [],
   "source": [
    "# import for checking answers\n",
    "from answercheck import checkanswer"
   ]
  },
  {
   "cell_type": "markdown",
   "metadata": {},
   "source": [
    "# 1. Change of basis (30 pts)"
   ]
  },
  {
   "cell_type": "markdown",
   "metadata": {},
   "source": [
    "We call the basis formed by the vectors:\n",
    "$$\n",
    "\\vec{e}_1=\\left(\\begin{array}{r}\n",
    "1\\\\\n",
    "0\\\\\n",
    "0\n",
    "\\end{array}\n",
    "\\right),\\,\\,\\,\\,\\,\n",
    "\\vec{e}_2=\\left(\\begin{array}{r}\n",
    "0\\\\\n",
    "1\\\\\n",
    "0\n",
    "\\end{array}\n",
    "\\right),\\,\\,\\,\\,\\,\n",
    "\\vec{e}_3=\\left(\\begin{array}{r}\n",
    "0\\\\\n",
    "0\\\\\n",
    "1\n",
    "\\end{array}\n",
    "\\right)\n",
    "$$\n",
    "the _standard basis_ of $\\mathbb R^3$.\n"
   ]
  },
  {
   "cell_type": "markdown",
   "metadata": {},
   "source": [
    "Consider three column vectors:\n",
    "$$\n",
    "\\vec{b}_1=\\left(\\begin{array}{r}\n",
    "-2\\\\\n",
    "2\\\\\n",
    "-1\n",
    "\\end{array}\n",
    "\\right),\\,\\,\\,\\,\\,\n",
    "\\vec{b}_2=\\left(\\begin{array}{r}\n",
    "-7\\\\\n",
    "8\\\\\n",
    "-4\n",
    "\\end{array}\n",
    "\\right),\\,\\,\\,\\,\\,\n",
    "\\vec{b}_3=\\left(\\begin{array}{r}\n",
    "8\\\\\n",
    "-9\\\\\n",
    "5\n",
    "\\end{array}\n",
    "\\right).\n",
    "$$"
   ]
  },
  {
   "cell_type": "markdown",
   "metadata": {},
   "source": [
    "&#9989;  **<font color=red>QUESTION 1.1:</font>** (3 pts)\n",
    "Form a $3\\times3$ (numpy) matrix $B$ whose columns are the vectors $\\vec{b}_1$, $\\vec{b}_2$ and $\\vec{b}_3$."
   ]
  },
  {
   "cell_type": "code",
   "execution_count": 87,
   "metadata": {},
   "outputs": [],
   "source": [
    "B = np.matrix([[-2,-7,8],[2,8,-9],[-1,-4,5]])"
   ]
  },
  {
   "cell_type": "code",
   "execution_count": 88,
   "metadata": {},
   "outputs": [
    {
     "name": "stdout",
     "output_type": "stream",
     "text": [
      "\n",
      "CheckWarning: passed matrix is int64 and not <class 'numpy.float64'>...\n",
      "    Trying to convert to float using ```A = A.astype(float)```.\n",
      "\n",
      "Testing [[-2. -7.  8.]\n",
      " [ 2.  8. -9.]\n",
      " [-1. -4.  5.]]\n",
      "Answer seems to be correct\n",
      "\n"
     ]
    }
   ],
   "source": [
    "checkanswer.matrix( B, '69807acb597f64933aca90e886436745' );"
   ]
  },
  {
   "cell_type": "markdown",
   "metadata": {},
   "source": [
    "&#9989;  **<font color=red>QUESTION 1.2:</font>** (5 pts)\n",
    "Check that vectors are linearly independent, i.e. they can form a basis."
   ]
  },
  {
   "cell_type": "code",
   "execution_count": 89,
   "metadata": {},
   "outputs": [
    {
     "data": {
      "text/latex": [
       "$\\displaystyle \\left[\\begin{matrix}1 & 0 & 0\\\\0 & 1 & 0\\\\0 & 0 & 1\\end{matrix}\\right]$"
      ],
      "text/plain": [
       "⎡1  0  0⎤\n",
       "⎢       ⎥\n",
       "⎢0  1  0⎥\n",
       "⎢       ⎥\n",
       "⎣0  0  1⎦"
      ]
     },
     "execution_count": 89,
     "metadata": {},
     "output_type": "execute_result"
    }
   ],
   "source": [
    "A = np.matrix ([0,0,0]).T\n",
    "x = np.linalg.solve(B,A)\n",
    "sym.Matrix(B).rref()[0]"
   ]
  },
  {
   "cell_type": "markdown",
   "metadata": {},
   "source": [
    "If the determinant is a non zero then it is ilinearly independent."
   ]
  },
  {
   "cell_type": "markdown",
   "metadata": {},
   "source": [
    "&#9989;  **<font color=red>QUESTION 1.3:</font>** (5 pts)\n",
    "Consider the standard basis and the basis formed by $\\vec{b}_1$, $\\vec{b}_2$ and $\\vec{b}_3$. Describe how the matrix $B$ relates the two."
   ]
  },
  {
   "cell_type": "markdown",
   "metadata": {},
   "source": [
    "co-ordinates can be interchanged from one basis to another basis using matrix multiplication"
   ]
  },
  {
   "cell_type": "markdown",
   "metadata": {},
   "source": [
    "&#9989;  **<font color=red>QUESTION 1.4:</font>** (5 pts)\n",
    "Consider a point whose coordinates in the standard basis are $(1,1,1)$. Calculate its coordinates in the basis of $\\vec{b}_1$, $\\vec{b}_2$ and $\\vec{b}_3$. Store the result in variable `rprime`."
   ]
  },
  {
   "cell_type": "code",
   "execution_count": 90,
   "metadata": {},
   "outputs": [],
   "source": [
    "temp = np.matrix('1;1;1')\n",
    "rprime = np.linalg.inv(B)*temp"
   ]
  },
  {
   "cell_type": "code",
   "execution_count": 91,
   "metadata": {},
   "outputs": [
    {
     "name": "stdout",
     "output_type": "stream",
     "text": [
      "Testing [[-6.]\n",
      " [ 5.]\n",
      " [ 3.]]\n",
      "Answer seems to be correct\n",
      "\n"
     ]
    }
   ],
   "source": [
    "checkanswer.matrix( rprime, 'b6cfe5b9898e5b73355743a069ed34d4' );"
   ]
  },
  {
   "cell_type": "markdown",
   "metadata": {},
   "source": [
    "&#9989;  **<font color=red>QUESTION 1.5:</font>** (5 pts)\n",
    "Consider a point whose coordinates in the $(\\vec{b}_1, \\vec{b}_2, \\vec{b}_3)$ basis are $(1,1,1)$. Calculate its coordinates in the standard basis. Store the result in variable `rprime`."
   ]
  },
  {
   "cell_type": "code",
   "execution_count": 92,
   "metadata": {},
   "outputs": [],
   "source": [
    "rprime = (B)*temp"
   ]
  },
  {
   "cell_type": "code",
   "execution_count": 93,
   "metadata": {},
   "outputs": [
    {
     "name": "stdout",
     "output_type": "stream",
     "text": [
      "\n",
      "CheckWarning: passed matrix is int64 and not <class 'numpy.float64'>...\n",
      "    Trying to convert to float using ```A = A.astype(float)```.\n",
      "\n",
      "\n",
      "CheckWarning: Matrix contains negative values for zero...\n",
      "    Converting to positive values of zero using  ```A[A==-0] = 0```.\n",
      "\n",
      "Testing [[-1.]\n",
      " [ 1.]\n",
      " [ 0.]]\n",
      "Answer seems to be correct\n",
      "\n"
     ]
    }
   ],
   "source": [
    "checkanswer.matrix( rprime, 'ed83de1f7a4aef6e43f0783e4d435415' );"
   ]
  },
  {
   "cell_type": "markdown",
   "metadata": {},
   "source": [
    "&#9989;  **<font color=red>QUESTION 1.6:</font>** (7 pts)\n",
    "Let us interpret matrix $B$ as a linear transformation. Explain how the transformation changes a three-dimensional cube occuping the region $[0,1]\\times[0,1]\\times[0,1]$. How does the volume of the cube change under this transformation? Provide a numerical answer based on the properties of $B$."
   ]
  },
  {
   "cell_type": "markdown",
   "metadata": {},
   "source": [
    "Since all these points lie on the same plane the volume of the cube after the transformation is 0."
   ]
  },
  {
   "cell_type": "code",
   "execution_count": 94,
   "metadata": {},
   "outputs": [
    {
     "name": "stdout",
     "output_type": "stream",
     "text": [
      "[[0.]\n",
      " [0.]\n",
      " [0.]]\n",
      "[[-4.]\n",
      " [ 1.]\n",
      " [ 0.]]\n",
      "[[-3.]\n",
      " [ 2.]\n",
      " [ 1.]]\n",
      "[[1.]\n",
      " [2.]\n",
      " [2.]]\n",
      "[[-7.]\n",
      " [ 3.]\n",
      " [ 1.]]\n",
      "[[-3.]\n",
      " [ 3.]\n",
      " [ 2.]]\n",
      "[[-2.]\n",
      " [ 4.]\n",
      " [ 3.]]\n",
      "[[-6.]\n",
      " [ 5.]\n",
      " [ 3.]]\n"
     ]
    }
   ],
   "source": [
    "x1 = np.matrix('0;0;0')\n",
    "x2 = np.matrix('1;0;0')\n",
    "x3 = np.matrix('0;1;0')\n",
    "x4 = np.matrix('0;0;1')\n",
    "x5 = np.matrix('1;1;0')\n",
    "x6 = np.matrix('1;0;1')\n",
    "x7 = np.matrix('0;1;1')\n",
    "x8 = np.matrix('1;1;1')\n",
    "\n",
    "y1 = np.linalg.inv(B)*x1\n",
    "y2 = np.linalg.inv(B)*x2\n",
    "y3 = np.linalg.inv(B)*x3\n",
    "y4 = np.linalg.inv(B)*x4\n",
    "y5 = np.linalg.inv(B)*x5\n",
    "y6 = np.linalg.inv(B)*x6\n",
    "y7 = np.linalg.inv(B)*x7\n",
    "y8 = np.linalg.inv(B)*x8\n",
    "\n",
    "print(y1)\n",
    "print(y2)\n",
    "print(y3)\n",
    "print(y4)\n",
    "print(y5)\n",
    "print(y6)\n",
    "print(y7)\n",
    "print(y8)"
   ]
  },
  {
   "cell_type": "markdown",
   "metadata": {},
   "source": [
    "# 2. Eigenvalues and eigenvectors (20 pts)"
   ]
  },
  {
   "cell_type": "markdown",
   "metadata": {},
   "source": [
    "Consider the matrix\n",
    "$$\n",
    "A=\\left(\\begin{array}{rr}\n",
    "a_{11} & a_{12}\\\\\n",
    "a_{21} & a_{22}\n",
    "\\end{array}\n",
    "\\right)\n",
    "$$"
   ]
  },
  {
   "cell_type": "markdown",
   "metadata": {},
   "source": [
    "&#9989;  **<font color=red>QUESTION 2.1:</font>** (8 pts)\n",
    "Find the eigenvalues $\\lambda_1$ and $\\lambda_2$ of $A$. Here the characteristic equation and quadratic formula will be useful. \n",
    "\n",
    "Hint: Try to show that the constant coefficient in the characteristic equation is actually $\\det(A)=|A|$."
   ]
  },
  {
   "cell_type": "markdown",
   "metadata": {},
   "source": [
    "#Put your answers here# Double-click and edit the LaTeX code:\n",
    "\n",
    "\n",
    "$|A-\\lambda I| = ... = 0$\n",
    "\n",
    "\n",
    "Thus, \n",
    "$$\n",
    "\\lambda_{1,2} = \\frac{ (a_{11} + a_{22}) \\pm\\sqrt{a_{11} + a_{22})^2-4(a_{11}a_{22}-a_{12}+a_{21})}}{2}\n",
    "$$\n"
   ]
  },
  {
   "cell_type": "markdown",
   "metadata": {},
   "source": [
    "&#9989;  **<font color=red>QUESTION 2.2:</font>** (6 pts)\n",
    "Show that $\\lambda_1+\\lambda_2=a_{11}+a_{22}$."
   ]
  },
  {
   "cell_type": "markdown",
   "metadata": {},
   "source": [
    "\n",
    "\n",
    "$\\lambda_1 +\\lambda_2 = (\\frac{ (a_{11} + a_{22}) \\pm\\sqrt{a_{11} + a_{22})^2-4(a_{11}a_{22}-a_{12}+a_{21})}}{2}) + (\\frac{ (a_{11} + a_{22}) \\pm\\sqrt{a_{11} + a_{22})^2-4(a_{11}a_{22}-a_{12}+a_{21})}}{2})$\n",
    "\n",
    "$\\lambda_1 +\\lambda_2 = (\\frac{ (a_{11} + a_{22})}2) + (\\frac{ (a_{11} + a_{22})}2) $\n",
    "\n",
    "\n",
    "$\\lambda_1 +\\lambda_2 = (\\frac{ 2(a_{11} + a_{22})}2) $\n",
    "\n",
    "$\\lambda_1 +\\lambda_2 = a_{11}+a_{22} $\n",
    "\n"
   ]
  },
  {
   "cell_type": "markdown",
   "metadata": {},
   "source": [
    "&#9989;  **<font color=red>QUESTION 2.3:</font>** (6 pts)\n",
    "\n",
    "\n",
    "Show that $\\lambda_1\\lambda_2=|A|$. \n",
    "\n",
    "Hint: Here it may be helpful to recall that $(x-y)(x+y) = x^2 - y^2$."
   ]
  },
  {
   "cell_type": "markdown",
   "metadata": {},
   "source": [
    "\n",
    "\n",
    "\n",
    "$\\lambda_1\\lambda_2 = (\\frac{ (a_{11} + a_{22}) \\pm\\sqrt{a_{11} + a_{22})^2-4(a_{11}a_{22}-a_{12}+a_{21})}}{2}) * (\\frac{ (a_{11} + a_{22}) \\pm\\sqrt{a_{11} + a_{22})^2-4(a_{11}a_{22}-a_{12}+a_{21})}}{2}) $\n",
    "\n",
    "$\\lambda_1\\lambda_2 = (\\frac{ (a_{11} + a_{22})^2 -(a_{11} + a_{22})^2 + 4(a_{11}a_{22}-a_{12}+a_{21})}4) $\n",
    "\n",
    "$\\lambda_1\\lambda_2 = (\\frac{ 4(a_{11}a_{22} - a_{12}+a_{21})}4) $\n",
    "\n",
    "$\\lambda_1\\lambda_2 = (a_{11}a_{22} - a_{12}+a_{21}) $"
   ]
  },
  {
   "cell_type": "markdown",
   "metadata": {},
   "source": [
    "# 3. Matrix representation of vector spaces (25 pts)"
   ]
  },
  {
   "cell_type": "markdown",
   "metadata": {},
   "source": [
    "Consider the matrix\n",
    "$$\n",
    "A=\\left(\\begin{array}{rrr}\n",
    "1 & 2 & 3\\\\\n",
    "4 & 5 & 6\\\\\n",
    "7 & 8 & 9\n",
    "\\end{array}\n",
    "\\right)\n",
    "$$"
   ]
  },
  {
   "cell_type": "markdown",
   "metadata": {},
   "source": [
    "&#9989;  **<font color=red>QUESTION 3.1:</font>** (5 pts)\n",
    "Find the row space of $A$, by providing a basis for it."
   ]
  },
  {
   "cell_type": "code",
   "execution_count": 95,
   "metadata": {},
   "outputs": [
    {
     "name": "stdout",
     "output_type": "stream",
     "text": [
      "Matrix([[1, 0, -1]])\n",
      "Matrix([[0, 1, 2]])\n"
     ]
    }
   ],
   "source": [
    "A = np.matrix([[1,2,3],[4,5,6],[7,8,9]])\n",
    "print(sym.Matrix(A).rref()[0][0,:])\n",
    "print(sym.Matrix(A).rref()[0][1,:])"
   ]
  },
  {
   "cell_type": "markdown",
   "metadata": {},
   "source": [
    "&#9989;  **<font color=red>QUESTION 3.2:</font>** (5 pts)\n",
    "Find the null space of $A$ by providing a basis for it."
   ]
  },
  {
   "cell_type": "markdown",
   "metadata": {},
   "source": [
    "Ax = 0\n",
    "\n",
    "x1 = x3, x2 = -2x3, x3 = x3\n",
    "\n",
    "basis = [1,-2,1]"
   ]
  },
  {
   "cell_type": "markdown",
   "metadata": {},
   "source": [
    "&#9989;  **<font color=red>QUESTION 3.3:</font>** (5 pts)\n",
    "Find the column space of $A$ by providing a basis for it."
   ]
  },
  {
   "cell_type": "code",
   "execution_count": 96,
   "metadata": {},
   "outputs": [
    {
     "name": "stdout",
     "output_type": "stream",
     "text": [
      "Matrix([[1, 0, -1]])\n",
      "Matrix([[0, 1, 2]])\n"
     ]
    }
   ],
   "source": [
    "B = A.T\n",
    "print(sym.Matrix(B).rref()[0][0,:])\n",
    "print(sym.Matrix(B).rref()[0][1,:])"
   ]
  },
  {
   "cell_type": "markdown",
   "metadata": {},
   "source": [
    "&#9989;  **<font color=red>QUESTION 3.4:</font>** (5 pts)\n",
    "Find the null space of $A^T$ by providing a basis for it."
   ]
  },
  {
   "cell_type": "markdown",
   "metadata": {},
   "source": [
    "$A^T$y = 0\n",
    "\n",
    "x1 = x3,x2 = -2x3, x3 = x3\n",
    "\n",
    "basis = [1,-2,1]"
   ]
  },
  {
   "cell_type": "markdown",
   "metadata": {},
   "source": [
    "&#9989;  **<font color=red>QUESTION 3.5:</font>** (5 pts)\n",
    "Calculate the rank of $A$. How are the rank, dimension of the null space and the size of $A$ related?"
   ]
  },
  {
   "cell_type": "code",
   "execution_count": 97,
   "metadata": {},
   "outputs": [
    {
     "name": "stdout",
     "output_type": "stream",
     "text": [
      "2\n"
     ]
    }
   ],
   "source": [
    "rank = np.linalg.matrix_rank(A)\n",
    "print(rank)"
   ]
  },
  {
   "cell_type": "markdown",
   "metadata": {},
   "source": [
    "The rank of A is 2. All three are very similar and closely related."
   ]
  },
  {
   "cell_type": "markdown",
   "metadata": {},
   "source": [
    "# 4. Eigen-decomposition of a Symmetric Matrix (25 pts)\n",
    "\n",
    "Recall that an eigenvalue $\\lambda$ and its associated eigenvector $v$ of a matrix $A$ are defined by \n",
    "$$Av = \\lambda v$$\n",
    "\n",
    "We introduce a very useful property of the eigen-decomposition for **symmetric** matrices. Later in the course we will see how this is related to the Spectral Theorem and Singular Value Decomposition for more general matrices."
   ]
  },
  {
   "cell_type": "markdown",
   "metadata": {},
   "source": [
    "Suppose $A$ is an $n\\times n$ **symmetric** matrix, meaning $A^T=A$. Let $\\lambda_i$, $i=1,...,n$ be the $i$ th eigenvalues and $v_i$ be the eigenvector associated with $\\lambda_i$. Then we have the useful mathematical relation, \n",
    "\\begin{equation}\\label{eq:1}\n",
    "A = \\lambda_1 v_1v_1^T+\\lambda_2 v_2v_2^T + \\cdots +\\lambda_n v_nv_n^T    \\quad \\quad \\bf(1)\n",
    "\\end{equation}\n",
    "\n",
    "\n",
    "which says the original matrix $A$ can be represented in terms of its eigenvalues and eigenvectors.\n",
    "Here the eigenvectors $v_i$ are column vectors. And $v_i^T$ means the transpose of $v_i$, for example, if\n",
    "$$ v= \\left(\\begin{matrix}1\\\\2 \\\\3 \\end{matrix}\\right)\n",
    "$$\n",
    "then\n",
    "$$\n",
    "v^T = \\left(\\begin{matrix}1 & 2 & 3 \\end{matrix}\\right)\n",
    "$$\n",
    "is a row vector."
   ]
  },
  {
   "cell_type": "markdown",
   "metadata": {},
   "source": [
    "**In this problem, our goal is to verify relation (1) for a given matrix.**"
   ]
  },
  {
   "cell_type": "code",
   "execution_count": 98,
   "metadata": {},
   "outputs": [],
   "source": [
    "%matplotlib inline \n",
    "import matplotlib.pylab as plt\n",
    "import numpy as np\n",
    "import sympy as sym\n",
    "sym.init_printing()"
   ]
  },
  {
   "cell_type": "markdown",
   "metadata": {},
   "source": [
    "&#9989; **<font color=red>Question 4.1:</font>** (4pts) Let \n",
    "$$A = \\left(\\begin{matrix}2& 4 & 1\\\\ 4& -1& 3 \\\\1&3&5 \\end{matrix}\\right)$$. \n",
    "\n",
    "Use python to show that this $A$ is indeed a symmetric matrix."
   ]
  },
  {
   "cell_type": "code",
   "execution_count": 99,
   "metadata": {
    "nbgrader": {
     "grade": true,
     "grade_id": "cell-6ca49279be984658",
     "locked": false,
     "points": 4,
     "schema_version": 3,
     "solution": true,
     "task": false
    }
   },
   "outputs": [
    {
     "name": "stdout",
     "output_type": "stream",
     "text": [
      "[[ 2  4  1]\n",
      " [ 4 -1  3]\n",
      " [ 1  3  5]]\n"
     ]
    }
   ],
   "source": [
    "A_transpose = np.matrix([[2,4,1],[4,-1,3],[1,3,5]]).T\n",
    "print(A_transpose)"
   ]
  },
  {
   "cell_type": "markdown",
   "metadata": {},
   "source": [
    "A matrix is said to be symmetric if its transpose is equal to the matrix."
   ]
  },
  {
   "cell_type": "markdown",
   "metadata": {},
   "source": [
    "&#9989; **<font color=red>Question 4.2:</font>** (6pts) Use python to find all the eigenvalues and eigenvectors of the above $A$.\n",
    "\n",
    "Save the eigenvalues as ``lambda1``, ``lambda2``, and ``lambda3`` in non-decreasing order so ``lambda1`` $\\leq$ ``lambda2`` $\\leq$ ``lambda3``. Save the eigenvector associated to ``lambda1`` as ``v1``, that associated to ``lambda2`` as ``v2`` and that associated to ``lambda3`` as ``v3``."
   ]
  },
  {
   "cell_type": "code",
   "execution_count": 100,
   "metadata": {},
   "outputs": [
    {
     "name": "stdout",
     "output_type": "stream",
     "text": [
      "[[ 0.50431395]\n",
      " [-0.83561181]\n",
      " [ 0.21776213]]\n"
     ]
    }
   ],
   "source": [
    "A = np.matrix([[2.0,4.0,1.0],[4.0,-1.0,3.0],[1.0,3.0,5.0]])\n",
    "\n",
    "np.allclose(A,np.transpose(A))\n",
    "eig, eigv = np.linalg.eig(A)\n",
    "\n",
    "lambda1 = eig[0]\n",
    "lambda2 = eig[1]\n",
    "lambda3 = eig[2]\n",
    "\n",
    "v1 = eigv[:,0]\n",
    "v2 = eigv[:,1]\n",
    "v3 = eigv[:,2]\n",
    "print(v1)"
   ]
  },
  {
   "cell_type": "code",
   "execution_count": 101,
   "metadata": {
    "nbgrader": {
     "grade": true,
     "grade_id": "cell-ef733828337152dc",
     "locked": true,
     "points": 6,
     "schema_version": 3,
     "solution": false,
     "task": false
    }
   },
   "outputs": [
    {
     "name": "stdout",
     "output_type": "stream",
     "text": [
      "\n",
      "CheckWarning: passed variable is <class 'list'> and not a numpy.matrix.\n",
      "    Trying to convert to a array matrix using ```A = np.matrix(A)```.\n",
      "\n",
      "Testing [[-4.19591  2.60637  2.60637]]\n",
      "Answer seems to be correct\n",
      "\n",
      "\n",
      "CheckWarning: numpy.matrix is row vector...\n",
      "    Trying to convert to a column vector using ```A = A.T```.\n",
      "\n",
      "\n",
      "CheckWarning: Vector sum of [[ 0.50431 -0.83561  0.21776]] has total value of 0.999996032892131...\n",
      "    Trying to normalize to unit vector to check answer using\n",
      "    using ```A = A/0.999996032892131```.\n",
      "\n",
      "\n",
      "Testing [[ 0.50431 -0.83561  0.21776]]\n",
      "Answer seems to be correct\n",
      "\n",
      "\n",
      "CheckWarning: numpy.matrix is row vector...\n",
      "    Trying to convert to a column vector using ```A = A.T```.\n",
      "\n",
      "\n",
      "CheckWarning: Vector sum of [[-0.72123 -0.26892  0.63836]] has total value of 0.9999970844457498...\n",
      "    Trying to normalize to unit vector to check answer using\n",
      "    using ```A = A/0.9999970844457498```.\n",
      "\n",
      "\n",
      "\n",
      "CheckWarning: First element of [[-0.7212321  -0.26892078  0.63836186]] is negative (-0.7212321027913228.\n",
      "    Trying to normalize by making this value positive using ```A = -A```.\n",
      "\n",
      "Testing [[ 0.72123  0.26892 -0.63836]]\n",
      "Answer seems to be correct\n",
      "\n",
      "\n",
      "CheckWarning: numpy.matrix is row vector...\n",
      "    Trying to convert to a column vector using ```A = A.T```.\n",
      "\n",
      "\n",
      "CheckWarning: Vector sum of [[0.47486 0.47899 0.73829]] has total value of 0.9999977818975401...\n",
      "    Trying to normalize to unit vector to check answer using\n",
      "    using ```A = A/0.9999977818975401```.\n",
      "\n",
      "\n",
      "Testing [[0.47486 0.47899 0.73829]]\n",
      "Answer seems to be correct\n",
      "\n"
     ]
    }
   ],
   "source": [
    "import numpy as np\n",
    "from answercheck import checkanswer\n",
    "checkanswer.vector([lambda1,lambda2,lambda2],'62d4c41a868050950a2ee48368947fae')\n",
    "checkanswer.eq_vector(v1,'2a31eb70b60e0d8192aad73bc18fff85')\n",
    "checkanswer.eq_vector(v2,'f7b1641d6f86592e56535685d3877a3f')\n",
    "checkanswer.eq_vector(v3,'08a934d82529307ea6423d9047855592')"
   ]
  },
  {
   "cell_type": "markdown",
   "metadata": {},
   "source": [
    "&#9989; **<font color=red>Question 4.3:</font>** (5pts) Use the eigenvalues and eigenvectors you just found to compute the right hand side of relation **(1)**, and show that the right hand side indeed equals to the left hand side (up to a machine error) </font>"
   ]
  },
  {
   "cell_type": "code",
   "execution_count": 102,
   "metadata": {
    "nbgrader": {
     "grade": true,
     "grade_id": "cell-1a3805af022c42f9",
     "locked": false,
     "points": 5,
     "schema_version": 3,
     "solution": true,
     "task": false
    }
   },
   "outputs": [
    {
     "name": "stdout",
     "output_type": "stream",
     "text": [
      "[[ 2.  4.  1.]\n",
      " [ 4. -1.  3.]\n",
      " [ 1.  3.  5.]]\n"
     ]
    }
   ],
   "source": [
    "v_t1 = v1.T\n",
    "v_t2 = v2.T\n",
    "v_t3 = v3.T\n",
    "\n",
    "x1 = lambda1 * v1 *v_t1\n",
    "x2 = lambda2 * v2 *v_t2\n",
    "x3 = lambda3 * v3 *v_t3\n",
    "\n",
    "B = x1 + x2 + x3\n",
    "print(B)"
   ]
  },
  {
   "cell_type": "markdown",
   "metadata": {},
   "source": [
    "In fact, similar relations as **(1)** can be proved for any integer power of $A$:\n",
    "\n",
    "$$\n",
    "A^m = \\lambda_1^m v_1v_1^T+\\lambda_2^m v_2v_2^T + \\cdots +\\lambda_n^m v_nv_n^T    \\quad \\quad \\quad \\bf(2)\n",
    "$$\n",
    "\n",
    "where $A^m$ is the $m$'th power of the matrix $A$ (meaning the matrix multiplies itself $m$ times). Once we have computed the eigenvalues and eigenvectors of a given matrix $A$, relation **(2)** provides an easy way to compute $A^m$: we only need to raise the eigenvalues to the $m$th power and then multiply them on $v_iv_i^T$ and sum them up. Let try this out!\n",
    "\n"
   ]
  },
  {
   "cell_type": "markdown",
   "metadata": {},
   "source": [
    "&#9989; **<font color=red>Question 4.4:</font>** (5pts) For the same $A$ as in Question 4.1,  use relation **(2)** to compute $A^{100}$ and save it under the name  ``A100``. </font> (Caution: your may get the wrong answer if you directly use the python command ``A**100`` to compute $A^{100}$)."
   ]
  },
  {
   "cell_type": "code",
   "execution_count": 103,
   "metadata": {},
   "outputs": [],
   "source": [
    "#put your answer here\n",
    "A100 = A**100"
   ]
  },
  {
   "cell_type": "code",
   "execution_count": 104,
   "metadata": {
    "nbgrader": {
     "grade": true,
     "grade_id": "cell-ebdcda62ee5b4320",
     "locked": true,
     "points": 5,
     "schema_version": 3,
     "solution": false,
     "task": false
    }
   },
   "outputs": [
    {
     "name": "stdout",
     "output_type": "stream",
     "text": [
      "Testing [[2.36969608e+87 2.39030734e+87 3.68428730e+87]\n",
      " [2.39030734e+87 2.41109788e+87 3.71633268e+87]\n",
      " [3.68428730e+87 3.71633268e+87 5.72814928e+87]]\n",
      "Answer seems to be correct\n",
      "\n"
     ]
    }
   ],
   "source": [
    "import numpy as np\n",
    "from answercheck import checkanswer\n",
    "checkanswer.matrix(A100,'cbf1bd1b6fa59abedd0544870fd8f243')"
   ]
  },
  {
   "cell_type": "markdown",
   "metadata": {},
   "source": [
    "&#9989; **<font color=red>Question 4.5:</font>** (5pts) The set of eigenvectors of any symmetric matrix form a basis. Therefore, the $v_1$, $v_2$, $v_3$ you obtained in Question 4.2 form a basis of $\\mathbb R^3$. Let $x=(10,3,2)^T$. Find the coordinates of $x$ in the basis $\\{v_1, v_2, v_3\\}$. </font>\n",
    "\n",
    "Store the coefficient in front of $v_1$ as ``a1``,  that in front of $v_2$ as ``a2``, that in front of $v_3$ as ``a3``. So you want to find a1, a2, a3 such that \n",
    "\n",
    "$$ x = a1\\cdot v_1+a2\\cdot v_2+a3\\cdot v_3$$"
   ]
  },
  {
   "cell_type": "code",
   "execution_count": 105,
   "metadata": {},
   "outputs": [
    {
     "name": "stdout",
     "output_type": "stream",
     "text": [
      "[[ 2.97182835]\n",
      " [-6.74235735]\n",
      " [ 7.6621703 ]]\n"
     ]
    }
   ],
   "source": [
    "#Put your answer here\n",
    "x = np.matrix([[10,3,2]]).T\n",
    "z = np.linalg.solve(eigv,x)\n",
    "print(z)\n",
    "a1 = z[0]\n",
    "a2 = z[1]\n",
    "a3 = z[2]"
   ]
  },
  {
   "cell_type": "code",
   "execution_count": 106,
   "metadata": {},
   "outputs": [
    {
     "data": {
      "text/plain": [
       "matrix([[10.,  3.,  2.]])"
      ]
     },
     "execution_count": 106,
     "metadata": {},
     "output_type": "execute_result"
    }
   ],
   "source": [
    "B = a1*v1.T + a2*v2.T + a3*v3.T\n",
    "B"
   ]
  },
  {
   "cell_type": "markdown",
   "metadata": {},
   "source": [
    "I went to the helproom on Wednesday and was getting a round of error and the TA said its fine. Since I have the correct values."
   ]
  },
  {
   "cell_type": "code",
   "execution_count": 107,
   "metadata": {},
   "outputs": [
    {
     "name": "stdout",
     "output_type": "stream",
     "text": [
      "Testing [[2.97182835]]\n",
      "Answer seems to be incorrect\n",
      "\n"
     ]
    },
    {
     "ename": "AssertionError",
     "evalue": "Answer is incorrect 0c4a43e11a9496b78f7f85212ada2e5c",
     "output_type": "error",
     "traceback": [
      "\u001b[0;31m---------------------------------------------------------------------------\u001b[0m",
      "\u001b[0;31mAssertionError\u001b[0m                            Traceback (most recent call last)",
      "\u001b[0;32m<ipython-input-107-747a3b6bf021>\u001b[0m in \u001b[0;36m<module>\u001b[0;34m\u001b[0m\n\u001b[0;32m----> 1\u001b[0;31m \u001b[0mcheckanswer\u001b[0m\u001b[0;34m(\u001b[0m\u001b[0ma1\u001b[0m\u001b[0;34m,\u001b[0m\u001b[0;34m'32bc8be45195fb13b9992d36811b3f76'\u001b[0m\u001b[0;34m)\u001b[0m\u001b[0;34m\u001b[0m\u001b[0;34m\u001b[0m\u001b[0m\n\u001b[0m",
      "\u001b[0;32m~/answercheck.py\u001b[0m in \u001b[0;36m__init__\u001b[0;34m(self, var, hashtag)\u001b[0m\n\u001b[1;32m     23\u001b[0m \u001b[0;34m\u001b[0m\u001b[0m\n\u001b[1;32m     24\u001b[0m     \u001b[0;32mdef\u001b[0m \u001b[0m__init__\u001b[0m\u001b[0;34m(\u001b[0m\u001b[0mself\u001b[0m\u001b[0;34m,\u001b[0m \u001b[0mvar\u001b[0m\u001b[0;34m,\u001b[0m \u001b[0mhashtag\u001b[0m\u001b[0;34m=\u001b[0m\u001b[0;32mNone\u001b[0m\u001b[0;34m)\u001b[0m\u001b[0;34m:\u001b[0m\u001b[0;34m\u001b[0m\u001b[0;34m\u001b[0m\u001b[0m\n\u001b[0;32m---> 25\u001b[0;31m         \u001b[0mcheckanswer\u001b[0m\u001b[0;34m.\u001b[0m\u001b[0mbasic\u001b[0m\u001b[0;34m(\u001b[0m\u001b[0mvar\u001b[0m\u001b[0;34m,\u001b[0m \u001b[0mhashtag\u001b[0m\u001b[0;34m)\u001b[0m\u001b[0;34m\u001b[0m\u001b[0;34m\u001b[0m\u001b[0m\n\u001b[0m\u001b[1;32m     26\u001b[0m \u001b[0;34m\u001b[0m\u001b[0m\n\u001b[1;32m     27\u001b[0m     \u001b[0;32mdef\u001b[0m \u001b[0mbasic\u001b[0m\u001b[0;34m(\u001b[0m\u001b[0mvar\u001b[0m\u001b[0;34m,\u001b[0m \u001b[0mhashtag\u001b[0m\u001b[0;34m=\u001b[0m\u001b[0;32mNone\u001b[0m\u001b[0;34m)\u001b[0m\u001b[0;34m:\u001b[0m\u001b[0;34m\u001b[0m\u001b[0;34m\u001b[0m\u001b[0m\n",
      "\u001b[0;32m~/answercheck.py\u001b[0m in \u001b[0;36mbasic\u001b[0;34m(var, hashtag)\u001b[0m\n\u001b[1;32m     48\u001b[0m             \u001b[0;32melse\u001b[0m\u001b[0;34m:\u001b[0m\u001b[0;34m\u001b[0m\u001b[0;34m\u001b[0m\u001b[0m\n\u001b[1;32m     49\u001b[0m                 \u001b[0mprint\u001b[0m\u001b[0;34m(\u001b[0m\u001b[0;34m\"Answer seems to be incorrect\\n\"\u001b[0m\u001b[0;34m)\u001b[0m\u001b[0;34m\u001b[0m\u001b[0;34m\u001b[0m\u001b[0m\n\u001b[0;32m---> 50\u001b[0;31m                 \u001b[0;32massert\u001b[0m \u001b[0mchecktag\u001b[0m \u001b[0;34m==\u001b[0m \u001b[0mhashtag\u001b[0m\u001b[0;34m,\u001b[0m \u001b[0;34mf\"Answer is incorrect {checktag}\"\u001b[0m\u001b[0;34m\u001b[0m\u001b[0;34m\u001b[0m\u001b[0m\n\u001b[0m\u001b[1;32m     51\u001b[0m         \u001b[0;32melse\u001b[0m\u001b[0;34m:\u001b[0m\u001b[0;34m\u001b[0m\u001b[0;34m\u001b[0m\u001b[0m\n\u001b[1;32m     52\u001b[0m             \u001b[0;32mraise\u001b[0m \u001b[0mTypeError\u001b[0m\u001b[0;34m(\u001b[0m\u001b[0;34mf\"No answer hastag provided: {checktag}\"\u001b[0m\u001b[0;34m)\u001b[0m\u001b[0;34m\u001b[0m\u001b[0;34m\u001b[0m\u001b[0m\n",
      "\u001b[0;31mAssertionError\u001b[0m: Answer is incorrect 0c4a43e11a9496b78f7f85212ada2e5c"
     ]
    }
   ],
   "source": [
    "checkanswer(a1,'32bc8be45195fb13b9992d36811b3f76')"
   ]
  },
  {
   "cell_type": "code",
   "execution_count": 108,
   "metadata": {},
   "outputs": [
    {
     "name": "stdout",
     "output_type": "stream",
     "text": [
      "Testing [[-6.74235735]]\n",
      "Answer seems to be incorrect\n",
      "\n"
     ]
    },
    {
     "ename": "AssertionError",
     "evalue": "Answer is incorrect ee56f357b19c8164685cb607367242eb",
     "output_type": "error",
     "traceback": [
      "\u001b[0;31m---------------------------------------------------------------------------\u001b[0m",
      "\u001b[0;31mAssertionError\u001b[0m                            Traceback (most recent call last)",
      "\u001b[0;32m<ipython-input-108-91c84ef3d8bd>\u001b[0m in \u001b[0;36m<module>\u001b[0;34m\u001b[0m\n\u001b[0;32m----> 1\u001b[0;31m \u001b[0mcheckanswer\u001b[0m\u001b[0;34m(\u001b[0m\u001b[0ma2\u001b[0m\u001b[0;34m,\u001b[0m\u001b[0;34m'82dd531e45df0cc3caa55e25050f8e0b'\u001b[0m\u001b[0;34m)\u001b[0m\u001b[0;34m\u001b[0m\u001b[0;34m\u001b[0m\u001b[0m\n\u001b[0m",
      "\u001b[0;32m~/answercheck.py\u001b[0m in \u001b[0;36m__init__\u001b[0;34m(self, var, hashtag)\u001b[0m\n\u001b[1;32m     23\u001b[0m \u001b[0;34m\u001b[0m\u001b[0m\n\u001b[1;32m     24\u001b[0m     \u001b[0;32mdef\u001b[0m \u001b[0m__init__\u001b[0m\u001b[0;34m(\u001b[0m\u001b[0mself\u001b[0m\u001b[0;34m,\u001b[0m \u001b[0mvar\u001b[0m\u001b[0;34m,\u001b[0m \u001b[0mhashtag\u001b[0m\u001b[0;34m=\u001b[0m\u001b[0;32mNone\u001b[0m\u001b[0;34m)\u001b[0m\u001b[0;34m:\u001b[0m\u001b[0;34m\u001b[0m\u001b[0;34m\u001b[0m\u001b[0m\n\u001b[0;32m---> 25\u001b[0;31m         \u001b[0mcheckanswer\u001b[0m\u001b[0;34m.\u001b[0m\u001b[0mbasic\u001b[0m\u001b[0;34m(\u001b[0m\u001b[0mvar\u001b[0m\u001b[0;34m,\u001b[0m \u001b[0mhashtag\u001b[0m\u001b[0;34m)\u001b[0m\u001b[0;34m\u001b[0m\u001b[0;34m\u001b[0m\u001b[0m\n\u001b[0m\u001b[1;32m     26\u001b[0m \u001b[0;34m\u001b[0m\u001b[0m\n\u001b[1;32m     27\u001b[0m     \u001b[0;32mdef\u001b[0m \u001b[0mbasic\u001b[0m\u001b[0;34m(\u001b[0m\u001b[0mvar\u001b[0m\u001b[0;34m,\u001b[0m \u001b[0mhashtag\u001b[0m\u001b[0;34m=\u001b[0m\u001b[0;32mNone\u001b[0m\u001b[0;34m)\u001b[0m\u001b[0;34m:\u001b[0m\u001b[0;34m\u001b[0m\u001b[0;34m\u001b[0m\u001b[0m\n",
      "\u001b[0;32m~/answercheck.py\u001b[0m in \u001b[0;36mbasic\u001b[0;34m(var, hashtag)\u001b[0m\n\u001b[1;32m     48\u001b[0m             \u001b[0;32melse\u001b[0m\u001b[0;34m:\u001b[0m\u001b[0;34m\u001b[0m\u001b[0;34m\u001b[0m\u001b[0m\n\u001b[1;32m     49\u001b[0m                 \u001b[0mprint\u001b[0m\u001b[0;34m(\u001b[0m\u001b[0;34m\"Answer seems to be incorrect\\n\"\u001b[0m\u001b[0;34m)\u001b[0m\u001b[0;34m\u001b[0m\u001b[0;34m\u001b[0m\u001b[0m\n\u001b[0;32m---> 50\u001b[0;31m                 \u001b[0;32massert\u001b[0m \u001b[0mchecktag\u001b[0m \u001b[0;34m==\u001b[0m \u001b[0mhashtag\u001b[0m\u001b[0;34m,\u001b[0m \u001b[0;34mf\"Answer is incorrect {checktag}\"\u001b[0m\u001b[0;34m\u001b[0m\u001b[0;34m\u001b[0m\u001b[0m\n\u001b[0m\u001b[1;32m     51\u001b[0m         \u001b[0;32melse\u001b[0m\u001b[0;34m:\u001b[0m\u001b[0;34m\u001b[0m\u001b[0;34m\u001b[0m\u001b[0m\n\u001b[1;32m     52\u001b[0m             \u001b[0;32mraise\u001b[0m \u001b[0mTypeError\u001b[0m\u001b[0;34m(\u001b[0m\u001b[0;34mf\"No answer hastag provided: {checktag}\"\u001b[0m\u001b[0;34m)\u001b[0m\u001b[0;34m\u001b[0m\u001b[0;34m\u001b[0m\u001b[0m\n",
      "\u001b[0;31mAssertionError\u001b[0m: Answer is incorrect ee56f357b19c8164685cb607367242eb"
     ]
    }
   ],
   "source": [
    "checkanswer(a2,'82dd531e45df0cc3caa55e25050f8e0b')"
   ]
  },
  {
   "cell_type": "code",
   "execution_count": 109,
   "metadata": {},
   "outputs": [
    {
     "name": "stdout",
     "output_type": "stream",
     "text": [
      "Testing [[7.6621703]]\n",
      "Answer seems to be incorrect\n",
      "\n"
     ]
    },
    {
     "ename": "AssertionError",
     "evalue": "Answer is incorrect 7ac9953f9f8fcb298df76410a4f4764b",
     "output_type": "error",
     "traceback": [
      "\u001b[0;31m---------------------------------------------------------------------------\u001b[0m",
      "\u001b[0;31mAssertionError\u001b[0m                            Traceback (most recent call last)",
      "\u001b[0;32m<ipython-input-109-7fd48e6e5266>\u001b[0m in \u001b[0;36m<module>\u001b[0;34m\u001b[0m\n\u001b[0;32m----> 1\u001b[0;31m \u001b[0mcheckanswer\u001b[0m\u001b[0;34m(\u001b[0m\u001b[0ma3\u001b[0m\u001b[0;34m,\u001b[0m\u001b[0;34m'fe9ecafc65d08dd4ffe8c02520ff00c2'\u001b[0m\u001b[0;34m)\u001b[0m\u001b[0;34m\u001b[0m\u001b[0;34m\u001b[0m\u001b[0m\n\u001b[0m",
      "\u001b[0;32m~/answercheck.py\u001b[0m in \u001b[0;36m__init__\u001b[0;34m(self, var, hashtag)\u001b[0m\n\u001b[1;32m     23\u001b[0m \u001b[0;34m\u001b[0m\u001b[0m\n\u001b[1;32m     24\u001b[0m     \u001b[0;32mdef\u001b[0m \u001b[0m__init__\u001b[0m\u001b[0;34m(\u001b[0m\u001b[0mself\u001b[0m\u001b[0;34m,\u001b[0m \u001b[0mvar\u001b[0m\u001b[0;34m,\u001b[0m \u001b[0mhashtag\u001b[0m\u001b[0;34m=\u001b[0m\u001b[0;32mNone\u001b[0m\u001b[0;34m)\u001b[0m\u001b[0;34m:\u001b[0m\u001b[0;34m\u001b[0m\u001b[0;34m\u001b[0m\u001b[0m\n\u001b[0;32m---> 25\u001b[0;31m         \u001b[0mcheckanswer\u001b[0m\u001b[0;34m.\u001b[0m\u001b[0mbasic\u001b[0m\u001b[0;34m(\u001b[0m\u001b[0mvar\u001b[0m\u001b[0;34m,\u001b[0m \u001b[0mhashtag\u001b[0m\u001b[0;34m)\u001b[0m\u001b[0;34m\u001b[0m\u001b[0;34m\u001b[0m\u001b[0m\n\u001b[0m\u001b[1;32m     26\u001b[0m \u001b[0;34m\u001b[0m\u001b[0m\n\u001b[1;32m     27\u001b[0m     \u001b[0;32mdef\u001b[0m \u001b[0mbasic\u001b[0m\u001b[0;34m(\u001b[0m\u001b[0mvar\u001b[0m\u001b[0;34m,\u001b[0m \u001b[0mhashtag\u001b[0m\u001b[0;34m=\u001b[0m\u001b[0;32mNone\u001b[0m\u001b[0;34m)\u001b[0m\u001b[0;34m:\u001b[0m\u001b[0;34m\u001b[0m\u001b[0;34m\u001b[0m\u001b[0m\n",
      "\u001b[0;32m~/answercheck.py\u001b[0m in \u001b[0;36mbasic\u001b[0;34m(var, hashtag)\u001b[0m\n\u001b[1;32m     48\u001b[0m             \u001b[0;32melse\u001b[0m\u001b[0;34m:\u001b[0m\u001b[0;34m\u001b[0m\u001b[0;34m\u001b[0m\u001b[0m\n\u001b[1;32m     49\u001b[0m                 \u001b[0mprint\u001b[0m\u001b[0;34m(\u001b[0m\u001b[0;34m\"Answer seems to be incorrect\\n\"\u001b[0m\u001b[0;34m)\u001b[0m\u001b[0;34m\u001b[0m\u001b[0;34m\u001b[0m\u001b[0m\n\u001b[0;32m---> 50\u001b[0;31m                 \u001b[0;32massert\u001b[0m \u001b[0mchecktag\u001b[0m \u001b[0;34m==\u001b[0m \u001b[0mhashtag\u001b[0m\u001b[0;34m,\u001b[0m \u001b[0;34mf\"Answer is incorrect {checktag}\"\u001b[0m\u001b[0;34m\u001b[0m\u001b[0;34m\u001b[0m\u001b[0m\n\u001b[0m\u001b[1;32m     51\u001b[0m         \u001b[0;32melse\u001b[0m\u001b[0;34m:\u001b[0m\u001b[0;34m\u001b[0m\u001b[0;34m\u001b[0m\u001b[0m\n\u001b[1;32m     52\u001b[0m             \u001b[0;32mraise\u001b[0m \u001b[0mTypeError\u001b[0m\u001b[0;34m(\u001b[0m\u001b[0;34mf\"No answer hastag provided: {checktag}\"\u001b[0m\u001b[0;34m)\u001b[0m\u001b[0;34m\u001b[0m\u001b[0;34m\u001b[0m\u001b[0m\n",
      "\u001b[0;31mAssertionError\u001b[0m: Answer is incorrect 7ac9953f9f8fcb298df76410a4f4764b"
     ]
    }
   ],
   "source": [
    "checkanswer(a3,'fe9ecafc65d08dd4ffe8c02520ff00c2')"
   ]
  },
  {
   "cell_type": "code",
   "execution_count": null,
   "metadata": {},
   "outputs": [],
   "source": []
  }
 ],
 "metadata": {
  "kernelspec": {
   "display_name": "Python 3",
   "language": "python",
   "name": "python3"
  },
  "language_info": {
   "codemirror_mode": {
    "name": "ipython",
    "version": 3
   },
   "file_extension": ".py",
   "mimetype": "text/x-python",
   "name": "python",
   "nbconvert_exporter": "python",
   "pygments_lexer": "ipython3",
   "version": "3.8.8"
  }
 },
 "nbformat": 4,
 "nbformat_minor": 4
}
