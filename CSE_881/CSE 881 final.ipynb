{
 "cells": [
  {
   "cell_type": "markdown",
   "id": "49756f77",
   "metadata": {},
   "source": [
    "# GCN Model"
   ]
  },
  {
   "cell_type": "code",
   "execution_count": 23,
   "id": "e62be873",
   "metadata": {},
   "outputs": [
    {
     "name": "stdout",
     "output_type": "stream",
     "text": [
      "Epoch 0: 1.9533114433288574\n",
      "Epoch 50: 0.10230010747909546\n",
      "Epoch 100: 0.09286082535982132\n",
      "Epoch 150: 0.09389713406562805\n",
      "Accuracy: 0.8468\n"
     ]
    }
   ],
   "source": [
    "import torch\n",
    "from torch_geometric.data import Data\n",
    "import numpy as np\n",
    "import scipy.sparse as sp\n",
    "from torch_geometric.nn import GCNConv\n",
    "import torch.nn.functional as F\n",
    "import json\n",
    "from torch_geometric.utils import dense_to_sparse\n",
    "\n",
    "adj_matrix = sp.load_npz('./adj.npz')\n",
    "features = np.load('./features.npy')\n",
    "labels = np.load('./labels.npy')\n",
    "splits = json.load(open('./splits.json'))\n",
    "train_idx, test_idx = splits['idx_train'], splits['idx_test']\n",
    "\n",
    "features = torch.FloatTensor(features)\n",
    "labels = torch.LongTensor(labels)\n",
    "\n",
    "full_labels = -1 * torch.ones(size=(features.shape[0],), dtype=torch.int64)\n",
    "full_labels[train_idx] = labels\n",
    "\n",
    "edge_index, _ = dense_to_sparse(torch.Tensor(adj_matrix.toarray()))\n",
    "\n",
    "data = Data(x=features, edge_index=edge_index, y=full_labels)\n",
    "\n",
    "data.train_mask = torch.zeros(data.num_nodes, dtype=torch.bool)\n",
    "data.test_mask = torch.zeros(data.num_nodes, dtype=torch.bool)\n",
    "data.val_mask = torch.zeros(data.num_nodes, dtype=torch.bool)\n",
    "\n",
    "num_train = int(len(train_idx) * 0.75)\n",
    "\n",
    "train_indices = train_idx[:num_train]\n",
    "val_indices = train_idx[num_train:]\n",
    "\n",
    "data.train_mask[train_indices] = True\n",
    "data.val_mask[val_indices] = True\n",
    "data.test_mask[test_idx] = True\n",
    "\n",
    "num_classes = (data.y.max() + 1).item()\n",
    "\n",
    "class GCN(torch.nn.Module):\n",
    "    def __init__(self):\n",
    "        super(GCN, self).__init__()\n",
    "        self.conv1 = GCNConv(data.num_node_features, 128)\n",
    "        self.conv2 = GCNConv(128, 128)\n",
    "        self.conv3 = GCNConv(128, num_classes)\n",
    "\n",
    "    def forward(self, data):\n",
    "        x, edge_index = data.x, data.edge_index\n",
    "        x = F.relu(self.conv1(x, edge_index))\n",
    "        x = F.dropout(x, training=self.training)\n",
    "        x = F.relu(self.conv2(x, edge_index))\n",
    "        x = F.dropout(x, training=self.training)\n",
    "        x = self.conv3(x, edge_index)\n",
    "        return F.log_softmax(x, dim=1)\n",
    "\n",
    "device = torch.device('cuda' if torch.cuda.is_available() else 'cpu')\n",
    "model = GCN().to(device)\n",
    "data = data.to(device)\n",
    "\n",
    "optimizer = torch.optim.Adam(model.parameters(), lr=0.01, weight_decay=5e-3)\n",
    "\n",
    "model.train()\n",
    "for epoch in range(200):\n",
    "    optimizer.zero_grad()\n",
    "    out = model(data)\n",
    "    loss = F.nll_loss(out[data.train_mask], data.y[data.train_mask], ignore_index=-1)\n",
    "    loss.backward()\n",
    "    optimizer.step()\n",
    "    if epoch % 50 == 0:\n",
    "        print('Epoch {0}: {1}'.format(epoch, loss.item()))\n",
    "\n",
    "model.eval()\n",
    "pred = model(data).argmax(dim=1)\n",
    "correct = (pred[data.val_mask] == data.y[data.val_mask]).sum()\n",
    "acc = int(correct) / int(data.val_mask.sum())\n",
    "print(f'Accuracy: {acc:.4f}')\n",
    "\n"
   ]
  },
  {
   "cell_type": "code",
   "execution_count": 24,
   "id": "084417bc",
   "metadata": {},
   "outputs": [
    {
     "data": {
      "text/plain": [
       "tensor([1, 3, 2, 1, 1, 2, 3, 1, 1, 1])"
      ]
     },
     "execution_count": 24,
     "metadata": {},
     "output_type": "execute_result"
    }
   ],
   "source": [
    "test_preds = pred[data.test_mask]\n",
    "test_idx\n",
    "test_preds = pred[test_idx]\n",
    "test_preds[0:10]"
   ]
  },
  {
   "cell_type": "code",
   "execution_count": 25,
   "id": "519db79a",
   "metadata": {},
   "outputs": [],
   "source": [
    "np.savetxt('submission.txt', test_preds.cpu().numpy(), fmt='%d')"
   ]
  },
  {
   "cell_type": "code",
   "execution_count": null,
   "id": "8c087ab5-509e-413f-8367-ee67e697d769",
   "metadata": {},
   "outputs": [],
   "source": []
  }
 ],
 "metadata": {
  "kernelspec": {
   "display_name": "Python 3 (ipykernel)",
   "language": "python",
   "name": "python3"
  },
  "language_info": {
   "codemirror_mode": {
    "name": "ipython",
    "version": 3
   },
   "file_extension": ".py",
   "mimetype": "text/x-python",
   "name": "python",
   "nbconvert_exporter": "python",
   "pygments_lexer": "ipython3",
   "version": "3.11.7"
  }
 },
 "nbformat": 4,
 "nbformat_minor": 5
}
