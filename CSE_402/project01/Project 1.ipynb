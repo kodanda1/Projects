{
 "cells": [
  {
   "cell_type": "code",
   "execution_count": 4,
   "metadata": {},
   "outputs": [
    {
     "ename": "ModuleNotFoundError",
     "evalue": "No module named 'shapely'",
     "output_type": "error",
     "traceback": [
      "\u001b[0;31m---------------------------------------------------------------------------\u001b[0m",
      "\u001b[0;31mModuleNotFoundError\u001b[0m                       Traceback (most recent call last)",
      "\u001b[0;32m<ipython-input-4-05aad0e57d2b>\u001b[0m in \u001b[0;36m<module>\u001b[0;34m\u001b[0m\n\u001b[1;32m      4\u001b[0m \u001b[0;32mfrom\u001b[0m \u001b[0mnumpy\u001b[0m\u001b[0;34m.\u001b[0m\u001b[0mlib\u001b[0m\u001b[0;34m.\u001b[0m\u001b[0mhistograms\u001b[0m \u001b[0;32mimport\u001b[0m \u001b[0mhistogram\u001b[0m\u001b[0;34m\u001b[0m\u001b[0;34m\u001b[0m\u001b[0m\n\u001b[1;32m      5\u001b[0m \u001b[0;32mimport\u001b[0m \u001b[0mscipy\u001b[0m\u001b[0;34m.\u001b[0m\u001b[0mintegrate\u001b[0m \u001b[0;32mas\u001b[0m \u001b[0mintegrate\u001b[0m\u001b[0;34m\u001b[0m\u001b[0;34m\u001b[0m\u001b[0m\n\u001b[0;32m----> 6\u001b[0;31m \u001b[0;32mfrom\u001b[0m \u001b[0mshapely\u001b[0m\u001b[0;34m.\u001b[0m\u001b[0mgeometry\u001b[0m \u001b[0;32mimport\u001b[0m \u001b[0mLineString\u001b[0m\u001b[0;34m\u001b[0m\u001b[0;34m\u001b[0m\u001b[0m\n\u001b[0m",
      "\u001b[0;31mModuleNotFoundError\u001b[0m: No module named 'shapely'"
     ]
    }
   ],
   "source": [
    "import numpy as np\n",
    "import math\n",
    "from matplotlib import pyplot as plt\n",
    "from numpy.lib.histograms import histogram\n",
    "import scipy.integrate as integrate\n",
    "from shapely.geometry import LineString"
   ]
  },
  {
   "cell_type": "markdown",
   "metadata": {},
   "source": [
    "2) Let B1, B2 and B3 denote 3 different fingerprint matchers that are used to generate genuine\n",
    "and impostor match scores on a fixed set of fingerprint images. The mean ( ) and variance ( 2) of the\n",
    "genuine and impostor score distributions resulting from the 3 different matchers are tabulated below.\n",
    "Matcher Genuine Impostor\n",
    "\n",
    "| Matcher | mean(genuine) | variance(genuine) | mean(impostor) | variance(impostor)|\n",
    "| :-: | :-: | :-: | :-: | :-:|\n",
    "| B1 | 10 | 25 | 60 | 25 |\n",
    "| B2 | 60 |  5 | 75 |  3 |\n",
    "| B3 | 40 | 15 | 70 | 25 |\n",
    "\n",
    "Based on the score statistics, determine which one of the three matchers has performed well and which\n",
    "one has performed the worst. Provide adequate numerical justification."
   ]
  },
  {
   "cell_type": "code",
   "execution_count": null,
   "metadata": {},
   "outputs": [],
   "source": [
    "#2)\n",
    "\n",
    "d_prime_dict = {\"B1\":[],\"B2\":[],\"B3\":[]}\n",
    "\n",
    "d_prime_B1 = (math.sqrt(2)*(abs((10)-(60))))/(math.sqrt((25)+(25)))\n",
    "print (\"The d-prime value of the B1 matcher =\",round(d_prime_B1,2))\n",
    "d_prime_dict[\"B1\"].append (d_prime_B1)\n",
    "\n",
    "d_prime_B2 = (math.sqrt(2)*(abs((60)-(75))))/(math.sqrt((5)+(3)))\n",
    "print (\"The d-prime value of the B2 matcher =\",round(d_prime_B2,2))\n",
    "d_prime_dict[\"B2\"].append(d_prime_B2)\n",
    "\n",
    "d_prime_B3 = (math.sqrt(2)*(abs((40)-(70))))/(math.sqrt((15)+(25)))\n",
    "print (\"The d-prime value of the B3 matcher =\",round(d_prime_B3,2))\n",
    "d_prime_dict[\"B3\"].append(d_prime_B3)"
   ]
  },
  {
   "cell_type": "code",
   "execution_count": null,
   "metadata": {},
   "outputs": [],
   "source": [
    "best_matcher = max(d_prime_dict, key = d_prime_dict.get)\n",
    "print(\"The matcher that performed the best according to d-prime is:\", best_matcher)\n",
    "\n",
    "worst_matcher = min (d_prime_dict, key = d_prime_dict.get)\n",
    "print(\"The matcher that performed the worst according to d-prime is:\", worst_matcher)"
   ]
  },
  {
   "cell_type": "code",
   "execution_count": null,
   "metadata": {},
   "outputs": [],
   "source": [
    "f_ratio_dict = {\"B1\":[],\"B2\":[],\"B3\":[]}\n",
    "\n",
    "f_ratio_B1 = (abs((10)-(60)))/((math.sqrt(25))+(math.sqrt(25)))\n",
    "print (\"The f-ratio value of the B1 matcher =\",round(f_ratio_B1,2))\n",
    "f_ratio_dict[\"B1\"].append (f_ratio_B1)\n",
    "\n",
    "f_ratio_B2 = (abs((60)-(75)))/((math.sqrt(5))+(math.sqrt(3)))\n",
    "print (\"The f-ratio value of the B2 matcher =\",round(f_ratio_B2,2))\n",
    "f_ratio_dict[\"B2\"].append (f_ratio_B2)\n",
    "\n",
    "f_ratio_B3 = (abs((40)-(70)))/((math.sqrt(15))+(math.sqrt(25)))\n",
    "print (\"The f-ratio value of the B3 matcher =\",round(f_ratio_B3,2))\n",
    "f_ratio_dict[\"B3\"].append (f_ratio_B3)"
   ]
  },
  {
   "cell_type": "code",
   "execution_count": null,
   "metadata": {},
   "outputs": [],
   "source": [
    "best_matcher = max(f_ratio_dict, key = f_ratio_dict.get)\n",
    "print(\"The matcher that performed the best according to f-ratio is:\", best_matcher)\n",
    "\n",
    "worst_matcher = min(f_ratio_dict, key = f_ratio_dict.get)\n",
    "print(\"The matcher that performed the worst according to f-ratio is:\", worst_matcher)"
   ]
  },
  {
   "cell_type": "markdown",
   "metadata": {},
   "source": [
    "3) Consider a biometric matcher that generates similarity scores in the range [0, 1]. Its genuine\n",
    "   and impostor score distributions are as follows: p(s|genuine)=3s^2 and p(s|impostor)=2-2s. Suppose\n",
    "   the following decision rule is employed: s is classified as a genuine score if s>=n; else it is classified as\n",
    "   an impostor score. Here,n E [0, 1].\n",
    "   \n",
    "  a) Plot the genuine and impostor distributions in a single graph.\n",
    "  \n",
    "  b) If n = 0.2, what is the FMR (i.e., FAR) and FNMR (i.e., FRR) of the biometric matcher?\n",
    "  \n",
    "  c) If n = 0.8, what is the FMR (i.e., FAR) and FNMR (i.e., FRR) of the biometric matcher?\n",
    "  \n",
    "  d) Write a program to compute the DET curve based on these two distributions. Plot the DET curve."
   ]
  },
  {
   "cell_type": "code",
   "execution_count": null,
   "metadata": {},
   "outputs": [],
   "source": [
    "# 3a)\n",
    "\n",
    "genuine_distribution=[]\n",
    "impostor_distribution =[]\n",
    "temp =[]\n",
    "s = 0\n",
    "while s < 1:\n",
    "    impostor = 2-2*s\n",
    "    genuine = 3*s**2\n",
    "    \n",
    "    genuine_distribution.append(genuine)\n",
    "    impostor_distribution.append(impostor)\n",
    "    temp.append(s)\n",
    "    s+=0.01\n",
    " \n",
    "plt.style.use('seaborn')\n",
    "plt.title(\"Genuine and Impostor distributions in a single graph\",fontweight='bold')\n",
    "plt.plot(temp,genuine_distribution, label='Genuine distribution')\n",
    "plt.plot(temp,impostor_distribution, label='Impostor distribution')\n",
    "plt.legend()\n",
    "plt.show()\n"
   ]
  },
  {
   "cell_type": "code",
   "execution_count": null,
   "metadata": {},
   "outputs": [],
   "source": [
    "#3b) \n",
    "\n",
    "def genuine_distribution(s):\n",
    "    \n",
    "    return 3*s**2\n",
    "    \n",
    "def impostor_distribution(s):    \n",
    "    \n",
    "    return 2-2*s\n",
    "\n",
    "\n",
    "threshold_value = 0.2\n",
    "\n",
    "fmr_1,error_fmr = integrate.quad(impostor_distribution,threshold_value,1)\n",
    "\n",
    "fnmr_1,error_fnmr = integrate.quad(genuine_distribution,0,threshold_value)\n",
    "\n",
    "print(\"FMR of the biometric matcher with threshold value of 0.2 = \",round(fmr_1,3))\n",
    "print(\"FNMR of the biometric matcher with threshold value of 0.2 = \",round(fnmr_1,3))\n"
   ]
  },
  {
   "cell_type": "code",
   "execution_count": null,
   "metadata": {},
   "outputs": [],
   "source": [
    "#3c)\n",
    "\n",
    "def genuine_distribution(s):\n",
    "    \n",
    "    return 3*s**2\n",
    "    \n",
    "def impostor_distribution(s):    \n",
    "    \n",
    "    return 2-2*s\n",
    "\n",
    "\n",
    "threshold_value = 0.8\n",
    "\n",
    "fmr_2,error_fmr = integrate.quad(impostor_distribution,threshold_value,1)\n",
    "\n",
    "fnmr_2,error_fnmr = integrate.quad(genuine_distribution,0,threshold_value)\n",
    "\n",
    "print(\"FMR of the biometric matcher with threshold value of 0.8 = \",round(fmr_2,3))\n",
    "print(\"FNMR of the biometric matcher with threshold value of 0.8 = \",round(fnmr_2,3))\n",
    "\n"
   ]
  },
  {
   "cell_type": "code",
   "execution_count": null,
   "metadata": {},
   "outputs": [],
   "source": [
    "#3d)\n",
    "\n",
    "initial_value = 0.2\n",
    "final_value = 0.8\n",
    "fmr_values=[]\n",
    "fnmr_values=[]\n",
    "\n",
    "while initial_value<=final_value:\n",
    "    \n",
    "    initial_value +=0.01\n",
    "    \n",
    "    fmr,error_fmr = integrate.quad(impostor_distribution,initial_value,1)\n",
    "\n",
    "    fnmr,error_fnmr = integrate.quad(genuine_distribution,0,initial_value)\n",
    "    \n",
    "    \n",
    "    fmr_values.append(fmr)\n",
    "\n",
    "    fnmr_values.append(fnmr)\n"
   ]
  },
  {
   "cell_type": "code",
   "execution_count": null,
   "metadata": {},
   "outputs": [],
   "source": [
    "plt.plot(fmr_values,fnmr_values)\n",
    "plt.title(\"DET curve\",fontweight='bold')\n",
    "plt.xlabel('FMR',fontweight='bold')\n",
    "plt.ylabel('FNMR',fontweight='bold')\n",
    "plt.show()"
   ]
  },
  {
   "cell_type": "markdown",
   "metadata": {},
   "source": [
    "4) This exercise involves generating match score distributions and DET curves for two different modalities\n",
    "   matchers - fingerprint and hand. The fingerprint scores are similarity-based, while the hand scores\n",
    "   are distance-based. The set of scores can be accessed here.\n",
    "   \n",
    "(a) Compute and report the mean and variance of the (a) genuine scores and (b) impostor\n",
    "    scores for each matcher.\n",
    "    \n",
    "(b) Compute and report the d-prime value for each matcher.\n",
    "\n",
    "(c) For each matcher, plot the histogram of genuine and impostor scores in the same graph.\n",
    "    So there will be two graphs - one for the fingerprint matcher and the other for the hand matcher.\n",
    "\n",
    "(d) Write a program that inputs a threshold value,  , for each matcher and outputs the\n",
    "    False Match Rate (FMR) and False Non-match Rate (FNMR) at that threshold. Use this program\n",
    "    to compute the FMR and FNMR for the following scenarios:\n",
    "    \n",
    "    i. Fingerprint Matcher:   = 500\n",
    "    ii. Hand Matcher:   = 300\n",
    "\n",
    "(e) Based on the program designed in (4d), write another program that inputs a set of\n",
    "    genuine scores and impostor scores and plots the Detection Error Tradeoff (DET) Curve. Use this\n",
    "    program to plot the DET curve for both the matchers and report the Equal Error Rate (EER).\n",
    "\n",
    "(f) For each of the two matchers determine what the FNMR is at (a) FMR = 10%; (b) FMR\n",
    "    = 5%; (c) FMR = 1%. You can determine these values from the DET curve."
   ]
  },
  {
   "cell_type": "code",
   "execution_count": 5,
   "metadata": {},
   "outputs": [
    {
     "name": "stdout",
     "output_type": "stream",
     "text": [
      "Mean of finger genuine scores= 306.58\n",
      "Variance of finger genuine scores= 40825.04\n",
      "Mean of finger impostor scores= 7.97\n",
      "Varinace of finger impostor scores= 90.81\n",
      "Mean of hand genuine scores= 50.64\n",
      "Variance of hand genuine scores= 1516.27\n",
      "Mean of hand impostor scores= 144.44\n",
      "Variance of hand impostor scores= 6925.66\n"
     ]
    }
   ],
   "source": [
    "# 4a\n",
    "\n",
    "finger_genuine_file = open(\"finger_genuine.score\")\n",
    "finger_impostor_file = open(\"finger_impostor.score\")\n",
    "hand_genuine_file = open(\"hand_genuine.score\")\n",
    "hand_impostor_file = open(\"hand_impostor.score\")\n",
    "\n",
    "finger_genuine_file_list = finger_genuine_file.readlines()\n",
    "finger_impostor_file_list = finger_impostor_file.readlines()\n",
    "hand_genuine_file_list = hand_genuine_file.readlines()\n",
    "hand_impostor_file_list = hand_impostor_file.readlines()\n",
    "\n",
    "for values in range(len(finger_genuine_file_list)):\n",
    "    finger_genuine_file_list[values] = (float(finger_genuine_file_list[values]))\n",
    "    \n",
    "for values in range(len(finger_impostor_file_list)):\n",
    "    finger_impostor_file_list[values] = (float(finger_impostor_file_list[values]))\n",
    "    \n",
    "for values in range(len(hand_genuine_file_list)):\n",
    "    hand_genuine_file_list[values] = (float(hand_genuine_file_list[values]))\n",
    "    \n",
    "\n",
    "for values in range(len(hand_impostor_file_list)):\n",
    "    hand_impostor_file_list[values] = (float(hand_impostor_file_list[values]))\n",
    "\n",
    "mean_finger_genuine_file_list = np.mean(finger_genuine_file_list)\n",
    "variance_finger_genuine_file_list= np.var(finger_genuine_file_list)\n",
    "\n",
    "mean_finger_impostor_file_list = np.mean(finger_impostor_file_list)\n",
    "variance_finger_impostor_file_list = np.var(finger_impostor_file_list)\n",
    "\n",
    "mean_hand_genuine_file_list = np.mean(hand_genuine_file_list)\n",
    "variance_hand_genuine_file_list = np.var(hand_genuine_file_list)\n",
    "\n",
    "mean_hand_impostor_file_list = np.mean(hand_impostor_file_list)\n",
    "variance_hand_impostor_file_list = np.var(hand_impostor_file_list)\n",
    "\n",
    "\n",
    "print(\"Mean of finger genuine scores=\",round(mean_finger_genuine_file_list,2))\n",
    "print(\"Variance of finger genuine scores=\",round(variance_finger_genuine_file_list,2))\n",
    "\n",
    "print(\"Mean of finger impostor scores=\",round(mean_finger_impostor_file_list,2))\n",
    "print(\"Varinace of finger impostor scores=\",round(variance_finger_impostor_file_list,2))\n",
    "\n",
    "print(\"Mean of hand genuine scores=\",round(mean_hand_genuine_file_list,2))\n",
    "print(\"Variance of hand genuine scores=\",round(variance_hand_genuine_file_list,2))\n",
    "\n",
    "print(\"Mean of hand impostor scores=\",round(mean_hand_impostor_file_list,2))\n",
    "print(\"Variance of hand impostor scores=\",round(variance_hand_impostor_file_list,2))"
   ]
  },
  {
   "cell_type": "code",
   "execution_count": 6,
   "metadata": {},
   "outputs": [
    {
     "name": "stdout",
     "output_type": "stream",
     "text": [
      "d-prime value of finger matcher = 2.09\n",
      "d-prime value of hand matcher = 1.44\n"
     ]
    }
   ],
   "source": [
    "#4b\n",
    "\n",
    "d_prime_finger_matcher = math.sqrt(2)*(abs(mean_finger_genuine_file_list)-(mean_finger_impostor_file_list))/(math.sqrt((variance_finger_genuine_file_list)+(variance_finger_impostor_file_list)))\n",
    "print (\"d-prime value of finger matcher =\",round(d_prime_finger_matcher,2))\n",
    "\n",
    "d_prime_hand_matcher = math.sqrt(2)*(abs((mean_hand_genuine_file_list)-(mean_hand_impostor_file_list)))/(math.sqrt((variance_hand_genuine_file_list)+(variance_hand_impostor_file_list)))\n",
    "print (\"d-prime value of hand matcher =\",round(d_prime_hand_matcher,2))\n"
   ]
  },
  {
   "cell_type": "code",
   "execution_count": 7,
   "metadata": {},
   "outputs": [
    {
     "data": {
      "image/png": "[encoded data removed]",
      "text/plain": [
       "<Figure size 432x288 with 1 Axes>"
      ]
     },
     "metadata": {
      "needs_background": "light"
     },
     "output_type": "display_data"
    }
   ],
   "source": [
    "#4c\n",
    "\n",
    "plt.hist(finger_genuine_file_list,label = \"Finger genuine score\", color='purple', \n",
    "         edgecolor = 'black',alpha =0.5, bins=5)\n",
    "\n",
    "plt.hist(finger_impostor_file_list, label = \"Finger impostor score\", color='yellow',\n",
    "         edgecolor = 'black',alpha =0.5, bins=3)\n",
    "\n",
    "plt.xlabel('Genuine or Impostor scores', fontweight='bold')\n",
    "plt.ylabel('Number of scores',fontweight='bold')\n",
    "plt.title('Fingerprint Matcher',fontweight='bold')\n",
    "plt.legend()\n",
    "\n",
    "plt.show()"
   ]
  },
  {
   "cell_type": "code",
   "execution_count": 8,
   "metadata": {},
   "outputs": [
    {
     "data": {
      "image/png": "[encoded data removed]",
      "text/plain": [
       "<Figure size 432x288 with 1 Axes>"
      ]
     },
     "metadata": {
      "needs_background": "light"
     },
     "output_type": "display_data"
    }
   ],
   "source": [
    "plt.hist(hand_genuine_file_list, label = \"Hand genuine score\", color='red',\n",
    "         edgecolor = 'black',alpha =0.5,bins =3)\n",
    "\n",
    "plt.hist(hand_impostor_file_list, label = \"Hand impostor score\", color='orange',\n",
    "         edgecolor = 'black',alpha =0.5, bins =3)\n",
    "\n",
    "plt.xlabel('Genuine or Impostor scores',fontweight='bold')\n",
    "plt.ylabel('Number of scores',fontweight='bold')\n",
    "plt.title('Hand Matcher',fontweight='bold')\n",
    "plt.legend()\n",
    "\n",
    "\n",
    "plt.show()"
   ]
  },
  {
   "cell_type": "code",
   "execution_count": 13,
   "metadata": {},
   "outputs": [
    {
     "name": "stdout",
     "output_type": "stream",
     "text": [
      "False Match Rate Similarity =  0.0\n",
      "False Non-Match Rate similarity =  80.44444444444444\n"
     ]
    }
   ],
   "source": [
    "#4d\n",
    "\n",
    "threshold = 500\n",
    "false_match_rate_finger = 0\n",
    "false_non_match_rate_finger = 0\n",
    "\n",
    "for i in range(len(finger_genuine_file_list)): \n",
    "    if finger_genuine_file_list[i] <= threshold:\n",
    "        false_non_match_rate_finger+=1\n",
    "    \n",
    "        \n",
    "for count in range(len(finger_impostor_file_list)): \n",
    "    if finger_impostor_file_list[count] > threshold:\n",
    "        false_match_rate_finger+=1\n",
    "\n",
    "\n",
    "        \n",
    "fmr_similarity=false_match_rate_finger/len(finger_impostor_file_list)\n",
    "fnmr_similarity=false_non_match_rate_finger/len(finger_genuine_file_list)\n",
    "\n",
    "print(\"False Match Rate Similarity = \",fmr_similarity*100)\n",
    "print(\"False Non-Match Rate similarity = \",fnmr_similarity*100)"
   ]
  },
  {
   "cell_type": "code",
   "execution_count": 10,
   "metadata": {
    "scrolled": false
   },
   "outputs": [
    {
     "name": "stdout",
     "output_type": "stream",
     "text": [
      "False Match Rate Dissimilarity =  96.44 %\n",
      "False Non-Match Rate Dissimilarity =  0.0 %\n"
     ]
    }
   ],
   "source": [
    "threshold = 300\n",
    "\n",
    "false_match_rate_hand = 0\n",
    "false_non_match_rate_hand = 0\n",
    "\n",
    "\n",
    "for j in range (len(hand_genuine_file_list)):\n",
    "    if hand_genuine_file_list[j] > threshold:\n",
    "        false_non_match_rate_hand+=1\n",
    "        \n",
    "\n",
    "for count in range (len(hand_impostor_file_list)):\n",
    "    if hand_impostor_file_list[count] <= threshold:\n",
    "        false_match_rate_hand+=1\n",
    "\n",
    "             \n",
    "fmr_disimilarity=false_match_rate_hand/len(hand_impostor_file_list)\n",
    "fnmr_disimilarity=false_non_match_rate_hand/len(hand_genuine_file_list)\n",
    "\n",
    "\n",
    "print(\"False Match Rate Dissimilarity = \",round(fmr_disimilarity*100,2),\"%\")\n",
    "print(\"False Non-Match Rate Dissimilarity = \",round(fnmr_disimilarity*100,2),\"%\")"
   ]
  },
  {
   "cell_type": "code",
   "execution_count": 11,
   "metadata": {},
   "outputs": [],
   "source": [
    "#4e\n",
    "\n",
    "finger_maximum_value = int(max(max(finger_genuine_file_list),max(finger_impostor_file_list)))\n",
    "finger_minimum_value = int(min(min(finger_genuine_file_list),min(finger_impostor_file_list)))\n",
    "\n",
    "\n",
    "initial_value = finger_minimum_value\n",
    "\n",
    "fmr_finger_similariy = []\n",
    "fnmr_finger_similarity = []\n",
    "\n",
    "for i in range (finger_minimum_value , finger_maximum_value,5):\n",
    "    \n",
    "    initial_value += 5\n",
    "    \n",
    "    false_match_rate_finger = 0\n",
    "    false_non_match_rate_finger = 0\n",
    "\n",
    "    for j in range(len(finger_genuine_file_list)): \n",
    "        if finger_genuine_file_list[j] < initial_value:\n",
    "            false_non_match_rate_finger+=1\n",
    "\n",
    "    for count in range(len(finger_impostor_file_list)): \n",
    "        if finger_impostor_file_list[count] >= initial_value:\n",
    "            false_match_rate_finger+=1\n",
    "\n",
    "    fmr_similarity=false_match_rate_finger/len(finger_impostor_file_list)\n",
    "    fnmr_similarity=false_non_match_rate_finger/len(finger_genuine_file_list)\n",
    "\n",
    "    fmr_finger_similariy.append(fmr_similarity)\n",
    "\n",
    "    fnmr_finger_similarity.append(fnmr_similarity)\n",
    "\n",
    "    \n",
    "\n",
    "    "
   ]
  },
  {
   "cell_type": "code",
   "execution_count": 12,
   "metadata": {},
   "outputs": [
    {
     "ename": "NameError",
     "evalue": "name 'LineString' is not defined",
     "output_type": "error",
     "traceback": [
      "\u001b[0;31m---------------------------------------------------------------------------\u001b[0m",
      "\u001b[0;31mNameError\u001b[0m                                 Traceback (most recent call last)",
      "\u001b[0;32m<ipython-input-12-668156879e68>\u001b[0m in \u001b[0;36m<module>\u001b[0;34m\u001b[0m\n\u001b[1;32m      3\u001b[0m \u001b[0;34m\u001b[0m\u001b[0m\n\u001b[1;32m      4\u001b[0m \u001b[0;34m\u001b[0m\u001b[0m\n\u001b[0;32m----> 5\u001b[0;31m \u001b[0mfirst_line_finger\u001b[0m \u001b[0;34m=\u001b[0m \u001b[0mLineString\u001b[0m\u001b[0;34m(\u001b[0m\u001b[0mnp\u001b[0m\u001b[0;34m.\u001b[0m\u001b[0mcolumn_stack\u001b[0m\u001b[0;34m(\u001b[0m\u001b[0;34m(\u001b[0m\u001b[0mfmr_finger_similariy\u001b[0m\u001b[0;34m,\u001b[0m\u001b[0mfnmr_finger_similarity\u001b[0m\u001b[0;34m)\u001b[0m\u001b[0;34m)\u001b[0m\u001b[0;34m)\u001b[0m\u001b[0;34m\u001b[0m\u001b[0;34m\u001b[0m\u001b[0m\n\u001b[0m\u001b[1;32m      6\u001b[0m \u001b[0msecond_line_finger\u001b[0m \u001b[0;34m=\u001b[0m \u001b[0mLineString\u001b[0m\u001b[0;34m(\u001b[0m\u001b[0mnp\u001b[0m\u001b[0;34m.\u001b[0m\u001b[0mcolumn_stack\u001b[0m\u001b[0;34m(\u001b[0m\u001b[0;34m(\u001b[0m\u001b[0mfmr_finger_similariy\u001b[0m\u001b[0;34m,\u001b[0m\u001b[0mfmr_finger_similariy\u001b[0m\u001b[0;34m)\u001b[0m\u001b[0;34m)\u001b[0m\u001b[0;34m)\u001b[0m\u001b[0;34m\u001b[0m\u001b[0;34m\u001b[0m\u001b[0m\n\u001b[1;32m      7\u001b[0m \u001b[0mintersection_finger\u001b[0m \u001b[0;34m=\u001b[0m \u001b[0mfirst_line_finger\u001b[0m\u001b[0;34m.\u001b[0m\u001b[0mintersection\u001b[0m\u001b[0;34m(\u001b[0m\u001b[0msecond_line_finger\u001b[0m\u001b[0;34m)\u001b[0m\u001b[0;34m\u001b[0m\u001b[0;34m\u001b[0m\u001b[0m\n",
      "\u001b[0;31mNameError\u001b[0m: name 'LineString' is not defined"
     ]
    },
    {
     "data": {
      "image/png": "[encoded data removed]",
      "text/plain": [
       "<Figure size 432x288 with 1 Axes>"
      ]
     },
     "metadata": {
      "needs_background": "light"
     },
     "output_type": "display_data"
    }
   ],
   "source": [
    "plt.plot(fmr_finger_similariy,fnmr_finger_similarity)\n",
    "plt.plot(fmr_finger_similariy, fmr_finger_similariy)\n",
    "\n",
    "\n",
    "first_line_finger = LineString(np.column_stack((fmr_finger_similariy,fnmr_finger_similarity)))\n",
    "second_line_finger = LineString(np.column_stack((fmr_finger_similariy,fmr_finger_similariy)))\n",
    "intersection_finger = first_line_finger.intersection(second_line_finger)\n",
    "x_finger, y_finger = intersection_finger.xy\n",
    "plt.plot(x_finger,y_finger,'r-o',color ='black', label = \"EER\")\n",
    "\n",
    "plt.legend()\n",
    "plt.xlabel('FMR',fontweight='bold')\n",
    "plt.ylabel('FNMR',fontweight='bold')\n",
    "plt.title(\"DET curve of Fingerprint matcher\",fontweight='bold')\n",
    "plt.show()\n",
    "print(\"The equal error rate of finger matcher is = \",y_finger[0])\n"
   ]
  },
  {
   "cell_type": "code",
   "execution_count": null,
   "metadata": {},
   "outputs": [],
   "source": [
    "#4e)\n",
    "\n",
    "hand_maximum_value = int(max(max(hand_genuine_file_list),max(hand_impostor_file_list)))\n",
    "hand_minimum_value = int(min(min(hand_genuine_file_list),min(hand_impostor_file_list)))\n",
    "\n",
    "\n",
    "initial_value = hand_minimum_value\n",
    "\n",
    "fmr_hand_disimilariy = []\n",
    "fnmr_hand_disimilarity = []\n",
    "\n",
    "for i in range (hand_minimum_value , hand_maximum_value,5):\n",
    "    \n",
    "    initial_value += 5\n",
    "    \n",
    "    false_match_rate_hand = 0\n",
    "    false_non_match_rate_hand = 0\n",
    "    \n",
    "    for j in range (len(hand_genuine_file_list)):\n",
    "        if hand_genuine_file_list[j] > initial_value:\n",
    "            false_non_match_rate_hand+=1\n",
    "        \n",
    "\n",
    "    for count in range (len(hand_impostor_file_list)):\n",
    "        if hand_impostor_file_list[count] <= initial_value:\n",
    "            false_match_rate_hand+=1\n",
    "            \n",
    "    fmr_disimilarity=false_match_rate_hand/len(hand_impostor_file_list)\n",
    "    fnmr_disimilarity=false_non_match_rate_hand/len(hand_genuine_file_list)\n",
    "\n",
    "    fmr_hand_disimilariy.append(fmr_disimilarity)\n",
    "\n",
    "    fnmr_hand_disimilarity.append(fnmr_disimilarity)\n",
    "\n",
    "    "
   ]
  },
  {
   "cell_type": "code",
   "execution_count": null,
   "metadata": {},
   "outputs": [],
   "source": [
    "plt.plot(fmr_hand_disimilariy,fnmr_hand_disimilarity)\n",
    "plt.plot(fmr_hand_disimilariy, fmr_hand_disimilariy)\n",
    "\n",
    "\n",
    "first_line_hand = LineString(np.column_stack((fmr_hand_disimilariy,fnmr_hand_disimilarity)))\n",
    "second_line_hand = LineString(np.column_stack((fmr_hand_disimilariy,fmr_hand_disimilariy)))\n",
    "intersection_hand = first_line_hand.intersection(second_line_hand)\n",
    "x_hand, y_hand = intersection_hand.xy\n",
    "plt.plot(x_hand,y_hand,'r-o',color ='black', label = \"EER\")\n",
    "\n",
    "\n",
    "plt.legend()\n",
    "plt.xlabel('FMR',fontweight='bold')\n",
    "plt.ylabel('FNMR',fontweight='bold')\n",
    "plt.title(\"DET curve of Hand matcher\",fontweight='bold')\n",
    "plt.show()\n",
    "print(\"The equal error rate of hand matcher is = \",round(y_hand[0],3))"
   ]
  },
  {
   "cell_type": "code",
   "execution_count": null,
   "metadata": {},
   "outputs": [],
   "source": [
    "#4f)\n",
    "plt.plot(fmr_finger_similariy,fnmr_finger_similarity)\n",
    "\n",
    "\n",
    "first_line_ten_percent = LineString(np.column_stack((fmr_finger_similariy,fnmr_finger_similarity)))\n",
    "second_line_ten_percent = LineString(np.column_stack(([0.1,0.1],[0,1])))\n",
    "intersection_ten_percent = first_line_ten_percent.intersection(second_line_ten_percent)\n",
    "x_ten_percent, y_ten_percent = intersection_ten_percent.xy\n",
    "plt.plot(x_ten_percent, y_ten_percent,'r-o',color ='red', label ='FMR = 10%')\n",
    "\n",
    "first_line_five_percent = LineString(np.column_stack((fmr_finger_similariy,fnmr_finger_similarity)))\n",
    "second_line_five_percent = LineString(np.column_stack(([0.05,0.05],[0,1])))\n",
    "intersection_five_percent = first_line_five_percent.intersection(second_line_five_percent)\n",
    "x_five_percent, y_five_percent = intersection_five_percent.xy\n",
    "plt.plot(x_five_percent, y_five_percent,'r-o',color ='purple', label ='FMR = 5%')\n",
    "\n",
    "first_line_one_percent = LineString(np.column_stack((fmr_finger_similariy,fnmr_finger_similarity)))\n",
    "second_line_one_percent = LineString(np.column_stack(([0.01,0.01],[0,1])))\n",
    "intersection_one_percent = first_line_one_percent.intersection(second_line_one_percent)\n",
    "x_one_percent, y_one_percent = intersection_one_percent.xy\n",
    "plt.plot(x_one_percent, y_one_percent,'r-o',color ='brown', label ='FMR = 1%')\n",
    "\n",
    "plt.legend()\n",
    "plt.xlabel('FMR',fontweight='bold')\n",
    "plt.ylabel('FNMR',fontweight='bold')\n",
    "plt.title(\"DET curve of Fingerprint matcher\",fontweight='bold')\n",
    "plt.show()\n",
    "print(\"FNMR value of fingerprint matcher at FMR = 10% is =\", round(y_ten_percent[0],3))\n",
    "print(\"FNMR value of fingerprint matcher at FMR = 5% is =\", round(y_five_percent[0],3))\n",
    "print(\"FNMR value of fingerprint matcher at FMR = 1% is =\", round(y_one_percent[0],3))"
   ]
  },
  {
   "cell_type": "code",
   "execution_count": null,
   "metadata": {},
   "outputs": [],
   "source": [
    "#4f)\n",
    "\n",
    "plt.plot(fmr_hand_disimilariy,fnmr_hand_disimilarity)\n",
    "\n",
    "\n",
    "first_line_ten_percent = LineString(np.column_stack((fmr_hand_disimilariy,fnmr_hand_disimilarity)))\n",
    "second_line_ten_percent = LineString(np.column_stack(([0.1,0.1],[0,1])))\n",
    "intersection_ten_percent = first_line_ten_percent.intersection(second_line_ten_percent)\n",
    "x_ten_percent, y_ten_percent = intersection_ten_percent.xy\n",
    "plt.plot(x_ten_percent, y_ten_percent,'r-o',color ='red', label ='FMR = 10%')\n",
    "\n",
    "\n",
    "first_line_five_percent = LineString(np.column_stack((fmr_hand_disimilariy,fnmr_hand_disimilarity)))\n",
    "second_line_five_percent = LineString(np.column_stack(([0.05,0.05],[0,1])))\n",
    "intersection_five_percent = first_line_five_percent.intersection(second_line_five_percent)\n",
    "x_five_percent, y_five_percent = intersection_five_percent.xy\n",
    "plt.plot(x_five_percent, y_five_percent,'r-o',color ='purple', label ='FMR = 5%')\n",
    "\n",
    "\n",
    "first_line_one_percent = LineString(np.column_stack((fmr_hand_disimilariy,fnmr_hand_disimilarity)))\n",
    "second_line_one_percent = LineString(np.column_stack(([0.01,0.01],[0,1])))\n",
    "intersection_one_percent = first_line_one_percent.intersection(second_line_one_percent)\n",
    "x_one_percent, y_one_percent = intersection_one_percent.xy\n",
    "plt.plot(x_one_percent, y_one_percent,'r-o',color ='brown', label ='FMR = 1%')\n",
    "\n",
    "\n",
    "plt.legend()\n",
    "plt.xlabel('FMR',fontweight='bold')\n",
    "plt.ylabel('FNMR',fontweight='bold')\n",
    "plt.title(\"DET curve of Hand matcher\",fontweight='bold')\n",
    "plt.show()\n",
    "\n",
    "print(\"FNMR value of hand matcher at FMR = 10% is =\", round(y_ten_percent[0],3))\n",
    "print(\"FNMR value of hand matcher at FMR = 5% is =\", round(y_five_percent[0],3))\n",
    "print(\"FNMR value of hand matcher at FMR = 1% is =\", round(y_one_percent[0],3))\n",
    "\n"
   ]
  }
 ],
 "metadata": {
  "kernelspec": {
   "display_name": "Python 3",
   "language": "python",
   "name": "python3"
  },
  "language_info": {
   "codemirror_mode": {
    "name": "ipython",
    "version": 3
   },
   "file_extension": ".py",
   "mimetype": "text/x-python",
   "name": "python",
   "nbconvert_exporter": "python",
   "pygments_lexer": "ipython3",
   "version": "3.7.4"
  }
 },
 "nbformat": 4,
 "nbformat_minor": 2
}
