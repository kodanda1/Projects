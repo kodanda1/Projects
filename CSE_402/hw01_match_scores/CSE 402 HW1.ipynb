{
 "cells": [
  {
   "cell_type": "code",
   "execution_count": 7,
   "metadata": {},
   "outputs": [
    {
     "name": "stdout",
     "output_type": "stream",
     "text": [
      "450\n",
      "450\n",
      "450\n",
      "450\n"
     ]
    }
   ],
   "source": [
    "finger_genuine_file = open(\"finger_genuine.score\")\n",
    "finger_impostor_file = open(\"finger_impostor.score\")\n",
    "hand_genuine_file = open(\"hand_genuine.score\")\n",
    "hand_impostor_file = open(\"hand_impostor.score\")\n",
    "\n",
    "finger_genuine_file_list = finger_genuine_file.readlines()\n",
    "finger_impostor_file_list = finger_impostor_file.readlines()\n",
    "hand_genuine_file_list = hand_genuine_file.readlines()\n",
    "hand_impostor_file_list = hand_impostor_file.readlines()\n",
    "\n",
    "for values in range(len(finger_genuine_file_list)):\n",
    "    finger_genuine_file_list[values] = (float(finger_genuine_file_list[values]))\n",
    "    \n",
    "for values in range(len(finger_impostor_file_list)):\n",
    "    finger_impostor_file_list[values] = (float(finger_impostor_file_list[values]))\n",
    "    \n",
    "for values in range(len(hand_genuine_file_list)):\n",
    "    hand_genuine_file_list[values] = (float(hand_genuine_file_list[values]))\n",
    "    \n",
    "\n",
    "for values in range(len(hand_impostor_file_list)):\n",
    "    hand_impostor_file_list[values] = (float(hand_impostor_file_list[values]))\n",
    "\n",
    "print(len(finger_genuine_file_list))\n",
    "print(len(finger_impostor_file_list))\n",
    "print(len(hand_genuine_file_list))\n",
    "print(len(hand_impostor_file_list))\n"
   ]
  },
  {
   "cell_type": "code",
   "execution_count": 8,
   "metadata": {},
   "outputs": [
    {
     "name": "stdout",
     "output_type": "stream",
     "text": [
      "(966.0, 73.0)\n",
      "(0.0, 1.0)\n",
      "(266.0, 626.0)\n",
      "(0.0, 44.0)\n"
     ]
    }
   ],
   "source": [
    "finger_maximum_value = max(finger_genuine_file_list),max(finger_impostor_file_list)\n",
    "finger_minimum_value = min(finger_genuine_file_list),min(finger_impostor_file_list)\n",
    "\n",
    "hand_maximum_value = max(hand_genuine_file_list),max(hand_impostor_file_list)\n",
    "hand_minimum_value = min(hand_genuine_file_list),min(hand_impostor_file_list)\n",
    "\n",
    "print(finger_maximum_value)\n",
    "print(finger_minimum_value)\n",
    "\n",
    "print(hand_maximum_value)\n",
    "print(hand_minimum_value)"
   ]
  },
  {
   "cell_type": "code",
   "execution_count": 9,
   "metadata": {},
   "outputs": [
    {
     "name": "stdout",
     "output_type": "stream",
     "text": [
      "False Match Rate Similarity =  1.33 %\n",
      "False Match Rate Dissimilarity =  0.67 %\n"
     ]
    }
   ],
   "source": [
    "threshold = 45\n",
    "false_match_rate_finger = 0\n",
    "\n",
    "for count in range(len(finger_impostor_file_list)): \n",
    "    if finger_impostor_file_list[count] >= threshold:\n",
    "        false_match_rate_finger+=1\n",
    "\n",
    "false_match_rate_hand = 0\n",
    "for count in range (len(hand_impostor_file_list)):\n",
    "    if hand_impostor_file_list[count] <= threshold:\n",
    "        false_match_rate_hand+=1\n",
    "        \n",
    "fmr_similarity=false_match_rate_finger/len(finger_impostor_file_list)\n",
    "fmr_disimilarity=false_match_rate_hand/len(hand_impostor_file_list)\n",
    "\n",
    "print(\"False Match Rate Similarity = \",round(fmr_similarity*100,2),\"%\")\n",
    "print(\"False Match Rate Dissimilarity = \",round(fmr_disimilarity*100,2),\"%\")"
   ]
  },
  {
   "cell_type": "code",
   "execution_count": 10,
   "metadata": {},
   "outputs": [
    {
     "name": "stdout",
     "output_type": "stream",
     "text": [
      "False Non-Match Rate Similarity =  10.44 %\n",
      "False Non-Match Rate Dissimilarity =  43.56 %\n"
     ]
    }
   ],
   "source": [
    "threshold = 45\n",
    "false_non_match_rate_finger = 0\n",
    "false_non_match_rate_hand = 0\n",
    "\n",
    "for i in range(len(finger_genuine_file_list)): \n",
    "    if finger_genuine_file_list[i] < threshold:\n",
    "        false_non_match_rate_finger+=1\n",
    "\n",
    "\n",
    "for j in range (len(hand_genuine_file_list)):\n",
    "    if hand_genuine_file_list[j] > threshold:\n",
    "        false_non_match_rate_hand+=1\n",
    "             \n",
    "fnmr_similarity=false_non_match_rate_finger/len(finger_genuine_file_list)\n",
    "fnmr_disimilarity=false_non_match_rate_hand/len(hand_genuine_file_list)\n",
    "\n",
    "print(\"False Non-Match Rate Similarity = \",round(fnmr_similarity*100,2),\"%\")\n",
    "print(\"False Non-Match Rate Dissimilarity = \",round(fnmr_disimilarity*100,2),\"%\")"
   ]
  }
 ],
 "metadata": {
  "kernelspec": {
   "display_name": "Python 3",
   "language": "python",
   "name": "python3"
  },
  "language_info": {
   "codemirror_mode": {
    "name": "ipython",
    "version": 3
   },
   "file_extension": ".py",
   "mimetype": "text/x-python",
   "name": "python",
   "nbconvert_exporter": "python",
   "pygments_lexer": "ipython3",
   "version": "3.7.4"
  }
 },
 "nbformat": 4,
 "nbformat_minor": 2
}
