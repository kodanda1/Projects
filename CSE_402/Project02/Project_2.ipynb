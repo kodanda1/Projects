{
 "cells": [
  {
   "cell_type": "code",
   "execution_count": 1,
   "metadata": {},
   "outputs": [],
   "source": [
    "import numpy as np\n",
    "import sympy as sym\n",
    "import math\n",
    "from PIL import Image\n",
    "from matplotlib import pyplot as plt\n",
    "from scipy import signal"
   ]
  },
  {
   "cell_type": "code",
   "execution_count": 3,
   "metadata": {},
   "outputs": [
    {
     "name": "stdout",
     "output_type": "stream",
     "text": [
      "0.0\n",
      "Non-singularity\n"
     ]
    }
   ],
   "source": [
    "#1a)\n",
    "\n",
    "a = np.matrix([[10,15,-10], [12,0,15],[13,12,-5]])\n",
    "sym.Matrix(a)\n",
    "\n",
    "a_0 = a[1,2]\n",
    "a_1 = a[0,2]\n",
    "a_2 = a[0,1]\n",
    "a_3 = a[0,0]\n",
    "a_4 = a[1,0]\n",
    "a_5 = a[2,0]\n",
    "a_6 = a[2,1]\n",
    "a_7 = a[2,2]\n",
    "\n",
    "result = [a_0,a_1,a_2,a_3,a_4,a_5,a_6,a_7]\n",
    "\n",
    "sum_list = []\n",
    "\n",
    "i=0\n",
    "while i < len(result):\n",
    "    \n",
    "    theta_value = result[((i+1)%8)]-result[i]\n",
    "    \n",
    "    if theta_value > 90:\n",
    "        delta_theta = theta_value - 180\n",
    "        \n",
    "    elif -90<=theta_value <= 90:\n",
    "        delta_theta = theta_value \n",
    "        \n",
    "    if theta_value < -90:\n",
    "        delta_theta = theta_value + 180\n",
    "    \n",
    "    sum_list.append(delta_theta)\n",
    "    \n",
    "    i +=1\n",
    "    \n",
    "value = sum(sum_list)\n",
    "    \n",
    "poincare = value/180\n",
    "\n",
    "if poincare == 0:\n",
    "    \n",
    "    print(poincare)\n",
    "    print(\"Non-singularity\")\n",
    "\n",
    "elif poincare == 1:\n",
    "    \n",
    "    print(poincare)\n",
    "    print(\"Loop\")\n",
    "    \n",
    "elif poincare == -1:\n",
    "    \n",
    "    print(poincare)\n",
    "    print(\"Delta\")\n",
    "    \n",
    "elif poincare == 2:\n",
    "    \n",
    "    print(poincare)\n",
    "    print(\"Whorl\")"
   ]
  },
  {
   "cell_type": "code",
   "execution_count": 4,
   "metadata": {},
   "outputs": [
    {
     "name": "stdout",
     "output_type": "stream",
     "text": [
      "-1.0\n",
      "Delta\n"
     ]
    }
   ],
   "source": [
    "#1b)\n",
    "\n",
    "a = np.matrix([[45,90,-50], [50,0,-45],[5,0,-5]])\n",
    "sym.Matrix(a)\n",
    "\n",
    "a_0 = a[1,2]\n",
    "a_1 = a[0,2]\n",
    "a_2 = a[0,1]\n",
    "a_3 = a[0,0]\n",
    "a_4 = a[1,0]\n",
    "a_5 = a[2,0]\n",
    "a_6 = a[2,1]\n",
    "a_7 = a[2,2]\n",
    "\n",
    "result = [a_0,a_1,a_2,a_3,a_4,a_5,a_6,a_7]\n",
    "\n",
    "sum_list = []\n",
    "\n",
    "i=0\n",
    "while i < len(result):\n",
    "    \n",
    "    theta_value = result[((i+1)%8)]-result[i]\n",
    "    \n",
    "    if theta_value > 90:\n",
    "        delta_theta = theta_value - 180\n",
    "        \n",
    "    elif -90<=theta_value <= 90:\n",
    "        delta_theta = theta_value \n",
    "        \n",
    "    if theta_value < -90:\n",
    "        delta_theta = theta_value + 180\n",
    "    \n",
    "    sum_list.append(delta_theta)\n",
    "    \n",
    "    i +=1\n",
    "    \n",
    "value = sum(sum_list)\n",
    "    \n",
    "poincare = value/180\n",
    "\n",
    "if poincare == 0:\n",
    "    \n",
    "    print(poincare)\n",
    "    print(\"Non-singularity\")\n",
    "\n",
    "elif poincare == 1:\n",
    "    \n",
    "    print(poincare)\n",
    "    print(\"Loop\")\n",
    "    \n",
    "elif poincare == -1:\n",
    "    \n",
    "    print(poincare)\n",
    "    print(\"Delta\")\n",
    "    \n",
    "elif poincare == 2:\n",
    "    \n",
    "    print(poincare)\n",
    "    print(\"Whorl\")\n",
    "    \n",
    "    "
   ]
  },
  {
   "cell_type": "code",
   "execution_count": 5,
   "metadata": {},
   "outputs": [
    {
     "name": "stdout",
     "output_type": "stream",
     "text": [
      "1.0\n",
      "Loop\n"
     ]
    }
   ],
   "source": [
    "#1c)\n",
    "\n",
    "a = np.matrix([[50,0,-50], [75,0,-70],[85,90,-85]])\n",
    "sym.Matrix(a)\n",
    "\n",
    "a_0 = a[1,2]\n",
    "a_1 = a[0,2]\n",
    "a_2 = a[0,1]\n",
    "a_3 = a[0,0]\n",
    "a_4 = a[1,0]\n",
    "a_5 = a[2,0]\n",
    "a_6 = a[2,1]\n",
    "a_7 = a[2,2]\n",
    "\n",
    "result = [a_0,a_1,a_2,a_3,a_4,a_5,a_6,a_7]\n",
    "\n",
    "sum_list = []\n",
    "\n",
    "i=0\n",
    "while i < len(result):\n",
    "    \n",
    "    theta_value = result[((i+1)%8)]-result[i]\n",
    "    \n",
    "    if theta_value > 90:\n",
    "        delta_theta = theta_value - 180\n",
    "        \n",
    "    elif -90<=theta_value <= 90:\n",
    "        delta_theta = theta_value \n",
    "        \n",
    "    if theta_value < -90:\n",
    "        delta_theta = theta_value + 180\n",
    "    \n",
    "    sum_list.append(delta_theta)\n",
    "    \n",
    "    i +=1\n",
    "    \n",
    "value = sum(sum_list)\n",
    "    \n",
    "poincare = value/180\n",
    "\n",
    "if poincare == 0:\n",
    "    \n",
    "    print(poincare)\n",
    "    print(\"Non-singularity\")\n",
    "\n",
    "elif poincare == 1:\n",
    "    \n",
    "    print(poincare)\n",
    "    print(\"Loop\")\n",
    "    \n",
    "elif poincare == -1:\n",
    "    \n",
    "    print(poincare)\n",
    "    print(\"Delta\")\n",
    "    \n",
    "elif poincare == 2:\n",
    "    \n",
    "    print(poincare)\n",
    "    print(\"Whorl\")\n",
    "    \n",
    "    "
   ]
  },
  {
   "cell_type": "code",
   "execution_count": 5,
   "metadata": {},
   "outputs": [
    {
     "name": "stdout",
     "output_type": "stream",
     "text": [
      "2.0\n",
      "Whorl\n"
     ]
    }
   ],
   "source": [
    "#1d)\n",
    "\n",
    "a = np.matrix([[45,2,-50], [90,0,90],[-50,2,50]])\n",
    "sym.Matrix(a)\n",
    "\n",
    "a_0 = a[1,2]\n",
    "a_1 = a[0,2]\n",
    "a_2 = a[0,1]\n",
    "a_3 = a[0,0]\n",
    "a_4 = a[1,0]\n",
    "a_5 = a[2,0]\n",
    "a_6 = a[2,1]\n",
    "a_7 = a[2,2]\n",
    "\n",
    "result = [a_0,a_1,a_2,a_3,a_4,a_5,a_6,a_7]\n",
    "\n",
    "sum_list = []\n",
    "\n",
    "i=0\n",
    "while i < len(result):\n",
    "    \n",
    "    theta_value = result[((i+1)%8)]-result[i]\n",
    "    \n",
    "    if theta_value > 90:\n",
    "        delta_theta = theta_value - 180\n",
    "        \n",
    "    elif -90<=theta_value <= 90:\n",
    "        delta_theta = theta_value \n",
    "        \n",
    "    if theta_value < -90:\n",
    "        delta_theta = theta_value + 180\n",
    "    \n",
    "    sum_list.append(delta_theta)\n",
    "    \n",
    "    i +=1\n",
    "    \n",
    "value = sum(sum_list)\n",
    "    \n",
    "poincare = value/180\n",
    "\n",
    "if poincare == 0:\n",
    "    \n",
    "    print(poincare)\n",
    "    print(\"Non-singularity\")\n",
    "\n",
    "elif poincare == 1:\n",
    "    \n",
    "    print(poincare)\n",
    "    print(\"Loop\")\n",
    "    \n",
    "elif poincare == -1:\n",
    "    \n",
    "    print(poincare)\n",
    "    print(\"Delta\")\n",
    "    \n",
    "elif poincare == 2:\n",
    "    \n",
    "    print(poincare)\n",
    "    print(\"Whorl\")\n",
    "    \n",
    "    "
   ]
  },
  {
   "cell_type": "code",
   "execution_count": 45,
   "metadata": {},
   "outputs": [],
   "source": [
    "#2a)\n",
    "def cosine_wave(A,f_0,theta):\n",
    "\n",
    "    img_array =[]\n",
    "    x= 0\n",
    "    while x < 600:\n",
    "        y = 0\n",
    "        rows = []\n",
    "        while y < 600:\n",
    "            \n",
    "            theta_value = math.radians(theta)\n",
    "\n",
    "            w = (A*np.cos(2*math.pi*f_0* (x*np.cos(theta_value)+y*np.sin(theta_value))))\n",
    "\n",
    "            rows.append(w)\n",
    "            y+=1\n",
    "        img_array.append(rows)\n",
    "        x+=1\n",
    "    plt.subplot(1, 2, 2)\n",
    "    plt.imshow(img_array,cmap=\"gray\")\n",
    "    plt.show()"
   ]
  },
  {
   "cell_type": "code",
   "execution_count": 46,
   "metadata": {},
   "outputs": [
    {
     "data": {
      "image/png": "[encoded data removed]",
      "text/plain": [
       "<Figure size 432x288 with 1 Axes>"
      ]
     },
     "metadata": {
      "needs_background": "light"
     },
     "output_type": "display_data"
    },
    {
     "data": {
      "image/png": "[encoded data removed]",
      "text/plain": [
       "<Figure size 432x288 with 1 Axes>"
      ]
     },
     "metadata": {
      "needs_background": "light"
     },
     "output_type": "display_data"
    },
    {
     "data": {
      "image/png": "[encoded data removed]",
      "text/plain": [
       "<Figure size 432x288 with 1 Axes>"
      ]
     },
     "metadata": {
      "needs_background": "light"
     },
     "output_type": "display_data"
    },
    {
     "data": {
      "image/png": "[encoded data removed]",
      "text/plain": [
       "<Figure size 432x288 with 1 Axes>"
      ]
     },
     "metadata": {
      "needs_background": "light"
     },
     "output_type": "display_data"
    }
   ],
   "source": [
    "theta_value = [0,45,90,135]\n",
    "for i in theta_value:\n",
    "    cosine_wave(80,0.01,i)"
   ]
  },
  {
   "cell_type": "code",
   "execution_count": 47,
   "metadata": {},
   "outputs": [
    {
     "data": {
      "image/png": "[encoded data removed]",
      "text/plain": [
       "<Figure size 432x288 with 1 Axes>"
      ]
     },
     "metadata": {
      "needs_background": "light"
     },
     "output_type": "display_data"
    },
    {
     "data": {
      "image/png": "[encoded data removed]",
      "text/plain": [
       "<Figure size 432x288 with 1 Axes>"
      ]
     },
     "metadata": {
      "needs_background": "light"
     },
     "output_type": "display_data"
    },
    {
     "data": {
      "image/png": "[encoded data removed]",
      "text/plain": [
       "<Figure size 432x288 with 1 Axes>"
      ]
     },
     "metadata": {
      "needs_background": "light"
     },
     "output_type": "display_data"
    },
    {
     "data": {
      "image/png": "[encoded data removed]",
      "text/plain": [
       "<Figure size 432x288 with 1 Axes>"
      ]
     },
     "metadata": {
      "needs_background": "light"
     },
     "output_type": "display_data"
    }
   ],
   "source": [
    "#2b)\n",
    "theta_value = [0,45,90,135]\n",
    "for i in theta_value:\n",
    "    cosine_wave(160,0.01,i)"
   ]
  },
  {
   "cell_type": "code",
   "execution_count": 66,
   "metadata": {},
   "outputs": [
    {
     "data": {
      "image/png": "[encoded data removed]",
      "text/plain": [
       "<Figure size 432x288 with 1 Axes>"
      ]
     },
     "metadata": {
      "needs_background": "light"
     },
     "output_type": "display_data"
    },
    {
     "data": {
      "image/png": "[encoded data removed]",
      "text/plain": [
       "<Figure size 432x288 with 1 Axes>"
      ]
     },
     "metadata": {
      "needs_background": "light"
     },
     "output_type": "display_data"
    },
    {
     "data": {
      "image/png": "[encoded data removed]",
      "text/plain": [
       "<Figure size 432x288 with 1 Axes>"
      ]
     },
     "metadata": {
      "needs_background": "light"
     },
     "output_type": "display_data"
    },
    {
     "data": {
      "image/png": "[encoded data removed]",
      "text/plain": [
       "<Figure size 432x288 with 1 Axes>"
      ]
     },
     "metadata": {
      "needs_background": "light"
     },
     "output_type": "display_data"
    }
   ],
   "source": [
    "#2c)\n",
    "theta_value = [0,45,90,135]\n",
    "for i in theta_value:\n",
    "    cosine_wave(80,1,i)"
   ]
  },
  {
   "cell_type": "code",
   "execution_count": 64,
   "metadata": {
    "scrolled": true
   },
   "outputs": [
    {
     "data": {
      "image/png": "[encoded data removed]",
      "text/plain": [
       "<Figure size 432x288 with 1 Axes>"
      ]
     },
     "metadata": {
      "needs_background": "light"
     },
     "output_type": "display_data"
    },
    {
     "data": {
      "image/png": "[encoded data removed]",
      "text/plain": [
       "<Figure size 432x288 with 1 Axes>"
      ]
     },
     "metadata": {
      "needs_background": "light"
     },
     "output_type": "display_data"
    },
    {
     "data": {
      "image/png": "[encoded data removed]",
      "text/plain": [
       "<Figure size 432x288 with 1 Axes>"
      ]
     },
     "metadata": {
      "needs_background": "light"
     },
     "output_type": "display_data"
    },
    {
     "data": {
      "image/png": "[encoded data removed]",
      "text/plain": [
       "<Figure size 432x288 with 1 Axes>"
      ]
     },
     "metadata": {
      "needs_background": "light"
     },
     "output_type": "display_data"
    }
   ],
   "source": [
    "#2d)\n",
    "theta_value = [0,45,90,135]\n",
    "for i in theta_value:\n",
    "    cosine_wave(80,10,i)"
   ]
  },
  {
   "cell_type": "code",
   "execution_count": 62,
   "metadata": {},
   "outputs": [],
   "source": [
    "img = Image.open(\"user001_1.gif\")\n",
    "img_array = np.array(img)\n",
    "img_shape = img_array.shape\n",
    "\n",
    "S_x = np.matrix([[-1,-2,-1],[0,0,0],[1,2,1]])\n",
    "S_y = np.matrix([[-1,0,1],[-2,0,2],[-1,0,1]])\n",
    "\n",
    "G_x = signal.convolve(img,S_x)\n",
    "G_y = signal.convolve(img,S_y)\n",
    "\n",
    "convolve = np.zeros((G_x.shape[0],G_x.shape[1]))\n",
    "\n",
    "\n",
    "for x in range (4,img_shape[0]-4):\n",
    "\n",
    "\n",
    "\n",
    "    for y in range (4,img_shape[0]-4):\n",
    "        \n",
    "        numerator = 0\n",
    "        denominator = 0\n",
    "        \n",
    "        for i in range(-4,5):\n",
    "            for j in range(-4,5):\n",
    "                num = 2*(G_x[x+i][y+j]) * (G_y[x+i][y+j])\n",
    "                #print(numerator)\n",
    "                numerator += num\n",
    "                \n",
    "                den = (G_x[x+i][y+j])**2 - (G_y[x+i][y+j])**2\n",
    "                denominator += den\n",
    "                #print(denominator)\n",
    "                \n",
    "        convolve[x][y] = (0.5)*(math.atan2(numerator,denominator))+(np.pi/2)\n",
    "\n",
    "temp = \"image1.mat\"\n",
    "np.savetxt(temp,convolve)"
   ]
  },
  {
   "cell_type": "code",
   "execution_count": 51,
   "metadata": {},
   "outputs": [],
   "source": [
    "img = Image.open(\"user002_1.gif\")\n",
    "img_array = np.array(img)\n",
    "img_shape = img_array.shape\n",
    "\n",
    "S_x = np.matrix([[-1,-2,-1],[0,0,0],[1,2,1]])\n",
    "S_y = np.matrix([[-1,0,1],[-2,0,2],[-1,0,1]])\n",
    "\n",
    "G_x = signal.convolve(img,S_x)\n",
    "G_y = signal.convolve(img,S_y)\n",
    "\n",
    "convolve = np.zeros((G_x.shape[0],G_x.shape[1]))\n",
    "\n",
    "\n",
    "for x in range (4,img_shape[0]-4):\n",
    "\n",
    "\n",
    "\n",
    "    for y in range (4,img_shape[0]-4):\n",
    "        \n",
    "        numerator = 0\n",
    "        denominator = 0\n",
    "        \n",
    "        for i in range(-4,5):\n",
    "            for j in range(-4,5):\n",
    "                num = 2*(G_x[x+i][y+j]) * (G_y[x+i][y+j])\n",
    "                #print(numerator)\n",
    "                numerator += num\n",
    "                \n",
    "                den = (G_x[x+i][y+j])**2 - (G_y[x+i][y+j])**2\n",
    "                denominator += den\n",
    "                #print(denominator)\n",
    "                \n",
    "        convolve[x][y] = (0.5)*(math.atan2(numerator,denominator))+(np.pi/2)\n",
    "\n",
    "temp = \"image2.mat\"\n",
    "np.savetxt(temp,convolve)"
   ]
  },
  {
   "cell_type": "code",
   "execution_count": 52,
   "metadata": {},
   "outputs": [],
   "source": [
    "img = Image.open(\"user003_1.gif\")\n",
    "img_array = np.array(img)\n",
    "img_shape = img_array.shape\n",
    "\n",
    "S_x = np.matrix([[-1,-2,-1],[0,0,0],[1,2,1]])\n",
    "S_y = np.matrix([[-1,0,1],[-2,0,2],[-1,0,1]])\n",
    "\n",
    "G_x = signal.convolve(img,S_x)\n",
    "G_y = signal.convolve(img,S_y)\n",
    "\n",
    "convolve = np.zeros((G_x.shape[0],G_x.shape[1]))\n",
    "\n",
    "\n",
    "for x in range (4,img_shape[0]-4):\n",
    "\n",
    "\n",
    "\n",
    "    for y in range (4,img_shape[0]-4):\n",
    "        \n",
    "        numerator = 0\n",
    "        denominator = 0\n",
    "        \n",
    "        for i in range(-4,5):\n",
    "            for j in range(-4,5):\n",
    "                num = 2*(G_x[x+i][y+j]) * (G_y[x+i][y+j])\n",
    "                #print(numerator)\n",
    "                numerator += num\n",
    "                \n",
    "                den = (G_x[x+i][y+j])**2 - (G_y[x+i][y+j])**2\n",
    "                denominator += den\n",
    "                #print(denominator)\n",
    "                \n",
    "        convolve[x][y] = (0.5)*(math.atan2(numerator,denominator))+(np.pi/2)\n",
    "\n",
    "temp = \"image3.mat\"\n",
    "np.savetxt(temp,convolve)"
   ]
  },
  {
   "cell_type": "code",
   "execution_count": 53,
   "metadata": {},
   "outputs": [],
   "source": [
    "img = Image.open(\"user004_1.gif\")\n",
    "img_array = np.array(img)\n",
    "img_shape = img_array.shape\n",
    "\n",
    "S_x = np.matrix([[-1,-2,-1],[0,0,0],[1,2,1]])\n",
    "S_y = np.matrix([[-1,0,1],[-2,0,2],[-1,0,1]])\n",
    "\n",
    "G_x = signal.convolve(img,S_x)\n",
    "G_y = signal.convolve(img,S_y)\n",
    "\n",
    "convolve = np.zeros((G_x.shape[0],G_x.shape[1]))\n",
    "\n",
    "\n",
    "for x in range (4,img_shape[0]-4):\n",
    "\n",
    "\n",
    "\n",
    "    for y in range (4,img_shape[0]-4):\n",
    "        \n",
    "        numerator = 0\n",
    "        denominator = 0\n",
    "        \n",
    "        for i in range(-4,5):\n",
    "            for j in range(-4,5):\n",
    "                num = 2*(G_x[x+i][y+j]) * (G_y[x+i][y+j])\n",
    "                #print(numerator)\n",
    "                numerator += num\n",
    "                \n",
    "                den = (G_x[x+i][y+j])**2 - (G_y[x+i][y+j])**2\n",
    "                denominator += den\n",
    "                #print(denominator)\n",
    "                \n",
    "        convolve[x][y] = (0.5)*(math.atan2(numerator,denominator))+(np.pi/2)\n",
    "\n",
    "temp = \"image4.mat\"\n",
    "np.savetxt(temp,convolve)"
   ]
  },
  {
   "cell_type": "code",
   "execution_count": 54,
   "metadata": {},
   "outputs": [],
   "source": [
    "img = Image.open(\"user005_1.gif\")\n",
    "img_array = np.array(img)\n",
    "img_shape = img_array.shape\n",
    "\n",
    "S_x = np.matrix([[-1,-2,-1],[0,0,0],[1,2,1]])\n",
    "S_y = np.matrix([[-1,0,1],[-2,0,2],[-1,0,1]])\n",
    "\n",
    "G_x = signal.convolve(img,S_x)\n",
    "G_y = signal.convolve(img,S_y)\n",
    "\n",
    "convolve = np.zeros((G_x.shape[0],G_x.shape[1]))\n",
    "\n",
    "\n",
    "for x in range (4,img_shape[0]-4):\n",
    "\n",
    "\n",
    "\n",
    "    for y in range (4,img_shape[0]-4):\n",
    "        \n",
    "        numerator = 0\n",
    "        denominator = 0\n",
    "        \n",
    "        for i in range(-4,5):\n",
    "            for j in range(-4,5):\n",
    "                num = 2*(G_x[x+i][y+j]) * (G_y[x+i][y+j])\n",
    "                #print(numerator)\n",
    "                numerator += num\n",
    "                \n",
    "                den = (G_x[x+i][y+j])**2 - (G_y[x+i][y+j])**2\n",
    "                denominator += den\n",
    "                #print(denominator)\n",
    "                \n",
    "        convolve[x][y] = (0.5)*(math.atan2(numerator,denominator))+(np.pi/2)\n",
    "\n",
    "temp = \"image5.mat\"\n",
    "np.savetxt(temp,convolve)"
   ]
  },
  {
   "cell_type": "code",
   "execution_count": 55,
   "metadata": {},
   "outputs": [],
   "source": [
    "img = Image.open(\"user006_1.gif\")\n",
    "img_array = np.array(img)\n",
    "img_shape = img_array.shape\n",
    "\n",
    "S_x = np.matrix([[-1,-2,-1],[0,0,0],[1,2,1]])\n",
    "S_y = np.matrix([[-1,0,1],[-2,0,2],[-1,0,1]])\n",
    "\n",
    "G_x = signal.convolve(img,S_x)\n",
    "G_y = signal.convolve(img,S_y)\n",
    "\n",
    "convolve = np.zeros((G_x.shape[0],G_x.shape[1]))\n",
    "\n",
    "\n",
    "for x in range (4,img_shape[0]-4):\n",
    "\n",
    "\n",
    "\n",
    "    for y in range (4,img_shape[0]-4):\n",
    "        \n",
    "        numerator = 0\n",
    "        denominator = 0\n",
    "        \n",
    "        for i in range(-4,5):\n",
    "            for j in range(-4,5):\n",
    "                num = 2*(G_x[x+i][y+j]) * (G_y[x+i][y+j])\n",
    "                #print(numerator)\n",
    "                numerator += num\n",
    "                \n",
    "                den = (G_x[x+i][y+j])**2 - (G_y[x+i][y+j])**2\n",
    "                denominator += den\n",
    "                #print(denominator)\n",
    "                \n",
    "        convolve[x][y] = (0.5)*(math.atan2(numerator,denominator))+(np.pi/2)\n",
    "\n",
    "temp = \"image6.mat\"\n",
    "np.savetxt(temp,convolve)"
   ]
  },
  {
   "cell_type": "code",
   "execution_count": 56,
   "metadata": {},
   "outputs": [],
   "source": [
    "img = Image.open(\"user007_1.gif\")\n",
    "img_array = np.array(img)\n",
    "img_shape = img_array.shape\n",
    "\n",
    "S_x = np.matrix([[-1,-2,-1],[0,0,0],[1,2,1]])\n",
    "S_y = np.matrix([[-1,0,1],[-2,0,2],[-1,0,1]])\n",
    "\n",
    "G_x = signal.convolve(img,S_x)\n",
    "G_y = signal.convolve(img,S_y)\n",
    "\n",
    "convolve = np.zeros((G_x.shape[0],G_x.shape[1]))\n",
    "\n",
    "\n",
    "for x in range (4,img_shape[0]-4):\n",
    "\n",
    "\n",
    "\n",
    "    for y in range (4,img_shape[0]-4):\n",
    "        \n",
    "        numerator = 0\n",
    "        denominator = 0\n",
    "        \n",
    "        for i in range(-4,5):\n",
    "            for j in range(-4,5):\n",
    "                num = 2*(G_x[x+i][y+j]) * (G_y[x+i][y+j])\n",
    "                #print(numerator)\n",
    "                numerator += num\n",
    "                \n",
    "                den = (G_x[x+i][y+j])**2 - (G_y[x+i][y+j])**2\n",
    "                denominator += den\n",
    "                #print(denominator)\n",
    "                \n",
    "        convolve[x][y] = (0.5)*(math.atan2(numerator,denominator))+(np.pi/2)\n",
    "\n",
    "temp = \"image7.mat\"\n",
    "np.savetxt(temp,convolve)"
   ]
  },
  {
   "cell_type": "code",
   "execution_count": 57,
   "metadata": {},
   "outputs": [],
   "source": [
    "img = Image.open(\"user008_1.gif\")\n",
    "img_array = np.array(img)\n",
    "img_shape = img_array.shape\n",
    "\n",
    "S_x = np.matrix([[-1,-2,-1],[0,0,0],[1,2,1]])\n",
    "S_y = np.matrix([[-1,0,1],[-2,0,2],[-1,0,1]])\n",
    "\n",
    "G_x = signal.convolve(img,S_x)\n",
    "G_y = signal.convolve(img,S_y)\n",
    "\n",
    "convolve = np.zeros((G_x.shape[0],G_x.shape[1]))\n",
    "\n",
    "\n",
    "for x in range (4,img_shape[0]-4):\n",
    "\n",
    "\n",
    "\n",
    "    for y in range (4,img_shape[0]-4):\n",
    "        \n",
    "        numerator = 0\n",
    "        denominator = 0\n",
    "        \n",
    "        for i in range(-4,5):\n",
    "            for j in range(-4,5):\n",
    "                num = 2*(G_x[x+i][y+j]) * (G_y[x+i][y+j])\n",
    "                #print(numerator)\n",
    "                numerator += num\n",
    "                \n",
    "                den = (G_x[x+i][y+j])**2 - (G_y[x+i][y+j])**2\n",
    "                denominator += den\n",
    "                #print(denominator)\n",
    "                \n",
    "        convolve[x][y] = (0.5)*(math.atan2(numerator,denominator))+(np.pi/2)\n",
    "\n",
    "temp = \"image8.mat\"\n",
    "np.savetxt(temp,convolve)"
   ]
  },
  {
   "cell_type": "code",
   "execution_count": 59,
   "metadata": {},
   "outputs": [],
   "source": [
    "img = Image.open(\"user009_1.gif\")\n",
    "img_array = np.array(img)\n",
    "img_shape = img_array.shape\n",
    "\n",
    "S_x = np.matrix([[-1,-2,-1],[0,0,0],[1,2,1]])\n",
    "S_y = np.matrix([[-1,0,1],[-2,0,2],[-1,0,1]])\n",
    "\n",
    "G_x = signal.convolve(img,S_x)\n",
    "G_y = signal.convolve(img,S_y)\n",
    "\n",
    "convolve = np.zeros((G_x.shape[0],G_x.shape[1]))\n",
    "\n",
    "\n",
    "for x in range (4,img_shape[0]-4):\n",
    "\n",
    "\n",
    "\n",
    "    for y in range (4,img_shape[0]-4):\n",
    "        \n",
    "        numerator = 0\n",
    "        denominator = 0\n",
    "        \n",
    "        for i in range(-4,5):\n",
    "            for j in range(-4,5):\n",
    "                num = 2*(G_x[x+i][y+j]) * (G_y[x+i][y+j])\n",
    "                #print(numerator)\n",
    "                numerator += num\n",
    "                \n",
    "                den = (G_x[x+i][y+j])**2 - (G_y[x+i][y+j])**2\n",
    "                denominator += den\n",
    "                #print(denominator)\n",
    "                \n",
    "        convolve[x][y] = (0.5)*(math.atan2(numerator,denominator))+(np.pi/2)\n",
    "\n",
    "temp = \"image9.mat\"\n",
    "np.savetxt(temp,convolve)"
   ]
  },
  {
   "cell_type": "code",
   "execution_count": 60,
   "metadata": {},
   "outputs": [],
   "source": [
    "img = Image.open(\"user010_1.gif\")\n",
    "img_array = np.array(img)\n",
    "img_shape = img_array.shape\n",
    "\n",
    "S_x = np.matrix([[-1,-2,-1],[0,0,0],[1,2,1]])\n",
    "S_y = np.matrix([[-1,0,1],[-2,0,2],[-1,0,1]])\n",
    "\n",
    "G_x = signal.convolve(img,S_x)\n",
    "G_y = signal.convolve(img,S_y)\n",
    "\n",
    "convolve = np.zeros((img_shape[0],img_shape[1]))\n",
    "\n",
    "\n",
    "\n",
    "for x in range (4,img_shape[0]-4):\n",
    "\n",
    "\n",
    "\n",
    "    for y in range (4,img_shape[0]-4):\n",
    "        \n",
    "        numerator = 0\n",
    "        denominator = 0\n",
    "\n",
    "        for i in range(-4,5):\n",
    "            for j in range(-4,5):\n",
    "                num = 2*(G_x[x+i][y+j]) * (G_y[x+i][y+j])\n",
    "               \n",
    "                numerator += num\n",
    "                \n",
    "                den = (G_x[x+i][y+j])**2 - (G_y[x+i][y+j])**2\n",
    "                denominator += den\n",
    "        \n",
    "                \n",
    "        convolve[x][y] = (0.5)*(math.atan2(numerator,denominator))+(np.pi/2)\n",
    "\n",
    "\n",
    "temp = \"image10.mat\"\n",
    "np.savetxt(temp,convolve)"
   ]
  },
  {
   "cell_type": "code",
   "execution_count": 8,
   "metadata": {},
   "outputs": [],
   "source": [
    "#4) \n",
    "user_001_1 = np.loadtxt('user001_1.minpoints')\n",
    "user_001_2 = np.loadtxt('user001_2.minpoints')\n",
    "user_002_1 = np.loadtxt('user002_1.minpoints')\n",
    "user_002_2 = np.loadtxt('user002_2.minpoints')\n",
    "user_003_1 = np.loadtxt('user003_1.minpoints')\n",
    "user_003_2 = np.loadtxt('user003_2.minpoints')\n",
    "user_004_1 = np.loadtxt('user004_1.minpoints')\n",
    "user_004_2 = np.loadtxt('user004_2.minpoints')\n",
    "user_005_1 = np.loadtxt('user005_1.minpoints')\n",
    "user_005_2 = np.loadtxt('user005_2.minpoints')\n",
    "\n",
    "minpoints_files = ['user001_1.minpoints','user001_2.minpoints',\n",
    "                   'user002_1.minpoints','user002_2.minpoints',\n",
    "                   'user003_1.minpoints','user003_2.minpoints',\n",
    "                   'user004_1.minpoints','user004_4.minpoints',\n",
    "                   'user005_1.minpoints','user005_1.minpoints']\n",
    "minpoints_list = [user_001_1,user_001_2,user_002_1,user_002_2,\n",
    "                  user_003_1,user_003_2,user_004_1,user_004_2,\n",
    "                  user_005_1,user_005_2]\n"
   ]
  },
  {
   "cell_type": "code",
   "execution_count": 9,
   "metadata": {},
   "outputs": [],
   "source": [
    "def ransac(mp_1,mp_2):\n",
    "    \n",
    "    values = []\n",
    "    scores = []\n",
    "    \n",
    "    i = 0\n",
    "    \n",
    "    while i < (len(mp_1)):\n",
    "        j = 0\n",
    "        while j < (len(mp_2)):\n",
    "            \n",
    "            t_x = mp_2[j][0]-mp_1[i][0]\n",
    "            t_y = mp_2[j][1]-mp_1[i][1]\n",
    "            t_r = math.radians(mp_2[j][2]-mp_1[i][2])\n",
    "            \n",
    "            changed_p = []\n",
    "            \n",
    "            k = 0\n",
    "            while k < (len(mp_1)):\n",
    "                \n",
    "                k_x = (mp_1[k][0]-mp_1[i][0])*math.cos(t_r) + \n",
    "                (mp_1[k][1]-mp_1[i][1])*math.sin(t_r) + mp_1[i][0]+t_x\n",
    "                k_y = (-(mp_1[k][0]-mp_1[i][0])*math.sin(t_r)) + \n",
    "                (mp_1[k][1]-mp_1[i][1])*math.cos(t_r) + mp_1[i][1]+t_y\n",
    "                changed_p.append([k_x,k_y])\n",
    "                \n",
    "                k+=1\n",
    "                \n",
    "            iteration = 0\n",
    "            \n",
    "            \n",
    "            for x in mp_2:\n",
    "                for y in changed_p:\n",
    "                    distance = math.sqrt(((y[0]-x[0])**2+(y[1]-x[1])**2))\n",
    "                    if distance < 10:\n",
    "                        iteration +=1\n",
    "                        \n",
    "            values.append([t_x,t_y,t_r])\n",
    "            \n",
    "            scores.append(iteration)\n",
    "            \n",
    "            j+=1\n",
    "        i+=1\n",
    "            \n",
    "    maximum = max(scores)\n",
    "    index_value = scores.index(maximum)\n",
    "    result = values[index_value]\n",
    "    \n",
    "    return maximum, result\n"
   ]
  },
  {
   "cell_type": "code",
   "execution_count": 10,
   "metadata": {},
   "outputs": [
    {
     "name": "stdout",
     "output_type": "stream",
     "text": [
      "user001_1.minpoints user001_2.minpoints -65.0 -6.0 0.05235987755982989 19\n",
      "user001_1.minpoints user002_1.minpoints -140.0 38.0 -0.06981317007977318 11\n",
      "user001_1.minpoints user002_2.minpoints -127.0 27.0 6.14355896702004 10\n",
      "user001_1.minpoints user003_1.minpoints -96.0 117.0 -2.897246558310587 14\n",
      "user001_1.minpoints user003_2.minpoints -126.0 -205.0 4.153883619746504 11\n",
      "user001_1.minpoints user004_1.minpoints -241.0 -63.0 4.136430327226561 12\n",
      "user001_1.minpoints user004_4.minpoints 131.0 45.0 1.6231562043547265 13\n",
      "user001_1.minpoints user005_1.minpoints -189.0 111.0 -2.8099800957108707 9\n",
      "user001_1.minpoints user005_1.minpoints -91.0 21.0 0.12217304763960307 12\n",
      "user001_2.minpoints user002_1.minpoints -184.0 243.0 2.7576202181510405 13\n",
      "user001_2.minpoints user002_2.minpoints 0.0 -143.0 2.7576202181510405 12\n",
      "user001_2.minpoints user003_1.minpoints 26.0 124.0 5.270894341022875 13\n",
      "user001_2.minpoints user003_2.minpoints 7.0 144.0 -1.1519173063162575 12\n",
      "user001_2.minpoints user004_1.minpoints -198.0 107.0 1.4486232791552935 12\n",
      "user001_2.minpoints user004_4.minpoints -22.0 40.0 -5.550147021341968 14\n",
      "user001_2.minpoints user005_1.minpoints -85.0 -305.0 3.0892327760299634 12\n",
      "user001_2.minpoints user005_1.minpoints -57.0 -77.0 4.118977034706618 11\n",
      "user002_1.minpoints user002_2.minpoints 15.0 -2.0 0.0 40\n",
      "user002_1.minpoints user003_1.minpoints 15.0 -84.0 -0.24434609527920614 17\n",
      "user002_1.minpoints user003_2.minpoints -9.0 33.0 1.239183768915974 16\n",
      "user002_1.minpoints user004_1.minpoints 52.0 61.0 -4.380776422505767 13\n",
      "user002_1.minpoints user004_4.minpoints -69.0 -28.0 1.0821041362364843 17\n",
      "user002_1.minpoints user005_1.minpoints 56.0 124.0 -1.2042771838760873 15\n",
      "user002_1.minpoints user005_1.minpoints 36.0 30.0 -1.2042771838760873 14\n",
      "user002_2.minpoints user003_1.minpoints 121.0 -3.0 1.7627825445142729 17\n",
      "user002_2.minpoints user003_2.minpoints 6.0 -94.0 0.08726646259971647 18\n",
      "user002_2.minpoints user004_1.minpoints 12.0 26.0 -4.293509959906051 13\n",
      "user002_2.minpoints user004_4.minpoints 34.0 17.0 -0.6806784082777885 19\n",
      "user002_2.minpoints user005_1.minpoints 116.0 -62.0 -4.049163864626845 14\n",
      "user002_2.minpoints user005_1.minpoints 43.0 196.0 -5.113814708343385 12\n",
      "user003_1.minpoints user003_2.minpoints -1.0 17.0 0.06981317007977318 26\n",
      "user003_1.minpoints user004_1.minpoints 38.0 104.0 -5.98647933434055 16\n",
      "user003_1.minpoints user004_4.minpoints 232.0 -6.0 2.9321531433504737 19\n",
      "user003_1.minpoints user005_1.minpoints 78.0 -47.0 -0.4537856055185257 15\n",
      "user003_1.minpoints user005_1.minpoints 31.0 86.0 0.5585053606381855 17\n",
      "user003_2.minpoints user004_1.minpoints 153.0 219.0 -4.4505895925855405 14\n",
      "user003_2.minpoints user004_4.minpoints -80.0 -142.0 2.251474735072685 18\n",
      "user003_2.minpoints user005_1.minpoints -21.0 75.0 -1.7627825445142729 16\n",
      "user003_2.minpoints user005_1.minpoints -79.0 49.0 1.0122909661567112 13\n",
      "user004_1.minpoints user004_4.minpoints 60.0 -39.0 -0.05235987755982989 30\n",
      "user004_1.minpoints user005_1.minpoints 264.0 86.0 -2.91469985083053 13\n",
      "user004_1.minpoints user005_1.minpoints -49.0 179.0 -3.6302848441482056 13\n",
      "user004_4.minpoints user005_1.minpoints -49.0 163.0 -4.310963252425994 16\n",
      "user004_4.minpoints user005_1.minpoints -211.0 -19.0 1.7453292519943295 14\n",
      "user005_1.minpoints user005_1.minpoints -75.0 97.0 0.0 26\n"
     ]
    }
   ],
   "source": [
    "i = 0\n",
    "while i < (len(minpoints_list)):\n",
    "    j = i\n",
    "    while j < (len(minpoints_list)):\n",
    "        if i!=j:\n",
    "            maximum, result = ransac(minpoints_list[i],minpoints_list[j])\n",
    "            print(minpoints_files[i],minpoints_files[j],\n",
    "                  result[0],result[1],result[2],maximum)\n",
    "        j+=1\n",
    "    i+=1"
   ]
  },
  {
   "cell_type": "code",
   "execution_count": null,
   "metadata": {},
   "outputs": [],
   "source": []
  }
 ],
 "metadata": {
  "kernelspec": {
   "display_name": "Python 3",
   "language": "python",
   "name": "python3"
  },
  "language_info": {
   "codemirror_mode": {
    "name": "ipython",
    "version": 3
   },
   "file_extension": ".py",
   "mimetype": "text/x-python",
   "name": "python",
   "nbconvert_exporter": "python",
   "pygments_lexer": "ipython3",
   "version": "3.7.4"
  }
 },
 "nbformat": 4,
 "nbformat_minor": 2
}
