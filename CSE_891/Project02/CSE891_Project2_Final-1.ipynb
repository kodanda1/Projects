{
  "nbformat": 4,
  "nbformat_minor": 0,
  "metadata": {
    "colab": {
      "provenance": []
    },
    "kernelspec": {
      "name": "python3",
      "display_name": "Python 3"
    },
    "language_info": {
      "name": "python"
    }
  },
  "cells": [
    {
      "cell_type": "markdown",
      "source": [
        "#Part-1 Link quality evaluation(40 Points)"
      ],
      "metadata": {
        "id": "_ibUkZvgyYi6"
      }
    },
    {
      "cell_type": "markdown",
      "source": [
        "##ESP\n",
        "\n",
        "####Expected Signal Power is calculated from **Received Signal Strength Indicator (RSSI)** and **Signal-to-Noise Ratio (SNR)** of each data packet received by the gateway. We have tried to demonstrate the following steps that indicate how we can calculate ESP given all the other values.  "
      ],
      "metadata": {
        "id": "PQDLAJE7gb9t"
      }
    },
    {
      "cell_type": "markdown",
      "source": [
        "Get all the file names of csv format and concatenates into a single dataframe."
      ],
      "metadata": {
        "id": "HP6xNZyR-0HB"
      }
    },
    {
      "cell_type": "code",
      "source": [
        "import glob\n",
        "\n",
        "import pandas as pd\n",
        "\n",
        "# get data file names\n",
        "\n",
        "local_path = r'/content/sample_data/Data'\n",
        "\n",
        "filenames = glob.glob(local_path + \"/*.csv\")\n",
        "\n",
        "dfs = [pd.read_csv(filename) for filename in filenames]\n",
        "\n",
        "\n",
        "# if needed concatenate all data into one DataFrame\n",
        "\n",
        "big_frame = pd.concat(dfs, ignore_index=True)"
      ],
      "metadata": {
        "id": "x_CQnSUBDdNe"
      },
      "execution_count": null,
      "outputs": []
    },
    {
      "cell_type": "markdown",
      "source": [
        "Output of bigframe"
      ],
      "metadata": {
        "id": "CewU1RhA--wS"
      }
    },
    {
      "cell_type": "code",
      "source": [
        "big_frame "
      ],
      "metadata": {
        "colab": {
          "base_uri": "https://localhost:8080/",
          "height": 424
        },
        "id": "5jnnSYDBIu02",
        "outputId": "4d182d9e-4dc8-4cce-c5a5-2ed03a3daa03"
      },
      "execution_count": null,
      "outputs": [
        {
          "output_type": "execute_result",
          "data": {
            "text/plain": [
              "         Distance  FrameCnt   Latitude   Longitude  RSSI  SNR  \\\n",
              "0     1364.203643        52  39.999645  116.328500  -109 -7.0   \n",
              "1     1371.005843        53  39.999587  116.328525  -110 -6.8   \n",
              "2     1372.275661        54  39.999582  116.328548  -111 -6.5   \n",
              "3     1374.312326        57  39.999565  116.328558  -110 -6.5   \n",
              "4     1373.893446        59  39.999573  116.328572  -108 -7.0   \n",
              "...           ...       ...        ...         ...   ...  ...   \n",
              "8952   744.497378        42  40.004305  116.322473  -118 -0.5   \n",
              "8953   746.177041        44  40.004292  116.322637  -115  5.0   \n",
              "8954   740.192009        45  40.004345  116.322602  -114  2.0   \n",
              "8955   736.573421        46  40.004377  116.322523  -119 -2.2   \n",
              "8956   733.759981        47  40.004402  116.322463  -119  2.2   \n",
              "\n",
              "                                Time  \n",
              "0     2019-03-06T09:16:12.516252999Z  \n",
              "1        2019-03-06T09:16:21.807664Z  \n",
              "2        2019-03-06T09:16:31.752067Z  \n",
              "3        2019-03-06T09:16:52.649537Z  \n",
              "4        2019-03-06T09:17:06.039619Z  \n",
              "...                              ...  \n",
              "8952  2019-03-11T10:29:56.332703994Z  \n",
              "8953  2019-03-11T10:30:11.204159837Z  \n",
              "8954  2019-03-11T10:30:20.253971285Z  \n",
              "8955  2019-03-11T10:30:30.298460686Z  \n",
              "8956  2019-03-11T10:30:39.263892375Z  \n",
              "\n",
              "[8957 rows x 7 columns]"
            ],
            "text/html": [
              "\n",
              "  <div id=\"df-360b50cb-6dd4-4efb-86fb-9e05d82531d2\">\n",
              "    <div class=\"colab-df-container\">\n",
              "      <div>\n",
              "<style scoped>\n",
              "    .dataframe tbody tr th:only-of-type {\n",
              "        vertical-align: middle;\n",
              "    }\n",
              "\n",
              "    .dataframe tbody tr th {\n",
              "        vertical-align: top;\n",
              "    }\n",
              "\n",
              "    .dataframe thead th {\n",
              "        text-align: right;\n",
              "    }\n",
              "</style>\n",
              "<table border=\"1\" class=\"dataframe\">\n",
              "  <thead>\n",
              "    <tr style=\"text-align: right;\">\n",
              "      <th></th>\n",
              "      <th>Distance</th>\n",
              "      <th>FrameCnt</th>\n",
              "      <th>Latitude</th>\n",
              "      <th>Longitude</th>\n",
              "      <th>RSSI</th>\n",
              "      <th>SNR</th>\n",
              "      <th>Time</th>\n",
              "    </tr>\n",
              "  </thead>\n",
              "  <tbody>\n",
              "    <tr>\n",
              "      <th>0</th>\n",
              "      <td>1364.203643</td>\n",
              "      <td>52</td>\n",
              "      <td>39.999645</td>\n",
              "      <td>116.328500</td>\n",
              "      <td>-109</td>\n",
              "      <td>-7.0</td>\n",
              "      <td>2019-03-06T09:16:12.516252999Z</td>\n",
              "    </tr>\n",
              "    <tr>\n",
              "      <th>1</th>\n",
              "      <td>1371.005843</td>\n",
              "      <td>53</td>\n",
              "      <td>39.999587</td>\n",
              "      <td>116.328525</td>\n",
              "      <td>-110</td>\n",
              "      <td>-6.8</td>\n",
              "      <td>2019-03-06T09:16:21.807664Z</td>\n",
              "    </tr>\n",
              "    <tr>\n",
              "      <th>2</th>\n",
              "      <td>1372.275661</td>\n",
              "      <td>54</td>\n",
              "      <td>39.999582</td>\n",
              "      <td>116.328548</td>\n",
              "      <td>-111</td>\n",
              "      <td>-6.5</td>\n",
              "      <td>2019-03-06T09:16:31.752067Z</td>\n",
              "    </tr>\n",
              "    <tr>\n",
              "      <th>3</th>\n",
              "      <td>1374.312326</td>\n",
              "      <td>57</td>\n",
              "      <td>39.999565</td>\n",
              "      <td>116.328558</td>\n",
              "      <td>-110</td>\n",
              "      <td>-6.5</td>\n",
              "      <td>2019-03-06T09:16:52.649537Z</td>\n",
              "    </tr>\n",
              "    <tr>\n",
              "      <th>4</th>\n",
              "      <td>1373.893446</td>\n",
              "      <td>59</td>\n",
              "      <td>39.999573</td>\n",
              "      <td>116.328572</td>\n",
              "      <td>-108</td>\n",
              "      <td>-7.0</td>\n",
              "      <td>2019-03-06T09:17:06.039619Z</td>\n",
              "    </tr>\n",
              "    <tr>\n",
              "      <th>...</th>\n",
              "      <td>...</td>\n",
              "      <td>...</td>\n",
              "      <td>...</td>\n",
              "      <td>...</td>\n",
              "      <td>...</td>\n",
              "      <td>...</td>\n",
              "      <td>...</td>\n",
              "    </tr>\n",
              "    <tr>\n",
              "      <th>8952</th>\n",
              "      <td>744.497378</td>\n",
              "      <td>42</td>\n",
              "      <td>40.004305</td>\n",
              "      <td>116.322473</td>\n",
              "      <td>-118</td>\n",
              "      <td>-0.5</td>\n",
              "      <td>2019-03-11T10:29:56.332703994Z</td>\n",
              "    </tr>\n",
              "    <tr>\n",
              "      <th>8953</th>\n",
              "      <td>746.177041</td>\n",
              "      <td>44</td>\n",
              "      <td>40.004292</td>\n",
              "      <td>116.322637</td>\n",
              "      <td>-115</td>\n",
              "      <td>5.0</td>\n",
              "      <td>2019-03-11T10:30:11.204159837Z</td>\n",
              "    </tr>\n",
              "    <tr>\n",
              "      <th>8954</th>\n",
              "      <td>740.192009</td>\n",
              "      <td>45</td>\n",
              "      <td>40.004345</td>\n",
              "      <td>116.322602</td>\n",
              "      <td>-114</td>\n",
              "      <td>2.0</td>\n",
              "      <td>2019-03-11T10:30:20.253971285Z</td>\n",
              "    </tr>\n",
              "    <tr>\n",
              "      <th>8955</th>\n",
              "      <td>736.573421</td>\n",
              "      <td>46</td>\n",
              "      <td>40.004377</td>\n",
              "      <td>116.322523</td>\n",
              "      <td>-119</td>\n",
              "      <td>-2.2</td>\n",
              "      <td>2019-03-11T10:30:30.298460686Z</td>\n",
              "    </tr>\n",
              "    <tr>\n",
              "      <th>8956</th>\n",
              "      <td>733.759981</td>\n",
              "      <td>47</td>\n",
              "      <td>40.004402</td>\n",
              "      <td>116.322463</td>\n",
              "      <td>-119</td>\n",
              "      <td>2.2</td>\n",
              "      <td>2019-03-11T10:30:39.263892375Z</td>\n",
              "    </tr>\n",
              "  </tbody>\n",
              "</table>\n",
              "<p>8957 rows × 7 columns</p>\n",
              "</div>\n",
              "      <button class=\"colab-df-convert\" onclick=\"convertToInteractive('df-360b50cb-6dd4-4efb-86fb-9e05d82531d2')\"\n",
              "              title=\"Convert this dataframe to an interactive table.\"\n",
              "              style=\"display:none;\">\n",
              "        \n",
              "  <svg xmlns=\"http://www.w3.org/2000/svg\" height=\"24px\"viewBox=\"0 0 24 24\"\n",
              "       width=\"24px\">\n",
              "    <path d=\"M0 0h24v24H0V0z\" fill=\"none\"/>\n",
              "    <path d=\"M18.56 5.44l.94 2.06.94-2.06 2.06-.94-2.06-.94-.94-2.06-.94 2.06-2.06.94zm-11 1L8.5 8.5l.94-2.06 2.06-.94-2.06-.94L8.5 2.5l-.94 2.06-2.06.94zm10 10l.94 2.06.94-2.06 2.06-.94-2.06-.94-.94-2.06-.94 2.06-2.06.94z\"/><path d=\"M17.41 7.96l-1.37-1.37c-.4-.4-.92-.59-1.43-.59-.52 0-1.04.2-1.43.59L10.3 9.45l-7.72 7.72c-.78.78-.78 2.05 0 2.83L4 21.41c.39.39.9.59 1.41.59.51 0 1.02-.2 1.41-.59l7.78-7.78 2.81-2.81c.8-.78.8-2.07 0-2.86zM5.41 20L4 18.59l7.72-7.72 1.47 1.35L5.41 20z\"/>\n",
              "  </svg>\n",
              "      </button>\n",
              "      \n",
              "  <style>\n",
              "    .colab-df-container {\n",
              "      display:flex;\n",
              "      flex-wrap:wrap;\n",
              "      gap: 12px;\n",
              "    }\n",
              "\n",
              "    .colab-df-convert {\n",
              "      background-color: #E8F0FE;\n",
              "      border: none;\n",
              "      border-radius: 50%;\n",
              "      cursor: pointer;\n",
              "      display: none;\n",
              "      fill: #1967D2;\n",
              "      height: 32px;\n",
              "      padding: 0 0 0 0;\n",
              "      width: 32px;\n",
              "    }\n",
              "\n",
              "    .colab-df-convert:hover {\n",
              "      background-color: #E2EBFA;\n",
              "      box-shadow: 0px 1px 2px rgba(60, 64, 67, 0.3), 0px 1px 3px 1px rgba(60, 64, 67, 0.15);\n",
              "      fill: #174EA6;\n",
              "    }\n",
              "\n",
              "    [theme=dark] .colab-df-convert {\n",
              "      background-color: #3B4455;\n",
              "      fill: #D2E3FC;\n",
              "    }\n",
              "\n",
              "    [theme=dark] .colab-df-convert:hover {\n",
              "      background-color: #434B5C;\n",
              "      box-shadow: 0px 1px 3px 1px rgba(0, 0, 0, 0.15);\n",
              "      filter: drop-shadow(0px 1px 2px rgba(0, 0, 0, 0.3));\n",
              "      fill: #FFFFFF;\n",
              "    }\n",
              "  </style>\n",
              "\n",
              "      <script>\n",
              "        const buttonEl =\n",
              "          document.querySelector('#df-360b50cb-6dd4-4efb-86fb-9e05d82531d2 button.colab-df-convert');\n",
              "        buttonEl.style.display =\n",
              "          google.colab.kernel.accessAllowed ? 'block' : 'none';\n",
              "\n",
              "        async function convertToInteractive(key) {\n",
              "          const element = document.querySelector('#df-360b50cb-6dd4-4efb-86fb-9e05d82531d2');\n",
              "          const dataTable =\n",
              "            await google.colab.kernel.invokeFunction('convertToInteractive',\n",
              "                                                     [key], {});\n",
              "          if (!dataTable) return;\n",
              "\n",
              "          const docLinkHtml = 'Like what you see? Visit the ' +\n",
              "            '<a target=\"_blank\" href=https://colab.research.google.com/notebooks/data_table.ipynb>data table notebook</a>'\n",
              "            + ' to learn more about interactive tables.';\n",
              "          element.innerHTML = '';\n",
              "          dataTable['output_type'] = 'display_data';\n",
              "          await google.colab.output.renderOutput(dataTable, element);\n",
              "          const docLink = document.createElement('div');\n",
              "          docLink.innerHTML = docLinkHtml;\n",
              "          element.appendChild(docLink);\n",
              "        }\n",
              "      </script>\n",
              "    </div>\n",
              "  </div>\n",
              "  "
            ]
          },
          "metadata": {},
          "execution_count": 22
        }
      ]
    },
    {
      "cell_type": "markdown",
      "source": [
        "Exploratory data analysis for a single csv file, a chunk of the 'bigframe'"
      ],
      "metadata": {
        "id": "j1CL6t4A_Cho"
      }
    },
    {
      "cell_type": "code",
      "execution_count": null,
      "metadata": {
        "colab": {
          "base_uri": "https://localhost:8080/",
          "height": 424
        },
        "id": "t96mZrgF8j1g",
        "outputId": "af734abc-dffa-4c6f-be8c-b3c91ce28cb9"
      },
      "outputs": [
        {
          "output_type": "execute_result",
          "data": {
            "text/plain": [
              "       Distance  FrameCnt   Latitude   Longitude  RSSI   SNR  \\\n",
              "0   1392.196048         9  39.999805  116.329747  -101   6.0   \n",
              "1   1407.306048        14  39.999673  116.329800  -111  -6.5   \n",
              "2   1409.669260        15  39.999603  116.329678  -113  -2.5   \n",
              "3   1408.405755        16  39.999597  116.329627  -112  -1.8   \n",
              "4   1402.407396        17  39.999587  116.329437  -115  -5.0   \n",
              "..          ...       ...        ...         ...   ...   ...   \n",
              "69   819.891205       139  40.014075  116.331167  -115 -11.5   \n",
              "70   865.000607       140  40.014963  116.331160  -110 -10.5   \n",
              "71   917.660126       142  40.015838  116.331153  -113 -13.8   \n",
              "72   983.921697       144  40.016820  116.331132  -115 -12.2   \n",
              "73  1157.385062       146  40.019055  116.331050  -113 -17.0   \n",
              "\n",
              "                              Time  \n",
              "0   2018-12-22T08:40:13.928014071Z  \n",
              "1   2018-12-22T08:40:48.618759381Z  \n",
              "2   2018-12-22T08:40:58.803296196Z  \n",
              "3      2018-12-22T08:41:07.863896Z  \n",
              "4      2018-12-22T08:41:18.235099Z  \n",
              "..                             ...  \n",
              "69  2018-12-22T08:56:40.068348136Z  \n",
              "70  2018-12-22T08:56:45.797704595Z  \n",
              "71  2018-12-22T08:56:59.792100584Z  \n",
              "72  2018-12-22T08:57:10.461070922Z  \n",
              "73  2018-12-22T08:57:29.897049794Z  \n",
              "\n",
              "[74 rows x 7 columns]"
            ],
            "text/html": [
              "\n",
              "  <div id=\"df-9e3d1fec-9fd5-4995-a1b1-0c7151fd78bf\">\n",
              "    <div class=\"colab-df-container\">\n",
              "      <div>\n",
              "<style scoped>\n",
              "    .dataframe tbody tr th:only-of-type {\n",
              "        vertical-align: middle;\n",
              "    }\n",
              "\n",
              "    .dataframe tbody tr th {\n",
              "        vertical-align: top;\n",
              "    }\n",
              "\n",
              "    .dataframe thead th {\n",
              "        text-align: right;\n",
              "    }\n",
              "</style>\n",
              "<table border=\"1\" class=\"dataframe\">\n",
              "  <thead>\n",
              "    <tr style=\"text-align: right;\">\n",
              "      <th></th>\n",
              "      <th>Distance</th>\n",
              "      <th>FrameCnt</th>\n",
              "      <th>Latitude</th>\n",
              "      <th>Longitude</th>\n",
              "      <th>RSSI</th>\n",
              "      <th>SNR</th>\n",
              "      <th>Time</th>\n",
              "    </tr>\n",
              "  </thead>\n",
              "  <tbody>\n",
              "    <tr>\n",
              "      <th>0</th>\n",
              "      <td>1392.196048</td>\n",
              "      <td>9</td>\n",
              "      <td>39.999805</td>\n",
              "      <td>116.329747</td>\n",
              "      <td>-101</td>\n",
              "      <td>6.0</td>\n",
              "      <td>2018-12-22T08:40:13.928014071Z</td>\n",
              "    </tr>\n",
              "    <tr>\n",
              "      <th>1</th>\n",
              "      <td>1407.306048</td>\n",
              "      <td>14</td>\n",
              "      <td>39.999673</td>\n",
              "      <td>116.329800</td>\n",
              "      <td>-111</td>\n",
              "      <td>-6.5</td>\n",
              "      <td>2018-12-22T08:40:48.618759381Z</td>\n",
              "    </tr>\n",
              "    <tr>\n",
              "      <th>2</th>\n",
              "      <td>1409.669260</td>\n",
              "      <td>15</td>\n",
              "      <td>39.999603</td>\n",
              "      <td>116.329678</td>\n",
              "      <td>-113</td>\n",
              "      <td>-2.5</td>\n",
              "      <td>2018-12-22T08:40:58.803296196Z</td>\n",
              "    </tr>\n",
              "    <tr>\n",
              "      <th>3</th>\n",
              "      <td>1408.405755</td>\n",
              "      <td>16</td>\n",
              "      <td>39.999597</td>\n",
              "      <td>116.329627</td>\n",
              "      <td>-112</td>\n",
              "      <td>-1.8</td>\n",
              "      <td>2018-12-22T08:41:07.863896Z</td>\n",
              "    </tr>\n",
              "    <tr>\n",
              "      <th>4</th>\n",
              "      <td>1402.407396</td>\n",
              "      <td>17</td>\n",
              "      <td>39.999587</td>\n",
              "      <td>116.329437</td>\n",
              "      <td>-115</td>\n",
              "      <td>-5.0</td>\n",
              "      <td>2018-12-22T08:41:18.235099Z</td>\n",
              "    </tr>\n",
              "    <tr>\n",
              "      <th>...</th>\n",
              "      <td>...</td>\n",
              "      <td>...</td>\n",
              "      <td>...</td>\n",
              "      <td>...</td>\n",
              "      <td>...</td>\n",
              "      <td>...</td>\n",
              "      <td>...</td>\n",
              "    </tr>\n",
              "    <tr>\n",
              "      <th>69</th>\n",
              "      <td>819.891205</td>\n",
              "      <td>139</td>\n",
              "      <td>40.014075</td>\n",
              "      <td>116.331167</td>\n",
              "      <td>-115</td>\n",
              "      <td>-11.5</td>\n",
              "      <td>2018-12-22T08:56:40.068348136Z</td>\n",
              "    </tr>\n",
              "    <tr>\n",
              "      <th>70</th>\n",
              "      <td>865.000607</td>\n",
              "      <td>140</td>\n",
              "      <td>40.014963</td>\n",
              "      <td>116.331160</td>\n",
              "      <td>-110</td>\n",
              "      <td>-10.5</td>\n",
              "      <td>2018-12-22T08:56:45.797704595Z</td>\n",
              "    </tr>\n",
              "    <tr>\n",
              "      <th>71</th>\n",
              "      <td>917.660126</td>\n",
              "      <td>142</td>\n",
              "      <td>40.015838</td>\n",
              "      <td>116.331153</td>\n",
              "      <td>-113</td>\n",
              "      <td>-13.8</td>\n",
              "      <td>2018-12-22T08:56:59.792100584Z</td>\n",
              "    </tr>\n",
              "    <tr>\n",
              "      <th>72</th>\n",
              "      <td>983.921697</td>\n",
              "      <td>144</td>\n",
              "      <td>40.016820</td>\n",
              "      <td>116.331132</td>\n",
              "      <td>-115</td>\n",
              "      <td>-12.2</td>\n",
              "      <td>2018-12-22T08:57:10.461070922Z</td>\n",
              "    </tr>\n",
              "    <tr>\n",
              "      <th>73</th>\n",
              "      <td>1157.385062</td>\n",
              "      <td>146</td>\n",
              "      <td>40.019055</td>\n",
              "      <td>116.331050</td>\n",
              "      <td>-113</td>\n",
              "      <td>-17.0</td>\n",
              "      <td>2018-12-22T08:57:29.897049794Z</td>\n",
              "    </tr>\n",
              "  </tbody>\n",
              "</table>\n",
              "<p>74 rows × 7 columns</p>\n",
              "</div>\n",
              "      <button class=\"colab-df-convert\" onclick=\"convertToInteractive('df-9e3d1fec-9fd5-4995-a1b1-0c7151fd78bf')\"\n",
              "              title=\"Convert this dataframe to an interactive table.\"\n",
              "              style=\"display:none;\">\n",
              "        \n",
              "  <svg xmlns=\"http://www.w3.org/2000/svg\" height=\"24px\"viewBox=\"0 0 24 24\"\n",
              "       width=\"24px\">\n",
              "    <path d=\"M0 0h24v24H0V0z\" fill=\"none\"/>\n",
              "    <path d=\"M18.56 5.44l.94 2.06.94-2.06 2.06-.94-2.06-.94-.94-2.06-.94 2.06-2.06.94zm-11 1L8.5 8.5l.94-2.06 2.06-.94-2.06-.94L8.5 2.5l-.94 2.06-2.06.94zm10 10l.94 2.06.94-2.06 2.06-.94-2.06-.94-.94-2.06-.94 2.06-2.06.94z\"/><path d=\"M17.41 7.96l-1.37-1.37c-.4-.4-.92-.59-1.43-.59-.52 0-1.04.2-1.43.59L10.3 9.45l-7.72 7.72c-.78.78-.78 2.05 0 2.83L4 21.41c.39.39.9.59 1.41.59.51 0 1.02-.2 1.41-.59l7.78-7.78 2.81-2.81c.8-.78.8-2.07 0-2.86zM5.41 20L4 18.59l7.72-7.72 1.47 1.35L5.41 20z\"/>\n",
              "  </svg>\n",
              "      </button>\n",
              "      \n",
              "  <style>\n",
              "    .colab-df-container {\n",
              "      display:flex;\n",
              "      flex-wrap:wrap;\n",
              "      gap: 12px;\n",
              "    }\n",
              "\n",
              "    .colab-df-convert {\n",
              "      background-color: #E8F0FE;\n",
              "      border: none;\n",
              "      border-radius: 50%;\n",
              "      cursor: pointer;\n",
              "      display: none;\n",
              "      fill: #1967D2;\n",
              "      height: 32px;\n",
              "      padding: 0 0 0 0;\n",
              "      width: 32px;\n",
              "    }\n",
              "\n",
              "    .colab-df-convert:hover {\n",
              "      background-color: #E2EBFA;\n",
              "      box-shadow: 0px 1px 2px rgba(60, 64, 67, 0.3), 0px 1px 3px 1px rgba(60, 64, 67, 0.15);\n",
              "      fill: #174EA6;\n",
              "    }\n",
              "\n",
              "    [theme=dark] .colab-df-convert {\n",
              "      background-color: #3B4455;\n",
              "      fill: #D2E3FC;\n",
              "    }\n",
              "\n",
              "    [theme=dark] .colab-df-convert:hover {\n",
              "      background-color: #434B5C;\n",
              "      box-shadow: 0px 1px 3px 1px rgba(0, 0, 0, 0.15);\n",
              "      filter: drop-shadow(0px 1px 2px rgba(0, 0, 0, 0.3));\n",
              "      fill: #FFFFFF;\n",
              "    }\n",
              "  </style>\n",
              "\n",
              "      <script>\n",
              "        const buttonEl =\n",
              "          document.querySelector('#df-9e3d1fec-9fd5-4995-a1b1-0c7151fd78bf button.colab-df-convert');\n",
              "        buttonEl.style.display =\n",
              "          google.colab.kernel.accessAllowed ? 'block' : 'none';\n",
              "\n",
              "        async function convertToInteractive(key) {\n",
              "          const element = document.querySelector('#df-9e3d1fec-9fd5-4995-a1b1-0c7151fd78bf');\n",
              "          const dataTable =\n",
              "            await google.colab.kernel.invokeFunction('convertToInteractive',\n",
              "                                                     [key], {});\n",
              "          if (!dataTable) return;\n",
              "\n",
              "          const docLinkHtml = 'Like what you see? Visit the ' +\n",
              "            '<a target=\"_blank\" href=https://colab.research.google.com/notebooks/data_table.ipynb>data table notebook</a>'\n",
              "            + ' to learn more about interactive tables.';\n",
              "          element.innerHTML = '';\n",
              "          dataTable['output_type'] = 'display_data';\n",
              "          await google.colab.output.renderOutput(dataTable, element);\n",
              "          const docLink = document.createElement('div');\n",
              "          docLink.innerHTML = docLinkHtml;\n",
              "          element.appendChild(docLink);\n",
              "        }\n",
              "      </script>\n",
              "    </div>\n",
              "  </div>\n",
              "  "
            ]
          },
          "metadata": {},
          "execution_count": 1
        }
      ],
      "source": [
        "import pandas as pd\n",
        "data = pd.read_csv('/content/sample_data/10000001.csv')\n",
        "data"
      ]
    },
    {
      "cell_type": "markdown",
      "source": [
        "Using the formula mentioned in the docs to calculate ESP value and concatenate as an additional column in the existing dataframe"
      ],
      "metadata": {
        "id": "-Ze5q_Us_PER"
      }
    },
    {
      "cell_type": "code",
      "source": [
        "import math\n",
        "import numpy as np\n",
        "\n",
        "big_frame['ESP'] = big_frame['RSSI'] + big_frame['SNR'] - 10*np.log(1 + np.power(10, 0.1 * big_frame['SNR']))"
      ],
      "metadata": {
        "id": "IC5eN4dwAt9n"
      },
      "execution_count": null,
      "outputs": []
    },
    {
      "cell_type": "markdown",
      "source": [
        "Output of dataframe after addition of 'ESP' column"
      ],
      "metadata": {
        "id": "lqFSovAX_Y0S"
      }
    },
    {
      "cell_type": "code",
      "source": [
        "big_frame"
      ],
      "metadata": {
        "colab": {
          "base_uri": "https://localhost:8080/",
          "height": 424
        },
        "id": "x7pvJqEeA6jS",
        "outputId": "4b13fa27-706e-4333-a302-def2b58c81fa"
      },
      "execution_count": null,
      "outputs": [
        {
          "output_type": "execute_result",
          "data": {
            "text/plain": [
              "         Distance  FrameCnt   Latitude   Longitude  RSSI  SNR  \\\n",
              "0     1364.203643        52  39.999645  116.328500  -109 -7.0   \n",
              "1     1371.005843        53  39.999587  116.328525  -110 -6.8   \n",
              "2     1372.275661        54  39.999582  116.328548  -111 -6.5   \n",
              "3     1374.312326        57  39.999565  116.328558  -110 -6.5   \n",
              "4     1373.893446        59  39.999573  116.328572  -108 -7.0   \n",
              "...           ...       ...        ...         ...   ...  ...   \n",
              "8952   744.497378        42  40.004305  116.322473  -118 -0.5   \n",
              "8953   746.177041        44  40.004292  116.322637  -115  5.0   \n",
              "8954   740.192009        45  40.004345  116.322602  -114  2.0   \n",
              "8955   736.573421        46  40.004377  116.322523  -119 -2.2   \n",
              "8956   733.759981        47  40.004402  116.322463  -119  2.2   \n",
              "\n",
              "                                Time         ESP  \n",
              "0     2019-03-06T09:16:12.516252999Z -117.819267  \n",
              "1        2019-03-06T09:16:21.807664Z -118.697354  \n",
              "2        2019-03-06T09:16:31.752067Z -119.520197  \n",
              "3        2019-03-06T09:16:52.649537Z -118.520197  \n",
              "4        2019-03-06T09:17:06.039619Z -116.819267  \n",
              "...                              ...         ...  \n",
              "8952  2019-03-11T10:29:56.332703994Z -124.872385  \n",
              "8953  2019-03-11T10:30:11.204159837Z -124.260624  \n",
              "8954  2019-03-11T10:30:20.253971285Z -121.496842  \n",
              "8955  2019-03-11T10:30:30.298460686Z -125.916021  \n",
              "8956  2019-03-11T10:30:39.263892375Z -126.581708  \n",
              "\n",
              "[8957 rows x 8 columns]"
            ],
            "text/html": [
              "\n",
              "  <div id=\"df-65dd85da-c63f-4d7c-b463-6b643f76dd0f\">\n",
              "    <div class=\"colab-df-container\">\n",
              "      <div>\n",
              "<style scoped>\n",
              "    .dataframe tbody tr th:only-of-type {\n",
              "        vertical-align: middle;\n",
              "    }\n",
              "\n",
              "    .dataframe tbody tr th {\n",
              "        vertical-align: top;\n",
              "    }\n",
              "\n",
              "    .dataframe thead th {\n",
              "        text-align: right;\n",
              "    }\n",
              "</style>\n",
              "<table border=\"1\" class=\"dataframe\">\n",
              "  <thead>\n",
              "    <tr style=\"text-align: right;\">\n",
              "      <th></th>\n",
              "      <th>Distance</th>\n",
              "      <th>FrameCnt</th>\n",
              "      <th>Latitude</th>\n",
              "      <th>Longitude</th>\n",
              "      <th>RSSI</th>\n",
              "      <th>SNR</th>\n",
              "      <th>Time</th>\n",
              "      <th>ESP</th>\n",
              "    </tr>\n",
              "  </thead>\n",
              "  <tbody>\n",
              "    <tr>\n",
              "      <th>0</th>\n",
              "      <td>1364.203643</td>\n",
              "      <td>52</td>\n",
              "      <td>39.999645</td>\n",
              "      <td>116.328500</td>\n",
              "      <td>-109</td>\n",
              "      <td>-7.0</td>\n",
              "      <td>2019-03-06T09:16:12.516252999Z</td>\n",
              "      <td>-117.819267</td>\n",
              "    </tr>\n",
              "    <tr>\n",
              "      <th>1</th>\n",
              "      <td>1371.005843</td>\n",
              "      <td>53</td>\n",
              "      <td>39.999587</td>\n",
              "      <td>116.328525</td>\n",
              "      <td>-110</td>\n",
              "      <td>-6.8</td>\n",
              "      <td>2019-03-06T09:16:21.807664Z</td>\n",
              "      <td>-118.697354</td>\n",
              "    </tr>\n",
              "    <tr>\n",
              "      <th>2</th>\n",
              "      <td>1372.275661</td>\n",
              "      <td>54</td>\n",
              "      <td>39.999582</td>\n",
              "      <td>116.328548</td>\n",
              "      <td>-111</td>\n",
              "      <td>-6.5</td>\n",
              "      <td>2019-03-06T09:16:31.752067Z</td>\n",
              "      <td>-119.520197</td>\n",
              "    </tr>\n",
              "    <tr>\n",
              "      <th>3</th>\n",
              "      <td>1374.312326</td>\n",
              "      <td>57</td>\n",
              "      <td>39.999565</td>\n",
              "      <td>116.328558</td>\n",
              "      <td>-110</td>\n",
              "      <td>-6.5</td>\n",
              "      <td>2019-03-06T09:16:52.649537Z</td>\n",
              "      <td>-118.520197</td>\n",
              "    </tr>\n",
              "    <tr>\n",
              "      <th>4</th>\n",
              "      <td>1373.893446</td>\n",
              "      <td>59</td>\n",
              "      <td>39.999573</td>\n",
              "      <td>116.328572</td>\n",
              "      <td>-108</td>\n",
              "      <td>-7.0</td>\n",
              "      <td>2019-03-06T09:17:06.039619Z</td>\n",
              "      <td>-116.819267</td>\n",
              "    </tr>\n",
              "    <tr>\n",
              "      <th>...</th>\n",
              "      <td>...</td>\n",
              "      <td>...</td>\n",
              "      <td>...</td>\n",
              "      <td>...</td>\n",
              "      <td>...</td>\n",
              "      <td>...</td>\n",
              "      <td>...</td>\n",
              "      <td>...</td>\n",
              "    </tr>\n",
              "    <tr>\n",
              "      <th>8952</th>\n",
              "      <td>744.497378</td>\n",
              "      <td>42</td>\n",
              "      <td>40.004305</td>\n",
              "      <td>116.322473</td>\n",
              "      <td>-118</td>\n",
              "      <td>-0.5</td>\n",
              "      <td>2019-03-11T10:29:56.332703994Z</td>\n",
              "      <td>-124.872385</td>\n",
              "    </tr>\n",
              "    <tr>\n",
              "      <th>8953</th>\n",
              "      <td>746.177041</td>\n",
              "      <td>44</td>\n",
              "      <td>40.004292</td>\n",
              "      <td>116.322637</td>\n",
              "      <td>-115</td>\n",
              "      <td>5.0</td>\n",
              "      <td>2019-03-11T10:30:11.204159837Z</td>\n",
              "      <td>-124.260624</td>\n",
              "    </tr>\n",
              "    <tr>\n",
              "      <th>8954</th>\n",
              "      <td>740.192009</td>\n",
              "      <td>45</td>\n",
              "      <td>40.004345</td>\n",
              "      <td>116.322602</td>\n",
              "      <td>-114</td>\n",
              "      <td>2.0</td>\n",
              "      <td>2019-03-11T10:30:20.253971285Z</td>\n",
              "      <td>-121.496842</td>\n",
              "    </tr>\n",
              "    <tr>\n",
              "      <th>8955</th>\n",
              "      <td>736.573421</td>\n",
              "      <td>46</td>\n",
              "      <td>40.004377</td>\n",
              "      <td>116.322523</td>\n",
              "      <td>-119</td>\n",
              "      <td>-2.2</td>\n",
              "      <td>2019-03-11T10:30:30.298460686Z</td>\n",
              "      <td>-125.916021</td>\n",
              "    </tr>\n",
              "    <tr>\n",
              "      <th>8956</th>\n",
              "      <td>733.759981</td>\n",
              "      <td>47</td>\n",
              "      <td>40.004402</td>\n",
              "      <td>116.322463</td>\n",
              "      <td>-119</td>\n",
              "      <td>2.2</td>\n",
              "      <td>2019-03-11T10:30:39.263892375Z</td>\n",
              "      <td>-126.581708</td>\n",
              "    </tr>\n",
              "  </tbody>\n",
              "</table>\n",
              "<p>8957 rows × 8 columns</p>\n",
              "</div>\n",
              "      <button class=\"colab-df-convert\" onclick=\"convertToInteractive('df-65dd85da-c63f-4d7c-b463-6b643f76dd0f')\"\n",
              "              title=\"Convert this dataframe to an interactive table.\"\n",
              "              style=\"display:none;\">\n",
              "        \n",
              "  <svg xmlns=\"http://www.w3.org/2000/svg\" height=\"24px\"viewBox=\"0 0 24 24\"\n",
              "       width=\"24px\">\n",
              "    <path d=\"M0 0h24v24H0V0z\" fill=\"none\"/>\n",
              "    <path d=\"M18.56 5.44l.94 2.06.94-2.06 2.06-.94-2.06-.94-.94-2.06-.94 2.06-2.06.94zm-11 1L8.5 8.5l.94-2.06 2.06-.94-2.06-.94L8.5 2.5l-.94 2.06-2.06.94zm10 10l.94 2.06.94-2.06 2.06-.94-2.06-.94-.94-2.06-.94 2.06-2.06.94z\"/><path d=\"M17.41 7.96l-1.37-1.37c-.4-.4-.92-.59-1.43-.59-.52 0-1.04.2-1.43.59L10.3 9.45l-7.72 7.72c-.78.78-.78 2.05 0 2.83L4 21.41c.39.39.9.59 1.41.59.51 0 1.02-.2 1.41-.59l7.78-7.78 2.81-2.81c.8-.78.8-2.07 0-2.86zM5.41 20L4 18.59l7.72-7.72 1.47 1.35L5.41 20z\"/>\n",
              "  </svg>\n",
              "      </button>\n",
              "      \n",
              "  <style>\n",
              "    .colab-df-container {\n",
              "      display:flex;\n",
              "      flex-wrap:wrap;\n",
              "      gap: 12px;\n",
              "    }\n",
              "\n",
              "    .colab-df-convert {\n",
              "      background-color: #E8F0FE;\n",
              "      border: none;\n",
              "      border-radius: 50%;\n",
              "      cursor: pointer;\n",
              "      display: none;\n",
              "      fill: #1967D2;\n",
              "      height: 32px;\n",
              "      padding: 0 0 0 0;\n",
              "      width: 32px;\n",
              "    }\n",
              "\n",
              "    .colab-df-convert:hover {\n",
              "      background-color: #E2EBFA;\n",
              "      box-shadow: 0px 1px 2px rgba(60, 64, 67, 0.3), 0px 1px 3px 1px rgba(60, 64, 67, 0.15);\n",
              "      fill: #174EA6;\n",
              "    }\n",
              "\n",
              "    [theme=dark] .colab-df-convert {\n",
              "      background-color: #3B4455;\n",
              "      fill: #D2E3FC;\n",
              "    }\n",
              "\n",
              "    [theme=dark] .colab-df-convert:hover {\n",
              "      background-color: #434B5C;\n",
              "      box-shadow: 0px 1px 3px 1px rgba(0, 0, 0, 0.15);\n",
              "      filter: drop-shadow(0px 1px 2px rgba(0, 0, 0, 0.3));\n",
              "      fill: #FFFFFF;\n",
              "    }\n",
              "  </style>\n",
              "\n",
              "      <script>\n",
              "        const buttonEl =\n",
              "          document.querySelector('#df-65dd85da-c63f-4d7c-b463-6b643f76dd0f button.colab-df-convert');\n",
              "        buttonEl.style.display =\n",
              "          google.colab.kernel.accessAllowed ? 'block' : 'none';\n",
              "\n",
              "        async function convertToInteractive(key) {\n",
              "          const element = document.querySelector('#df-65dd85da-c63f-4d7c-b463-6b643f76dd0f');\n",
              "          const dataTable =\n",
              "            await google.colab.kernel.invokeFunction('convertToInteractive',\n",
              "                                                     [key], {});\n",
              "          if (!dataTable) return;\n",
              "\n",
              "          const docLinkHtml = 'Like what you see? Visit the ' +\n",
              "            '<a target=\"_blank\" href=https://colab.research.google.com/notebooks/data_table.ipynb>data table notebook</a>'\n",
              "            + ' to learn more about interactive tables.';\n",
              "          element.innerHTML = '';\n",
              "          dataTable['output_type'] = 'display_data';\n",
              "          await google.colab.output.renderOutput(dataTable, element);\n",
              "          const docLink = document.createElement('div');\n",
              "          docLink.innerHTML = docLinkHtml;\n",
              "          element.appendChild(docLink);\n",
              "        }\n",
              "      </script>\n",
              "    </div>\n",
              "  </div>\n",
              "  "
            ]
          },
          "metadata": {},
          "execution_count": 24
        }
      ]
    },
    {
      "cell_type": "markdown",
      "source": [
        "Final plot"
      ],
      "metadata": {
        "id": "2OnF_OMF_dPU"
      }
    },
    {
      "cell_type": "code",
      "source": [
        "import matplotlib.pyplot as plt\n",
        "big_frame.plot(x='Distance', y='ESP', style='o', figsize=(10, 5))\n",
        "plt.xlabel(\"Distance (m)\")\n",
        "plt.ylabel(\"ESP(dBm)\")\n",
        "plt.grid()"
      ],
      "metadata": {
        "colab": {
          "base_uri": "https://localhost:8080/",
          "height": 334
        },
        "id": "V4liz8HyA7pX",
        "outputId": "3d60c45e-c041-4e8b-9adc-6128589c9afd"
      },
      "execution_count": null,
      "outputs": [
        {
          "output_type": "display_data",
          "data": {
            "text/plain": [
              "<Figure size 720x360 with 1 Axes>"
            ],
            "image/png": "[encoded data removed]"
          },
          "metadata": {
            "needs_background": "light"
          }
        }
      ]
    },
    {
      "cell_type": "markdown",
      "source": [
        "Discussions:\n",
        "We believe that we were close to our value estimation for ESP(dBm). As we know, the Estimated Signal Power is the received signal strength of the device by the gateway. This graph clearly describes how the power fades away as the distance increases. For example, the density at 1000 m from the given reference point is more intense as compared to the density at 4000 m from the reference point. "
      ],
      "metadata": {
        "id": "ptUrBse0_f1b"
      }
    },
    {
      "cell_type": "markdown",
      "source": [
        "##PDR\n",
        "####Packet Delivery Ratio (PDR) can be measured as the ratio of **number of packets delivered in total** to the **total number of packets sent from source node to destination node** in the network. \n",
        "\n",
        "####Here, we have tried to demonstrate the following steps that indicate how we can calculate PDR given all the other values.\n",
        "\n",
        "####We have considered **number of packets delivered in total** as difference of (ending FrameCnt - start FrameCnt), where we have selected the packets based on certain numer of frames and that's how the start and ending frame are defines. In this scenario, we have used our X value as 10. Then, we divided this result with **total number of packets sent from source node to destination node**. "
      ],
      "metadata": {
        "id": "GhQo71G3dZSm"
      }
    },
    {
      "cell_type": "markdown",
      "source": [
        "Get all the file names of csv format from google drive and concatenates into a single dataframe."
      ],
      "metadata": {
        "id": "h_eY2TBLBVgr"
      }
    },
    {
      "cell_type": "code",
      "source": [
        "from google.colab import drive\n",
        "drive.mount('/content/gdrive')"
      ],
      "metadata": {
        "colab": {
          "base_uri": "https://localhost:8080/"
        },
        "id": "NZPEjeO3dH-U",
        "outputId": "97a502de-cd52-48b5-b68a-0039bccb489b"
      },
      "execution_count": 24,
      "outputs": [
        {
          "output_type": "stream",
          "name": "stdout",
          "text": [
            "Drive already mounted at /content/gdrive; to attempt to forcibly remount, call drive.mount(\"/content/gdrive\", force_remount=True).\n"
          ]
        }
      ]
    },
    {
      "cell_type": "code",
      "source": [
        "import glob\n",
        "\n",
        "import pandas as pd\n",
        "\n",
        "# get data file names\n",
        "\n",
        "local_path = r'/content/gdrive/MyDrive/MSU Sem - III/CSE 891/Project-2'\n",
        "\n",
        "filenames = glob.glob(local_path + \"/*.csv\")\n",
        "\n",
        "dfs = [pd.read_csv(filename) for filename in filenames]\n",
        "\n",
        "\n",
        "# if needed concatenate all data into one DataFrame\n",
        "\n",
        "big_frame = pd.concat(dfs, ignore_index=True)"
      ],
      "metadata": {
        "id": "GWmsQ6G1e1HP"
      },
      "execution_count": 25,
      "outputs": []
    },
    {
      "cell_type": "markdown",
      "source": [
        "Exploratpry Data Analysis for big_frame dataframe"
      ],
      "metadata": {
        "id": "seN7QfsoFDnP"
      }
    },
    {
      "cell_type": "code",
      "source": [
        "print(len(big_frame['FrameCnt']))"
      ],
      "metadata": {
        "colab": {
          "base_uri": "https://localhost:8080/"
        },
        "id": "J0gBgPGtlFp_",
        "outputId": "4e5313e9-5158-428b-c1b3-3587b0815126"
      },
      "execution_count": 26,
      "outputs": [
        {
          "output_type": "stream",
          "name": "stdout",
          "text": [
            "2997\n"
          ]
        }
      ]
    },
    {
      "cell_type": "code",
      "source": [
        "print(big_frame)"
      ],
      "metadata": {
        "colab": {
          "base_uri": "https://localhost:8080/"
        },
        "id": "aS9FghLD5-H1",
        "outputId": "ae0124b9-94ee-4eed-de3c-49dd9e6dab89"
      },
      "execution_count": 7,
      "outputs": [
        {
          "output_type": "stream",
          "name": "stdout",
          "text": [
            "         Distance  FrameCnt   Latitude   Longitude  RSSI   SNR  \\\n",
            "0      274.980420        30  40.008763  116.321075  -115  -2.8   \n",
            "1      311.135419        31  40.008427  116.321018  -111  -3.2   \n",
            "2      344.495933        33  40.008095  116.321048  -107   5.5   \n",
            "3      375.169022        34  40.007798  116.321065  -110  -1.2   \n",
            "4      409.558120        36  40.007472  116.321075  -113 -12.8   \n",
            "...           ...       ...        ...         ...   ...   ...   \n",
            "2992  1314.805252        51  39.999880  116.327687  -111  -7.8   \n",
            "2993  1328.007784        52  39.999868  116.328085  -109  -1.0   \n",
            "2994  1343.712964        55  39.999775  116.328278  -109   1.8   \n",
            "2995  1338.670284        56  39.999840  116.328330  -108 -12.2   \n",
            "2996  1328.996642        57  39.999948  116.328375  -110 -12.2   \n",
            "\n",
            "                                Time  \n",
            "0     2018-12-23T00:04:38.688748112Z  \n",
            "1     2018-12-23T00:04:48.415897841Z  \n",
            "2     2018-12-23T00:05:02.500091999Z  \n",
            "3     2018-12-23T00:05:08.364110358Z  \n",
            "4     2018-12-23T00:05:19.616115838Z  \n",
            "...                              ...  \n",
            "2992  2019-03-15T01:22:37.784797291Z  \n",
            "2993   2019-03-15T01:22:47.39331864Z  \n",
            "2994   2019-03-15T01:23:12.80327118Z  \n",
            "2995  2019-03-15T01:23:21.438106371Z  \n",
            "2996  2019-03-15T01:23:30.318479452Z  \n",
            "\n",
            "[2997 rows x 7 columns]\n"
          ]
        }
      ]
    },
    {
      "cell_type": "markdown",
      "source": [
        "Calculate the result by taking difference of every 10th frame and iterate until we reach the end of the data"
      ],
      "metadata": {
        "id": "vCWK5EgOFKwv"
      }
    },
    {
      "cell_type": "code",
      "source": [
        "#every ten frames\n",
        "data = big_frame\n",
        "ind = 0\n",
        "res = 0\n",
        "fin = []\n",
        "\n",
        "while len(fin) <= len(data):\n",
        "  \n",
        "  res = (abs(data['FrameCnt'][ind+10] -  data['FrameCnt'][ind]))/data['FrameCnt'][ind+10] \n",
        "  print(res) \n",
        "  if res > 1:\n",
        "    res = 1\n",
        "  for _ in range(10):\n",
        "    fin.append(res)\n",
        "  if ind + 20 >= len(data):\n",
        "    for _ in range(7):\n",
        "      fin.append(1)\n",
        "    break\n",
        "  else:\n",
        "    ind = ind + 10\n",
        "\n",
        "print(fin)\n",
        "data['pd'] = fin\n",
        "print(data['pd'])"
      ],
      "metadata": {
        "colab": {
          "base_uri": "https://localhost:8080/"
        },
        "id": "zspRLiR8B_lc",
        "outputId": "b84f4e7b-2a24-4654-f281-64379161fbe4"
      },
      "execution_count": 34,
      "outputs": [
        {
          "output_type": "stream",
          "name": "stdout",
          "text": [
            "0.5454545454545454\n",
            "0.5\n",
            "5.285714285714286\n",
            "0.6818181818181818\n",
            "0.37142857142857144\n",
            "0.6929824561403509\n",
            "0.1297709923664122\n",
            "0.31413612565445026\n",
            "0.07281553398058252\n",
            "0.10822510822510822\n",
            "0.06477732793522267\n",
            "0.01593625498007968\n",
            "0.0599250936329588\n",
            "0.0498220640569395\n",
            "0.48534798534798534\n",
            "0.05536332179930796\n",
            "0.05555555555555555\n",
            "0.0208\n",
            "0.03400309119010819\n",
            "0.04431314623338257\n",
            "0.024495677233429394\n",
            "0.030726256983240222\n",
            "0.02717391304347826\n",
            "7.363636363636363\n",
            "0.2542372881355932\n",
            "0.24358974358974358\n",
            "8.75\n",
            "0.5\n",
            "0.42857142857142855\n",
            "0.28205128205128205\n",
            "0.15217391304347827\n",
            "0.12380952380952381\n",
            "0.18604651162790697\n",
            "0.11643835616438356\n",
            "0.43137254901960786\n",
            "0.24444444444444444\n",
            "0.1346153846153846\n",
            "0.11864406779661017\n",
            "0.10152284263959391\n",
            "0.11659192825112108\n",
            "0.06302521008403361\n",
            "0.05555555555555555\n",
            "0.056179775280898875\n",
            "2.3797468354430378\n",
            "0.025974025974025976\n",
            "0.2222222222222222\n",
            "0.1951219512195122\n",
            "0.174496644295302\n",
            "0.16759776536312848\n",
            "0.432\n",
            "0.11347517730496454\n",
            "0.12962962962962962\n",
            "0.07428571428571429\n",
            "0.08854166666666667\n",
            "0.09859154929577464\n",
            "0.06578947368421052\n",
            "0.06172839506172839\n",
            "0.047058823529411764\n",
            "0.0625\n",
            "0.0684931506849315\n",
            "0.08463949843260188\n",
            "0.04776119402985075\n",
            "0.06162464985994398\n",
            "0.03773584905660377\n",
            "7.065217391304348\n",
            "0.25806451612903225\n",
            "0.16216216216216217\n",
            "0.14942528735632185\n",
            "0.6653846153846154\n",
            "1.280701754385965\n",
            "0.12307692307692308\n",
            "0.09722222222222222\n",
            "0.09433962264150944\n",
            "1.8392857142857142\n",
            "0.2328767123287671\n",
            "0.22340425531914893\n",
            "0.16071428571428573\n",
            "0.1111111111111111\n",
            "0.10638297872340426\n",
            "0.10759493670886076\n",
            "0.08139534883720931\n",
            "0.08021390374331551\n",
            "0.08333333333333333\n",
            "0.05555555555555555\n",
            "0.1037344398340249\n",
            "0.08365019011406843\n",
            "0.09621993127147767\n",
            "0.0877742946708464\n",
            "0.06725146198830409\n",
            "0.08310991957104558\n",
            "0.0812807881773399\n",
            "0.10964912280701754\n",
            "0.04801670146137787\n",
            "0.043912175648702596\n",
            "0.052930056710775046\n",
            "0.031135531135531136\n",
            "0.026737967914438502\n",
            "0.050761421319796954\n",
            "0.027960526315789474\n",
            "0.03184713375796178\n",
            "6.566265060240964\n",
            "0.16161616161616163\n",
            "0.1391304347826087\n",
            "0.1417910447761194\n",
            "0.12987012987012986\n",
            "0.08333333333333333\n",
            "0.07692307692307693\n",
            "0.08542713567839195\n",
            "0.13100436681222707\n",
            "0.0653061224489796\n",
            "0.06844106463878327\n",
            "0.06405693950177936\n",
            "2.0543478260869565\n",
            "0.20689655172413793\n",
            "0.15328467153284672\n",
            "0.29245283018867924\n",
            "0.17829457364341086\n",
            "0.12244897959183673\n",
            "0.125\n",
            "0.11578947368421053\n",
            "0.07766990291262135\n",
            "0.07207207207207207\n",
            "9.571428571428571\n",
            "0.5531914893617021\n",
            "0.22950819672131148\n",
            "0.18666666666666668\n",
            "0.8450413223140496\n",
            "0.058365758754863814\n",
            "3.112\n",
            "0.1610738255033557\n",
            "0.13872832369942195\n",
            "0.16019417475728157\n",
            "0.13807531380753138\n",
            "0.08778625954198473\n",
            "0.06093189964157706\n",
            "1.7087378640776698\n",
            "1.4523809523809523\n",
            "0.25\n",
            "0.18840579710144928\n",
            "0.7561837455830389\n",
            "0.066006600660066\n",
            "0.07339449541284404\n",
            "0.07365439093484419\n",
            "0.13054187192118227\n",
            "0.06451612903225806\n",
            "0.06060606060606061\n",
            "0.06854838709677419\n",
            "0.07635009310986965\n",
            "0.0595446584938704\n",
            "0.04355108877721943\n",
            "0.06426332288401254\n",
            "0.03479576399394856\n",
            "0.02936857562408223\n",
            "0.028530670470756064\n",
            "0.030428769017980636\n",
            "20.264705882352942\n",
            "0.46875\n",
            "0.16363636363636364\n",
            "0.2465753424657534\n",
            "0.35185185185185186\n",
            "0.41304347826086957\n",
            "0.84\n",
            "0.20634920634920634\n",
            "0.23170731707317074\n",
            "0.16326530612244897\n",
            "0.11711711711711711\n",
            "0.11904761904761904\n",
            "0.11267605633802817\n",
            "0.10126582278481013\n",
            "0.10227272727272728\n",
            "0.12437810945273632\n",
            "0.06944444444444445\n",
            "0.056768558951965066\n",
            "0.04979253112033195\n",
            "2.8870967741935485\n",
            "0.39805825242718446\n",
            "0.176\n",
            "0.17763157894736842\n",
            "0.09523809523809523\n",
            "0.08196721311475409\n",
            "0.08955223880597014\n",
            "0.06511627906976744\n",
            "0.08898305084745763\n",
            "0.07450980392156863\n",
            "0.05204460966542751\n",
            "0.04609929078014184\n",
            "1.5871559633027523\n",
            "0.703125\n",
            "0.2558139534883721\n",
            "0.18867924528301888\n",
            "0.15873015873015872\n",
            "0.10638297872340426\n",
            "0.10759493670886076\n",
            "0.20202020202020202\n",
            "0.10810810810810811\n",
            "0.0975609756097561\n",
            "0.09558823529411764\n",
            "0.09333333333333334\n",
            "0.0625\n",
            "0.06432748538011696\n",
            "0.0681198910081744\n",
            "0.05412371134020619\n",
            "5.158730158730159\n",
            "0.29213483146067415\n",
            "7.9\n",
            "0.6296296296296297\n",
            "0.34146341463414637\n",
            "0.2807017543859649\n",
            "0.19718309859154928\n",
            "0.19318181818181818\n",
            "0.14563106796116504\n",
            "0.11965811965811966\n",
            "0.10687022900763359\n",
            "0.09655172413793103\n",
            "0.09375\n",
            "0.10112359550561797\n",
            "0.07291666666666667\n",
            "0.06341463414634146\n",
            "0.05963302752293578\n",
            "0.06437768240343347\n",
            "0.05668016194331984\n",
            "0.05363984674329502\n",
            "0.05090909090909091\n",
            "0.05172413793103448\n",
            "0.05537459283387622\n",
            "0.03761755485893417\n",
            "0.04491017964071856\n",
            "0.06179775280898876\n",
            "2.56\n",
            "2.5714285714285716\n",
            "0.3488372093023256\n",
            "0.24561403508771928\n",
            "0.39361702127659576\n",
            "2.4814814814814814\n",
            "0.37209302325581395\n",
            "0.3484848484848485\n",
            "2.0\n",
            "0.42105263157894735\n",
            "0.2830188679245283\n",
            "0.5691056910569106\n",
            "0.11510791366906475\n",
            "10.583333333333334\n",
            "0.52\n",
            "0.5454545454545454\n",
            "0.36046511627906974\n",
            "0.19626168224299065\n",
            "0.12295081967213115\n",
            "0.08955223880597014\n",
            "0.10067114093959731\n",
            "0.08024691358024691\n",
            "0.0898876404494382\n",
            "0.08717948717948718\n",
            "0.08018867924528301\n",
            "0.09787234042553192\n",
            "9.681818181818182\n",
            "0.5\n",
            "0.2542372881355932\n",
            "0.20270270270270271\n",
            "0.14942528735632185\n",
            "0.1553398058252427\n",
            "0.11206896551724138\n",
            "0.1076923076923077\n",
            "0.08450704225352113\n",
            "13.2\n",
            "0.7619047619047619\n",
            "1.0\n",
            "0.4\n",
            "0.2391304347826087\n",
            "1.7058823529411764\n",
            "0.7017543859649122\n",
            "0.2191780821917808\n",
            "0.16091954022988506\n",
            "0.28688524590163933\n",
            "0.10948905109489052\n",
            "0.07432432432432433\n",
            "0.075\n",
            "1.5396825396825398\n",
            "0.14864864864864866\n",
            "0.15625\n",
            "0.3191489361702128\n",
            "0.13761467889908258\n",
            "0.128\n",
            "0.14383561643835616\n",
            "0.0875\n",
            "0.09090909090909091\n",
            "0.058823529411764705\n",
            "0.08333333333333333\n",
            "0.0684931506849315\n",
            "0.07983193277310924\n",
            "0.06666666666666667\n",
            "0.05555555555555555\n",
            "0.055944055944055944\n",
            "22.833333333333332\n",
            "0.6\n",
            "0.5\n",
            "0.5918367346938775\n",
            "1.8823529411764706\n",
            "0.5\n",
            "0.2916666666666667\n",
            "[0.5454545454545454, 0.5454545454545454, 0.5454545454545454, 0.5454545454545454, 0.5454545454545454, 0.5454545454545454, 0.5454545454545454, 0.5454545454545454, 0.5454545454545454, 0.5454545454545454, 0.5, 0.5, 0.5, 0.5, 0.5, 0.5, 0.5, 0.5, 0.5, 0.5, 1, 1, 1, 1, 1, 1, 1, 1, 1, 1, 0.6818181818181818, 0.6818181818181818, 0.6818181818181818, 0.6818181818181818, 0.6818181818181818, 0.6818181818181818, 0.6818181818181818, 0.6818181818181818, 0.6818181818181818, 0.6818181818181818, 0.37142857142857144, 0.37142857142857144, 0.37142857142857144, 0.37142857142857144, 0.37142857142857144, 0.37142857142857144, 0.37142857142857144, 0.37142857142857144, 0.37142857142857144, 0.37142857142857144, 0.6929824561403509, 0.6929824561403509, 0.6929824561403509, 0.6929824561403509, 0.6929824561403509, 0.6929824561403509, 0.6929824561403509, 0.6929824561403509, 0.6929824561403509, 0.6929824561403509, 0.1297709923664122, 0.1297709923664122, 0.1297709923664122, 0.1297709923664122, 0.1297709923664122, 0.1297709923664122, 0.1297709923664122, 0.1297709923664122, 0.1297709923664122, 0.1297709923664122, 0.31413612565445026, 0.31413612565445026, 0.31413612565445026, 0.31413612565445026, 0.31413612565445026, 0.31413612565445026, 0.31413612565445026, 0.31413612565445026, 0.31413612565445026, 0.31413612565445026, 0.07281553398058252, 0.07281553398058252, 0.07281553398058252, 0.07281553398058252, 0.07281553398058252, 0.07281553398058252, 0.07281553398058252, 0.07281553398058252, 0.07281553398058252, 0.07281553398058252, 0.10822510822510822, 0.10822510822510822, 0.10822510822510822, 0.10822510822510822, 0.10822510822510822, 0.10822510822510822, 0.10822510822510822, 0.10822510822510822, 0.10822510822510822, 0.10822510822510822, 0.06477732793522267, 0.06477732793522267, 0.06477732793522267, 0.06477732793522267, 0.06477732793522267, 0.06477732793522267, 0.06477732793522267, 0.06477732793522267, 0.06477732793522267, 0.06477732793522267, 0.01593625498007968, 0.01593625498007968, 0.01593625498007968, 0.01593625498007968, 0.01593625498007968, 0.01593625498007968, 0.01593625498007968, 0.01593625498007968, 0.01593625498007968, 0.01593625498007968, 0.0599250936329588, 0.0599250936329588, 0.0599250936329588, 0.0599250936329588, 0.0599250936329588, 0.0599250936329588, 0.0599250936329588, 0.0599250936329588, 0.0599250936329588, 0.0599250936329588, 0.0498220640569395, 0.0498220640569395, 0.0498220640569395, 0.0498220640569395, 0.0498220640569395, 0.0498220640569395, 0.0498220640569395, 0.0498220640569395, 0.0498220640569395, 0.0498220640569395, 0.48534798534798534, 0.48534798534798534, 0.48534798534798534, 0.48534798534798534, 0.48534798534798534, 0.48534798534798534, 0.48534798534798534, 0.48534798534798534, 0.48534798534798534, 0.48534798534798534, 0.05536332179930796, 0.05536332179930796, 0.05536332179930796, 0.05536332179930796, 0.05536332179930796, 0.05536332179930796, 0.05536332179930796, 0.05536332179930796, 0.05536332179930796, 0.05536332179930796, 0.05555555555555555, 0.05555555555555555, 0.05555555555555555, 0.05555555555555555, 0.05555555555555555, 0.05555555555555555, 0.05555555555555555, 0.05555555555555555, 0.05555555555555555, 0.05555555555555555, 0.0208, 0.0208, 0.0208, 0.0208, 0.0208, 0.0208, 0.0208, 0.0208, 0.0208, 0.0208, 0.03400309119010819, 0.03400309119010819, 0.03400309119010819, 0.03400309119010819, 0.03400309119010819, 0.03400309119010819, 0.03400309119010819, 0.03400309119010819, 0.03400309119010819, 0.03400309119010819, 0.04431314623338257, 0.04431314623338257, 0.04431314623338257, 0.04431314623338257, 0.04431314623338257, 0.04431314623338257, 0.04431314623338257, 0.04431314623338257, 0.04431314623338257, 0.04431314623338257, 0.024495677233429394, 0.024495677233429394, 0.024495677233429394, 0.024495677233429394, 0.024495677233429394, 0.024495677233429394, 0.024495677233429394, 0.024495677233429394, 0.024495677233429394, 0.024495677233429394, 0.030726256983240222, 0.030726256983240222, 0.030726256983240222, 0.030726256983240222, 0.030726256983240222, 0.030726256983240222, 0.030726256983240222, 0.030726256983240222, 0.030726256983240222, 0.030726256983240222, 0.02717391304347826, 0.02717391304347826, 0.02717391304347826, 0.02717391304347826, 0.02717391304347826, 0.02717391304347826, 0.02717391304347826, 0.02717391304347826, 0.02717391304347826, 0.02717391304347826, 1, 1, 1, 1, 1, 1, 1, 1, 1, 1, 0.2542372881355932, 0.2542372881355932, 0.2542372881355932, 0.2542372881355932, 0.2542372881355932, 0.2542372881355932, 0.2542372881355932, 0.2542372881355932, 0.2542372881355932, 0.2542372881355932, 0.24358974358974358, 0.24358974358974358, 0.24358974358974358, 0.24358974358974358, 0.24358974358974358, 0.24358974358974358, 0.24358974358974358, 0.24358974358974358, 0.24358974358974358, 0.24358974358974358, 1, 1, 1, 1, 1, 1, 1, 1, 1, 1, 0.5, 0.5, 0.5, 0.5, 0.5, 0.5, 0.5, 0.5, 0.5, 0.5, 0.42857142857142855, 0.42857142857142855, 0.42857142857142855, 0.42857142857142855, 0.42857142857142855, 0.42857142857142855, 0.42857142857142855, 0.42857142857142855, 0.42857142857142855, 0.42857142857142855, 0.28205128205128205, 0.28205128205128205, 0.28205128205128205, 0.28205128205128205, 0.28205128205128205, 0.28205128205128205, 0.28205128205128205, 0.28205128205128205, 0.28205128205128205, 0.28205128205128205, 0.15217391304347827, 0.15217391304347827, 0.15217391304347827, 0.15217391304347827, 0.15217391304347827, 0.15217391304347827, 0.15217391304347827, 0.15217391304347827, 0.15217391304347827, 0.15217391304347827, 0.12380952380952381, 0.12380952380952381, 0.12380952380952381, 0.12380952380952381, 0.12380952380952381, 0.12380952380952381, 0.12380952380952381, 0.12380952380952381, 0.12380952380952381, 0.12380952380952381, 0.18604651162790697, 0.18604651162790697, 0.18604651162790697, 0.18604651162790697, 0.18604651162790697, 0.18604651162790697, 0.18604651162790697, 0.18604651162790697, 0.18604651162790697, 0.18604651162790697, 0.11643835616438356, 0.11643835616438356, 0.11643835616438356, 0.11643835616438356, 0.11643835616438356, 0.11643835616438356, 0.11643835616438356, 0.11643835616438356, 0.11643835616438356, 0.11643835616438356, 0.43137254901960786, 0.43137254901960786, 0.43137254901960786, 0.43137254901960786, 0.43137254901960786, 0.43137254901960786, 0.43137254901960786, 0.43137254901960786, 0.43137254901960786, 0.43137254901960786, 0.24444444444444444, 0.24444444444444444, 0.24444444444444444, 0.24444444444444444, 0.24444444444444444, 0.24444444444444444, 0.24444444444444444, 0.24444444444444444, 0.24444444444444444, 0.24444444444444444, 0.1346153846153846, 0.1346153846153846, 0.1346153846153846, 0.1346153846153846, 0.1346153846153846, 0.1346153846153846, 0.1346153846153846, 0.1346153846153846, 0.1346153846153846, 0.1346153846153846, 0.11864406779661017, 0.11864406779661017, 0.11864406779661017, 0.11864406779661017, 0.11864406779661017, 0.11864406779661017, 0.11864406779661017, 0.11864406779661017, 0.11864406779661017, 0.11864406779661017, 0.10152284263959391, 0.10152284263959391, 0.10152284263959391, 0.10152284263959391, 0.10152284263959391, 0.10152284263959391, 0.10152284263959391, 0.10152284263959391, 0.10152284263959391, 0.10152284263959391, 0.11659192825112108, 0.11659192825112108, 0.11659192825112108, 0.11659192825112108, 0.11659192825112108, 0.11659192825112108, 0.11659192825112108, 0.11659192825112108, 0.11659192825112108, 0.11659192825112108, 0.06302521008403361, 0.06302521008403361, 0.06302521008403361, 0.06302521008403361, 0.06302521008403361, 0.06302521008403361, 0.06302521008403361, 0.06302521008403361, 0.06302521008403361, 0.06302521008403361, 0.05555555555555555, 0.05555555555555555, 0.05555555555555555, 0.05555555555555555, 0.05555555555555555, 0.05555555555555555, 0.05555555555555555, 0.05555555555555555, 0.05555555555555555, 0.05555555555555555, 0.056179775280898875, 0.056179775280898875, 0.056179775280898875, 0.056179775280898875, 0.056179775280898875, 0.056179775280898875, 0.056179775280898875, 0.056179775280898875, 0.056179775280898875, 0.056179775280898875, 1, 1, 1, 1, 1, 1, 1, 1, 1, 1, 0.025974025974025976, 0.025974025974025976, 0.025974025974025976, 0.025974025974025976, 0.025974025974025976, 0.025974025974025976, 0.025974025974025976, 0.025974025974025976, 0.025974025974025976, 0.025974025974025976, 0.2222222222222222, 0.2222222222222222, 0.2222222222222222, 0.2222222222222222, 0.2222222222222222, 0.2222222222222222, 0.2222222222222222, 0.2222222222222222, 0.2222222222222222, 0.2222222222222222, 0.1951219512195122, 0.1951219512195122, 0.1951219512195122, 0.1951219512195122, 0.1951219512195122, 0.1951219512195122, 0.1951219512195122, 0.1951219512195122, 0.1951219512195122, 0.1951219512195122, 0.174496644295302, 0.174496644295302, 0.174496644295302, 0.174496644295302, 0.174496644295302, 0.174496644295302, 0.174496644295302, 0.174496644295302, 0.174496644295302, 0.174496644295302, 0.16759776536312848, 0.16759776536312848, 0.16759776536312848, 0.16759776536312848, 0.16759776536312848, 0.16759776536312848, 0.16759776536312848, 0.16759776536312848, 0.16759776536312848, 0.16759776536312848, 0.432, 0.432, 0.432, 0.432, 0.432, 0.432, 0.432, 0.432, 0.432, 0.432, 0.11347517730496454, 0.11347517730496454, 0.11347517730496454, 0.11347517730496454, 0.11347517730496454, 0.11347517730496454, 0.11347517730496454, 0.11347517730496454, 0.11347517730496454, 0.11347517730496454, 0.12962962962962962, 0.12962962962962962, 0.12962962962962962, 0.12962962962962962, 0.12962962962962962, 0.12962962962962962, 0.12962962962962962, 0.12962962962962962, 0.12962962962962962, 0.12962962962962962, 0.07428571428571429, 0.07428571428571429, 0.07428571428571429, 0.07428571428571429, 0.07428571428571429, 0.07428571428571429, 0.07428571428571429, 0.07428571428571429, 0.07428571428571429, 0.07428571428571429, 0.08854166666666667, 0.08854166666666667, 0.08854166666666667, 0.08854166666666667, 0.08854166666666667, 0.08854166666666667, 0.08854166666666667, 0.08854166666666667, 0.08854166666666667, 0.08854166666666667, 0.09859154929577464, 0.09859154929577464, 0.09859154929577464, 0.09859154929577464, 0.09859154929577464, 0.09859154929577464, 0.09859154929577464, 0.09859154929577464, 0.09859154929577464, 0.09859154929577464, 0.06578947368421052, 0.06578947368421052, 0.06578947368421052, 0.06578947368421052, 0.06578947368421052, 0.06578947368421052, 0.06578947368421052, 0.06578947368421052, 0.06578947368421052, 0.06578947368421052, 0.06172839506172839, 0.06172839506172839, 0.06172839506172839, 0.06172839506172839, 0.06172839506172839, 0.06172839506172839, 0.06172839506172839, 0.06172839506172839, 0.06172839506172839, 0.06172839506172839, 0.047058823529411764, 0.047058823529411764, 0.047058823529411764, 0.047058823529411764, 0.047058823529411764, 0.047058823529411764, 0.047058823529411764, 0.047058823529411764, 0.047058823529411764, 0.047058823529411764, 0.0625, 0.0625, 0.0625, 0.0625, 0.0625, 0.0625, 0.0625, 0.0625, 0.0625, 0.0625, 0.0684931506849315, 0.0684931506849315, 0.0684931506849315, 0.0684931506849315, 0.0684931506849315, 0.0684931506849315, 0.0684931506849315, 0.0684931506849315, 0.0684931506849315, 0.0684931506849315, 0.08463949843260188, 0.08463949843260188, 0.08463949843260188, 0.08463949843260188, 0.08463949843260188, 0.08463949843260188, 0.08463949843260188, 0.08463949843260188, 0.08463949843260188, 0.08463949843260188, 0.04776119402985075, 0.04776119402985075, 0.04776119402985075, 0.04776119402985075, 0.04776119402985075, 0.04776119402985075, 0.04776119402985075, 0.04776119402985075, 0.04776119402985075, 0.04776119402985075, 0.06162464985994398, 0.06162464985994398, 0.06162464985994398, 0.06162464985994398, 0.06162464985994398, 0.06162464985994398, 0.06162464985994398, 0.06162464985994398, 0.06162464985994398, 0.06162464985994398, 0.03773584905660377, 0.03773584905660377, 0.03773584905660377, 0.03773584905660377, 0.03773584905660377, 0.03773584905660377, 0.03773584905660377, 0.03773584905660377, 0.03773584905660377, 0.03773584905660377, 1, 1, 1, 1, 1, 1, 1, 1, 1, 1, 0.25806451612903225, 0.25806451612903225, 0.25806451612903225, 0.25806451612903225, 0.25806451612903225, 0.25806451612903225, 0.25806451612903225, 0.25806451612903225, 0.25806451612903225, 0.25806451612903225, 0.16216216216216217, 0.16216216216216217, 0.16216216216216217, 0.16216216216216217, 0.16216216216216217, 0.16216216216216217, 0.16216216216216217, 0.16216216216216217, 0.16216216216216217, 0.16216216216216217, 0.14942528735632185, 0.14942528735632185, 0.14942528735632185, 0.14942528735632185, 0.14942528735632185, 0.14942528735632185, 0.14942528735632185, 0.14942528735632185, 0.14942528735632185, 0.14942528735632185, 0.6653846153846154, 0.6653846153846154, 0.6653846153846154, 0.6653846153846154, 0.6653846153846154, 0.6653846153846154, 0.6653846153846154, 0.6653846153846154, 0.6653846153846154, 0.6653846153846154, 1, 1, 1, 1, 1, 1, 1, 1, 1, 1, 0.12307692307692308, 0.12307692307692308, 0.12307692307692308, 0.12307692307692308, 0.12307692307692308, 0.12307692307692308, 0.12307692307692308, 0.12307692307692308, 0.12307692307692308, 0.12307692307692308, 0.09722222222222222, 0.09722222222222222, 0.09722222222222222, 0.09722222222222222, 0.09722222222222222, 0.09722222222222222, 0.09722222222222222, 0.09722222222222222, 0.09722222222222222, 0.09722222222222222, 0.09433962264150944, 0.09433962264150944, 0.09433962264150944, 0.09433962264150944, 0.09433962264150944, 0.09433962264150944, 0.09433962264150944, 0.09433962264150944, 0.09433962264150944, 0.09433962264150944, 1, 1, 1, 1, 1, 1, 1, 1, 1, 1, 0.2328767123287671, 0.2328767123287671, 0.2328767123287671, 0.2328767123287671, 0.2328767123287671, 0.2328767123287671, 0.2328767123287671, 0.2328767123287671, 0.2328767123287671, 0.2328767123287671, 0.22340425531914893, 0.22340425531914893, 0.22340425531914893, 0.22340425531914893, 0.22340425531914893, 0.22340425531914893, 0.22340425531914893, 0.22340425531914893, 0.22340425531914893, 0.22340425531914893, 0.16071428571428573, 0.16071428571428573, 0.16071428571428573, 0.16071428571428573, 0.16071428571428573, 0.16071428571428573, 0.16071428571428573, 0.16071428571428573, 0.16071428571428573, 0.16071428571428573, 0.1111111111111111, 0.1111111111111111, 0.1111111111111111, 0.1111111111111111, 0.1111111111111111, 0.1111111111111111, 0.1111111111111111, 0.1111111111111111, 0.1111111111111111, 0.1111111111111111, 0.10638297872340426, 0.10638297872340426, 0.10638297872340426, 0.10638297872340426, 0.10638297872340426, 0.10638297872340426, 0.10638297872340426, 0.10638297872340426, 0.10638297872340426, 0.10638297872340426, 0.10759493670886076, 0.10759493670886076, 0.10759493670886076, 0.10759493670886076, 0.10759493670886076, 0.10759493670886076, 0.10759493670886076, 0.10759493670886076, 0.10759493670886076, 0.10759493670886076, 0.08139534883720931, 0.08139534883720931, 0.08139534883720931, 0.08139534883720931, 0.08139534883720931, 0.08139534883720931, 0.08139534883720931, 0.08139534883720931, 0.08139534883720931, 0.08139534883720931, 0.08021390374331551, 0.08021390374331551, 0.08021390374331551, 0.08021390374331551, 0.08021390374331551, 0.08021390374331551, 0.08021390374331551, 0.08021390374331551, 0.08021390374331551, 0.08021390374331551, 0.08333333333333333, 0.08333333333333333, 0.08333333333333333, 0.08333333333333333, 0.08333333333333333, 0.08333333333333333, 0.08333333333333333, 0.08333333333333333, 0.08333333333333333, 0.08333333333333333, 0.05555555555555555, 0.05555555555555555, 0.05555555555555555, 0.05555555555555555, 0.05555555555555555, 0.05555555555555555, 0.05555555555555555, 0.05555555555555555, 0.05555555555555555, 0.05555555555555555, 0.1037344398340249, 0.1037344398340249, 0.1037344398340249, 0.1037344398340249, 0.1037344398340249, 0.1037344398340249, 0.1037344398340249, 0.1037344398340249, 0.1037344398340249, 0.1037344398340249, 0.08365019011406843, 0.08365019011406843, 0.08365019011406843, 0.08365019011406843, 0.08365019011406843, 0.08365019011406843, 0.08365019011406843, 0.08365019011406843, 0.08365019011406843, 0.08365019011406843, 0.09621993127147767, 0.09621993127147767, 0.09621993127147767, 0.09621993127147767, 0.09621993127147767, 0.09621993127147767, 0.09621993127147767, 0.09621993127147767, 0.09621993127147767, 0.09621993127147767, 0.0877742946708464, 0.0877742946708464, 0.0877742946708464, 0.0877742946708464, 0.0877742946708464, 0.0877742946708464, 0.0877742946708464, 0.0877742946708464, 0.0877742946708464, 0.0877742946708464, 0.06725146198830409, 0.06725146198830409, 0.06725146198830409, 0.06725146198830409, 0.06725146198830409, 0.06725146198830409, 0.06725146198830409, 0.06725146198830409, 0.06725146198830409, 0.06725146198830409, 0.08310991957104558, 0.08310991957104558, 0.08310991957104558, 0.08310991957104558, 0.08310991957104558, 0.08310991957104558, 0.08310991957104558, 0.08310991957104558, 0.08310991957104558, 0.08310991957104558, 0.0812807881773399, 0.0812807881773399, 0.0812807881773399, 0.0812807881773399, 0.0812807881773399, 0.0812807881773399, 0.0812807881773399, 0.0812807881773399, 0.0812807881773399, 0.0812807881773399, 0.10964912280701754, 0.10964912280701754, 0.10964912280701754, 0.10964912280701754, 0.10964912280701754, 0.10964912280701754, 0.10964912280701754, 0.10964912280701754, 0.10964912280701754, 0.10964912280701754, 0.04801670146137787, 0.04801670146137787, 0.04801670146137787, 0.04801670146137787, 0.04801670146137787, 0.04801670146137787, 0.04801670146137787, 0.04801670146137787, 0.04801670146137787, 0.04801670146137787, 0.043912175648702596, 0.043912175648702596, 0.043912175648702596, 0.043912175648702596, 0.043912175648702596, 0.043912175648702596, 0.043912175648702596, 0.043912175648702596, 0.043912175648702596, 0.043912175648702596, 0.052930056710775046, 0.052930056710775046, 0.052930056710775046, 0.052930056710775046, 0.052930056710775046, 0.052930056710775046, 0.052930056710775046, 0.052930056710775046, 0.052930056710775046, 0.052930056710775046, 0.031135531135531136, 0.031135531135531136, 0.031135531135531136, 0.031135531135531136, 0.031135531135531136, 0.031135531135531136, 0.031135531135531136, 0.031135531135531136, 0.031135531135531136, 0.031135531135531136, 0.026737967914438502, 0.026737967914438502, 0.026737967914438502, 0.026737967914438502, 0.026737967914438502, 0.026737967914438502, 0.026737967914438502, 0.026737967914438502, 0.026737967914438502, 0.026737967914438502, 0.050761421319796954, 0.050761421319796954, 0.050761421319796954, 0.050761421319796954, 0.050761421319796954, 0.050761421319796954, 0.050761421319796954, 0.050761421319796954, 0.050761421319796954, 0.050761421319796954, 0.027960526315789474, 0.027960526315789474, 0.027960526315789474, 0.027960526315789474, 0.027960526315789474, 0.027960526315789474, 0.027960526315789474, 0.027960526315789474, 0.027960526315789474, 0.027960526315789474, 0.03184713375796178, 0.03184713375796178, 0.03184713375796178, 0.03184713375796178, 0.03184713375796178, 0.03184713375796178, 0.03184713375796178, 0.03184713375796178, 0.03184713375796178, 0.03184713375796178, 1, 1, 1, 1, 1, 1, 1, 1, 1, 1, 0.16161616161616163, 0.16161616161616163, 0.16161616161616163, 0.16161616161616163, 0.16161616161616163, 0.16161616161616163, 0.16161616161616163, 0.16161616161616163, 0.16161616161616163, 0.16161616161616163, 0.1391304347826087, 0.1391304347826087, 0.1391304347826087, 0.1391304347826087, 0.1391304347826087, 0.1391304347826087, 0.1391304347826087, 0.1391304347826087, 0.1391304347826087, 0.1391304347826087, 0.1417910447761194, 0.1417910447761194, 0.1417910447761194, 0.1417910447761194, 0.1417910447761194, 0.1417910447761194, 0.1417910447761194, 0.1417910447761194, 0.1417910447761194, 0.1417910447761194, 0.12987012987012986, 0.12987012987012986, 0.12987012987012986, 0.12987012987012986, 0.12987012987012986, 0.12987012987012986, 0.12987012987012986, 0.12987012987012986, 0.12987012987012986, 0.12987012987012986, 0.08333333333333333, 0.08333333333333333, 0.08333333333333333, 0.08333333333333333, 0.08333333333333333, 0.08333333333333333, 0.08333333333333333, 0.08333333333333333, 0.08333333333333333, 0.08333333333333333, 0.07692307692307693, 0.07692307692307693, 0.07692307692307693, 0.07692307692307693, 0.07692307692307693, 0.07692307692307693, 0.07692307692307693, 0.07692307692307693, 0.07692307692307693, 0.07692307692307693, 0.08542713567839195, 0.08542713567839195, 0.08542713567839195, 0.08542713567839195, 0.08542713567839195, 0.08542713567839195, 0.08542713567839195, 0.08542713567839195, 0.08542713567839195, 0.08542713567839195, 0.13100436681222707, 0.13100436681222707, 0.13100436681222707, 0.13100436681222707, 0.13100436681222707, 0.13100436681222707, 0.13100436681222707, 0.13100436681222707, 0.13100436681222707, 0.13100436681222707, 0.0653061224489796, 0.0653061224489796, 0.0653061224489796, 0.0653061224489796, 0.0653061224489796, 0.0653061224489796, 0.0653061224489796, 0.0653061224489796, 0.0653061224489796, 0.0653061224489796, 0.06844106463878327, 0.06844106463878327, 0.06844106463878327, 0.06844106463878327, 0.06844106463878327, 0.06844106463878327, 0.06844106463878327, 0.06844106463878327, 0.06844106463878327, 0.06844106463878327, 0.06405693950177936, 0.06405693950177936, 0.06405693950177936, 0.06405693950177936, 0.06405693950177936, 0.06405693950177936, 0.06405693950177936, 0.06405693950177936, 0.06405693950177936, 0.06405693950177936, 1, 1, 1, 1, 1, 1, 1, 1, 1, 1, 0.20689655172413793, 0.20689655172413793, 0.20689655172413793, 0.20689655172413793, 0.20689655172413793, 0.20689655172413793, 0.20689655172413793, 0.20689655172413793, 0.20689655172413793, 0.20689655172413793, 0.15328467153284672, 0.15328467153284672, 0.15328467153284672, 0.15328467153284672, 0.15328467153284672, 0.15328467153284672, 0.15328467153284672, 0.15328467153284672, 0.15328467153284672, 0.15328467153284672, 0.29245283018867924, 0.29245283018867924, 0.29245283018867924, 0.29245283018867924, 0.29245283018867924, 0.29245283018867924, 0.29245283018867924, 0.29245283018867924, 0.29245283018867924, 0.29245283018867924, 0.17829457364341086, 0.17829457364341086, 0.17829457364341086, 0.17829457364341086, 0.17829457364341086, 0.17829457364341086, 0.17829457364341086, 0.17829457364341086, 0.17829457364341086, 0.17829457364341086, 0.12244897959183673, 0.12244897959183673, 0.12244897959183673, 0.12244897959183673, 0.12244897959183673, 0.12244897959183673, 0.12244897959183673, 0.12244897959183673, 0.12244897959183673, 0.12244897959183673, 0.125, 0.125, 0.125, 0.125, 0.125, 0.125, 0.125, 0.125, 0.125, 0.125, 0.11578947368421053, 0.11578947368421053, 0.11578947368421053, 0.11578947368421053, 0.11578947368421053, 0.11578947368421053, 0.11578947368421053, 0.11578947368421053, 0.11578947368421053, 0.11578947368421053, 0.07766990291262135, 0.07766990291262135, 0.07766990291262135, 0.07766990291262135, 0.07766990291262135, 0.07766990291262135, 0.07766990291262135, 0.07766990291262135, 0.07766990291262135, 0.07766990291262135, 0.07207207207207207, 0.07207207207207207, 0.07207207207207207, 0.07207207207207207, 0.07207207207207207, 0.07207207207207207, 0.07207207207207207, 0.07207207207207207, 0.07207207207207207, 0.07207207207207207, 1, 1, 1, 1, 1, 1, 1, 1, 1, 1, 0.5531914893617021, 0.5531914893617021, 0.5531914893617021, 0.5531914893617021, 0.5531914893617021, 0.5531914893617021, 0.5531914893617021, 0.5531914893617021, 0.5531914893617021, 0.5531914893617021, 0.22950819672131148, 0.22950819672131148, 0.22950819672131148, 0.22950819672131148, 0.22950819672131148, 0.22950819672131148, 0.22950819672131148, 0.22950819672131148, 0.22950819672131148, 0.22950819672131148, 0.18666666666666668, 0.18666666666666668, 0.18666666666666668, 0.18666666666666668, 0.18666666666666668, 0.18666666666666668, 0.18666666666666668, 0.18666666666666668, 0.18666666666666668, 0.18666666666666668, 0.8450413223140496, 0.8450413223140496, 0.8450413223140496, 0.8450413223140496, 0.8450413223140496, 0.8450413223140496, 0.8450413223140496, 0.8450413223140496, 0.8450413223140496, 0.8450413223140496, 0.058365758754863814, 0.058365758754863814, 0.058365758754863814, 0.058365758754863814, 0.058365758754863814, 0.058365758754863814, 0.058365758754863814, 0.058365758754863814, 0.058365758754863814, 0.058365758754863814, 1, 1, 1, 1, 1, 1, 1, 1, 1, 1, 0.1610738255033557, 0.1610738255033557, 0.1610738255033557, 0.1610738255033557, 0.1610738255033557, 0.1610738255033557, 0.1610738255033557, 0.1610738255033557, 0.1610738255033557, 0.1610738255033557, 0.13872832369942195, 0.13872832369942195, 0.13872832369942195, 0.13872832369942195, 0.13872832369942195, 0.13872832369942195, 0.13872832369942195, 0.13872832369942195, 0.13872832369942195, 0.13872832369942195, 0.16019417475728157, 0.16019417475728157, 0.16019417475728157, 0.16019417475728157, 0.16019417475728157, 0.16019417475728157, 0.16019417475728157, 0.16019417475728157, 0.16019417475728157, 0.16019417475728157, 0.13807531380753138, 0.13807531380753138, 0.13807531380753138, 0.13807531380753138, 0.13807531380753138, 0.13807531380753138, 0.13807531380753138, 0.13807531380753138, 0.13807531380753138, 0.13807531380753138, 0.08778625954198473, 0.08778625954198473, 0.08778625954198473, 0.08778625954198473, 0.08778625954198473, 0.08778625954198473, 0.08778625954198473, 0.08778625954198473, 0.08778625954198473, 0.08778625954198473, 0.06093189964157706, 0.06093189964157706, 0.06093189964157706, 0.06093189964157706, 0.06093189964157706, 0.06093189964157706, 0.06093189964157706, 0.06093189964157706, 0.06093189964157706, 0.06093189964157706, 1, 1, 1, 1, 1, 1, 1, 1, 1, 1, 1, 1, 1, 1, 1, 1, 1, 1, 1, 1, 0.25, 0.25, 0.25, 0.25, 0.25, 0.25, 0.25, 0.25, 0.25, 0.25, 0.18840579710144928, 0.18840579710144928, 0.18840579710144928, 0.18840579710144928, 0.18840579710144928, 0.18840579710144928, 0.18840579710144928, 0.18840579710144928, 0.18840579710144928, 0.18840579710144928, 0.7561837455830389, 0.7561837455830389, 0.7561837455830389, 0.7561837455830389, 0.7561837455830389, 0.7561837455830389, 0.7561837455830389, 0.7561837455830389, 0.7561837455830389, 0.7561837455830389, 0.066006600660066, 0.066006600660066, 0.066006600660066, 0.066006600660066, 0.066006600660066, 0.066006600660066, 0.066006600660066, 0.066006600660066, 0.066006600660066, 0.066006600660066, 0.07339449541284404, 0.07339449541284404, 0.07339449541284404, 0.07339449541284404, 0.07339449541284404, 0.07339449541284404, 0.07339449541284404, 0.07339449541284404, 0.07339449541284404, 0.07339449541284404, 0.07365439093484419, 0.07365439093484419, 0.07365439093484419, 0.07365439093484419, 0.07365439093484419, 0.07365439093484419, 0.07365439093484419, 0.07365439093484419, 0.07365439093484419, 0.07365439093484419, 0.13054187192118227, 0.13054187192118227, 0.13054187192118227, 0.13054187192118227, 0.13054187192118227, 0.13054187192118227, 0.13054187192118227, 0.13054187192118227, 0.13054187192118227, 0.13054187192118227, 0.06451612903225806, 0.06451612903225806, 0.06451612903225806, 0.06451612903225806, 0.06451612903225806, 0.06451612903225806, 0.06451612903225806, 0.06451612903225806, 0.06451612903225806, 0.06451612903225806, 0.06060606060606061, 0.06060606060606061, 0.06060606060606061, 0.06060606060606061, 0.06060606060606061, 0.06060606060606061, 0.06060606060606061, 0.06060606060606061, 0.06060606060606061, 0.06060606060606061, 0.06854838709677419, 0.06854838709677419, 0.06854838709677419, 0.06854838709677419, 0.06854838709677419, 0.06854838709677419, 0.06854838709677419, 0.06854838709677419, 0.06854838709677419, 0.06854838709677419, 0.07635009310986965, 0.07635009310986965, 0.07635009310986965, 0.07635009310986965, 0.07635009310986965, 0.07635009310986965, 0.07635009310986965, 0.07635009310986965, 0.07635009310986965, 0.07635009310986965, 0.0595446584938704, 0.0595446584938704, 0.0595446584938704, 0.0595446584938704, 0.0595446584938704, 0.0595446584938704, 0.0595446584938704, 0.0595446584938704, 0.0595446584938704, 0.0595446584938704, 0.04355108877721943, 0.04355108877721943, 0.04355108877721943, 0.04355108877721943, 0.04355108877721943, 0.04355108877721943, 0.04355108877721943, 0.04355108877721943, 0.04355108877721943, 0.04355108877721943, 0.06426332288401254, 0.06426332288401254, 0.06426332288401254, 0.06426332288401254, 0.06426332288401254, 0.06426332288401254, 0.06426332288401254, 0.06426332288401254, 0.06426332288401254, 0.06426332288401254, 0.03479576399394856, 0.03479576399394856, 0.03479576399394856, 0.03479576399394856, 0.03479576399394856, 0.03479576399394856, 0.03479576399394856, 0.03479576399394856, 0.03479576399394856, 0.03479576399394856, 0.02936857562408223, 0.02936857562408223, 0.02936857562408223, 0.02936857562408223, 0.02936857562408223, 0.02936857562408223, 0.02936857562408223, 0.02936857562408223, 0.02936857562408223, 0.02936857562408223, 0.028530670470756064, 0.028530670470756064, 0.028530670470756064, 0.028530670470756064, 0.028530670470756064, 0.028530670470756064, 0.028530670470756064, 0.028530670470756064, 0.028530670470756064, 0.028530670470756064, 0.030428769017980636, 0.030428769017980636, 0.030428769017980636, 0.030428769017980636, 0.030428769017980636, 0.030428769017980636, 0.030428769017980636, 0.030428769017980636, 0.030428769017980636, 0.030428769017980636, 1, 1, 1, 1, 1, 1, 1, 1, 1, 1, 0.46875, 0.46875, 0.46875, 0.46875, 0.46875, 0.46875, 0.46875, 0.46875, 0.46875, 0.46875, 0.16363636363636364, 0.16363636363636364, 0.16363636363636364, 0.16363636363636364, 0.16363636363636364, 0.16363636363636364, 0.16363636363636364, 0.16363636363636364, 0.16363636363636364, 0.16363636363636364, 0.2465753424657534, 0.2465753424657534, 0.2465753424657534, 0.2465753424657534, 0.2465753424657534, 0.2465753424657534, 0.2465753424657534, 0.2465753424657534, 0.2465753424657534, 0.2465753424657534, 0.35185185185185186, 0.35185185185185186, 0.35185185185185186, 0.35185185185185186, 0.35185185185185186, 0.35185185185185186, 0.35185185185185186, 0.35185185185185186, 0.35185185185185186, 0.35185185185185186, 0.41304347826086957, 0.41304347826086957, 0.41304347826086957, 0.41304347826086957, 0.41304347826086957, 0.41304347826086957, 0.41304347826086957, 0.41304347826086957, 0.41304347826086957, 0.41304347826086957, 0.84, 0.84, 0.84, 0.84, 0.84, 0.84, 0.84, 0.84, 0.84, 0.84, 0.20634920634920634, 0.20634920634920634, 0.20634920634920634, 0.20634920634920634, 0.20634920634920634, 0.20634920634920634, 0.20634920634920634, 0.20634920634920634, 0.20634920634920634, 0.20634920634920634, 0.23170731707317074, 0.23170731707317074, 0.23170731707317074, 0.23170731707317074, 0.23170731707317074, 0.23170731707317074, 0.23170731707317074, 0.23170731707317074, 0.23170731707317074, 0.23170731707317074, 0.16326530612244897, 0.16326530612244897, 0.16326530612244897, 0.16326530612244897, 0.16326530612244897, 0.16326530612244897, 0.16326530612244897, 0.16326530612244897, 0.16326530612244897, 0.16326530612244897, 0.11711711711711711, 0.11711711711711711, 0.11711711711711711, 0.11711711711711711, 0.11711711711711711, 0.11711711711711711, 0.11711711711711711, 0.11711711711711711, 0.11711711711711711, 0.11711711711711711, 0.11904761904761904, 0.11904761904761904, 0.11904761904761904, 0.11904761904761904, 0.11904761904761904, 0.11904761904761904, 0.11904761904761904, 0.11904761904761904, 0.11904761904761904, 0.11904761904761904, 0.11267605633802817, 0.11267605633802817, 0.11267605633802817, 0.11267605633802817, 0.11267605633802817, 0.11267605633802817, 0.11267605633802817, 0.11267605633802817, 0.11267605633802817, 0.11267605633802817, 0.10126582278481013, 0.10126582278481013, 0.10126582278481013, 0.10126582278481013, 0.10126582278481013, 0.10126582278481013, 0.10126582278481013, 0.10126582278481013, 0.10126582278481013, 0.10126582278481013, 0.10227272727272728, 0.10227272727272728, 0.10227272727272728, 0.10227272727272728, 0.10227272727272728, 0.10227272727272728, 0.10227272727272728, 0.10227272727272728, 0.10227272727272728, 0.10227272727272728, 0.12437810945273632, 0.12437810945273632, 0.12437810945273632, 0.12437810945273632, 0.12437810945273632, 0.12437810945273632, 0.12437810945273632, 0.12437810945273632, 0.12437810945273632, 0.12437810945273632, 0.06944444444444445, 0.06944444444444445, 0.06944444444444445, 0.06944444444444445, 0.06944444444444445, 0.06944444444444445, 0.06944444444444445, 0.06944444444444445, 0.06944444444444445, 0.06944444444444445, 0.056768558951965066, 0.056768558951965066, 0.056768558951965066, 0.056768558951965066, 0.056768558951965066, 0.056768558951965066, 0.056768558951965066, 0.056768558951965066, 0.056768558951965066, 0.056768558951965066, 0.04979253112033195, 0.04979253112033195, 0.04979253112033195, 0.04979253112033195, 0.04979253112033195, 0.04979253112033195, 0.04979253112033195, 0.04979253112033195, 0.04979253112033195, 0.04979253112033195, 1, 1, 1, 1, 1, 1, 1, 1, 1, 1, 0.39805825242718446, 0.39805825242718446, 0.39805825242718446, 0.39805825242718446, 0.39805825242718446, 0.39805825242718446, 0.39805825242718446, 0.39805825242718446, 0.39805825242718446, 0.39805825242718446, 0.176, 0.176, 0.176, 0.176, 0.176, 0.176, 0.176, 0.176, 0.176, 0.176, 0.17763157894736842, 0.17763157894736842, 0.17763157894736842, 0.17763157894736842, 0.17763157894736842, 0.17763157894736842, 0.17763157894736842, 0.17763157894736842, 0.17763157894736842, 0.17763157894736842, 0.09523809523809523, 0.09523809523809523, 0.09523809523809523, 0.09523809523809523, 0.09523809523809523, 0.09523809523809523, 0.09523809523809523, 0.09523809523809523, 0.09523809523809523, 0.09523809523809523, 0.08196721311475409, 0.08196721311475409, 0.08196721311475409, 0.08196721311475409, 0.08196721311475409, 0.08196721311475409, 0.08196721311475409, 0.08196721311475409, 0.08196721311475409, 0.08196721311475409, 0.08955223880597014, 0.08955223880597014, 0.08955223880597014, 0.08955223880597014, 0.08955223880597014, 0.08955223880597014, 0.08955223880597014, 0.08955223880597014, 0.08955223880597014, 0.08955223880597014, 0.06511627906976744, 0.06511627906976744, 0.06511627906976744, 0.06511627906976744, 0.06511627906976744, 0.06511627906976744, 0.06511627906976744, 0.06511627906976744, 0.06511627906976744, 0.06511627906976744, 0.08898305084745763, 0.08898305084745763, 0.08898305084745763, 0.08898305084745763, 0.08898305084745763, 0.08898305084745763, 0.08898305084745763, 0.08898305084745763, 0.08898305084745763, 0.08898305084745763, 0.07450980392156863, 0.07450980392156863, 0.07450980392156863, 0.07450980392156863, 0.07450980392156863, 0.07450980392156863, 0.07450980392156863, 0.07450980392156863, 0.07450980392156863, 0.07450980392156863, 0.05204460966542751, 0.05204460966542751, 0.05204460966542751, 0.05204460966542751, 0.05204460966542751, 0.05204460966542751, 0.05204460966542751, 0.05204460966542751, 0.05204460966542751, 0.05204460966542751, 0.04609929078014184, 0.04609929078014184, 0.04609929078014184, 0.04609929078014184, 0.04609929078014184, 0.04609929078014184, 0.04609929078014184, 0.04609929078014184, 0.04609929078014184, 0.04609929078014184, 1, 1, 1, 1, 1, 1, 1, 1, 1, 1, 0.703125, 0.703125, 0.703125, 0.703125, 0.703125, 0.703125, 0.703125, 0.703125, 0.703125, 0.703125, 0.2558139534883721, 0.2558139534883721, 0.2558139534883721, 0.2558139534883721, 0.2558139534883721, 0.2558139534883721, 0.2558139534883721, 0.2558139534883721, 0.2558139534883721, 0.2558139534883721, 0.18867924528301888, 0.18867924528301888, 0.18867924528301888, 0.18867924528301888, 0.18867924528301888, 0.18867924528301888, 0.18867924528301888, 0.18867924528301888, 0.18867924528301888, 0.18867924528301888, 0.15873015873015872, 0.15873015873015872, 0.15873015873015872, 0.15873015873015872, 0.15873015873015872, 0.15873015873015872, 0.15873015873015872, 0.15873015873015872, 0.15873015873015872, 0.15873015873015872, 0.10638297872340426, 0.10638297872340426, 0.10638297872340426, 0.10638297872340426, 0.10638297872340426, 0.10638297872340426, 0.10638297872340426, 0.10638297872340426, 0.10638297872340426, 0.10638297872340426, 0.10759493670886076, 0.10759493670886076, 0.10759493670886076, 0.10759493670886076, 0.10759493670886076, 0.10759493670886076, 0.10759493670886076, 0.10759493670886076, 0.10759493670886076, 0.10759493670886076, 0.20202020202020202, 0.20202020202020202, 0.20202020202020202, 0.20202020202020202, 0.20202020202020202, 0.20202020202020202, 0.20202020202020202, 0.20202020202020202, 0.20202020202020202, 0.20202020202020202, 0.10810810810810811, 0.10810810810810811, 0.10810810810810811, 0.10810810810810811, 0.10810810810810811, 0.10810810810810811, 0.10810810810810811, 0.10810810810810811, 0.10810810810810811, 0.10810810810810811, 0.0975609756097561, 0.0975609756097561, 0.0975609756097561, 0.0975609756097561, 0.0975609756097561, 0.0975609756097561, 0.0975609756097561, 0.0975609756097561, 0.0975609756097561, 0.0975609756097561, 0.09558823529411764, 0.09558823529411764, 0.09558823529411764, 0.09558823529411764, 0.09558823529411764, 0.09558823529411764, 0.09558823529411764, 0.09558823529411764, 0.09558823529411764, 0.09558823529411764, 0.09333333333333334, 0.09333333333333334, 0.09333333333333334, 0.09333333333333334, 0.09333333333333334, 0.09333333333333334, 0.09333333333333334, 0.09333333333333334, 0.09333333333333334, 0.09333333333333334, 0.0625, 0.0625, 0.0625, 0.0625, 0.0625, 0.0625, 0.0625, 0.0625, 0.0625, 0.0625, 0.06432748538011696, 0.06432748538011696, 0.06432748538011696, 0.06432748538011696, 0.06432748538011696, 0.06432748538011696, 0.06432748538011696, 0.06432748538011696, 0.06432748538011696, 0.06432748538011696, 0.0681198910081744, 0.0681198910081744, 0.0681198910081744, 0.0681198910081744, 0.0681198910081744, 0.0681198910081744, 0.0681198910081744, 0.0681198910081744, 0.0681198910081744, 0.0681198910081744, 0.05412371134020619, 0.05412371134020619, 0.05412371134020619, 0.05412371134020619, 0.05412371134020619, 0.05412371134020619, 0.05412371134020619, 0.05412371134020619, 0.05412371134020619, 0.05412371134020619, 1, 1, 1, 1, 1, 1, 1, 1, 1, 1, 0.29213483146067415, 0.29213483146067415, 0.29213483146067415, 0.29213483146067415, 0.29213483146067415, 0.29213483146067415, 0.29213483146067415, 0.29213483146067415, 0.29213483146067415, 0.29213483146067415, 1, 1, 1, 1, 1, 1, 1, 1, 1, 1, 0.6296296296296297, 0.6296296296296297, 0.6296296296296297, 0.6296296296296297, 0.6296296296296297, 0.6296296296296297, 0.6296296296296297, 0.6296296296296297, 0.6296296296296297, 0.6296296296296297, 0.34146341463414637, 0.34146341463414637, 0.34146341463414637, 0.34146341463414637, 0.34146341463414637, 0.34146341463414637, 0.34146341463414637, 0.34146341463414637, 0.34146341463414637, 0.34146341463414637, 0.2807017543859649, 0.2807017543859649, 0.2807017543859649, 0.2807017543859649, 0.2807017543859649, 0.2807017543859649, 0.2807017543859649, 0.2807017543859649, 0.2807017543859649, 0.2807017543859649, 0.19718309859154928, 0.19718309859154928, 0.19718309859154928, 0.19718309859154928, 0.19718309859154928, 0.19718309859154928, 0.19718309859154928, 0.19718309859154928, 0.19718309859154928, 0.19718309859154928, 0.19318181818181818, 0.19318181818181818, 0.19318181818181818, 0.19318181818181818, 0.19318181818181818, 0.19318181818181818, 0.19318181818181818, 0.19318181818181818, 0.19318181818181818, 0.19318181818181818, 0.14563106796116504, 0.14563106796116504, 0.14563106796116504, 0.14563106796116504, 0.14563106796116504, 0.14563106796116504, 0.14563106796116504, 0.14563106796116504, 0.14563106796116504, 0.14563106796116504, 0.11965811965811966, 0.11965811965811966, 0.11965811965811966, 0.11965811965811966, 0.11965811965811966, 0.11965811965811966, 0.11965811965811966, 0.11965811965811966, 0.11965811965811966, 0.11965811965811966, 0.10687022900763359, 0.10687022900763359, 0.10687022900763359, 0.10687022900763359, 0.10687022900763359, 0.10687022900763359, 0.10687022900763359, 0.10687022900763359, 0.10687022900763359, 0.10687022900763359, 0.09655172413793103, 0.09655172413793103, 0.09655172413793103, 0.09655172413793103, 0.09655172413793103, 0.09655172413793103, 0.09655172413793103, 0.09655172413793103, 0.09655172413793103, 0.09655172413793103, 0.09375, 0.09375, 0.09375, 0.09375, 0.09375, 0.09375, 0.09375, 0.09375, 0.09375, 0.09375, 0.10112359550561797, 0.10112359550561797, 0.10112359550561797, 0.10112359550561797, 0.10112359550561797, 0.10112359550561797, 0.10112359550561797, 0.10112359550561797, 0.10112359550561797, 0.10112359550561797, 0.07291666666666667, 0.07291666666666667, 0.07291666666666667, 0.07291666666666667, 0.07291666666666667, 0.07291666666666667, 0.07291666666666667, 0.07291666666666667, 0.07291666666666667, 0.07291666666666667, 0.06341463414634146, 0.06341463414634146, 0.06341463414634146, 0.06341463414634146, 0.06341463414634146, 0.06341463414634146, 0.06341463414634146, 0.06341463414634146, 0.06341463414634146, 0.06341463414634146, 0.05963302752293578, 0.05963302752293578, 0.05963302752293578, 0.05963302752293578, 0.05963302752293578, 0.05963302752293578, 0.05963302752293578, 0.05963302752293578, 0.05963302752293578, 0.05963302752293578, 0.06437768240343347, 0.06437768240343347, 0.06437768240343347, 0.06437768240343347, 0.06437768240343347, 0.06437768240343347, 0.06437768240343347, 0.06437768240343347, 0.06437768240343347, 0.06437768240343347, 0.05668016194331984, 0.05668016194331984, 0.05668016194331984, 0.05668016194331984, 0.05668016194331984, 0.05668016194331984, 0.05668016194331984, 0.05668016194331984, 0.05668016194331984, 0.05668016194331984, 0.05363984674329502, 0.05363984674329502, 0.05363984674329502, 0.05363984674329502, 0.05363984674329502, 0.05363984674329502, 0.05363984674329502, 0.05363984674329502, 0.05363984674329502, 0.05363984674329502, 0.05090909090909091, 0.05090909090909091, 0.05090909090909091, 0.05090909090909091, 0.05090909090909091, 0.05090909090909091, 0.05090909090909091, 0.05090909090909091, 0.05090909090909091, 0.05090909090909091, 0.05172413793103448, 0.05172413793103448, 0.05172413793103448, 0.05172413793103448, 0.05172413793103448, 0.05172413793103448, 0.05172413793103448, 0.05172413793103448, 0.05172413793103448, 0.05172413793103448, 0.05537459283387622, 0.05537459283387622, 0.05537459283387622, 0.05537459283387622, 0.05537459283387622, 0.05537459283387622, 0.05537459283387622, 0.05537459283387622, 0.05537459283387622, 0.05537459283387622, 0.03761755485893417, 0.03761755485893417, 0.03761755485893417, 0.03761755485893417, 0.03761755485893417, 0.03761755485893417, 0.03761755485893417, 0.03761755485893417, 0.03761755485893417, 0.03761755485893417, 0.04491017964071856, 0.04491017964071856, 0.04491017964071856, 0.04491017964071856, 0.04491017964071856, 0.04491017964071856, 0.04491017964071856, 0.04491017964071856, 0.04491017964071856, 0.04491017964071856, 0.06179775280898876, 0.06179775280898876, 0.06179775280898876, 0.06179775280898876, 0.06179775280898876, 0.06179775280898876, 0.06179775280898876, 0.06179775280898876, 0.06179775280898876, 0.06179775280898876, 1, 1, 1, 1, 1, 1, 1, 1, 1, 1, 1, 1, 1, 1, 1, 1, 1, 1, 1, 1, 0.3488372093023256, 0.3488372093023256, 0.3488372093023256, 0.3488372093023256, 0.3488372093023256, 0.3488372093023256, 0.3488372093023256, 0.3488372093023256, 0.3488372093023256, 0.3488372093023256, 0.24561403508771928, 0.24561403508771928, 0.24561403508771928, 0.24561403508771928, 0.24561403508771928, 0.24561403508771928, 0.24561403508771928, 0.24561403508771928, 0.24561403508771928, 0.24561403508771928, 0.39361702127659576, 0.39361702127659576, 0.39361702127659576, 0.39361702127659576, 0.39361702127659576, 0.39361702127659576, 0.39361702127659576, 0.39361702127659576, 0.39361702127659576, 0.39361702127659576, 1, 1, 1, 1, 1, 1, 1, 1, 1, 1, 0.37209302325581395, 0.37209302325581395, 0.37209302325581395, 0.37209302325581395, 0.37209302325581395, 0.37209302325581395, 0.37209302325581395, 0.37209302325581395, 0.37209302325581395, 0.37209302325581395, 0.3484848484848485, 0.3484848484848485, 0.3484848484848485, 0.3484848484848485, 0.3484848484848485, 0.3484848484848485, 0.3484848484848485, 0.3484848484848485, 0.3484848484848485, 0.3484848484848485, 1, 1, 1, 1, 1, 1, 1, 1, 1, 1, 0.42105263157894735, 0.42105263157894735, 0.42105263157894735, 0.42105263157894735, 0.42105263157894735, 0.42105263157894735, 0.42105263157894735, 0.42105263157894735, 0.42105263157894735, 0.42105263157894735, 0.2830188679245283, 0.2830188679245283, 0.2830188679245283, 0.2830188679245283, 0.2830188679245283, 0.2830188679245283, 0.2830188679245283, 0.2830188679245283, 0.2830188679245283, 0.2830188679245283, 0.5691056910569106, 0.5691056910569106, 0.5691056910569106, 0.5691056910569106, 0.5691056910569106, 0.5691056910569106, 0.5691056910569106, 0.5691056910569106, 0.5691056910569106, 0.5691056910569106, 0.11510791366906475, 0.11510791366906475, 0.11510791366906475, 0.11510791366906475, 0.11510791366906475, 0.11510791366906475, 0.11510791366906475, 0.11510791366906475, 0.11510791366906475, 0.11510791366906475, 1, 1, 1, 1, 1, 1, 1, 1, 1, 1, 0.52, 0.52, 0.52, 0.52, 0.52, 0.52, 0.52, 0.52, 0.52, 0.52, 0.5454545454545454, 0.5454545454545454, 0.5454545454545454, 0.5454545454545454, 0.5454545454545454, 0.5454545454545454, 0.5454545454545454, 0.5454545454545454, 0.5454545454545454, 0.5454545454545454, 0.36046511627906974, 0.36046511627906974, 0.36046511627906974, 0.36046511627906974, 0.36046511627906974, 0.36046511627906974, 0.36046511627906974, 0.36046511627906974, 0.36046511627906974, 0.36046511627906974, 0.19626168224299065, 0.19626168224299065, 0.19626168224299065, 0.19626168224299065, 0.19626168224299065, 0.19626168224299065, 0.19626168224299065, 0.19626168224299065, 0.19626168224299065, 0.19626168224299065, 0.12295081967213115, 0.12295081967213115, 0.12295081967213115, 0.12295081967213115, 0.12295081967213115, 0.12295081967213115, 0.12295081967213115, 0.12295081967213115, 0.12295081967213115, 0.12295081967213115, 0.08955223880597014, 0.08955223880597014, 0.08955223880597014, 0.08955223880597014, 0.08955223880597014, 0.08955223880597014, 0.08955223880597014, 0.08955223880597014, 0.08955223880597014, 0.08955223880597014, 0.10067114093959731, 0.10067114093959731, 0.10067114093959731, 0.10067114093959731, 0.10067114093959731, 0.10067114093959731, 0.10067114093959731, 0.10067114093959731, 0.10067114093959731, 0.10067114093959731, 0.08024691358024691, 0.08024691358024691, 0.08024691358024691, 0.08024691358024691, 0.08024691358024691, 0.08024691358024691, 0.08024691358024691, 0.08024691358024691, 0.08024691358024691, 0.08024691358024691, 0.0898876404494382, 0.0898876404494382, 0.0898876404494382, 0.0898876404494382, 0.0898876404494382, 0.0898876404494382, 0.0898876404494382, 0.0898876404494382, 0.0898876404494382, 0.0898876404494382, 0.08717948717948718, 0.08717948717948718, 0.08717948717948718, 0.08717948717948718, 0.08717948717948718, 0.08717948717948718, 0.08717948717948718, 0.08717948717948718, 0.08717948717948718, 0.08717948717948718, 0.08018867924528301, 0.08018867924528301, 0.08018867924528301, 0.08018867924528301, 0.08018867924528301, 0.08018867924528301, 0.08018867924528301, 0.08018867924528301, 0.08018867924528301, 0.08018867924528301, 0.09787234042553192, 0.09787234042553192, 0.09787234042553192, 0.09787234042553192, 0.09787234042553192, 0.09787234042553192, 0.09787234042553192, 0.09787234042553192, 0.09787234042553192, 0.09787234042553192, 1, 1, 1, 1, 1, 1, 1, 1, 1, 1, 0.5, 0.5, 0.5, 0.5, 0.5, 0.5, 0.5, 0.5, 0.5, 0.5, 0.2542372881355932, 0.2542372881355932, 0.2542372881355932, 0.2542372881355932, 0.2542372881355932, 0.2542372881355932, 0.2542372881355932, 0.2542372881355932, 0.2542372881355932, 0.2542372881355932, 0.20270270270270271, 0.20270270270270271, 0.20270270270270271, 0.20270270270270271, 0.20270270270270271, 0.20270270270270271, 0.20270270270270271, 0.20270270270270271, 0.20270270270270271, 0.20270270270270271, 0.14942528735632185, 0.14942528735632185, 0.14942528735632185, 0.14942528735632185, 0.14942528735632185, 0.14942528735632185, 0.14942528735632185, 0.14942528735632185, 0.14942528735632185, 0.14942528735632185, 0.1553398058252427, 0.1553398058252427, 0.1553398058252427, 0.1553398058252427, 0.1553398058252427, 0.1553398058252427, 0.1553398058252427, 0.1553398058252427, 0.1553398058252427, 0.1553398058252427, 0.11206896551724138, 0.11206896551724138, 0.11206896551724138, 0.11206896551724138, 0.11206896551724138, 0.11206896551724138, 0.11206896551724138, 0.11206896551724138, 0.11206896551724138, 0.11206896551724138, 0.1076923076923077, 0.1076923076923077, 0.1076923076923077, 0.1076923076923077, 0.1076923076923077, 0.1076923076923077, 0.1076923076923077, 0.1076923076923077, 0.1076923076923077, 0.1076923076923077, 0.08450704225352113, 0.08450704225352113, 0.08450704225352113, 0.08450704225352113, 0.08450704225352113, 0.08450704225352113, 0.08450704225352113, 0.08450704225352113, 0.08450704225352113, 0.08450704225352113, 1, 1, 1, 1, 1, 1, 1, 1, 1, 1, 0.7619047619047619, 0.7619047619047619, 0.7619047619047619, 0.7619047619047619, 0.7619047619047619, 0.7619047619047619, 0.7619047619047619, 0.7619047619047619, 0.7619047619047619, 0.7619047619047619, 1.0, 1.0, 1.0, 1.0, 1.0, 1.0, 1.0, 1.0, 1.0, 1.0, 0.4, 0.4, 0.4, 0.4, 0.4, 0.4, 0.4, 0.4, 0.4, 0.4, 0.2391304347826087, 0.2391304347826087, 0.2391304347826087, 0.2391304347826087, 0.2391304347826087, 0.2391304347826087, 0.2391304347826087, 0.2391304347826087, 0.2391304347826087, 0.2391304347826087, 1, 1, 1, 1, 1, 1, 1, 1, 1, 1, 0.7017543859649122, 0.7017543859649122, 0.7017543859649122, 0.7017543859649122, 0.7017543859649122, 0.7017543859649122, 0.7017543859649122, 0.7017543859649122, 0.7017543859649122, 0.7017543859649122, 0.2191780821917808, 0.2191780821917808, 0.2191780821917808, 0.2191780821917808, 0.2191780821917808, 0.2191780821917808, 0.2191780821917808, 0.2191780821917808, 0.2191780821917808, 0.2191780821917808, 0.16091954022988506, 0.16091954022988506, 0.16091954022988506, 0.16091954022988506, 0.16091954022988506, 0.16091954022988506, 0.16091954022988506, 0.16091954022988506, 0.16091954022988506, 0.16091954022988506, 0.28688524590163933, 0.28688524590163933, 0.28688524590163933, 0.28688524590163933, 0.28688524590163933, 0.28688524590163933, 0.28688524590163933, 0.28688524590163933, 0.28688524590163933, 0.28688524590163933, 0.10948905109489052, 0.10948905109489052, 0.10948905109489052, 0.10948905109489052, 0.10948905109489052, 0.10948905109489052, 0.10948905109489052, 0.10948905109489052, 0.10948905109489052, 0.10948905109489052, 0.07432432432432433, 0.07432432432432433, 0.07432432432432433, 0.07432432432432433, 0.07432432432432433, 0.07432432432432433, 0.07432432432432433, 0.07432432432432433, 0.07432432432432433, 0.07432432432432433, 0.075, 0.075, 0.075, 0.075, 0.075, 0.075, 0.075, 0.075, 0.075, 0.075, 1, 1, 1, 1, 1, 1, 1, 1, 1, 1, 0.14864864864864866, 0.14864864864864866, 0.14864864864864866, 0.14864864864864866, 0.14864864864864866, 0.14864864864864866, 0.14864864864864866, 0.14864864864864866, 0.14864864864864866, 0.14864864864864866, 0.15625, 0.15625, 0.15625, 0.15625, 0.15625, 0.15625, 0.15625, 0.15625, 0.15625, 0.15625, 0.3191489361702128, 0.3191489361702128, 0.3191489361702128, 0.3191489361702128, 0.3191489361702128, 0.3191489361702128, 0.3191489361702128, 0.3191489361702128, 0.3191489361702128, 0.3191489361702128, 0.13761467889908258, 0.13761467889908258, 0.13761467889908258, 0.13761467889908258, 0.13761467889908258, 0.13761467889908258, 0.13761467889908258, 0.13761467889908258, 0.13761467889908258, 0.13761467889908258, 0.128, 0.128, 0.128, 0.128, 0.128, 0.128, 0.128, 0.128, 0.128, 0.128, 0.14383561643835616, 0.14383561643835616, 0.14383561643835616, 0.14383561643835616, 0.14383561643835616, 0.14383561643835616, 0.14383561643835616, 0.14383561643835616, 0.14383561643835616, 0.14383561643835616, 0.0875, 0.0875, 0.0875, 0.0875, 0.0875, 0.0875, 0.0875, 0.0875, 0.0875, 0.0875, 0.09090909090909091, 0.09090909090909091, 0.09090909090909091, 0.09090909090909091, 0.09090909090909091, 0.09090909090909091, 0.09090909090909091, 0.09090909090909091, 0.09090909090909091, 0.09090909090909091, 0.058823529411764705, 0.058823529411764705, 0.058823529411764705, 0.058823529411764705, 0.058823529411764705, 0.058823529411764705, 0.058823529411764705, 0.058823529411764705, 0.058823529411764705, 0.058823529411764705, 0.08333333333333333, 0.08333333333333333, 0.08333333333333333, 0.08333333333333333, 0.08333333333333333, 0.08333333333333333, 0.08333333333333333, 0.08333333333333333, 0.08333333333333333, 0.08333333333333333, 0.0684931506849315, 0.0684931506849315, 0.0684931506849315, 0.0684931506849315, 0.0684931506849315, 0.0684931506849315, 0.0684931506849315, 0.0684931506849315, 0.0684931506849315, 0.0684931506849315, 0.07983193277310924, 0.07983193277310924, 0.07983193277310924, 0.07983193277310924, 0.07983193277310924, 0.07983193277310924, 0.07983193277310924, 0.07983193277310924, 0.07983193277310924, 0.07983193277310924, 0.06666666666666667, 0.06666666666666667, 0.06666666666666667, 0.06666666666666667, 0.06666666666666667, 0.06666666666666667, 0.06666666666666667, 0.06666666666666667, 0.06666666666666667, 0.06666666666666667, 0.05555555555555555, 0.05555555555555555, 0.05555555555555555, 0.05555555555555555, 0.05555555555555555, 0.05555555555555555, 0.05555555555555555, 0.05555555555555555, 0.05555555555555555, 0.05555555555555555, 0.055944055944055944, 0.055944055944055944, 0.055944055944055944, 0.055944055944055944, 0.055944055944055944, 0.055944055944055944, 0.055944055944055944, 0.055944055944055944, 0.055944055944055944, 0.055944055944055944, 1, 1, 1, 1, 1, 1, 1, 1, 1, 1, 0.6, 0.6, 0.6, 0.6, 0.6, 0.6, 0.6, 0.6, 0.6, 0.6, 0.5, 0.5, 0.5, 0.5, 0.5, 0.5, 0.5, 0.5, 0.5, 0.5, 0.5918367346938775, 0.5918367346938775, 0.5918367346938775, 0.5918367346938775, 0.5918367346938775, 0.5918367346938775, 0.5918367346938775, 0.5918367346938775, 0.5918367346938775, 0.5918367346938775, 1, 1, 1, 1, 1, 1, 1, 1, 1, 1, 0.5, 0.5, 0.5, 0.5, 0.5, 0.5, 0.5, 0.5, 0.5, 0.5, 0.2916666666666667, 0.2916666666666667, 0.2916666666666667, 0.2916666666666667, 0.2916666666666667, 0.2916666666666667, 0.2916666666666667, 0.2916666666666667, 0.2916666666666667, 0.2916666666666667, 1, 1, 1, 1, 1, 1, 1]\n",
            "0       0.545455\n",
            "1       0.545455\n",
            "2       0.545455\n",
            "3       0.545455\n",
            "4       0.545455\n",
            "          ...   \n",
            "2992    1.000000\n",
            "2993    1.000000\n",
            "2994    1.000000\n",
            "2995    1.000000\n",
            "2996    1.000000\n",
            "Name: pd, Length: 2997, dtype: float64\n"
          ]
        }
      ]
    },
    {
      "cell_type": "markdown",
      "source": [
        "Numpy array result of PDR values"
      ],
      "metadata": {
        "id": "nWVGenyOFTie"
      }
    },
    {
      "cell_type": "code",
      "source": [
        "import numpy as np\n",
        "fin_arr = np.array(fin)\n",
        "fin_arr"
      ],
      "metadata": {
        "colab": {
          "base_uri": "https://localhost:8080/"
        },
        "id": "MEeNQd7XDm0N",
        "outputId": "1ac13505-d0df-4bcd-9ca5-f03d83ad3a15"
      },
      "execution_count": 33,
      "outputs": [
        {
          "output_type": "execute_result",
          "data": {
            "text/plain": [
              "array([0.54545455, 0.54545455, 0.54545455, ..., 1.        , 1.        ,\n",
              "       1.        ])"
            ]
          },
          "metadata": {},
          "execution_count": 33
        }
      ]
    },
    {
      "cell_type": "markdown",
      "source": [
        "Display data after adding 'pd' value column"
      ],
      "metadata": {
        "id": "PYghhA-qFckl"
      }
    },
    {
      "cell_type": "code",
      "source": [
        "print(data)"
      ],
      "metadata": {
        "colab": {
          "base_uri": "https://localhost:8080/"
        },
        "id": "as8JLus5xPFe",
        "outputId": "764291a9-8fe3-4b07-ae16-37312607db6c"
      },
      "execution_count": null,
      "outputs": [
        {
          "output_type": "stream",
          "name": "stdout",
          "text": [
            "              PL     Distance  FrameCnt   Latitude   Longitude  RSSI   SNR  \\\n",
            "0     120.973228  1392.196048         9  39.999805  116.329747  -101   6.0   \n",
            "1     137.377360  1407.306048        14  39.999673  116.329800  -111  -6.5   \n",
            "2     136.437759  1409.669260        15  39.999603  116.329678  -113  -2.5   \n",
            "3     135.002895  1408.405755        16  39.999597  116.329627  -112  -1.8   \n",
            "4     140.193310  1402.407396        17  39.999587  116.329437  -115  -5.0   \n",
            "...          ...          ...       ...        ...         ...   ...   ...   \n",
            "7188  140.073822  1293.231155        48  39.999835  116.326698  -112  -8.5   \n",
            "7189  137.737602  1299.925429        50  39.999888  116.327185  -106 -12.5   \n",
            "7190  138.466832  1314.805252        51  39.999880  116.327687  -111  -7.8   \n",
            "7191  131.539019  1328.007784        52  39.999868  116.328085  -109  -1.0   \n",
            "7192  130.202895  1343.712964        55  39.999775  116.328278  -109   1.8   \n",
            "\n",
            "                                Time         n       PDR        pd  \n",
            "0     2018-12-22T08:40:13.928014071Z  1.422158  0.000973  0.709677  \n",
            "1     2018-12-22T08:40:48.618759381Z  6.023443  0.000973  0.709677  \n",
            "2     2018-12-22T08:40:58.803296196Z  5.763654  0.000973  0.709677  \n",
            "3        2018-12-22T08:41:07.863896Z  5.359706  0.000973  0.709677  \n",
            "4        2018-12-22T08:41:18.235099Z  6.803881  0.000973  0.709677  \n",
            "...                              ...       ...       ...       ...  \n",
            "7188  2019-03-15T01:22:17.533416799Z  6.574343  0.000973  0.333333  \n",
            "7189  2019-03-15T01:22:31.781146313Z  5.950863  0.000973  0.333333  \n",
            "7190  2019-03-15T01:22:37.784797291Z  6.175086  0.000973  1.000000  \n",
            "7191   2019-03-15T01:22:47.39331864Z  4.296939  0.000973  1.000000  \n",
            "7192   2019-03-15T01:23:12.80327118Z  3.947201  0.000973  1.000000  \n",
            "\n",
            "[7193 rows x 11 columns]\n"
          ]
        }
      ]
    },
    {
      "cell_type": "markdown",
      "source": [
        "Tryig to figure out the max range of 'pd' column"
      ],
      "metadata": {
        "id": "fxBto1SnFlvy"
      }
    },
    {
      "cell_type": "code",
      "source": [
        "max(data['pd'])"
      ],
      "metadata": {
        "colab": {
          "base_uri": "https://localhost:8080/"
        },
        "id": "LOVqfkyFyjBT",
        "outputId": "aad4d2f9-5338-4266-e5b8-966d84e71c38"
      },
      "execution_count": null,
      "outputs": [
        {
          "output_type": "execute_result",
          "data": {
            "text/plain": [
              "1.0"
            ]
          },
          "metadata": {},
          "execution_count": 171
        }
      ]
    },
    {
      "cell_type": "markdown",
      "source": [
        "Final result of plotting PDR(dBm) vs Distance(m)"
      ],
      "metadata": {
        "id": "HnrQlJ6LFrOn"
      }
    },
    {
      "cell_type": "code",
      "source": [
        "import matplotlib.pyplot as plt\n",
        "data.plot(x='Distance', y='pd', style='o', figsize=(10, 5))\n",
        "plt.xlabel(\"Distance (m)\")\n",
        "plt.ylabel(\"PDR(dBm)\")\n",
        "plt.grid()"
      ],
      "metadata": {
        "colab": {
          "base_uri": "https://localhost:8080/",
          "height": 465
        },
        "id": "S5FeWaVDxKii",
        "outputId": "ee7e3524-ff33-43a7-aa0b-7807a6158c37"
      },
      "execution_count": null,
      "outputs": [
        {
          "output_type": "display_data",
          "data": {
            "text/plain": [
              "<Figure size 1000x500 with 1 Axes>"
            ],
            "image/png": "[encoded data removed]"
          },
          "metadata": {}
        }
      ]
    },
    {
      "cell_type": "markdown",
      "source": [
        "Tried to plot respective results of single csv files to get an overall idea of the entire cummulative plot"
      ],
      "metadata": {
        "id": "xRkPylQLFwf2"
      }
    },
    {
      "cell_type": "code",
      "source": [
        "import matplotlib.pyplot as plt\n",
        "data.plot(x='Distance', y='PDR', style='o', figsize=(10, 5))\n",
        "plt.xlabel(\"Distance (m)\")\n",
        "plt.ylabel(\"PDR(dBm)\")\n",
        "plt.grid()"
      ],
      "metadata": {
        "colab": {
          "base_uri": "https://localhost:8080/",
          "height": 334
        },
        "id": "IHFP5_KAyMmr",
        "outputId": "c6331648-f57c-4339-b3de-7643edb9a772"
      },
      "execution_count": null,
      "outputs": [
        {
          "output_type": "display_data",
          "data": {
            "text/plain": [
              "<Figure size 720x360 with 1 Axes>"
            ],
            "image/png": "[encoded data removed]"
          },
          "metadata": {
            "needs_background": "light"
          }
        }
      ]
    },
    {
      "cell_type": "code",
      "source": [
        "import matplotlib.pyplot as plt\n",
        "data.plot(x='Distance', y='PDR', style='o', figsize=(10, 5))\n",
        "plt.xlabel(\"Distance (m)\")\n",
        "plt.ylabel(\"PDR(dBm)\")\n",
        "plt.grid()"
      ],
      "metadata": {
        "colab": {
          "base_uri": "https://localhost:8080/",
          "height": 334
        },
        "id": "VnClicvgjxrV",
        "outputId": "3ab6eeab-d701-4cbd-a3fe-659212a04a3c"
      },
      "execution_count": null,
      "outputs": [
        {
          "output_type": "display_data",
          "data": {
            "text/plain": [
              "<Figure size 720x360 with 1 Axes>"
            ],
            "image/png": "[encoded data removed]"
          },
          "metadata": {
            "needs_background": "light"
          }
        }
      ]
    },
    {
      "cell_type": "markdown",
      "source": [
        "Discussions: We believe that we were close to our value estimation for PDR(dBm). As mentioend before our X value was taken as 10 and then average it to get the final result that lead to getting maximum PDR point in the range as visible in the graph. We could have experimented with different X values to give various results. "
      ],
      "metadata": {
        "id": "NZPstLEzQ7sS"
      }
    },
    {
      "cell_type": "markdown",
      "source": [
        "#Part - 2 Link Model Exploration (60 Points)"
      ],
      "metadata": {
        "id": "VsiZuhrOyjNj"
      }
    },
    {
      "cell_type": "markdown",
      "source": [
        "Read data from csv file"
      ],
      "metadata": {
        "id": "vngtbBvNJ6tF"
      }
    },
    {
      "cell_type": "code",
      "source": [
        "import pandas as pd\n",
        "data = pd.read_csv('/content/sample_data/train.csv')\n",
        "print(data)"
      ],
      "metadata": {
        "colab": {
          "base_uri": "https://localhost:8080/"
        },
        "id": "CI7ynd658pRd",
        "outputId": "a8f48d81-30bc-413b-f519-c550fc004f99"
      },
      "execution_count": null,
      "outputs": [
        {
          "output_type": "stream",
          "name": "stdout",
          "text": [
            "              PL     Distance  FrameCnt   Latitude   Longitude  RSSI   SNR  \\\n",
            "0     120.973228  1392.196048         9  39.999805  116.329747  -101   6.0   \n",
            "1     137.377360  1407.306048        14  39.999673  116.329800  -111  -6.5   \n",
            "2     136.437759  1409.669260        15  39.999603  116.329678  -113  -2.5   \n",
            "3     135.002895  1408.405755        16  39.999597  116.329627  -112  -1.8   \n",
            "4     140.193310  1402.407396        17  39.999587  116.329437  -115  -5.0   \n",
            "...          ...          ...       ...        ...         ...   ...   ...   \n",
            "7188  140.073822  1293.231155        48  39.999835  116.326698  -112  -8.5   \n",
            "7189  137.737602  1299.925429        50  39.999888  116.327185  -106 -12.5   \n",
            "7190  138.466832  1314.805252        51  39.999880  116.327687  -111  -7.8   \n",
            "7191  131.539019  1328.007784        52  39.999868  116.328085  -109  -1.0   \n",
            "7192  130.202895  1343.712964        55  39.999775  116.328278  -109   1.8   \n",
            "\n",
            "                                Time  \n",
            "0     2018-12-22T08:40:13.928014071Z  \n",
            "1     2018-12-22T08:40:48.618759381Z  \n",
            "2     2018-12-22T08:40:58.803296196Z  \n",
            "3        2018-12-22T08:41:07.863896Z  \n",
            "4        2018-12-22T08:41:18.235099Z  \n",
            "...                              ...  \n",
            "7188  2019-03-15T01:22:17.533416799Z  \n",
            "7189  2019-03-15T01:22:31.781146313Z  \n",
            "7190  2019-03-15T01:22:37.784797291Z  \n",
            "7191   2019-03-15T01:22:47.39331864Z  \n",
            "7192   2019-03-15T01:23:12.80327118Z  \n",
            "\n",
            "[7193 rows x 8 columns]\n"
          ]
        }
      ]
    },
    {
      "cell_type": "markdown",
      "source": [
        "To calculate d0 value"
      ],
      "metadata": {
        "id": "sdSCSEh9L4Rp"
      }
    },
    {
      "cell_type": "code",
      "source": [
        "d0=min(data['Distance'])\n",
        "print(d0)"
      ],
      "metadata": {
        "colab": {
          "base_uri": "https://localhost:8080/"
        },
        "id": "JPGbxE_28sQY",
        "outputId": "be2b71ad-10ce-42b4-d0ae-c33d4a197882"
      },
      "execution_count": null,
      "outputs": [
        {
          "output_type": "stream",
          "name": "stdout",
          "text": [
            "85.44144273899816\n"
          ]
        }
      ]
    },
    {
      "cell_type": "markdown",
      "source": [
        "To calculate PL0 value as per d0"
      ],
      "metadata": {
        "id": "GYg3NJ2HL87C"
      }
    },
    {
      "cell_type": "code",
      "source": [
        "mask = data['Distance'].values == d0\n",
        "PL0 = data[mask]['PL']\n",
        "PL0"
      ],
      "metadata": {
        "colab": {
          "base_uri": "https://localhost:8080/"
        },
        "id": "uIfLS38X8uVu",
        "outputId": "cb13a2a6-9428-4edc-f909-0253c5f8ebfa"
      },
      "execution_count": null,
      "outputs": [
        {
          "output_type": "execute_result",
          "data": {
            "text/plain": [
              "5766    115.87736\n",
              "Name: PL, dtype: float64"
            ]
          },
          "metadata": {},
          "execution_count": 37
        }
      ]
    },
    {
      "cell_type": "code",
      "source": [
        "data"
      ],
      "metadata": {
        "colab": {
          "base_uri": "https://localhost:8080/",
          "height": 424
        },
        "id": "MzEUgaua-Hk4",
        "outputId": "cf991ff0-24ad-479f-8c05-9370ce192b2b"
      },
      "execution_count": null,
      "outputs": [
        {
          "output_type": "execute_result",
          "data": {
            "text/plain": [
              "              PL     Distance  FrameCnt   Latitude   Longitude  RSSI   SNR  \\\n",
              "0     120.973228  1392.196048         9  39.999805  116.329747  -101   6.0   \n",
              "1     137.377360  1407.306048        14  39.999673  116.329800  -111  -6.5   \n",
              "2     136.437759  1409.669260        15  39.999603  116.329678  -113  -2.5   \n",
              "3     135.002895  1408.405755        16  39.999597  116.329627  -112  -1.8   \n",
              "4     140.193310  1402.407396        17  39.999587  116.329437  -115  -5.0   \n",
              "...          ...          ...       ...        ...         ...   ...   ...   \n",
              "7188  140.073822  1293.231155        48  39.999835  116.326698  -112  -8.5   \n",
              "7189  137.737602  1299.925429        50  39.999888  116.327185  -106 -12.5   \n",
              "7190  138.466832  1314.805252        51  39.999880  116.327687  -111  -7.8   \n",
              "7191  131.539019  1328.007784        52  39.999868  116.328085  -109  -1.0   \n",
              "7192  130.202895  1343.712964        55  39.999775  116.328278  -109   1.8   \n",
              "\n",
              "                                Time  \n",
              "0     2018-12-22T08:40:13.928014071Z  \n",
              "1     2018-12-22T08:40:48.618759381Z  \n",
              "2     2018-12-22T08:40:58.803296196Z  \n",
              "3        2018-12-22T08:41:07.863896Z  \n",
              "4        2018-12-22T08:41:18.235099Z  \n",
              "...                              ...  \n",
              "7188  2019-03-15T01:22:17.533416799Z  \n",
              "7189  2019-03-15T01:22:31.781146313Z  \n",
              "7190  2019-03-15T01:22:37.784797291Z  \n",
              "7191   2019-03-15T01:22:47.39331864Z  \n",
              "7192   2019-03-15T01:23:12.80327118Z  \n",
              "\n",
              "[7193 rows x 8 columns]"
            ],
            "text/html": [
              "\n",
              "  <div id=\"df-4e3b5a31-4fe3-4d86-b255-fd26fa6fa188\">\n",
              "    <div class=\"colab-df-container\">\n",
              "      <div>\n",
              "<style scoped>\n",
              "    .dataframe tbody tr th:only-of-type {\n",
              "        vertical-align: middle;\n",
              "    }\n",
              "\n",
              "    .dataframe tbody tr th {\n",
              "        vertical-align: top;\n",
              "    }\n",
              "\n",
              "    .dataframe thead th {\n",
              "        text-align: right;\n",
              "    }\n",
              "</style>\n",
              "<table border=\"1\" class=\"dataframe\">\n",
              "  <thead>\n",
              "    <tr style=\"text-align: right;\">\n",
              "      <th></th>\n",
              "      <th>PL</th>\n",
              "      <th>Distance</th>\n",
              "      <th>FrameCnt</th>\n",
              "      <th>Latitude</th>\n",
              "      <th>Longitude</th>\n",
              "      <th>RSSI</th>\n",
              "      <th>SNR</th>\n",
              "      <th>Time</th>\n",
              "    </tr>\n",
              "  </thead>\n",
              "  <tbody>\n",
              "    <tr>\n",
              "      <th>0</th>\n",
              "      <td>120.973228</td>\n",
              "      <td>1392.196048</td>\n",
              "      <td>9</td>\n",
              "      <td>39.999805</td>\n",
              "      <td>116.329747</td>\n",
              "      <td>-101</td>\n",
              "      <td>6.0</td>\n",
              "      <td>2018-12-22T08:40:13.928014071Z</td>\n",
              "    </tr>\n",
              "    <tr>\n",
              "      <th>1</th>\n",
              "      <td>137.377360</td>\n",
              "      <td>1407.306048</td>\n",
              "      <td>14</td>\n",
              "      <td>39.999673</td>\n",
              "      <td>116.329800</td>\n",
              "      <td>-111</td>\n",
              "      <td>-6.5</td>\n",
              "      <td>2018-12-22T08:40:48.618759381Z</td>\n",
              "    </tr>\n",
              "    <tr>\n",
              "      <th>2</th>\n",
              "      <td>136.437759</td>\n",
              "      <td>1409.669260</td>\n",
              "      <td>15</td>\n",
              "      <td>39.999603</td>\n",
              "      <td>116.329678</td>\n",
              "      <td>-113</td>\n",
              "      <td>-2.5</td>\n",
              "      <td>2018-12-22T08:40:58.803296196Z</td>\n",
              "    </tr>\n",
              "    <tr>\n",
              "      <th>3</th>\n",
              "      <td>135.002895</td>\n",
              "      <td>1408.405755</td>\n",
              "      <td>16</td>\n",
              "      <td>39.999597</td>\n",
              "      <td>116.329627</td>\n",
              "      <td>-112</td>\n",
              "      <td>-1.8</td>\n",
              "      <td>2018-12-22T08:41:07.863896Z</td>\n",
              "    </tr>\n",
              "    <tr>\n",
              "      <th>4</th>\n",
              "      <td>140.193310</td>\n",
              "      <td>1402.407396</td>\n",
              "      <td>17</td>\n",
              "      <td>39.999587</td>\n",
              "      <td>116.329437</td>\n",
              "      <td>-115</td>\n",
              "      <td>-5.0</td>\n",
              "      <td>2018-12-22T08:41:18.235099Z</td>\n",
              "    </tr>\n",
              "    <tr>\n",
              "      <th>...</th>\n",
              "      <td>...</td>\n",
              "      <td>...</td>\n",
              "      <td>...</td>\n",
              "      <td>...</td>\n",
              "      <td>...</td>\n",
              "      <td>...</td>\n",
              "      <td>...</td>\n",
              "      <td>...</td>\n",
              "    </tr>\n",
              "    <tr>\n",
              "      <th>7188</th>\n",
              "      <td>140.073822</td>\n",
              "      <td>1293.231155</td>\n",
              "      <td>48</td>\n",
              "      <td>39.999835</td>\n",
              "      <td>116.326698</td>\n",
              "      <td>-112</td>\n",
              "      <td>-8.5</td>\n",
              "      <td>2019-03-15T01:22:17.533416799Z</td>\n",
              "    </tr>\n",
              "    <tr>\n",
              "      <th>7189</th>\n",
              "      <td>137.737602</td>\n",
              "      <td>1299.925429</td>\n",
              "      <td>50</td>\n",
              "      <td>39.999888</td>\n",
              "      <td>116.327185</td>\n",
              "      <td>-106</td>\n",
              "      <td>-12.5</td>\n",
              "      <td>2019-03-15T01:22:31.781146313Z</td>\n",
              "    </tr>\n",
              "    <tr>\n",
              "      <th>7190</th>\n",
              "      <td>138.466832</td>\n",
              "      <td>1314.805252</td>\n",
              "      <td>51</td>\n",
              "      <td>39.999880</td>\n",
              "      <td>116.327687</td>\n",
              "      <td>-111</td>\n",
              "      <td>-7.8</td>\n",
              "      <td>2019-03-15T01:22:37.784797291Z</td>\n",
              "    </tr>\n",
              "    <tr>\n",
              "      <th>7191</th>\n",
              "      <td>131.539019</td>\n",
              "      <td>1328.007784</td>\n",
              "      <td>52</td>\n",
              "      <td>39.999868</td>\n",
              "      <td>116.328085</td>\n",
              "      <td>-109</td>\n",
              "      <td>-1.0</td>\n",
              "      <td>2019-03-15T01:22:47.39331864Z</td>\n",
              "    </tr>\n",
              "    <tr>\n",
              "      <th>7192</th>\n",
              "      <td>130.202895</td>\n",
              "      <td>1343.712964</td>\n",
              "      <td>55</td>\n",
              "      <td>39.999775</td>\n",
              "      <td>116.328278</td>\n",
              "      <td>-109</td>\n",
              "      <td>1.8</td>\n",
              "      <td>2019-03-15T01:23:12.80327118Z</td>\n",
              "    </tr>\n",
              "  </tbody>\n",
              "</table>\n",
              "<p>7193 rows × 8 columns</p>\n",
              "</div>\n",
              "      <button class=\"colab-df-convert\" onclick=\"convertToInteractive('df-4e3b5a31-4fe3-4d86-b255-fd26fa6fa188')\"\n",
              "              title=\"Convert this dataframe to an interactive table.\"\n",
              "              style=\"display:none;\">\n",
              "        \n",
              "  <svg xmlns=\"http://www.w3.org/2000/svg\" height=\"24px\"viewBox=\"0 0 24 24\"\n",
              "       width=\"24px\">\n",
              "    <path d=\"M0 0h24v24H0V0z\" fill=\"none\"/>\n",
              "    <path d=\"M18.56 5.44l.94 2.06.94-2.06 2.06-.94-2.06-.94-.94-2.06-.94 2.06-2.06.94zm-11 1L8.5 8.5l.94-2.06 2.06-.94-2.06-.94L8.5 2.5l-.94 2.06-2.06.94zm10 10l.94 2.06.94-2.06 2.06-.94-2.06-.94-.94-2.06-.94 2.06-2.06.94z\"/><path d=\"M17.41 7.96l-1.37-1.37c-.4-.4-.92-.59-1.43-.59-.52 0-1.04.2-1.43.59L10.3 9.45l-7.72 7.72c-.78.78-.78 2.05 0 2.83L4 21.41c.39.39.9.59 1.41.59.51 0 1.02-.2 1.41-.59l7.78-7.78 2.81-2.81c.8-.78.8-2.07 0-2.86zM5.41 20L4 18.59l7.72-7.72 1.47 1.35L5.41 20z\"/>\n",
              "  </svg>\n",
              "      </button>\n",
              "      \n",
              "  <style>\n",
              "    .colab-df-container {\n",
              "      display:flex;\n",
              "      flex-wrap:wrap;\n",
              "      gap: 12px;\n",
              "    }\n",
              "\n",
              "    .colab-df-convert {\n",
              "      background-color: #E8F0FE;\n",
              "      border: none;\n",
              "      border-radius: 50%;\n",
              "      cursor: pointer;\n",
              "      display: none;\n",
              "      fill: #1967D2;\n",
              "      height: 32px;\n",
              "      padding: 0 0 0 0;\n",
              "      width: 32px;\n",
              "    }\n",
              "\n",
              "    .colab-df-convert:hover {\n",
              "      background-color: #E2EBFA;\n",
              "      box-shadow: 0px 1px 2px rgba(60, 64, 67, 0.3), 0px 1px 3px 1px rgba(60, 64, 67, 0.15);\n",
              "      fill: #174EA6;\n",
              "    }\n",
              "\n",
              "    [theme=dark] .colab-df-convert {\n",
              "      background-color: #3B4455;\n",
              "      fill: #D2E3FC;\n",
              "    }\n",
              "\n",
              "    [theme=dark] .colab-df-convert:hover {\n",
              "      background-color: #434B5C;\n",
              "      box-shadow: 0px 1px 3px 1px rgba(0, 0, 0, 0.15);\n",
              "      filter: drop-shadow(0px 1px 2px rgba(0, 0, 0, 0.3));\n",
              "      fill: #FFFFFF;\n",
              "    }\n",
              "  </style>\n",
              "\n",
              "      <script>\n",
              "        const buttonEl =\n",
              "          document.querySelector('#df-4e3b5a31-4fe3-4d86-b255-fd26fa6fa188 button.colab-df-convert');\n",
              "        buttonEl.style.display =\n",
              "          google.colab.kernel.accessAllowed ? 'block' : 'none';\n",
              "\n",
              "        async function convertToInteractive(key) {\n",
              "          const element = document.querySelector('#df-4e3b5a31-4fe3-4d86-b255-fd26fa6fa188');\n",
              "          const dataTable =\n",
              "            await google.colab.kernel.invokeFunction('convertToInteractive',\n",
              "                                                     [key], {});\n",
              "          if (!dataTable) return;\n",
              "\n",
              "          const docLinkHtml = 'Like what you see? Visit the ' +\n",
              "            '<a target=\"_blank\" href=https://colab.research.google.com/notebooks/data_table.ipynb>data table notebook</a>'\n",
              "            + ' to learn more about interactive tables.';\n",
              "          element.innerHTML = '';\n",
              "          dataTable['output_type'] = 'display_data';\n",
              "          await google.colab.output.renderOutput(dataTable, element);\n",
              "          const docLink = document.createElement('div');\n",
              "          docLink.innerHTML = docLinkHtml;\n",
              "          element.appendChild(docLink);\n",
              "        }\n",
              "      </script>\n",
              "    </div>\n",
              "  </div>\n",
              "  "
            ]
          },
          "metadata": {},
          "execution_count": 20
        }
      ]
    },
    {
      "cell_type": "markdown",
      "source": [
        "Use the formula mentioned in the project specs "
      ],
      "metadata": {
        "id": "cD_RI6pdMCNH"
      }
    },
    {
      "cell_type": "code",
      "source": [
        "import math\n",
        "res = []\n",
        "for i in range(len(data)):\n",
        "  #print('float(data[PL][i])-float(PL0)',float(data['PL'][i])-float(PL0))\n",
        "  #print(\"10*math.log(float(data['Distance'][i])/float(d0)\",10*math.log(float(data['Distance'][i])/float(d0)))\n",
        "  res.append((float(data['PL'][i])-float(PL0))/10*math.log(float(data['Distance'][i])/float(d0)))"
      ],
      "metadata": {
        "id": "8I8Q4CLi7tdS"
      },
      "execution_count": null,
      "outputs": []
    },
    {
      "cell_type": "markdown",
      "source": [
        "Use the res as the dataframe 'n'"
      ],
      "metadata": {
        "id": "oqv8LiGmMc-Q"
      }
    },
    {
      "cell_type": "code",
      "source": [
        "data['n'] = res\n",
        "print(data['n'])"
      ],
      "metadata": {
        "colab": {
          "base_uri": "https://localhost:8080/"
        },
        "id": "SKeJqTH2_NCb",
        "outputId": "50d5472e-5624-4075-e3e9-5c9da85d4826"
      },
      "execution_count": null,
      "outputs": [
        {
          "output_type": "stream",
          "name": "stdout",
          "text": [
            "0       1.422158\n",
            "1       6.023443\n",
            "2       5.763654\n",
            "3       5.359706\n",
            "4       6.803881\n",
            "          ...   \n",
            "7188    6.574343\n",
            "7189    5.950863\n",
            "7190    6.175086\n",
            "7191    4.296939\n",
            "7192    3.947201\n",
            "Name: n, Length: 7193, dtype: float64\n"
          ]
        }
      ]
    },
    {
      "cell_type": "code",
      "source": [
        "data.head(2)"
      ],
      "metadata": {
        "colab": {
          "base_uri": "https://localhost:8080/",
          "height": 112
        },
        "id": "7ehAq18GCz0y",
        "outputId": "c0a60026-4d12-4e0a-c027-c81a8486f2ee"
      },
      "execution_count": null,
      "outputs": [
        {
          "output_type": "execute_result",
          "data": {
            "text/plain": [
              "           PL     Distance  FrameCnt   Latitude   Longitude  RSSI  SNR  \\\n",
              "0  120.973228  1392.196048         9  39.999805  116.329747  -101  6.0   \n",
              "1  137.377360  1407.306048        14  39.999673  116.329800  -111 -6.5   \n",
              "\n",
              "                             Time         n  \n",
              "0  2018-12-22T08:40:13.928014071Z  1.422158  \n",
              "1  2018-12-22T08:40:48.618759381Z  6.023443  "
            ],
            "text/html": [
              "\n",
              "  <div id=\"df-431c8f03-20a7-4d3d-b9e3-61180e42d83a\">\n",
              "    <div class=\"colab-df-container\">\n",
              "      <div>\n",
              "<style scoped>\n",
              "    .dataframe tbody tr th:only-of-type {\n",
              "        vertical-align: middle;\n",
              "    }\n",
              "\n",
              "    .dataframe tbody tr th {\n",
              "        vertical-align: top;\n",
              "    }\n",
              "\n",
              "    .dataframe thead th {\n",
              "        text-align: right;\n",
              "    }\n",
              "</style>\n",
              "<table border=\"1\" class=\"dataframe\">\n",
              "  <thead>\n",
              "    <tr style=\"text-align: right;\">\n",
              "      <th></th>\n",
              "      <th>PL</th>\n",
              "      <th>Distance</th>\n",
              "      <th>FrameCnt</th>\n",
              "      <th>Latitude</th>\n",
              "      <th>Longitude</th>\n",
              "      <th>RSSI</th>\n",
              "      <th>SNR</th>\n",
              "      <th>Time</th>\n",
              "      <th>n</th>\n",
              "    </tr>\n",
              "  </thead>\n",
              "  <tbody>\n",
              "    <tr>\n",
              "      <th>0</th>\n",
              "      <td>120.973228</td>\n",
              "      <td>1392.196048</td>\n",
              "      <td>9</td>\n",
              "      <td>39.999805</td>\n",
              "      <td>116.329747</td>\n",
              "      <td>-101</td>\n",
              "      <td>6.0</td>\n",
              "      <td>2018-12-22T08:40:13.928014071Z</td>\n",
              "      <td>1.422158</td>\n",
              "    </tr>\n",
              "    <tr>\n",
              "      <th>1</th>\n",
              "      <td>137.377360</td>\n",
              "      <td>1407.306048</td>\n",
              "      <td>14</td>\n",
              "      <td>39.999673</td>\n",
              "      <td>116.329800</td>\n",
              "      <td>-111</td>\n",
              "      <td>-6.5</td>\n",
              "      <td>2018-12-22T08:40:48.618759381Z</td>\n",
              "      <td>6.023443</td>\n",
              "    </tr>\n",
              "  </tbody>\n",
              "</table>\n",
              "</div>\n",
              "      <button class=\"colab-df-convert\" onclick=\"convertToInteractive('df-431c8f03-20a7-4d3d-b9e3-61180e42d83a')\"\n",
              "              title=\"Convert this dataframe to an interactive table.\"\n",
              "              style=\"display:none;\">\n",
              "        \n",
              "  <svg xmlns=\"http://www.w3.org/2000/svg\" height=\"24px\"viewBox=\"0 0 24 24\"\n",
              "       width=\"24px\">\n",
              "    <path d=\"M0 0h24v24H0V0z\" fill=\"none\"/>\n",
              "    <path d=\"M18.56 5.44l.94 2.06.94-2.06 2.06-.94-2.06-.94-.94-2.06-.94 2.06-2.06.94zm-11 1L8.5 8.5l.94-2.06 2.06-.94-2.06-.94L8.5 2.5l-.94 2.06-2.06.94zm10 10l.94 2.06.94-2.06 2.06-.94-2.06-.94-.94-2.06-.94 2.06-2.06.94z\"/><path d=\"M17.41 7.96l-1.37-1.37c-.4-.4-.92-.59-1.43-.59-.52 0-1.04.2-1.43.59L10.3 9.45l-7.72 7.72c-.78.78-.78 2.05 0 2.83L4 21.41c.39.39.9.59 1.41.59.51 0 1.02-.2 1.41-.59l7.78-7.78 2.81-2.81c.8-.78.8-2.07 0-2.86zM5.41 20L4 18.59l7.72-7.72 1.47 1.35L5.41 20z\"/>\n",
              "  </svg>\n",
              "      </button>\n",
              "      \n",
              "  <style>\n",
              "    .colab-df-container {\n",
              "      display:flex;\n",
              "      flex-wrap:wrap;\n",
              "      gap: 12px;\n",
              "    }\n",
              "\n",
              "    .colab-df-convert {\n",
              "      background-color: #E8F0FE;\n",
              "      border: none;\n",
              "      border-radius: 50%;\n",
              "      cursor: pointer;\n",
              "      display: none;\n",
              "      fill: #1967D2;\n",
              "      height: 32px;\n",
              "      padding: 0 0 0 0;\n",
              "      width: 32px;\n",
              "    }\n",
              "\n",
              "    .colab-df-convert:hover {\n",
              "      background-color: #E2EBFA;\n",
              "      box-shadow: 0px 1px 2px rgba(60, 64, 67, 0.3), 0px 1px 3px 1px rgba(60, 64, 67, 0.15);\n",
              "      fill: #174EA6;\n",
              "    }\n",
              "\n",
              "    [theme=dark] .colab-df-convert {\n",
              "      background-color: #3B4455;\n",
              "      fill: #D2E3FC;\n",
              "    }\n",
              "\n",
              "    [theme=dark] .colab-df-convert:hover {\n",
              "      background-color: #434B5C;\n",
              "      box-shadow: 0px 1px 3px 1px rgba(0, 0, 0, 0.15);\n",
              "      filter: drop-shadow(0px 1px 2px rgba(0, 0, 0, 0.3));\n",
              "      fill: #FFFFFF;\n",
              "    }\n",
              "  </style>\n",
              "\n",
              "      <script>\n",
              "        const buttonEl =\n",
              "          document.querySelector('#df-431c8f03-20a7-4d3d-b9e3-61180e42d83a button.colab-df-convert');\n",
              "        buttonEl.style.display =\n",
              "          google.colab.kernel.accessAllowed ? 'block' : 'none';\n",
              "\n",
              "        async function convertToInteractive(key) {\n",
              "          const element = document.querySelector('#df-431c8f03-20a7-4d3d-b9e3-61180e42d83a');\n",
              "          const dataTable =\n",
              "            await google.colab.kernel.invokeFunction('convertToInteractive',\n",
              "                                                     [key], {});\n",
              "          if (!dataTable) return;\n",
              "\n",
              "          const docLinkHtml = 'Like what you see? Visit the ' +\n",
              "            '<a target=\"_blank\" href=https://colab.research.google.com/notebooks/data_table.ipynb>data table notebook</a>'\n",
              "            + ' to learn more about interactive tables.';\n",
              "          element.innerHTML = '';\n",
              "          dataTable['output_type'] = 'display_data';\n",
              "          await google.colab.output.renderOutput(dataTable, element);\n",
              "          const docLink = document.createElement('div');\n",
              "          docLink.innerHTML = docLinkHtml;\n",
              "          element.appendChild(docLink);\n",
              "        }\n",
              "      </script>\n",
              "    </div>\n",
              "  </div>\n",
              "  "
            ]
          },
          "metadata": {},
          "execution_count": 57
        }
      ]
    },
    {
      "cell_type": "code",
      "source": [
        "data.drop(['FrameCnt', 'Latitude', 'Longitude', 'RSSI', 'SNR', 'Time'], axis=1)"
      ],
      "metadata": {
        "id": "U3nsujpWDOYw",
        "colab": {
          "base_uri": "https://localhost:8080/",
          "height": 424
        },
        "outputId": "73200bf3-bfd8-408a-9f7f-47dbd4cd052d"
      },
      "execution_count": null,
      "outputs": [
        {
          "output_type": "execute_result",
          "data": {
            "text/plain": [
              "              PL     Distance         n\n",
              "0     120.973228  1392.196048  1.422158\n",
              "1     137.377360  1407.306048  6.023443\n",
              "2     136.437759  1409.669260  5.763654\n",
              "3     135.002895  1408.405755  5.359706\n",
              "4     140.193310  1402.407396  6.803881\n",
              "...          ...          ...       ...\n",
              "7188  140.073822  1293.231155  6.574343\n",
              "7189  137.737602  1299.925429  5.950863\n",
              "7190  138.466832  1314.805252  6.175086\n",
              "7191  131.539019  1328.007784  4.296939\n",
              "7192  130.202895  1343.712964  3.947201\n",
              "\n",
              "[7193 rows x 3 columns]"
            ],
            "text/html": [
              "\n",
              "  <div id=\"df-4f152e56-d89e-4df1-bd95-3f35c665e2e5\">\n",
              "    <div class=\"colab-df-container\">\n",
              "      <div>\n",
              "<style scoped>\n",
              "    .dataframe tbody tr th:only-of-type {\n",
              "        vertical-align: middle;\n",
              "    }\n",
              "\n",
              "    .dataframe tbody tr th {\n",
              "        vertical-align: top;\n",
              "    }\n",
              "\n",
              "    .dataframe thead th {\n",
              "        text-align: right;\n",
              "    }\n",
              "</style>\n",
              "<table border=\"1\" class=\"dataframe\">\n",
              "  <thead>\n",
              "    <tr style=\"text-align: right;\">\n",
              "      <th></th>\n",
              "      <th>PL</th>\n",
              "      <th>Distance</th>\n",
              "      <th>n</th>\n",
              "    </tr>\n",
              "  </thead>\n",
              "  <tbody>\n",
              "    <tr>\n",
              "      <th>0</th>\n",
              "      <td>120.973228</td>\n",
              "      <td>1392.196048</td>\n",
              "      <td>1.422158</td>\n",
              "    </tr>\n",
              "    <tr>\n",
              "      <th>1</th>\n",
              "      <td>137.377360</td>\n",
              "      <td>1407.306048</td>\n",
              "      <td>6.023443</td>\n",
              "    </tr>\n",
              "    <tr>\n",
              "      <th>2</th>\n",
              "      <td>136.437759</td>\n",
              "      <td>1409.669260</td>\n",
              "      <td>5.763654</td>\n",
              "    </tr>\n",
              "    <tr>\n",
              "      <th>3</th>\n",
              "      <td>135.002895</td>\n",
              "      <td>1408.405755</td>\n",
              "      <td>5.359706</td>\n",
              "    </tr>\n",
              "    <tr>\n",
              "      <th>4</th>\n",
              "      <td>140.193310</td>\n",
              "      <td>1402.407396</td>\n",
              "      <td>6.803881</td>\n",
              "    </tr>\n",
              "    <tr>\n",
              "      <th>...</th>\n",
              "      <td>...</td>\n",
              "      <td>...</td>\n",
              "      <td>...</td>\n",
              "    </tr>\n",
              "    <tr>\n",
              "      <th>7188</th>\n",
              "      <td>140.073822</td>\n",
              "      <td>1293.231155</td>\n",
              "      <td>6.574343</td>\n",
              "    </tr>\n",
              "    <tr>\n",
              "      <th>7189</th>\n",
              "      <td>137.737602</td>\n",
              "      <td>1299.925429</td>\n",
              "      <td>5.950863</td>\n",
              "    </tr>\n",
              "    <tr>\n",
              "      <th>7190</th>\n",
              "      <td>138.466832</td>\n",
              "      <td>1314.805252</td>\n",
              "      <td>6.175086</td>\n",
              "    </tr>\n",
              "    <tr>\n",
              "      <th>7191</th>\n",
              "      <td>131.539019</td>\n",
              "      <td>1328.007784</td>\n",
              "      <td>4.296939</td>\n",
              "    </tr>\n",
              "    <tr>\n",
              "      <th>7192</th>\n",
              "      <td>130.202895</td>\n",
              "      <td>1343.712964</td>\n",
              "      <td>3.947201</td>\n",
              "    </tr>\n",
              "  </tbody>\n",
              "</table>\n",
              "<p>7193 rows × 3 columns</p>\n",
              "</div>\n",
              "      <button class=\"colab-df-convert\" onclick=\"convertToInteractive('df-4f152e56-d89e-4df1-bd95-3f35c665e2e5')\"\n",
              "              title=\"Convert this dataframe to an interactive table.\"\n",
              "              style=\"display:none;\">\n",
              "        \n",
              "  <svg xmlns=\"http://www.w3.org/2000/svg\" height=\"24px\"viewBox=\"0 0 24 24\"\n",
              "       width=\"24px\">\n",
              "    <path d=\"M0 0h24v24H0V0z\" fill=\"none\"/>\n",
              "    <path d=\"M18.56 5.44l.94 2.06.94-2.06 2.06-.94-2.06-.94-.94-2.06-.94 2.06-2.06.94zm-11 1L8.5 8.5l.94-2.06 2.06-.94-2.06-.94L8.5 2.5l-.94 2.06-2.06.94zm10 10l.94 2.06.94-2.06 2.06-.94-2.06-.94-.94-2.06-.94 2.06-2.06.94z\"/><path d=\"M17.41 7.96l-1.37-1.37c-.4-.4-.92-.59-1.43-.59-.52 0-1.04.2-1.43.59L10.3 9.45l-7.72 7.72c-.78.78-.78 2.05 0 2.83L4 21.41c.39.39.9.59 1.41.59.51 0 1.02-.2 1.41-.59l7.78-7.78 2.81-2.81c.8-.78.8-2.07 0-2.86zM5.41 20L4 18.59l7.72-7.72 1.47 1.35L5.41 20z\"/>\n",
              "  </svg>\n",
              "      </button>\n",
              "      \n",
              "  <style>\n",
              "    .colab-df-container {\n",
              "      display:flex;\n",
              "      flex-wrap:wrap;\n",
              "      gap: 12px;\n",
              "    }\n",
              "\n",
              "    .colab-df-convert {\n",
              "      background-color: #E8F0FE;\n",
              "      border: none;\n",
              "      border-radius: 50%;\n",
              "      cursor: pointer;\n",
              "      display: none;\n",
              "      fill: #1967D2;\n",
              "      height: 32px;\n",
              "      padding: 0 0 0 0;\n",
              "      width: 32px;\n",
              "    }\n",
              "\n",
              "    .colab-df-convert:hover {\n",
              "      background-color: #E2EBFA;\n",
              "      box-shadow: 0px 1px 2px rgba(60, 64, 67, 0.3), 0px 1px 3px 1px rgba(60, 64, 67, 0.15);\n",
              "      fill: #174EA6;\n",
              "    }\n",
              "\n",
              "    [theme=dark] .colab-df-convert {\n",
              "      background-color: #3B4455;\n",
              "      fill: #D2E3FC;\n",
              "    }\n",
              "\n",
              "    [theme=dark] .colab-df-convert:hover {\n",
              "      background-color: #434B5C;\n",
              "      box-shadow: 0px 1px 3px 1px rgba(0, 0, 0, 0.15);\n",
              "      filter: drop-shadow(0px 1px 2px rgba(0, 0, 0, 0.3));\n",
              "      fill: #FFFFFF;\n",
              "    }\n",
              "  </style>\n",
              "\n",
              "      <script>\n",
              "        const buttonEl =\n",
              "          document.querySelector('#df-4f152e56-d89e-4df1-bd95-3f35c665e2e5 button.colab-df-convert');\n",
              "        buttonEl.style.display =\n",
              "          google.colab.kernel.accessAllowed ? 'block' : 'none';\n",
              "\n",
              "        async function convertToInteractive(key) {\n",
              "          const element = document.querySelector('#df-4f152e56-d89e-4df1-bd95-3f35c665e2e5');\n",
              "          const dataTable =\n",
              "            await google.colab.kernel.invokeFunction('convertToInteractive',\n",
              "                                                     [key], {});\n",
              "          if (!dataTable) return;\n",
              "\n",
              "          const docLinkHtml = 'Like what you see? Visit the ' +\n",
              "            '<a target=\"_blank\" href=https://colab.research.google.com/notebooks/data_table.ipynb>data table notebook</a>'\n",
              "            + ' to learn more about interactive tables.';\n",
              "          element.innerHTML = '';\n",
              "          dataTable['output_type'] = 'display_data';\n",
              "          await google.colab.output.renderOutput(dataTable, element);\n",
              "          const docLink = document.createElement('div');\n",
              "          docLink.innerHTML = docLinkHtml;\n",
              "          element.appendChild(docLink);\n",
              "        }\n",
              "      </script>\n",
              "    </div>\n",
              "  </div>\n",
              "  "
            ]
          },
          "metadata": {},
          "execution_count": 58
        }
      ]
    },
    {
      "cell_type": "markdown",
      "source": [
        "Linear regression model"
      ],
      "metadata": {
        "id": "zF7dOY2CMprQ"
      }
    },
    {
      "cell_type": "code",
      "source": [
        "import numpy as np\n",
        "import pandas as pd\n",
        "import seaborn as sns\n",
        "import matplotlib.pyplot as plt\n",
        "from sklearn import preprocessing, svm\n",
        "from sklearn.model_selection import train_test_split\n",
        "from sklearn.linear_model import LinearRegression\n",
        "\n",
        "sns.lmplot(x =\"PL\", y =\"Distance\", data = data, order = 2, ci = None)"
      ],
      "metadata": {
        "colab": {
          "base_uri": "https://localhost:8080/",
          "height": 387
        },
        "id": "_LcW9hFfHRAn",
        "outputId": "cae1f7d0-4aa8-44c1-c25b-650367725d1c"
      },
      "execution_count": null,
      "outputs": [
        {
          "output_type": "execute_result",
          "data": {
            "text/plain": [
              "<seaborn.axisgrid.FacetGrid at 0x7f57797391c0>"
            ]
          },
          "metadata": {},
          "execution_count": 52
        },
        {
          "output_type": "display_data",
          "data": {
            "text/plain": [
              "<Figure size 360x360 with 1 Axes>"
            ],
            "image/png": "[encoded data removed]"
          },
          "metadata": {
            "needs_background": "light"
          }
        }
      ]
    },
    {
      "cell_type": "code",
      "source": [
        "reg = LinearRegression()\n",
        "reg.fit(data[['PL','Distance']],data['n'])"
      ],
      "metadata": {
        "colab": {
          "base_uri": "https://localhost:8080/"
        },
        "id": "q-2ZohgRHWrF",
        "outputId": "923ea9e8-af10-4233-8be8-cbdc66af702b"
      },
      "execution_count": null,
      "outputs": [
        {
          "output_type": "execute_result",
          "data": {
            "text/plain": [
              "LinearRegression()"
            ]
          },
          "metadata": {},
          "execution_count": 59
        }
      ]
    },
    {
      "cell_type": "code",
      "source": [
        "reg.coef_"
      ],
      "metadata": {
        "colab": {
          "base_uri": "https://localhost:8080/"
        },
        "id": "PGuKPZw_HwGL",
        "outputId": "20366dc5-4bf3-4e22-f666-ca4b45143516"
      },
      "execution_count": null,
      "outputs": [
        {
          "output_type": "execute_result",
          "data": {
            "text/plain": [
              "array([0.23333265, 0.00204491])"
            ]
          },
          "metadata": {},
          "execution_count": 60
        }
      ]
    },
    {
      "cell_type": "code",
      "source": [
        "reg.intercept_"
      ],
      "metadata": {
        "colab": {
          "base_uri": "https://localhost:8080/"
        },
        "id": "TmDyl5QkHxhG",
        "outputId": "bac236fb-1a0f-4b81-f2f3-094ec0f3c9c6"
      },
      "execution_count": null,
      "outputs": [
        {
          "output_type": "execute_result",
          "data": {
            "text/plain": [
              "-28.653954435574125"
            ]
          },
          "metadata": {},
          "execution_count": 62
        }
      ]
    },
    {
      "cell_type": "markdown",
      "source": [
        "Data preparation for the visualization"
      ],
      "metadata": {
        "id": "IewZlTHnNOE5"
      }
    },
    {
      "cell_type": "code",
      "source": [
        "X = data[['PL','Distance']].values.reshape(-1,2)\n",
        "Y = data['n']\n",
        "\n",
        "y_pred = reg.predict(X)\n",
        "plt.scatter(X, y, color ='b')\n",
        "plt.plot(X, y, color ='k')\n",
        "  \n",
        "plt.show()"
      ],
      "metadata": {
        "colab": {
          "base_uri": "https://localhost:8080/",
          "height": 265
        },
        "id": "OQEqaSk0EFDl",
        "outputId": "0ba68e79-26c5-4050-b444-513ff08af90c"
      },
      "execution_count": null,
      "outputs": [
        {
          "output_type": "display_data",
          "data": {
            "text/plain": [
              "<Figure size 432x288 with 1 Axes>"
            ],
            "image/png": "[encoded data removed]"
          },
          "metadata": {
            "needs_background": "light"
          }
        }
      ]
    },
    {
      "cell_type": "markdown",
      "source": [
        "We tried to research for better visualization for trained model. Prepare the model data points for visualization to train, evaluate and plot the regression model \n",
        "\n",
        "ref: https://gist.github.com/aricooperdavis/c658fc1c5d9bdc5b50ec94602328073b\n"
      ],
      "metadata": {
        "id": "bkRUWSJUNd-2"
      }
    },
    {
      "cell_type": "code",
      "source": [
        "import pandas as pd\n",
        "import numpy as np\n",
        "import matplotlib.pyplot as plt\n",
        "from sklearn import linear_model\n",
        "from mpl_toolkits.mplot3d import Axes3D\n",
        "\n",
        "x = X[:, 0]\n",
        "y = X[:, 1]\n",
        "z = Y\n",
        "\n",
        "x_pred = np.linspace(6, 24, 30)\n",
        "y_pred = np.linspace(0.93, 2.9, 30) \n",
        "xx_pred, yy_pred = np.meshgrid(x_pred, y_pred)\n",
        "model_viz = np.array([xx_pred.flatten(), yy_pred.flatten()]).T\n",
        "\n",
        "\n",
        "ols = linear_model.LinearRegression()\n",
        "model = ols.fit(X, Y)\n",
        "predicted = model.predict(model_viz)\n",
        "\n",
        "r2 = model.score(X, Y)\n",
        "\n",
        "plt.style.use('default')\n",
        "\n",
        "fig = plt.figure(figsize=(12, 4))\n",
        "\n",
        "ax1 = fig.add_subplot(131, projection='3d')\n",
        "ax2 = fig.add_subplot(132, projection='3d')\n",
        "\n",
        "axes = [ax1, ax2]\n",
        "\n",
        "for ax in axes:\n",
        "    ax.plot(x, y, z, color='k', zorder=15, linestyle='none', marker='o', alpha=0.5)\n",
        "    ax.scatter(xx_pred.flatten(), yy_pred.flatten(), predicted, facecolor=(0,0,0,0), s=20, edgecolor='#70b3f0')\n",
        "    ax.set_xlabel('PL', fontsize=12)\n",
        "    ax.set_ylabel('Distance', fontsize=12)\n",
        "    ax.set_zlabel('n', fontsize=12)\n",
        "    ax.locator_params(nbins=4, axis='x')\n",
        "    ax.locator_params(nbins=5, axis='x')\n",
        "\n",
        "ax1.view_init(elev=27, azim=112)\n",
        "ax2.view_init(elev=16, azim=-51)\n",
        "\n",
        "fig.suptitle('$R^2 = %.2f$' % r2, fontsize=20)\n",
        "\n",
        "fig.tight_layout()\n",
        "\n"
      ],
      "metadata": {
        "colab": {
          "base_uri": "https://localhost:8080/",
          "height": 414
        },
        "id": "495E1PvaNi4Y",
        "outputId": "7ba66cfb-ef98-4306-8c10-7631b7a43128"
      },
      "execution_count": null,
      "outputs": [
        {
          "output_type": "display_data",
          "data": {
            "text/plain": [
              "<Figure size 1200x400 with 2 Axes>"
            ],
            "image/png": "[encoded data removed]"
          },
          "metadata": {}
        }
      ]
    },
    {
      "cell_type": "markdown",
      "source": [
        "Use train.csv file to test our linear model"
      ],
      "metadata": {
        "id": "FHpPBBJaEnPa"
      }
    },
    {
      "cell_type": "code",
      "source": [
        "import pandas as pd\n",
        "test_data = pd.read_csv('/content/sample_data/test.csv')\n",
        "print(test_data)"
      ],
      "metadata": {
        "id": "1mzbS7A7EpSo",
        "colab": {
          "base_uri": "https://localhost:8080/"
        },
        "outputId": "81e1fa82-1ae7-49e6-d865-bcf3bf4a9fde"
      },
      "execution_count": null,
      "outputs": [
        {
          "output_type": "stream",
          "name": "stdout",
          "text": [
            "              PL     Distance  FrameCnt   Latitude   Longitude  RSSI   SNR  \\\n",
            "0     132.603736  1308.948859        24  40.000097  116.328227  -112   3.5   \n",
            "1     132.324741  1267.813865        25  40.000483  116.328182  -111   1.5   \n",
            "2     135.599387  1190.898224        47  40.002358  116.330673  -111  -4.2   \n",
            "3     133.267492  1199.849353        51  40.002330  116.330800  -111  -0.5   \n",
            "4     130.539019  1525.688059        70  39.999145  116.331442  -109   1.0   \n",
            "...          ...          ...       ...        ...         ...   ...   ...   \n",
            "1759  135.814126  1268.170890        28  39.999688  116.320472  -110  -5.8   \n",
            "1760  142.596121  1260.603639        42  39.999733  116.324142  -113 -10.2   \n",
            "1761  140.232494  1262.692555        43  39.999773  116.324705  -111  -9.8   \n",
            "1762  139.454107  1338.670284        56  39.999840  116.328330  -108 -12.2   \n",
            "1763  141.454107  1328.996642        57  39.999948  116.328375  -110 -12.2   \n",
            "\n",
            "                                Time  \n",
            "0     2018-12-22T08:42:12.538725616Z  \n",
            "1     2018-12-22T08:42:17.762554287Z  \n",
            "2     2018-12-22T08:45:11.699802099Z  \n",
            "3     2018-12-22T08:45:37.685140055Z  \n",
            "4     2018-12-22T08:48:03.299627898Z  \n",
            "...                              ...  \n",
            "1759  2019-03-15T01:19:59.347014917Z  \n",
            "1760  2019-03-15T01:21:28.541374751Z  \n",
            "1761  2019-03-15T01:21:38.110520336Z  \n",
            "1762  2019-03-15T01:23:21.438106371Z  \n",
            "1763  2019-03-15T01:23:30.318479452Z  \n",
            "\n",
            "[1764 rows x 8 columns]\n"
          ]
        }
      ]
    },
    {
      "cell_type": "code",
      "source": [
        "test_data = test_data.drop(['FrameCnt', 'Latitude', 'Longitude', 'RSSI', 'SNR', 'Time'], axis=1)"
      ],
      "metadata": {
        "id": "FHjt0UMeEaJG"
      },
      "execution_count": null,
      "outputs": []
    },
    {
      "cell_type": "code",
      "source": [
        "print(test_data)"
      ],
      "metadata": {
        "id": "CU4BqZFmHDhf",
        "colab": {
          "base_uri": "https://localhost:8080/"
        },
        "outputId": "8153fe58-ed2b-4258-813e-6178fcdd2944"
      },
      "execution_count": null,
      "outputs": [
        {
          "output_type": "stream",
          "name": "stdout",
          "text": [
            "              PL     Distance\n",
            "0     132.603736  1308.948859\n",
            "1     132.324741  1267.813865\n",
            "2     135.599387  1190.898224\n",
            "3     133.267492  1199.849353\n",
            "4     130.539019  1525.688059\n",
            "...          ...          ...\n",
            "1759  135.814126  1268.170890\n",
            "1760  142.596121  1260.603639\n",
            "1761  140.232494  1262.692555\n",
            "1762  139.454107  1338.670284\n",
            "1763  141.454107  1328.996642\n",
            "\n",
            "[1764 rows x 2 columns]\n"
          ]
        }
      ]
    },
    {
      "cell_type": "markdown",
      "source": [
        "y_pred is the predicted value of 'n' when the test.csv is used as input. "
      ],
      "metadata": {
        "id": "Pv3mnmjFPreL"
      }
    },
    {
      "cell_type": "code",
      "source": [
        "y_pred = reg.predict(test_data)\n",
        "print(y_pred)\n"
      ],
      "metadata": {
        "colab": {
          "base_uri": "https://localhost:8080/"
        },
        "id": "yhj_uj-7GsBu",
        "outputId": "fc2d09f0-b5e9-4466-ffd0-830eecbe5d04"
      },
      "execution_count": null,
      "outputs": [
        {
          "output_type": "stream",
          "name": "stdout",
          "text": [
            "[4.96351135 4.81429532 5.42109143 ... 6.64895969 6.62270439 7.06958794]\n"
          ]
        }
      ]
    },
    {
      "cell_type": "markdown",
      "source": [
        "Here we will compare our manually calculated values and the predicted values. "
      ],
      "metadata": {
        "id": "vHtuBhxqQM9J"
      }
    },
    {
      "cell_type": "code",
      "source": [
        "dt0 = min(test_data['Distance'])\n",
        "print(dt0)\n",
        "mask = test_data['Distance'].values == dt0\n",
        "PLt0 = test_data[mask]['PL'] \n",
        "print(PLt0)\n",
        "import math\n",
        "res2 = []\n",
        "for i in range(len(test_data)):\n",
        "  res2.append((float(test_data['PL'][i])-float(PLt0))/10*math.log(float(test_data['Distance'][i])/float(dt0)))"
      ],
      "metadata": {
        "colab": {
          "base_uri": "https://localhost:8080/"
        },
        "id": "Ny4-mEEFHBva",
        "outputId": "652f9b68-8326-4e14-ba32-033712e96313"
      },
      "execution_count": null,
      "outputs": [
        {
          "output_type": "stream",
          "name": "stdout",
          "text": [
            "88.48178100999333\n",
            "306    95.413927\n",
            "Name: PL, dtype: float64\n"
          ]
        }
      ]
    },
    {
      "cell_type": "code",
      "source": [
        "print(len(res2))\n",
        "print(len(y_pred))"
      ],
      "metadata": {
        "colab": {
          "base_uri": "https://localhost:8080/"
        },
        "id": "Mhghgp2oRUuL",
        "outputId": "59cebd94-ed78-4680-960a-c21b6ddc1653"
      },
      "execution_count": null,
      "outputs": [
        {
          "output_type": "stream",
          "name": "stdout",
          "text": [
            "1764\n",
            "1764\n"
          ]
        }
      ]
    },
    {
      "cell_type": "markdown",
      "source": [
        "Plot of predicted and test values"
      ],
      "metadata": {
        "id": "FOmmQd20Qbbb"
      }
    },
    {
      "cell_type": "code",
      "source": [
        "plt.scatter(res2,y_pred);\n",
        "plt.xlabel('Actual');\n",
        "plt.ylabel('Predicted');"
      ],
      "metadata": {
        "colab": {
          "base_uri": "https://localhost:8080/",
          "height": 449
        },
        "id": "WGssdscJRcs0",
        "outputId": "4c5d5cae-b06b-44a2-befa-d5815fd2c13e"
      },
      "execution_count": null,
      "outputs": [
        {
          "output_type": "display_data",
          "data": {
            "text/plain": [
              "<Figure size 640x480 with 1 Axes>"
            ],
            "image/png": "[encoded data removed]"
          },
          "metadata": {}
        }
      ]
    },
    {
      "cell_type": "code",
      "source": [
        "test_data['n'] = res2\n",
        "print(test_data['n'])"
      ],
      "metadata": {
        "colab": {
          "base_uri": "https://localhost:8080/"
        },
        "id": "tprSfPTKIN6D",
        "outputId": "5f09abae-893a-4873-99c7-6f5ca49731a1"
      },
      "execution_count": null,
      "outputs": [
        {
          "output_type": "stream",
          "name": "stdout",
          "text": [
            "0       10.019615\n",
            "1        9.826591\n",
            "2       10.446879\n",
            "3        9.869010\n",
            "4       10.001533\n",
            "          ...    \n",
            "1759    10.756691\n",
            "1760    12.534182\n",
            "1761    11.913694\n",
            "1762    11.964111\n",
            "1763    12.474048\n",
            "Name: n, Length: 1764, dtype: float64\n"
          ]
        }
      ]
    },
    {
      "cell_type": "code",
      "source": [
        "print(res2)\n",
        "print(len(res2))\n",
        "print(y_pred)\n",
        "print(len(y_pred))"
      ],
      "metadata": {
        "id": "2RN9Xic5MIFx",
        "colab": {
          "base_uri": "https://localhost:8080/"
        },
        "outputId": "f7ec089b-374a-47ed-b0ab-d71d49845564"
      },
      "execution_count": null,
      "outputs": [
        {
          "output_type": "stream",
          "name": "stdout",
          "text": [
            "[10.019615149581735, 9.826591275150834, 10.446879196071963, 9.869009622054124, 10.001533137622832, 10.847480706657493, 10.456848895606107, 9.577103399761496, 12.24588919244977, 11.707881242320612, 13.875453728680498, 15.19911225220572, 10.401515686495172, 11.217175108161587, 3.9321993098364243, 4.550730635620752, 0.30098773323238215, 0.5062621765439154, 1.4726975928740504, 2.812229872982132, 1.8812071140108642, 1.1191270430375997, 1.6358168515037572, 1.441957862049683, 1.713862259756662, 1.5760781749432229, 10.748728617970718, 10.58117326694956, 9.85803524939973, 10.650213194625325, 4.932402192017101, 5.103426038313216, 13.107702163770004, 13.386198274027029, 11.214631210514998, 11.146102033391161, 11.513412747309403, 10.922133928906412, 12.185860864372568, 11.886016612205959, 14.848353914584116, 15.823480181169277, 12.90462824926841, 17.08779019421038, 15.658462137561035, 14.193972883373783, 14.448989398418293, 13.867564409938645, 15.448873028376319, 16.2741277577129, 15.611874500556167, 17.246271932667003, 16.895883348458607, 16.84367499954298, 11.077516747215668, 12.817890532368233, 9.112131084875298, 4.729578646647932, 7.300959728539302, 7.457251805314017, 4.511697266878465, 4.616566775256332, 2.6910293820617044, 2.9455319811149154, 8.19498163909149, 7.457450962776334, 6.585639645500966, 6.630552801803625, 6.945286363766168, 8.171145554616208, 7.458888723468713, 6.1098056902051345, 6.849865643033655, 6.48442238635763, 6.516738514109368, 7.025448830760878, 6.309751753017844, 6.999264094690125, 4.719171450356907, 6.760119403283646, 11.304873241307062, 10.271087160791831, 13.759254133488403, 15.462756169498839, 11.130407414348268, 8.151108853805784, 6.261496917889708, 5.52434119118138, 0.6703935962485527, 1.8023981856511464, 1.1599788010143421, 1.0739638819168071, 3.958912479939134, 2.9252866713014787, 7.671869147237922, 7.970177845030131, 9.957720203676354, 10.915759322382716, 12.489310754102672, 12.582598130359246, 15.663516220049074, 12.618537838363698, 13.07659674120232, 9.143765962203101, 10.838391313056693, 13.27998681108754, 11.27483710728973, 14.214036776001365, 15.189294564929552, 14.915417333776222, 11.230820884806342, 12.519134596005824, 11.780705472160625, 11.558738548781884, 12.712345505485992, 11.397402055828017, 12.394221256866429, 14.217245179152906, 12.853474200748957, 12.856762357320031, 10.638786994284168, 13.45793398213763, 9.024021032504143, 10.961802226135665, 9.214680022125197, 9.581931258072057, 6.491263461487331, 7.468440224637335, 8.816401692237184, 10.597732933066675, 11.055344859624865, 10.945899016288209, 10.804621384061724, 11.274738844384565, 12.16162470789765, 10.726967145706686, 14.564539045597618, 13.125639145544929, 11.978907251488511, 13.016097478026017, 14.383246351071454, 12.536889794440068, 12.380883102590634, 12.874889432083908, 10.136003435935622, 10.096416095719972, 11.135576791941968, 13.094415915880626, 12.913538244150615, 13.433258355810707, 12.758080228820615, 10.649881247378026, 13.013821977421513, 9.356812900200119, 9.676985460714288, 9.755590816408343, 7.065768573196631, 9.319622854980901, 5.28719311824898, 6.01372901792305, 9.783459996038129, 6.445129078359354, 7.968503844388364, 7.534152012479996, 9.79964095633051, 6.655468313974442, 6.426625313400609, 6.687482824956486, 8.46608890591732, 6.199432313818736, 7.078953349331308, 5.266001407760269, 6.631936187992346, 7.121162441974841, 9.344119857758043, 6.651472829233495, 4.9018773448902175, 5.7452125258676245, 5.101515736899691, 5.553949853392887, 6.1236697819671955, 5.311128236171437, 6.431321173280252, 5.157591651472484, 5.3701103503462315, 6.11406319633688, 9.84062030571021, 8.935236759879128, 12.249284129621394, 12.000595148882686, 9.28844291648501, 9.037228267695362, 12.05770296420359, 12.220357040849862, 11.30680465063298, 12.52542080421655, 12.26618874098648, 11.035095553280454, 9.21105929936691, 10.78313388654665, 12.354959538591594, 10.868665624409946, 9.316948066639146, 11.006692158526429, 14.669549367789925, 12.852105114111158, 13.311040750999009, 14.235453347134927, 11.437934678404268, 11.02097181549312, 9.314481448108813, 8.893141891706657, 15.444675249801849, 15.702656311241446, 15.8832045083819, 16.152608785398638, 15.638608516949953, 15.080138866989627, 16.12266091444651, 15.694224104035436, 15.448695329668524, 16.286525194695503, 13.670299342183203, 16.37484252171121, 12.915642021957279, 15.18257209626124, 15.872237310147318, 16.592422303397118, 22.552884187317503, 6.401665964607684, 5.5261509877285215, 2.396659720446483, 4.051686103874056, 5.562721685098105, 6.095339391096695, 9.569505322657026, 9.905793837741495, 12.742600209965651, 12.230901929312106, 11.958506344302295, 11.745491198042725, 12.249255282004517, 12.35792509492141, 11.952637556697264, 12.925926745805143, 12.43240458433986, 12.042914241762913, 12.685091983287242, 12.219657311848941, 7.235973185014017, 8.132270081313766, 12.224536712858907, 11.726937945640085, 9.59428669308968, 9.221447535783884, 8.106384206618676, 7.932103041219342, 3.3693367847389015, 3.34404043097909, 8.36179567136783, 8.257036128204366, 8.521610934179522, 8.428007567438206, 13.686869518948736, 1.3172117387495856, 1.557640093731672, 12.298517575445564, 7.574786665099195, 9.969766216550015, 3.6769011758549768, 6.383918718636009, 8.180595678844373, 9.214899639601754, 11.744911915384131, 11.00723842228425, 10.888233603359401, 10.294408464995026, 10.92515294562273, 10.921060883377079, 10.804451580706887, 10.730914117242772, 10.770612259870903, 10.586792986840145, 11.371689408981895, 11.016391761889617, 10.703141099590338, 10.485067056540615, 10.753805301701465, 10.928724502757051, 7.70748574712557, 7.985454404014292, 6.604373134845148, 7.184276705797645, 6.655717078364913, 6.056425529218458, 10.45316231224933, 11.654754342034519, 9.961793910404806, 10.847364374047041, 7.500547079057322, 5.58810997423246, 11.294227408258996, 10.731560542211978, 5.212320416685343, 3.0232694276986787, 0.0, 0.0, 1.1000948998004376, 1.092386697208457, 1.2235744678806622, 1.68731820051452, 8.66120154468089, 7.4557745013994365, 9.093986804397078, 8.757418738898483, 8.459632649713166, 8.576499050426515, 8.755575786931388, 9.087395221616196, 8.85419884733584, 8.820153940280191, 9.010249255636014, 10.31465526232534, 10.48854853158734, 8.876017405724795, 7.926906273386374, 9.072056642787095, 9.206149274878465, 9.091246923905896, 9.145246940744206, 9.179554707485323, 8.94269421041389, 9.040071658273456, 8.970208516767835, 9.24385005119587, 8.021172038992777, 8.948616678216998, 11.234306709426798, 8.79008892931891, 9.623412038569716, 9.833396718518095, 7.059979853508233, 7.564709628578801, 9.458242879796336, 9.463308841260691, 11.664818529910754, 11.678877457815563, 9.73496871837211, 11.476924773173879, 10.139729051676529, 11.69003456874299, 12.516093241232658, 11.377636721646201, 16.1810492312053, 16.25453089501212, 14.544476022737474, 11.515301820189155, 9.96799377373597, 9.52668352563886, 11.59866975052079, 11.125627243721002, 9.358321859978298, 12.723746369417647, 11.339886451111798, 10.841286070705854, 9.410292968435057, 10.528886564010707, 15.276248528720823, 11.961986915899622, 11.393244030731411, 10.263710773514054, 9.872710799643878, 9.936026835105983, 7.961479099265839, 6.133758207284054, 6.08617972427298, 8.478107335439942, 9.383919460576493, 8.956743396524187, 9.570806709297491, 9.355887918427516, 9.871894668346359, 9.174805156461476, 9.498254886543469, 8.9959733965412, 10.003012233988814, 9.545720278704259, 6.008781981516906, 7.431184538495905, 7.621698376828267, 7.852382495610206, 10.999151912108491, 11.883720648955949, 10.315942990077597, 10.348846408789449, 11.917008105021512, 12.25530226158699, 8.541872371931804, 10.087962744071179, 10.72130577655901, 11.397591787908109, 10.52909122754472, 10.819181773753378, 8.651282769970884, 9.02213014572175, 14.071540812912742, 13.8298641023694, 14.7632162225455, 13.5771126896146, 13.687331417380086, 12.645854281819807, 13.772752762903643, 12.741157508892123, 13.77733168776305, 14.042643016464208, 13.519524978023265, 13.448987100495662, 13.63322794812689, 13.804675893075643, 13.217655497738603, 13.508839728695653, 13.061888073049348, 13.685970160505754, 13.650733283981259, 13.415316981276597, 13.966973793383755, 13.881379092446632, 13.636908077932823, 13.257314607797566, 13.456130654227131, 13.726029218688463, 13.383010849898774, 13.791999733788359, 13.244566326349007, 13.241152014914773, 13.660925436232418, 13.694181276205693, 13.428473176866119, 13.997374023314215, 13.208664648476828, 13.932623354811405, 13.60377046410287, 13.357544535543234, 12.847586273111412, 13.277279491047596, 13.167707685546803, 13.158866409357787, 10.591823767561515, 11.804794316090259, 13.316422999859395, 13.138076116019208, 13.389160966853519, 13.124578784032439, 14.071941871254454, 13.700664109278485, 13.838744939328036, 13.757470392432358, 13.26607064814752, 13.48499331764604, 13.28742349463978, 13.56622429585431, 13.622071041117833, 13.850653866707463, 13.234065569861722, 13.898115128391408, 13.745861327352257, 13.544431729819236, 13.472615531807412, 13.863444980047252, 13.585924300809634, 13.678286562514687, 13.334074096732222, 13.819501809862977, 13.685487277593769, 13.621366479190453, 13.851051087238691, 14.077619055167181, 13.569508386140894, 13.850819046909784, 15.06460038340914, 13.834201640014202, 13.624817810571399, 15.258286070605774, 13.76190171109421, 13.753012307978583, 15.219170216147297, 13.587410949323859, 13.392009253300067, 13.4871160050408, 13.71580628594323, 13.192378501112719, 13.979951213383908, 14.173998847926525, 13.331296154175234, 13.681446792506106, 13.642207488422118, 13.253513331689787, 13.409364924781789, 13.192807604556267, 13.466824573351385, 13.198450716367267, 14.897890347433197, 13.145661069550528, 13.298464823962277, 13.554629935835706, 13.193932074457583, 12.797466104203664, 13.399973195561515, 13.357648033357478, 14.865196584607142, 11.591948573597262, 13.258707988250952, 13.561370660310724, 13.327173217775584, 13.217875297754595, 13.545420525624746, 13.602330269398808, 13.633873580193049, 13.587809988392806, 13.44955991470517, 13.249928374073361, 13.330057632776317, 13.657337385833625, 13.604264651064389, 13.754157918359196, 14.264325831907916, 13.561887548117513, 12.1758974528464, 13.733249735635752, 13.309939962394676, 13.604290856054005, 13.528707989930252, 13.637340301113547, 14.047883499159498, 15.265245907975414, 13.03065829683217, 13.299658056547633, 13.652603952435891, 13.462259979603619, 13.313031648464191, 13.514158928597494, 13.95720235370569, 13.260014032429131, 13.713623174149872, 13.274531578507876, 13.481292020900302, 13.700202362931298, 13.672841243643912, 13.520851413830675, 13.631684708807912, 13.728879335219684, 13.484580877539651, 13.379725044822072, 13.283216866012326, 13.565261796504952, 13.13669534412657, 13.367546575392034, 13.728170954273073, 13.475603602959355, 13.268274363589049, 13.778749423961223, 13.668707027158638, 13.453448687920208, 14.835049105505902, 13.211786495412497, 13.160588598644276, 13.52551318323688, 13.396583029524566, 13.364279995287399, 13.590467713101978, 13.4916742609241, 13.679507754730555, 13.520052530624813, 13.434964995720987, 13.280345893076344, 13.210347605494764, 13.298701842481542, 13.50914799197347, 13.227592524771842, 13.278144148289925, 13.10503515726637, 12.868185224595697, 13.709474903260208, 13.344106404531688, 13.152199257907617, 13.389956366652811, 13.012525092966225, 14.904652450081798, 13.08694667057687, 13.4021943257862, 13.085660232103196, 13.24174421615029, 13.051578332891603, 13.587257488170426, 13.327512102204322, 13.287748332517197, 13.381077061225813, 13.4256892184774, 13.41875225507726, 13.13168733113498, 13.315354852445571, 13.438414251072524, 12.881372117774923, 13.559640399293132, 13.19681674051554, 13.017732140693877, 13.270526351491373, 13.073890789299131, 13.34134214167449, 13.05370784081813, 13.161437017175976, 12.833218675122888, 13.152744373378082, 12.789473573210119, 14.926769843745681, 13.329488614141622, 11.629237676134569, 13.052876697001219, 13.506847447728099, 13.546422145779538, 13.294387454019587, 13.044552278778378, 13.252128667875205, 13.444873379945205, 13.531312640168697, 13.160259597672015, 12.865123882992574, 13.425696820832158, 13.310150710800336, 13.329632699382653, 13.264047686075251, 13.462077274604058, 13.32679302308277, 13.408391268026865, 13.1090420340444, 13.929662171629813, 13.159673436338906, 13.449481359526924, 13.235613672032159, 13.272059838070692, 13.461132621393803, 13.136345098950198, 13.343789165318377, 13.223334809002116, 13.409325872362311, 13.379081789088735, 13.226939252091432, 12.859039736269473, 12.942668575715416, 13.339397221649971, 13.561408766401426, 13.416900250871276, 13.35586776714433, 11.46407909610637, 13.348303178451921, 13.33226090337741, 13.11381914433381, 13.456075257736448, 13.430381747420542, 13.166991368220522, 13.076509408537506, 13.17667475172083, 13.462353098167862, 13.994214789321532, 13.501815134520402, 13.596378081484271, 13.746484098641151, 13.631533262790656, 13.997827850783214, 13.49205409000001, 13.814144977503958, 13.61383168379728, 13.744125423148427, 13.497967530832906, 13.563516386301375, 13.904344567915626, 13.617628130311138, 13.412313359862443, 13.498320459715485, 11.877415090327316, 14.847799498955228, 13.541180804755246, 13.888550799180505, 12.420216023459473, 12.485191953452675, 13.451342604920185, 12.80401832788952, 12.823253544961366, 13.192634719405433, 13.106842127535526, 13.19482340769673, 13.382514568998074, 13.366329482904597, 13.365243041126428, 13.567381505959018, 13.05326415891314, 13.204498423814073, 13.700556279735773, 13.565250137803838, 13.632381429051623, 13.361642461144758, 13.456381483694575, 13.414445256750058, 13.520843284867965, 13.061283426650315, 13.368909285841747, 13.513462978365467, 13.249747770696345, 13.659099082576407, 13.362475804159436, 13.010512446397724, 13.352808276642653, 13.07041885903213, 13.29464358202882, 13.594890827028506, 13.076302117122903, 13.42647576255676, 13.387135752571856, 13.245657968427219, 13.197149413840199, 13.163393089833184, 13.32807400257089, 13.593363471306908, 13.060529074231317, 13.518608620501862, 13.757750262013623, 13.038795440426544, 13.623947084380776, 13.428733065192391, 13.529588685447543, 13.373009841380288, 11.879050251188973, 13.307786344651731, 13.357635721212247, 13.494392794235791, 13.505195230497419, 13.550083645623266, 13.821907424072783, 13.563937920517043, 13.843879980295714, 13.670780604047982, 13.815183093944025, 13.798505421006126, 13.781160989902814, 13.58467946957423, 12.09587054540865, 13.800401717307611, 13.529360520377784, 13.452908184405606, 13.643437284401417, 13.475059164602957, 13.43969463688251, 13.411929391281117, 13.717570908804847, 13.463570366234404, 13.79909132988705, 13.58453721553059, 13.366577095984258, 13.523218796828276, 13.875374695317962, 13.862443460030915, 13.771998830337614, 13.567396989033169, 14.344385772296436, 13.788387156534878, 13.978084752764284, 13.90866423800699, 14.037103297875348, 14.47159553978783, 14.280104244551294, 13.888555791076204, 14.768460090406212, 14.586340461810458, 14.235010920970396, 14.377705330393123, 14.061376722435444, 14.079127191259774, 14.038326001581577, 13.815504097098895, 14.260255859233329, 14.517803392554685, 13.635753304409747, 14.138894549258042, 13.637351794509367, 13.850837178498058, 14.000246653995783, 13.774553746272941, 10.372312464639725, 10.576570947339633, 8.313825364529713, 10.294161353585528, 11.51882194814302, 10.162213764020168, 10.299914111227597, 10.557821084481505, 8.300971354823826, 8.828681833664467, 11.016506321445252, 9.606598965549148, 10.581192993447173, 11.89675338055352, 8.484212284338994, 7.437682174278373, 9.01657038719176, 9.538620290998528, 10.481418496039835, 9.587187587150215, 10.142099022969694, 9.874094131634878, 10.65923894427453, 10.406344033348098, 10.392394488446579, 10.035611506243955, 10.616819741065925, 10.606718260953024, 10.199457666537649, 10.90617151523105, 10.406490838046318, 8.325974076454846, 6.803130688722403, 7.463608117234746, 9.860318050771546, 8.210101482468069, 9.978529110044095, 9.456909738048857, 11.123775249814857, 10.186704296205585, 9.188625801701475, 11.05654680923023, 11.004633560986612, 10.372246234355082, 11.946594054489838, 9.84301687900559, 5.649400342012816, 5.412300854922296, 5.2831442460521165, 5.787570160789531, 4.599239538345071, 5.9901582050321185, 8.084886579593872, 9.430878500256037, 7.57105188593025, 7.642946656355282, 14.10124590770589, 14.354772270496612, 14.444161987025032, 14.313762062414272, 14.291831088914604, 14.202632371200844, 14.48604928091643, 13.799335193386579, 14.250819443003548, 13.799101220538077, 13.70284101135991, 13.82803024034611, 13.719308484748545, 13.97976115307402, 13.832653657949292, 13.801937649799743, 14.83705349496426, 13.960165993806147, 14.617549178967312, 14.129828858635873, 14.249992839775906, 14.185448555910193, 14.422270847685766, 13.976545601853328, 14.53765184392042, 14.731964284378918, 14.433397580797664, 14.513666779546373, 14.174445233619705, 14.336656941575923, 14.217795013275236, 14.375548748570314, 14.237188358769798, 14.406824762729336, 14.579966906492324, 14.220955130406933, 15.128637153284712, 14.555787781133839, 14.051291726908811, 14.546660534324268, 14.361940656755234, 14.500181232875322, 13.792809177820725, 14.721540712095631, 14.670005127765165, 14.874826385852073, 14.394322324773352, 14.76465672437358, 13.886594565368343, 13.629929557188799, 13.739318892615193, 14.981638484937776, 14.770256629834822, 14.375715035299017, 14.461015442436045, 14.672690397940064, 14.368325659484892, 13.88256234527168, 16.02454807026965, 15.104785982278605, 13.625309292173908, 13.84737929300522, 13.636995413719253, 13.593994029599155, 13.6335607964342, 14.332255437239466, 13.829495228030101, 14.62271202499943, 13.9614310540251, 14.28851672988423, 14.085082477452527, 14.234363565993839, 13.86087403440588, 13.22094408391382, 13.630680368674055, 14.063290181826913, 13.361947940355776, 13.613509386888545, 14.00054938834667, 13.854402123243823, 13.571781829567655, 13.84280661052987, 14.175750359977155, 14.50974717227918, 13.829235084736883, 13.943380616218501, 13.183798269644095, 13.67821886840047, 12.501332848648902, 13.845870571593732, 15.022873166925406, 13.483170945762103, 13.706832105661682, 13.811173318198373, 14.03700480301896, 13.953712315386344, 14.047191228400491, 14.351553186105686, 13.991176272849337, 15.8218373238493, 13.982461169538158, 13.768557537509198, 13.674518175305389, 14.096720949516866, 11.82300058563922, 13.698963855418505, 13.947142036700946, 13.520469570219054, 13.924561564992539, 13.820647966766789, 13.607197154486679, 13.826484773074945, 13.932363470113474, 14.601166739675012, 13.936024946714202, 13.807864500069227, 14.014521999455518, 14.280836047495772, 13.924172821564355, 14.622992147394982, 14.681345508306498, 14.086164767153603, 14.173373560948715, 14.307148167889595, 14.465672758758808, 13.683973843096428, 14.436525154768592, 13.7006764303538, 14.107599365740342, 13.717948941752201, 14.183484035262246, 14.383567306039566, 14.071934190889372, 13.747470590251533, 13.715504437321913, 13.566223256091453, 13.61838663576221, 14.095132975334376, 13.21692635807572, 13.827611447396723, 14.564458555834657, 13.988932164989519, 13.30785856272646, 13.635192053943623, 14.251986269883535, 13.817780899911998, 14.195185205549757, 14.694589129450986, 13.66146041235984, 13.87455608786327, 14.178051396809044, 14.11251388610723, 14.1594481621623, 14.298022697471449, 13.755976714405994, 14.291535536263327, 13.891341236223766, 13.980693599736902, 14.044102060254243, 13.815686319410855, 15.647139253549202, 15.347675957727533, 13.212862516648283, 13.950729725080956, 12.882572736094401, 13.479766293930789, 13.815321166040372, 13.48178483310985, 13.26664409382724, 13.788207337099458, 13.887948037614194, 13.624614477360916, 14.110914059530034, 13.979860407704553, 14.356099537896778, 14.274048277499208, 13.687526174283727, 13.928013499553032, 13.983826233238602, 13.517444388091228, 13.548056466726646, 13.560477122499307, 13.862556565523859, 13.109453262819816, 14.154270564100244, 13.684324951847515, 14.407621504628315, 14.414068073283401, 14.027461894955165, 13.349638234596082, 13.494575335494867, 13.873312330973366, 13.55720806316261, 13.26991846819513, 13.193639057951607, 13.8501709413253, 13.424084181522206, 13.58483335750526, 13.769502046253855, 13.975193889660948, 13.80233643185134, 14.331151646058617, 13.823033659405903, 13.77473538471734, 13.720702451765156, 13.36463236567934, 13.495898105238256, 13.802865329703547, 13.929927033215447, 13.997177319298993, 13.796648919518864, 12.337706001062571, 13.98193496696488, 13.728501233202465, 15.78455247361993, 14.108214676492508, 13.686573432309318, 13.463796629515263, 14.083535097298459, 13.741445226643927, 13.923104325057313, 13.889747560989703, 13.273650176247402, 13.547722823095862, 13.822269214516863, 13.686949403157637, 13.642663590662233, 13.395931649872832, 14.123200685355226, 13.279218154727866, 13.438544894945666, 13.255371074684978, 13.274366058880599, 13.733792975459748, 13.39504097910153, 13.387751707730535, 13.653027310173854, 13.053052021770341, 13.33564194487083, 12.825019884408034, 12.785574256798613, 14.023482385163831, 14.188603079394467, 13.478105560535893, 13.44333108025499, 13.91373095025557, 13.354289296601987, 15.01583973733745, 13.136390494240164, 12.932467244516323, 13.501021474121332, 13.904322587197264, 13.317491123664702, 12.983354124082096, 13.608375798404447, 13.79949553792439, 13.676667970313126, 13.149879064153042, 13.439609397063887, 13.132613939480636, 13.184932282680306, 12.918583670921096, 12.67128167851394, 12.801538188932199, 13.544075925894754, 13.007484546213913, 13.136565446733002, 13.05973319799264, 13.472001929627957, 14.896474405033366, 12.815481573116864, 13.157215499729272, 13.27317446456553, 12.535213898372039, 12.845686384636668, 13.278500256011782, 12.881678984343631, 13.60837742647459, 13.800556479031284, 13.884769065352495, 14.262092336871529, 13.694937687550146, 14.28017914144056, 15.038777257436355, 14.167854472028262, 13.435609127711547, 13.653824884964854, 13.57282420298236, 12.876809532629482, 13.518687718413547, 13.450595633653435, 13.644315257523786, 13.97058119393607, 13.750766729267518, 14.12586729753049, 13.48867323515122, 13.692488090088254, 14.125010659680813, 13.588823775451674, 13.691176895874431, 13.742360776994234, 13.728275414530167, 13.631785678384782, 13.840998706724884, 13.686647848522608, 13.646757338323093, 13.645057523060421, 13.243438193226364, 14.445684540941734, 13.416949278639898, 13.689239997552923, 13.927138435411932, 14.193680694174654, 14.222777434014178, 14.603316009736398, 14.112411332123397, 14.533633205286433, 14.058765255412585, 13.993217177848345, 13.321785152403068, 13.616852188138965, 13.535420920113298, 13.734248916408125, 13.52277926874137, 13.801849666436672, 13.93619204990992, 14.331259384680548, 14.470036155089636, 14.224405224269963, 14.755495606469486, 15.119930981687707, 14.757167184639957, 14.484230224550359, 14.275895818304635, 14.53281738232794, 14.407790858658759, 14.739903362630141, 14.059622303279657, 14.10742731908106, 16.010134304780713, 14.896008609746685, 15.111981966544157, 13.920072795046723, 14.345212889883939, 13.881396607657408, 14.455329878777333, 14.482341373738807, 14.49595481673065, 14.097936769942113, 14.807922684737987, 14.81950672144995, 14.99036246093431, 14.184313454902913, 14.48444155209105, 13.832519533734278, 14.561109934770254, 14.338586840094885, 14.275278627338901, 13.92245466868335, 13.950979350047497, 14.086514131153642, 14.506139507652207, 14.004492074814342, 13.528036422095013, 14.599233366765155, 13.856484469918396, 13.744790146140478, 13.767111589914265, 13.896973345249371, 14.25074759672506, 14.255357810824878, 14.263568319098374, 14.26222704689122, 13.855410685558383, 13.149570095641717, 13.942936464942488, 13.598974647198196, 14.122478424621981, 14.104411580946858, 14.554796065324641, 14.49339207016048, 14.32486516256383, 13.49067222790313, 13.808737733119553, 14.37055748666594, 14.419108129749318, 14.286878882084988, 16.23574058680941, 14.466004584882612, 14.331720067200685, 13.038033060033905, 13.386207529496293, 12.172199155858015, 12.513756814498398, 14.060933735487607, 13.809538153448631, 14.003853802046223, 13.327482653894739, 13.950893533058707, 14.241409303248327, 14.180392227470023, 14.47211487632142, 14.614263868989063, 14.490356071234814, 14.509987623209684, 14.123613676481558, 14.290060248805924, 13.879733444693962, 13.504373705648336, 13.780805974601478, 14.91814202406461, 14.38531699576058, 14.783445985915515, 14.473724656750097, 14.574496461415604, 14.27593334810659, 14.520917172063099, 13.772257702160303, 14.81600789614705, 16.360595152340654, 14.0036388403218, 14.9764819661703, 14.561101364550582, 14.376999640615836, 15.042526816933444, 15.023742637917609, 14.850712202070367, 15.245295924026985, 14.80968965239675, 15.178357396348433, 15.739298677518116, 14.935292329379424, 14.57129760714791, 15.151932670530877, 14.554005085127221, 14.86360418092914, 15.134536977577618, 14.852506408913543, 14.606060324206112, 15.001784575762622, 14.231337741348671, 14.116018409965747, 14.506379739223412, 14.240818397636014, 14.559817921199087, 14.716650095971437, 15.246106879061008, 15.434535037527718, 14.676199300077124, 14.952099071925637, 15.655093706347236, 15.170430787968593, 14.42080340601718, 14.15305689055781, 14.058307246884635, 14.161554853991804, 14.038559955288093, 14.233429095934124, 13.76998956788294, 13.770462400754276, 13.937106955623236, 13.795960249110164, 14.125649038188175, 14.349939040009295, 13.829491574103733, 13.772124722926876, 13.874518517811865, 13.949460748417188, 13.399387496834242, 14.644367085366424, 13.587101043568417, 13.848061359263346, 14.078286510577245, 14.078744203197697, 13.898033372200846, 14.45131823236619, 13.812688430552111, 14.231706994204925, 14.094317125998746, 14.316835538448196, 14.835296288868966, 14.481744493160772, 12.984172291156343, 14.140749590074247, 14.54387814707669, 14.134316033222996, 14.308961098008096, 14.06234521164451, 14.368500183940322, 14.828797493351232, 14.47858325994674, 14.492538657016578, 14.766445144976078, 14.872995212010725, 14.647082328393289, 14.89347093192573, 14.924409461480828, 14.513652912514308, 14.58912759406657, 14.216990734859, 14.819295898716252, 14.88634787494369, 13.5802371941183, 14.075721706777783, 14.165151987535245, 13.974738894534426, 14.336406607182065, 14.439293822960508, 13.822010505984963, 14.576011114541817, 14.295173112990025, 15.941577449954467, 14.271562235239747, 14.661826674405324, 14.268611918686329, 13.33577029267641, 15.736212949204562, 14.565626154396863, 14.335973646648299, 14.176413182091752, 15.06072781421848, 13.530238740890642, 13.639897321326659, 14.288259912236999, 10.110983307021353, 10.162526437040038, 11.050056075448406, 9.515829847619338, 11.544473235576092, 13.054074734607845, 9.528314832913598, 10.311945012532737, 12.370916636475894, 9.43671787331515, 7.751044085586819, 7.998503466805059, 7.554324410473422, 8.285874360747972, 9.132378131547355, 8.771308615274156, 10.231150767578791, 9.21379800284925, 10.915708048624529, 10.57737964101026, 12.26553278184218, 12.807291010052717, 11.197533330747818, 10.828942704599873, 10.566788200850898, 13.056769848872385, 11.256018270710848, 11.68014689016612, 12.769137996349055, 11.927376325710453, 10.96072769844951, 11.170800235183169, 10.074068530778481, 9.875877852996975, 6.6259317802989, 6.548075700038423, 6.076576968764705, 8.252177025117964, 9.964202786669997, 9.322857673187942, 10.174658940887193, 11.560089425686357, 11.347100239056953, 11.41475884464898, 6.785721270906557, 9.304834870710472, 6.935138774848917, 8.35460403328244, 10.353132294277719, 11.510330918670437, 0.6948202671443363, 0.15302571656748315, 0.07713743035325134, 0.15976583623373727, 2.297990633501608, 4.108109123420636, 7.331341825793712, 7.777235460362814, 7.1617358206395565, 8.169366687796426, 7.795864299309327, 14.168494845936465, 7.40621762614666, 8.72159315281498, 12.432224247331943, 12.74438688985861, 10.76467486753602, 11.055676488783124, 13.382519861667888, 12.86834936727048, 9.606210266698007, 11.624710565497782, 12.383287056619425, 11.818198547109503, 7.946637422815275, 10.908203213852488, 15.06294493697523, 10.660352466003115, 12.602014096541648, 11.520895276686309, 10.031131527470059, 11.97582316259066, 7.992942612018667, 7.581407103270265, 8.026198806117172, 8.24631732264543, 8.56079197088264, 8.495434701623124, 9.307244522570986, 8.867433766330784, 8.43793331321521, 8.653715430150642, 9.423156189313097, 8.99257800816887, 10.525583451373498, 10.843825238847801, 9.313100888487227, 9.703856991603278, 13.193235373748188, 13.209802595155976, 11.141799568943917, 12.646198611076112, 10.74152623812297, 12.76138694351754, 10.905047205216576, 10.07195366216096, 12.480137804278892, 11.835737437945026, 14.230341585196614, 13.928146602558481, 12.03169275207948, 11.592794033816064, 11.234715486358509, 13.927883200083507, 10.928654864310058, 10.713434217123261, 13.909977824475158, 12.76701544506258, 14.16357473970126, 13.560466230420115, 14.676090428808136, 10.406154219073386, 10.552648364949297, 8.518767240244618, 7.597400601648931, 9.891423968144665, 11.44822996409204, 14.075586344291084, 14.10276352809191, 11.368602493844705, 10.828845864063645, 10.137463464776577, 8.605185500728748, 8.751363041541808, 9.461044002521822, 11.071206164338546, 12.613796235756652, 11.302194825851048, 10.747492888544079, 14.500181955041857, 13.08613614272094, 16.13024678715128, 13.160709515254354, 11.12184254585219, 11.698987492145923, 11.576330060185521, 10.342699267052607, 10.635910931385334, 10.339878910330286, 11.370178384417182, 12.985348488223181, 5.322267543138793, 6.284265445764905, 9.328569970064077, 9.456781706666053, 8.815911942560323, 9.069544351344147, 9.077845775238398, 8.963217028341443, 9.238148334217362, 9.09838272169514, 9.2131908438857, 9.085864176033057, 9.630261201713063, 8.875560226238594, 8.959992425094653, 9.156307718401457, 9.432504775993756, 9.528580987322869, 9.8519035840822, 8.75597069493006, 14.810686064808369, 15.295833508399973, 15.398533045089474, 15.347364623546463, 12.30663277238003, 11.964464103015013, 12.463391428999177, 12.513106623738512, 12.606418753176678, 12.381969567388666, 12.14721568145861, 12.18877721411365, 12.291969088516524, 12.061758662782713, 12.65389879694274, 12.21900390871711, 12.307482512189534, 12.803384683982765, 12.29761263357, 11.89640504274646, 11.844540401391395, 12.442824646300457, 12.058160945783312, 12.630108620713452, 12.174488542483376, 12.268307762399628, 12.289964696383429, 12.678861892988474, 12.785820596089588, 12.503528630453197, 12.40294747657699, 12.353132922391989, 12.155121559191207, 12.744699454538466, 12.580725869484658, 12.693829363802934, 13.119485891422801, 12.963361889595435, 13.242938004979113, 12.79928333043025, 12.623640031539168, 12.437409469723, 12.76679073754789, 12.521950554923256, 12.696513422229776, 13.377287778369947, 12.748310548057166, 12.489402902338774, 12.47659580060644, 12.99264132955871, 13.256998254031618, 13.260395063716294, 11.68282192496921, 10.80953256523447, 12.305436415208309, 12.068230429111683, 11.729166989356793, 12.343474327768709, 10.74320554501191, 11.707012483120764, 9.147947372018004, 8.665455363202433, 11.063965710286238, 11.97902291835528, 11.413341179318088, 11.855435617037973, 7.171374286789091, 7.43267954035925, 11.821815254327626, 10.813035600147389, 14.908278761812578, 15.157519533391612, 7.684847967766646, 8.14816932928318, 13.135738816091896, 12.107928705839047, 13.072575302410357, 12.302205092492764, 10.571740264701083, 10.746911581517148, 10.73001678228304, 9.252982385306307, 10.282504057400924, 11.20131804241918, 7.8222539982462465, 6.565879196635102, 10.920370621526555, 14.115193737870548, 13.203250330970809, 11.09923966431858, 12.085814822251978, 13.424693899290794, 12.66446574611528, 12.112723408646987, 10.034356519974652, 10.537263380775636, 12.267781679572058, 12.24729813363941, 17.457816632779288, 18.723736101951626, 10.121243701192844, 10.815511351308505, 11.58734754453456, 12.703355795724995, 12.378320124806786, 9.528357872143367, 10.219960485248833, 10.862609897747227, 8.593102524773705, 10.069871289743485, 9.81694964401166, 8.773417417791121, 11.084847197143665, 9.603077557055334, 9.432321434717217, 9.831954271420143, 9.860921766070126, 9.864690771330212, 9.572773066267704, 11.485599605811984, 12.75888327727629, 12.73518172478362, 14.762678884831267, 15.73921978574001, 14.30089363228772, 15.876522605228399, 14.7270024678339, 13.281211199091468, 16.425642583566145, 18.418028925849633, 16.53812383416116, 19.080257566771962, 17.160291157924693, 19.75888783436992, 17.179100083569107, 18.297169369350964, 19.037534411707107, 18.594195963807596, 19.382729671273324, 17.47322410141753, 17.804504320979223, 16.362549255797507, 12.479669183970286, 14.577880164230148, 12.38290231661108, 11.615183880761892, 13.957814652355639, 15.218688020616066, 12.298714638593209, 11.87996111162204, 12.64850844499959, 10.540066391537128, 8.67311621451518, 12.527666374614785, 10.578781729687536, 12.183070624285465, 10.695237467996234, 10.108129987118811, 7.659283496076695, 8.361674550720156, 4.4377945213161425, 3.2428978706615164, 0.4261386363465318, 0.5631246334513883, 1.8900704892670919, 2.314920381611574, 12.63410803002891, 12.32943914665192, 11.090433283191356, 10.275734321045096, 6.585168104438594, 9.549701304911993, 5.406254775213245, 6.710139063805947, 11.386737535949246, 11.204719093167165, 10.321213725302902, 11.9701278452661, 10.318630635927112, 9.837198446626324, 7.554075414284477, 6.177064527720248, 4.858939912017926, 4.124014086584716, 9.835158557992491, 10.469558932542684, 12.724884612903129, 14.079658199579105, 13.326941678030899, 12.19232746738133, 10.416873329698378, 10.343291907923435, 11.38567028294305, 12.15010149590327, 8.087495106974558, 7.574209114451804, 11.975513865810765, 11.021657911050067, 13.320848035315292, 12.816721672872797, 12.5207943304405, 12.947955574382174, 10.693453998102864, 11.383263556099061, 10.613437952226096, 10.138780163494536, 8.807663034992277, 7.6824771127561196, 8.465327852155395, 8.49808307116439, 12.387748317975628, 11.151056586789297, 10.893444423097238, 11.704836330377471, 12.917399851657969, 11.62435060520479, 9.99292548452916, 9.666389000856409, 10.264784350920806, 9.454419999892755, 11.538057803840791, 10.756691224664202, 12.534182438490257, 11.913693957829485, 11.964111339178974, 12.474047580816187]\n",
            "1764\n",
            "[4.96351135 4.81429532 5.42109143 ... 6.64895969 6.62270439 7.06958794]\n",
            "1764\n"
          ]
        }
      ]
    },
    {
      "cell_type": "markdown",
      "source": [
        "List of error"
      ],
      "metadata": {
        "id": "fk4dgxZyQiK8"
      }
    },
    {
      "cell_type": "code",
      "source": [
        "i = 0\n",
        "err=[]\n",
        "while i < len(y_pred):\n",
        "  err.append(res2[i] - y_pred[i])\n",
        "  i+=1\n",
        "print(err)"
      ],
      "metadata": {
        "colab": {
          "base_uri": "https://localhost:8080/"
        },
        "id": "0wJGVv_1JBzu",
        "outputId": "af285b85-6906-4811-81d3-959d9b09ca83"
      },
      "execution_count": null,
      "outputs": [
        {
          "output_type": "stream",
          "name": "stdout",
          "text": [
            "[5.05610380444373, 5.012295956761454, 5.0257877624355185, 4.973721217985149, 5.0765750041800715, 5.226951384735816, 5.124416196148498, 5.00230731119983, 5.237950735659524, 5.178312425128842, 5.654244919908347, 5.900975251801869, 4.387403757923851, 4.1753099327330645, 2.6316239612422945, 1.6497210321048996, 5.503320230091749, 5.232331608283749, 2.6366027958238956, 0.7624861993374901, -1.9044271560568853, 1.0789106234365373, 2.051223268285322, 2.537764349846479, 1.795857613438218, 2.241168796886171, 5.16706597269574, 5.143065505104454, 5.0405485756421555, 5.131758382118283, 4.075082776918595, 3.8564146413915097, 5.313535636557376, 5.278917433192172, 4.417988215723227, 4.355454154130447, 3.074616124936373, 3.1634672534570107, 4.5706560782895025, 4.621032372632255, 5.8474221703643074, 6.055735274481584, 5.5941173866574445, 6.592777891744255, 6.2502395692563155, 5.897147813337751, 5.957171848647787, 5.816329491899953, 6.194403710851493, 6.398561193482067, 6.236584690752865, 6.63825469058078, 6.535747991718267, 6.521033498634601, 4.144917180936513, 4.251116977555403, 2.153004849711337, 3.6455410582980097, 2.489169699958639, 2.6314462880519587, 1.6299951657838152, 1.0912317482156597, -0.24527604657625002, -0.24157402724722044, 1.8137746493742366, 2.162866245038688, 2.6962643021625903, 2.6704598144011102, 2.4834555608888484, 1.97009680290377, 2.283116164268363, 2.8783365550443127, 2.508140374347021, 2.6463122338424343, 2.7518869826741588, 2.542906445471461, 2.645445251352603, 2.2917324188211863, 3.764086066166602, 3.5612602208640567, 4.360961462775267, 4.499056203655924, 5.7988012741543375, 6.174712420611822, 4.730596092820351, 4.585569220766516, 3.540837278295207, 3.515812518981603, 5.081272976688948, 3.863083772109402, 4.4612781356801126, 4.587794026954146, 1.9081942245726045, 2.990152747652051, 3.892803105837812, 3.992218578052073, 4.7938400109043595, 4.925290447443487, 5.471374707301663, 5.506802621804047, 6.191202415691103, 5.571951534675749, 5.655966260104677, 4.88683575481781, 5.122750763123783, 5.388316775085325, 5.187872167387802, 5.646469752931591, 5.909977030127829, 5.869165883657153, 4.276254101183998, 4.383814622254349, 5.26513639736026, 5.216436353949716, 5.30990147773743, 5.175053591398264, 5.436478180512383, 5.722059897717662, 5.5929156524588475, 5.593831008109474, 5.176736791600039, 5.542014630480709, 4.69559522156368, 4.909027380273544, 4.862963157707398, 4.835027281009289, 3.961744113743701, 3.7625225299917604, 4.099098348224922, 4.0818132768235085, 4.005500028222729, 4.015864141575445, 4.030061452458641, 3.996772315486229, 4.761396318424859, 4.788447057042555, 5.828567196530779, 5.443946392952194, 5.293769287569461, 5.460466570229274, 5.765579345569224, 5.451627567054459, 5.2792034710237985, 5.324281794908174, 5.041656241884537, 5.040899721070547, 5.251204696657105, 5.559300540351073, 5.568589790735874, 5.65731003512953, 5.564945553296697, 5.193867704623873, 5.621972210238967, 4.959175562409488, 4.984897190971154, 4.9912733979437895, 4.675265241530201, 4.817473125590913, 4.488611249003324, 4.465996929785002, 4.338367936464223, 4.447561646824642, 4.387896075715959, 4.397619077225773, 4.324222720406418, 4.429713497539396, 4.4402698759831685, 4.432357408717351, 4.374489892220986, 4.452752418517939, 4.42135160062193, 4.480982030440403, 4.441786409774278, 4.4246574092136886, 4.34471160929718, 4.4377916430631545, 4.500341271637777, 4.47397183695337, 4.489678223167724, 4.477787091766573, 4.457836562213484, 4.483217636633738, 4.451873219539048, 4.492039483348244, 4.491064955812889, 4.481040516361351, 4.829820182692391, 4.794010754802869, 5.380881268706137, 5.34324910145609, 4.967915074827449, 4.9293796123392575, 5.42883501043894, 5.45559850598109, 5.313694165772169, 5.539870702055781, 5.498308580113578, 5.258029159399657, 4.936325948686287, 5.12504809566671, 5.267089674557997, 5.10277629662594, 4.939864977426396, 5.1485434223027635, 5.755360309836734, 5.495242605493409, 5.405283941973103, 5.47740133701396, 4.799404771190364, 4.73576073064579, 4.335740176099529, 4.350205987147325, 5.945616481697625, 6.103336322632041, 6.290996856747009, 6.351023314856683, 6.241635390129913, 6.113005934618537, 6.352315063934384, 6.254330912414437, 6.198301469704827, 6.391199141255413, 5.781749713439105, 6.41834097071666, 5.633469581857355, 6.067977667392203, 6.279854286016411, 6.467898689822391, 6.622209186136427, 3.4267273996006935, 3.415045913796658, 3.5128535221452357, 1.9347636832717097, 2.819055451088592, 2.9683834284928965, 4.196135290096883, 4.3032758000509475, 5.263814043454143, 5.213286183989977, 5.187917291566107, 5.166217698066781, 5.222085931630625, 5.22952142177887, 5.177907609029935, 5.278541467253685, 5.219565249656803, 5.176425589323587, 5.249200952522871, 5.19759052432315, 4.696859675772493, 4.7885688892147265, 5.236013082800792, 5.1852815819889955, 4.613476937857866, 4.584569372505619, 3.378793392819846, 3.2537948856738446, 2.538746046048391, 2.5326037082397135, 4.813597734234744, 4.803144834158132, 4.831749597690402, 4.821402256717805, 5.7177032718104925, 2.82231924663692, 2.2852383146855835, 4.916354312091579, 4.486919250322222, 4.202090429477243, 4.291413365046762, 3.971542107322607, 3.6053237686547774, 3.655809038123653, 4.034130371205547, 4.104408486222141, 4.017287711255763, 4.057515737771773, 4.111192417653951, 4.114210150184315, 4.122525312282187, 4.134324586463038, 4.130408476038012, 4.137210467323943, 4.095106729319211, 4.110555359275898, 4.115926432715549, 4.130457010625289, 4.119256383706535, 4.106398120597772, 3.937655917378237, 3.886320842503882, 3.9373277911444022, 3.8415843384260864, 4.073486225563415, 4.2313608569129, 5.015570212887042, 5.21672352597821, 5.038483217508118, 5.123995292911522, 4.726342946416404, 4.498621991643586, 4.299540515959281, 4.231661191909412, -1.5841250589863494, -1.4522394657449706, 6.2008780257552445, 6.209832907046099, 3.3486008974000883, 3.3812561863808877, 3.0077787826115516, 1.8450727347053526, 4.173816186431631, 4.267766271405507, 4.138327192868216, 4.175264796170502, 4.198913070300746, 4.212429059252306, 4.174156415828929, 4.1697817418098015, 4.151975350072938, 4.155056822869698, 4.146160098823911, 4.05104825087585, 4.044110722432558, 4.156440103286489, 4.227355640388508, 4.1363417277071495, 4.145650231033775, 4.148192847331892, 4.10770021424417, 4.1002094250532615, 4.080215486034252, 4.079428116578027, 4.072884532305684, 4.0540977993187575, 4.167499858166735, 4.083918819878976, 3.94932029362767, 4.1127293776711955, 3.9907850505213407, 3.8360880261769204, 3.8138500863572755, 3.8134909552665954, 4.829449261567783, 4.855349414419603, 5.271071189521333, 5.264942135114872, 5.035447723663138, 5.300060776308532, 5.105376833595749, 5.362687324012674, 5.535467479765829, 5.326866778430379, 6.34137030111896, 6.289845496683363, 5.92519924364219, 5.198869816019702, 5.068129178949359, 5.002193018380806, 5.298580085561023, 5.230954258217935, 4.721729415253639, 5.110331123905372, 5.150943968579867, 5.0897140700400545, 4.9720621145101465, 5.132254857472239, 5.960959930679918, 5.409069130622282, 5.327710916147678, 5.12380100984185, 5.010466514913423, 5.012078094094614, 3.904913424800986, 4.146711646290705, 4.229902549898838, 3.6858056077187147, 4.053349898895579, 4.17830642079492, 4.145008813821173, 4.161912080228724, 4.12427967812946, 4.167929419041604, 4.148005385627885, 4.172486602778946, 4.2910504485800285, 4.213008891237234, 3.997533221087119, 3.7447172920217495, 4.260891811202612, 4.366198399991378, 5.232311002661106, 5.373708341035114, 5.122236920437414, 5.129778807278047, 5.413312302832246, 5.426467982932106, 4.840547196592182, 5.02561508812566, 4.893043844880147, 4.930203310952294, 4.395905877533393, 4.379033589406152, 4.852258746835286, 4.893730565865347, 5.689460039323601, 5.660037814786419, 5.780882582353366, 5.546564494347715, 5.640283934089521, 5.494403632939866, 5.635013132394189, 5.475327986094751, 5.6595660090764515, 5.7000273087337305, 5.577547378494918, 5.569667357518584, 5.627016485178181, 5.649045977983306, 5.525545638480084, 5.572823110505498, 5.503472765166867, 5.619933404643103, 5.604396178840625, 5.580694056446152, 5.641988699541358, 5.6277162199209485, 5.5982622598420555, 5.53916298441184, 5.572788795282033, 5.614270175160129, 5.566834897005801, 5.616852256080161, 5.437254459850424, 5.355444818242249, 5.6241610467753524, 5.626128965304865, 5.586303038653826, 5.68001368475419, 5.56766607268281, 5.679418873702414, 5.599190766399298, 5.555824411114738, 5.441252800262509, 5.492904331698282, 5.500097809243234, 5.499863693011227, 5.142737608425026, 5.311993178540508, 5.510693912055302, 5.490685878933524, 5.519038846269444, 5.484700950875867, 5.628303108471199, 5.5782022781222445, 5.582202390386032, 5.570266655102879, 5.518368275242699, 5.546127632343868, 5.525120768231973, 5.566570582783806, 5.594349706365344, 5.630151136916757, 5.532642584411063, 5.635351168506739, 5.62310416440206, 5.5885094062749605, 5.559680277633364, 5.619501563600124, 5.578201520911385, 5.5928263598159145, 5.545610416812332, 5.573083241616043, 5.571193694670455, 5.566935598648939, 5.613804608228193, 5.6508508045365335, 5.586841713753019, 5.630225900594571, 5.8000077906853065, 5.62268981232509, 5.5955708686159245, 5.831167442653815, 5.589556882302519, 5.585444702455355, 5.7787656504993485, 5.554011499705888, 5.544562515201466, 5.5470896472048565, 5.585170370572786, 5.514552540198595, 5.672251297758292, 5.709215991012565, 5.517408750318619, 5.569323687056086, 5.551073016194513, 5.5066460454291875, 5.528229945129619, 5.495484336489211, 5.537873215144181, 5.501561280032158, 5.740602153282797, 5.494039993397141, 5.502553508065848, 5.536134778467986, 5.495986150257766, 5.442332822066714, 5.507191229101782, 5.504613748910462, 5.694725429248946, 5.249703784650665, 5.528100524365245, 5.5804291006593285, 5.539297887221693, 5.525640904312784, 5.57331924742487, 5.582827949510799, 5.596913077255911, 5.59215199872509, 5.569917868644691, 5.5394728879630595, 5.558982599914838, 5.609964511896415, 5.583694885012024, 5.602709012612097, 5.668837851309329, 5.567383401937027, 5.392010531216375, 5.617491498222908, 5.550335134722552, 5.599419783656389, 5.5815971843803585, 5.5984543493463015, 5.654081386219842, 5.831455891256956, 5.508036786771749, 5.545897265928334, 5.581187861672339, 5.555062985877576, 5.533077132852084, 5.559302244480799, 5.6348361806026155, 5.528671124387765, 5.6320290062795895, 5.574166220597139, 5.56058430260061, 5.599499996036828, 5.530108134597462, 5.520363874545994, 5.546151084083197, 5.556782277963066, 5.529283630342162, 5.514730937657193, 5.498928559007316, 5.541073605257168, 5.47393253691744, 5.509156521898429, 5.5763406462653595, 5.541866220818475, 5.532275429416488, 5.61387162627619, 5.563416146685471, 5.531773185214657, 5.708637317103037, 5.487877317866836, 5.468165291836604, 5.5225476110594105, 5.505622369485506, 5.493694058371657, 5.552734290781098, 5.549153802559918, 5.553606417073254, 5.519989418848269, 5.542835445322632, 5.52199044081787, 5.50683402791465, 5.505951804303553, 5.514871457282917, 5.473481465042356, 5.493299122948994, 5.475998063809422, 5.450193814351318, 5.562105233734439, 5.4983817370127905, 5.4809094297334315, 5.519401534530626, 5.45887816530194, 5.685176780147561, 5.451362832482909, 5.4909283312809745, 5.450775536368097, 5.47660823816153, 5.451971537444072, 5.5219460396569175, 5.49071766096082, 5.497678720762632, 5.515348790992128, 5.5048948117700665, 5.498695141858631, 5.45130449341859, 5.467663564521304, 5.524893463976239, 5.444016365013109, 5.538463794120018, 5.481096378450168, 5.461192907606254, 5.493152934073443, 5.462039397163615, 5.497107138858764, 5.4529348440756, 5.464971048103537, 5.419200989798922, 5.464583658440569, 5.442671848571164, 5.726462495662691, 5.491632080568175, 5.264187045527876, 5.452558927758096, 5.513790110857027, 5.532313773623098, 5.500700264962417, 5.473066021430155, 5.506026364771504, 5.527852164280988, 5.5507150214221355, 5.500476933157254, 5.45244194982628, 5.501943938666809, 5.482667355739476, 5.494876608481221, 5.486852586365583, 5.5152297514790956, 5.490384878904218, 5.5110814717266265, 5.477785902531576, 5.596057579778483, 5.500218949601933, 5.546346029593792, 5.5144857463824515, 5.490519355575891, 5.535279809500556, 5.427464048496738, 5.481031518022473, 5.468111458978749, 5.494277090975613, 5.4975036455746835, 5.473180583495386, 5.392707064830486, 5.402028249082118, 5.482088662876599, 5.5096505973288945, 5.497827872318695, 5.486683984619676, 5.248792404748109, 5.500315275426967, 5.492913947206137, 5.443049276652257, 5.549306681641049, 5.521207721339925, 5.471083696851384, 5.459391051806625, 5.491868296816806, 5.538783754699741, 5.62655583319086, 5.553737781125321, 5.5581354098118965, 5.582419467232029, 5.571585836539667, 5.628250207916324, 5.568315011164959, 5.593848173647505, 5.560147449013808, 5.578292867539522, 5.535446983928793, 5.540263635260265, 5.610281800350748, 5.5618941284361885, 5.5535508906678235, 5.568159687535941, 5.326977477510619, 5.734223164834473, 5.57142460669359, 5.644391776805437, 5.123342071193351, 5.131241397697083, 5.41822219930123, 5.389566270458609, 5.345765612719214, 5.357014243907511, 5.439816342186184, 5.45487924407921, 5.540343358019536, 5.533127784130418, 5.555930495475016, 5.583101106432695, 5.452734181798888, 5.488087739839674, 5.6556087748677495, 5.619739139985112, 5.525640190622902, 5.489380872517728, 5.512578456199066, 5.513874461786989, 5.545934322003152, 5.48043065317678, 5.534279875097615, 5.55537713543168, 5.535900243228202, 5.580873104739176, 5.527400366597627, 5.481399452474998, 5.527077257330946, 5.48443812360588, 5.528308229857705, 5.576059771686703, 5.487013811287511, 5.532165548344276, 5.542398145196978, 5.518914049382245, 5.497421149770689, 5.498193379279202, 5.515956123653055, 5.550703749640466, 5.480099305330635, 5.541355327008745, 5.540672621290117, 5.446178315761081, 5.503437919824561, 5.520450350035928, 5.549928619434855, 5.536109566447134, 5.327591642405066, 5.530763960537531, 5.532436920923697, 5.550383771974703, 5.5741283315280885, 5.578224660993678, 5.5974583863205005, 5.565536277026402, 5.627082612846586, 5.613252818900408, 5.614028347691665, 5.603442163850996, 5.611940226765279, 5.574898284583938, 5.378332624902599, 5.683526898713573, 5.549824515039576, 5.534486996166828, 5.573727370191241, 5.5416188371364825, 5.528459388358279, 5.512714256432666, 5.565898710781793, 5.5224763966428725, 5.646599312220976, 5.590705132091605, 5.474122916041047, 5.476282301754436, 5.624969740204044, 5.5906106475627855, 5.57413645933236, 5.569868633101473, 5.6691625653661415, 5.584752158768815, 5.62154842494167, 5.615014606877724, 5.633813952448829, 5.730029220247877, 5.676359458886781, 5.633222308466799, 5.756200512633754, 5.73335123569154, 5.681373114565634, 5.703049068121274, 5.643253314656874, 5.65155486908982, 5.649656562727806, 5.616511723875515, 5.72006530571813, 5.700105868742709, 5.5761410655369055, 5.635785658796676, 5.5155320380020285, 5.523250998350349, 5.596387738687737, 5.504698354501466, 4.1804323767305664, 4.31073947435279, 4.827612556729338, 5.079707096705272, 5.215172247670553, 5.056175238994689, 5.130928692007643, 5.177578824484547, 4.5733545233510995, 4.580541600643814, 5.081769039150437, 4.9352667073191565, 5.17301965764449, 5.375102718054411, 4.726183756450428, 4.658882820654111, 4.3482094721062765, 4.3192654785863045, 4.292007625240517, 4.326214615286268, 4.33937052117073, 4.355257993180606, 4.335642267127739, 4.337203667679876, 4.302263314686391, 4.311094499868068, 4.30097508541871, 4.2945785759970185, 4.312002797334115, 4.283791352521158, 4.284482650250501, 4.361431199912184, 4.442345437159252, 4.44994466919166, 4.891235706228951, 4.77971411659183, 5.078379615192835, 4.990564057901718, 5.264884097377864, 5.095398669118444, 4.926920706568909, 5.16233768285246, 4.926112644370054, 4.820340301275362, 4.513127838798473, 4.466136008584064, 3.207593714522984, 3.2781284776286084, 3.317433932109327, 3.105879035834003, 3.559019975059133, 3.0018977540405682, 4.599992110770122, 4.596237880843772, 3.174415161718863, 2.7988950722000974, 5.661853873738215, 5.69214626567423, 5.6919587549907735, 5.674540227344123, 5.647145445255484, 5.63919116886292, 5.684550109085727, 5.59217850760345, 5.5964174254937, 5.535848265114627, 5.516990905992683, 5.531151407923037, 5.498877533097453, 5.529001801114028, 5.511579420376906, 5.51827919132127, 5.76197451712582, 5.64096988732485, 5.748339149449961, 5.675087684661465, 5.690117885761449, 5.681665897039791, 5.708518632042715, 5.646382452845629, 5.736866220435312, 5.765850749876481, 5.711920366274988, 5.723643168197199, 5.678841053522207, 5.701076470506722, 5.698877151523444, 5.721325291237974, 5.707777455503498, 5.733883446918686, 5.756909653232281, 5.700330116399416, 5.81210820444622, 5.718586912821534, 5.6404757122178495, 5.712446556210136, 5.695559873149939, 5.717176843800578, 5.622616527721604, 5.763582594310453, 5.709078576567894, 5.742613684482778, 5.730061388734832, 5.781573176516186, 5.63009871704635, 5.597841219503138, 5.622693241164308, 5.814331871293479, 5.757079726911456, 5.702104920918398, 5.728386333513837, 5.755270150549835, 5.682680705885133, 5.602824630523575, 5.926982170808827, 5.80015057151004, 5.595789283572474, 5.628668395388862, 5.598301075464905, 5.597643550193972, 5.5967739507687995, 5.699001944030984, 5.6205500258697185, 5.732734299830323, 5.611120283077389, 5.66239577850274, 5.636927707708686, 5.652362322912662, 5.592642043679861, 5.492013135725111, 5.595492222915171, 5.658715276492439, 5.572593210241497, 5.6034716760862615, 5.629525606589684, 5.615346547312786, 5.585054627110335, 5.626595929647703, 5.6794471177673245, 5.72176555027395, 5.620431681377674, 5.631117453208695, 5.533360461617873, 5.613238722968962, 5.4377313504873666, 5.630288249500531, 5.746507315463697, 5.528633356912666, 5.487555574488621, 5.505572903489769, 5.646535946838473, 5.635885298991965, 5.636595739992808, 5.6906116666095485, 5.627688766622409, 5.860577082690478, 5.603429900418661, 5.575472812252206, 5.530911037238502, 5.585186275153793, 5.30632273875135, 5.5571699313505185, 5.60435812242056, 5.545763449580827, 5.644602293654954, 5.632739196869871, 5.585008362033809, 5.619180063678474, 5.581950005308242, 5.643049716431314, 5.627716142269264, 5.613030203817539, 5.600811155518198, 5.6381627033688915, 5.596076512711061, 5.685557535122438, 5.685507776609237, 5.6080681681247615, 5.6062154220110045, 5.626153248910887, 5.655347208238387, 5.553224316466185, 5.658314416766203, 5.563526473416205, 5.61844672233666, 5.5691431860434335, 5.65704990812284, 5.690009987766363, 5.665173883250414, 5.596591106007393, 5.568001867097264, 5.5381126553369615, 5.592710370899013, 5.656604571124021, 5.490199776494121, 5.574120322189515, 5.683696522575394, 5.609037711606399, 5.484811201386519, 5.52698042356046, 5.6629382745052155, 5.6007331561867275, 5.705026919438607, 5.783316092375372, 5.627055824691645, 5.638084734230011, 5.678228460268139, 5.667081042054992, 5.669558693873595, 5.682800856851337, 5.603536839918165, 5.681793255525461, 5.632264535568414, 5.648283503104441, 5.649831549642428, 5.614258027541794, 5.850983660787698, 5.795542903787085, 5.4918581868167635, 5.588221881666483, 5.425081841779724, 5.501019011108594, 5.540999286823597, 5.5019735849954525, 5.4623509955354645, 5.52775133406487, 5.557835133397344, 5.5219323256613375, 5.573024810310356, 5.558339464418388, 5.618062246160946, 5.608083215087483, 5.537129386141691, 5.561303485178666, 5.557894978381579, 5.494673851607889, 5.506622465801293, 5.5125394084361155, 5.563903779179656, 5.461607845347878, 5.61349776401882, 5.5533894446079906, 5.69961871170876, 5.7027014977592305, 5.644615263735071, 5.549132947759219, 5.5533687876101165, 5.598487741292743, 5.533912907422286, 5.4895400474763285, 5.495855400494346, 5.584814769018438, 5.531080061215034, 5.546754860687837, 5.590067846486942, 5.617613672012796, 5.591255118447464, 5.6627391756061325, 5.600866221222843, 5.595478870018132, 5.587418231767767, 5.532369476311873, 5.551064482854711, 5.588590892239381, 5.60089989752681, 5.610448474359506, 5.585687818460238, 5.386208956659278, 5.603178533239072, 5.571009342527002, 5.816481599467545, 5.593095157051113, 5.554446610572127, 5.519676055562451, 5.60910935984835, 5.559730921630971, 5.574899464419559, 5.576987235183873, 5.491246334678491, 5.529484873782762, 5.571580166586765, 5.5515146020138175, 5.530539228308305, 5.50532078986604, 5.669648178220704, 5.533625919535586, 5.504253413219123, 5.482873764767449, 5.515952111925131, 5.573479067666058, 5.501091790237819, 5.514512285808907, 5.552916668064892, 5.4728754779172455, 5.49049849181694, 5.4155469706270285, 5.437226618928227, 5.605123051043645, 5.630234367052035, 5.522672010789458, 5.527146103934365, 5.588465350790333, 5.485946188485585, 5.702820820842719, 5.470123772615118, 5.443018691710636, 5.533264420306628, 5.583969578641518, 5.5070830900783925, 5.460264940887891, 5.53520710195397, 5.560718888457238, 5.546663083497581, 5.47621976853088, 5.504751210340039, 5.4637977163693545, 5.4756952095671085, 5.436842786826295, 5.420283662381189, 5.4393738485398195, 5.553012120735458, 5.476001492343329, 5.481642574204141, 5.47090331333491, 5.540229077100452, 5.739885812550984, 5.4453693985537495, 5.495462915423893, 5.511163533887922, 5.39849432546022, 5.42832106638248, 5.489291658661525, 5.436228435009175, 5.531940596741382, 5.587513127123978, 5.601114392244794, 5.628944978767372, 5.555276448875736, 5.632151887123982, 5.734989903615116, 5.620133476410073, 5.523607120696006, 5.556493382710544, 5.54457923693106, 5.453922211601627, 5.557736905816261, 5.530469529539584, 5.548840262564372, 5.597748025965306, 5.564136123173473, 5.627256092652413, 5.544139879515582, 5.539496808476333, 5.5991434275251475, 5.522688845864293, 5.53887145913788, 5.533238026783762, 5.529337538671495, 5.52853728866698, 5.556199179915046, 5.536710057242516, 5.535648388152387, 5.534842193793027, 5.477388223664029, 5.64533102178488, 5.515028524588065, 5.512727014383211, 5.558342471099957, 5.634858235661708, 5.630478224969812, 5.702990170350331, 5.623062044945613, 5.687436791969228, 5.62202359479349, 5.611076401975316, 5.5131176211607364, 5.535938014604033, 5.527181099862828, 5.556323906154242, 5.521267228327481, 5.561844077520634, 5.581220574624869, 5.636598905767167, 5.657528781489313, 5.649697069406836, 5.724000798648698, 5.788319420374565, 5.723698337599934, 5.681903250837852, 5.656300893202149, 5.6887203758043885, 5.674258392692911, 5.693976232138006, 5.597492598193078, 5.647484500619237, 5.919299619306873, 5.753254681087833, 5.78428159871557, 5.6224708540213, 5.687586118281413, 5.602278560794051, 5.695542977555265, 5.752125647846389, 5.74334440454586, 5.679039882340362, 5.775443009891498, 5.753303610565153, 5.771637497894218, 5.630315726732039, 5.6435243878388075, 5.605256065393437, 5.70098609411184, 5.684419950740404, 5.671972085493108, 5.592625945067422, 5.606176149169318, 5.635227324552634, 5.692664486295232, 5.613928944532249, 5.549220259646777, 5.719667014670062, 5.6163041142190195, 5.600887546922166, 5.605554272006604, 5.634831240449987, 5.686583201191581, 5.664551720319038, 5.670146990960307, 5.6476200729654344, 5.590069344491905, 5.479728194290061, 5.584471301595336, 5.5593279331594605, 5.625624373043639, 5.6169060834331805, 5.678876996968228, 5.686408852372141, 5.661656913573426, 5.551608178925456, 5.59423248179791, 5.699656468321221, 5.705108824312763, 5.677501579842563, 5.956016847276317, 5.702527122588254, 5.681134169268926, 5.489243772530555, 5.541985608430473, 5.363313219587399, 5.408486895937033, 5.625461718511845, 5.608506197085667, 5.613625460779669, 5.539433749743326, 5.634585608358854, 5.682201268869731, 5.590456999367756, 5.638969359180255, 5.679614870769502, 5.684916696273941, 5.626584866505608, 5.60067237607592, 5.663140100326421, 5.601499236549106, 5.538389598156007, 5.583549097808632, 5.736343177022837, 5.66325758261236, 5.716049871893892, 5.678486626242801, 5.6886940920920654, 5.654267664793618, 5.682836420818491, 5.577207435524169, 5.712853361276066, 5.913550854124942, 5.595563207852356, 5.734955610001201, 5.682022983753098, 5.657294071911249, 5.749898236318801, 5.759139842157479, 5.770087954324206, 5.832190543551155, 5.74984437328232, 5.79832072474955, 5.853108054560655, 5.743811916074291, 5.705991684714919, 5.784841491857263, 5.716015260279926, 5.756235473810754, 5.815058141953539, 5.750706868445759, 5.677036548992792, 5.727733434012327, 5.6509055222743925, 5.626620650135155, 5.694520713698342, 5.657585845181435, 5.700350576193493, 5.732213045551839, 5.955796361690654, 5.943553556803797, 5.7598265345087665, 5.8012204209236735, 5.913984589629203, 5.834048674931081, 5.705917990031002, 5.668883887920465, 5.656411964215785, 5.670542273306088, 5.649764989700746, 5.678449589880103, 5.6099028349207085, 5.610117271349299, 5.628216826716052, 5.605234452224758, 5.656055681800105, 5.689841785018979, 5.620548363674418, 5.613287309103409, 5.621759758429992, 5.633924656233777, 5.570705896463091, 5.754824785892426, 5.5918386818147106, 5.628977333398895, 5.665631528606253, 5.6658422447747085, 5.635313944236039, 5.720434238380381, 5.612889344236194, 5.677639142646493, 5.6586331082160015, 5.691718831819745, 5.761107466020514, 5.708307665358909, 5.510682576055968, 5.680121502702811, 5.711093245347701, 5.657789830098777, 5.6916911108314725, 5.660758574444545, 5.716026656983692, 5.786998907901111, 5.708592164871908, 5.715302962131794, 5.7552140499922615, 5.779645930504373, 5.763743982919426, 5.789659156597018, 5.786325461761553, 5.725420056580065, 5.73469359729892, 5.670701194554724, 5.753199256712328, 5.768868337644596, 5.572897175431493, 5.649964705340709, 5.646087940410036, 5.617399313034792, 5.68337720521343, 5.687760647280104, 5.602689682266547, 5.708304279736801, 5.6167122165601455, 5.8168815809574905, 5.635621255924024, 5.655413054794375, 5.575483490477076, 5.386100845980577, 5.736134361970992, 5.624696500243708, 5.569198739402008, 5.58846782789586, 5.934515843484101, 5.52751591101012, 5.532392961372414, 5.54435182279817, 4.4199893456050035, 4.6399935546532, 5.192561309795778, 4.975215827824988, 5.169481731334795, 5.33665712436002, 4.99067051139324, 5.105795706333248, 5.408269362622434, 4.9657066299836, 3.9646849266496558, 3.9088453848884948, 4.163453713110114, 4.15841229871058, 3.4102613975298404, 3.5016593278601196, 3.9432818863052415, 4.097403806935519, 3.8868289229490447, 3.9145495752775226, 3.763955482192296, 3.7183178535691592, 3.849680913241327, 3.881197524497752, 3.9152211924274667, 3.6955642151727695, 3.852988514238673, 3.81177771833457, 3.7044164833565674, 3.786454404007772, 3.859479951548291, 3.842584966308202, 3.968408087895016, 3.9105387681100794, 4.084851587845965, 4.066497496027365, 3.974332918897307, 3.8656243601209557, 4.316042496432118, 4.333680556803484, 4.270900052515477, 4.222273910523452, 4.233126787786141, 4.237758928443544, 4.41950458070334, 4.322473375748732, 4.608074411525107, 4.681990218155741, 5.130446260316619, 5.308006606681005, 3.0946847471659242, 4.7117504358034905, 5.507391326835887, 5.112810503873681, 2.3257479543788078, 1.0574292950168172, 3.660916580662559, 3.7735983409362177, 4.554805187989821, 4.624621718005276, 4.757957796033325, 5.452871824023671, 4.714172344609306, 4.8467059702196185, 4.955677272702845, 4.808073122274468, 4.274082016336067, 4.1368740442644665, 5.596826441939822, 5.480902578054057, 4.972800319576297, 5.20494197699805, 5.268225816724948, 5.203426772624976, 4.779964688664741, 5.175303339542747, 5.9845273823008664, 5.195699034190341, 5.547606731252728, 5.351543135861059, 5.084775449905589, 5.413601986534557, 3.942723347425205, 3.7061042633616976, 4.03583049939056, 3.878091697171138, 3.847079724965628, 3.8988523873512495, 4.151379503369014, 4.179319107769711, 4.213381388932776, 4.197002454889811, 4.157995061888759, 4.191136813898542, 4.725101803295553, 4.669552327837392, 4.726371899459881, 4.776226581212661, 5.411456765758718, 5.4194544556292445, 5.248272947859416, 5.478007427533015, 5.209606393842984, 5.587650804577599, 5.177865012192068, 5.048649210015233, 5.309412961498465, 5.234574046802864, 5.7716156532610565, 5.658629702759889, 5.119270423450519, 5.048401133678203, 4.427433025707588, 4.833968977005913, 4.863191949452158, 4.946843822619684, 5.742390249207409, 5.54872373816319, 5.890000068453826, 5.765432432565518, 6.012732604345716, 4.936982053227748, 4.907220974947167, 4.293019231541557, 4.274318065813229, 4.522442182295865, 4.519545840823689, 5.6853335624299515, 5.739910169227812, 5.147784365830329, 5.088888144185486, 5.0421374478197905, 4.860833510459699, 4.8874477744804175, 4.986456641624466, 5.231579406930878, 5.46551470760922, 5.288754216098573, 5.200174739223806, 5.822382023313949, 5.592996660247705, 6.140395692956833, 5.628500724472037, 5.279074335456915, 5.383842764319562, 5.167518317446648, 4.949724378661502, 5.046192363461612, 5.058930471290848, 5.243247114956445, 5.254743960534025, 4.500042530067759, 4.598932415492172, 3.745123383342431, 3.717632992173648, 3.8025299412407776, 3.7659698114580653, 3.8445914251395976, 3.8597474634936333, 3.803517140845047, 3.81600478120515, 3.8663197596319616, 3.8660984571512724, 3.703442800482483, 3.8013679325648795, 3.8286182178261488, 3.795182601967337, 3.5611058308410684, 3.701855045034062, 4.46636092322173, 4.570808426908556, 5.715456298261586, 5.784898754270952, 5.798468921916195, 5.791797619208735, 5.376745993152483, 5.3284610060564415, 5.386671328222427, 5.397384974096973, 5.41053343157216, 5.376980335278329, 5.3456623930138125, 5.350726533105512, 5.370797211939628, 5.342402390880119, 5.414336245050089, 5.350900469850117, 5.361925303478522, 5.432021160650491, 5.373090017540738, 5.316572997367855, 5.309337000011588, 5.392826754383238, 5.333906964018846, 5.404142537169362, 5.342493273475112, 5.361139146362563, 5.338278827334793, 5.383775843650048, 5.430839582434862, 5.393362882428608, 5.3856543032510125, 5.380710762525034, 5.348846299852314, 5.430620401159459, 5.42143119862393, 5.440406928037536, 5.495468756235809, 5.47764767772154, 5.506684836051122, 5.436667220271051, 5.391271267315435, 5.375731276190866, 5.440064930247736, 5.401088605934143, 5.411521762216447, 5.5139765010240644, 5.454105037557497, 5.420804344038377, 5.396274333530936, 5.469422358338049, 5.5129482188659935, 5.514458024468199, 4.30389514638639, 4.555776312749327, 5.279984809734842, 5.239025865539531, 5.334084906728249, 5.4287191271188195, 5.210431808235246, 5.385504408238713, 4.660317385081418, 4.575513829430125, 5.2394842717887204, 5.361984039770164, 5.041128292091496, 5.074873061821542, 4.160761827722101, 4.248541793680517, 5.200558727031838, 5.122396094154636, 6.037916801293498, 6.091423861378397, 2.4824174179529157, 2.9247480174660634, 3.9594259239645577, 3.905709892455974, 4.834218640650935, 4.794365793123523, 4.148957999885555, 4.357201694815272, 5.117869959267727, 4.931564630799556, 5.063780670309136, 5.194004995904786, 4.7626912169550835, 4.593862583529308, 5.2194214128622605, 5.72205579312077, 5.650895226136244, 5.274493863117664, 5.454474754847714, 5.696536907611883, 5.534496501242614, 5.409244238678637, 4.650418465420676, 4.804549318560552, 5.431270530072725, 5.449486073010201, 6.695162066429823, 7.022617462867807, 5.066882211202918, 5.147638473986049, 5.204344080833314, 5.360556440287876, 5.008059474506359, 4.828423707554936, 4.86268379798938, 4.971869178021624, 4.836569975160007, 4.99031814305728, 4.642961928013554, 4.569234037812459, 3.985395660386546, 4.024504525724135, 3.983426234810434, 3.7965795799480535, 3.9100855746434124, 3.932081940935374, 4.555973670690442, 4.682492681404188, 5.456056610325927, 5.484064404211063, 5.986248511095493, 6.193624484625326, 5.934597430185674, 6.28655988760643, 6.03001729423262, 5.678084104036243, 6.347427289362681, 6.887753960101509, 6.0832181624169195, 6.869207881108725, 5.932187783881709, 6.828755932691003, 5.805319599703104, 6.166965547050964, 6.647259176959533, 6.551183705665018, 7.0652573469380435, 6.494121513619032, 6.652585856716485, 6.217717448181972, 5.208507892968827, 5.829915348148539, 5.371014905761019, 5.198343549432897, 5.85814202769871, 6.130215946389972, 5.478577420521697, 5.398156851908189, 5.350483354341003, 5.094033275333352, 4.873827635960112, 5.393145338895188, 5.152101704015129, 5.354536539531251, 4.883586914246871, 4.841119554726852, 4.505549642002974, 4.4038790131446675, 3.5705282873491626, 3.864837753346703, 5.010828122043509, 4.737895767258807, 1.001683978502299, 1.6258409950547295, 5.541383754216222, 5.469403774568805, 5.160104261780987, 5.029951196519654, 4.2799520007149034, 3.7950381280724397, 4.24035966053691, 4.181144724289023, 5.0663973211509, 5.115138906660105, 5.118106046674315, 5.440542085838045, 4.806646097362512, 4.7611435612069535, 3.6703082277505503, 3.7521349770155474, 1.051801683628823, 1.6109340483492014, 4.252782946238861, 4.100497903961516, 5.3702944200358615, 5.537485826125833, 5.381643070922319, 5.253594936063346, 5.054183287766248, 5.045780834629975, 5.16583091813024, 5.259770340290382, 4.797847760663952, 4.732883603122154, 5.375140737742228, 5.231850700990101, 5.582841943136033, 5.528959339748729, 5.531696901365395, 5.609134202191491, 5.20119363553772, 5.326514306646635, 5.034457398912323, 4.89440840601168, 3.895475940317901, 3.904515050206312, 4.387178356220483, 4.545468066050189, 5.4519252694973055, 5.261799848202086, 5.12637509364235, 5.224024761317374, 5.275437197891659, 5.151434912394816, 4.976142684192279, 4.909030558613765, 4.640604897918724, 4.248619293369972, 5.221019446286968, 5.127478418540942, 5.3379831004167695, 5.2647342672994615, 5.341406944693453, 5.404459640745088]\n"
          ]
        }
      ]
    },
    {
      "cell_type": "markdown",
      "source": [
        "Find all the error values : min, max, mean, median and rms"
      ],
      "metadata": {
        "id": "HcNC6HyEQm-v"
      }
    },
    {
      "cell_type": "code",
      "source": [
        "import statistics\n",
        "from sklearn.metrics import mean_squared_error\n",
        "print('min(err)',min(err))\n",
        "print('max(err)',max(err))\n",
        "print('mean(err)',statistics.mean(err))\n",
        "print('median(err)',statistics.median(err))\n",
        "rms = mean_squared_error(res2, y_pred, squared=False)\n",
        "print('rms',rms)"
      ],
      "metadata": {
        "colab": {
          "base_uri": "https://localhost:8080/"
        },
        "id": "lFmvny18J80V",
        "outputId": "c379edb7-d6a7-401e-a7d0-88c2da75d954"
      },
      "execution_count": null,
      "outputs": [
        {
          "output_type": "stream",
          "name": "stdout",
          "text": [
            "min(err) -1.9044271560568853\n",
            "max(err) 7.0652573469380435\n",
            "mean(err) 5.152179297923622\n",
            "median(err) 5.50026711251445\n",
            "rms 5.223676040171309\n"
          ]
        }
      ]
    },
    {
      "cell_type": "markdown",
      "source": [
        "Discussion: For training a linear model, we have considered the zero mean gaussian value as constant assuming that it will have very minimal effect on our model even while we train and we test. As per the evaluation of the model, we have minimum, maximum, mean, median and rms values within accepted ranges. This can also be confirmed with the r2_score of around 0.97. This implies that our model is fairly accurate as it is very close to the manually found the value."
      ],
      "metadata": {
        "id": "Zn91qrP6Qu2I"
      }
    },
    {
      "cell_type": "markdown",
      "source": [
        "References:\n",
        "1. https://www.analyticsvidhya.com/blog/2022/03/multiple-linear-regression-using-python/\n",
        "2. https://en.wikipedia.org/wiki/Log-distance_path_loss_model\n",
        "3. https://www.youtube.com/watch?v=4bCqRaxxGCg"
      ],
      "metadata": {
        "id": "VylPBT7h1rgh"
      }
    }
  ]
}