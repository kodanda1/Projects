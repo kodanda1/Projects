{
 "cells": [
  {
   "cell_type": "markdown",
   "metadata": {},
   "source": [
    "## Part 2"
   ]
  },
  {
   "cell_type": "markdown",
   "metadata": {},
   "source": [
    "Predicting PL values by training the log-distance model using Linear Regression"
   ]
  },
  {
   "cell_type": "code",
   "execution_count": 22,
   "metadata": {},
   "outputs": [],
   "source": [
    "import pandas as pd\n",
    "from sklearn.linear_model import LinearRegression\n",
    "import numpy as np"
   ]
  },
  {
   "cell_type": "code",
   "execution_count": 10,
   "metadata": {},
   "outputs": [],
   "source": [
    "train = pd.read_csv(\"train.csv\")\n",
    "x_train = train[[\"Distance\",\"FrameCnt\",\"Latitude\",\"Longitude\",\"RSSI\",\"SNR\"]]\n",
    "y_train = train[[\"PL\"]]"
   ]
  },
  {
   "cell_type": "code",
   "execution_count": 11,
   "metadata": {},
   "outputs": [],
   "source": [
    "test = pd.read_csv(\"test.csv\")\n",
    "x_test = test[[\"Distance\",\"FrameCnt\",\"Latitude\",\"Longitude\",\"RSSI\",\"SNR\"]]\n",
    "y_test = test[[\"PL\"]]"
   ]
  },
  {
   "cell_type": "code",
   "execution_count": 12,
   "metadata": {},
   "outputs": [],
   "source": [
    "model = LinearRegression().fit(x_train, y_train)"
   ]
  },
  {
   "cell_type": "code",
   "execution_count": 21,
   "metadata": {},
   "outputs": [
    {
     "data": {
      "text/plain": [
       "array([[131.33585274],\n",
       "       [131.99372319],\n",
       "       [136.39310752],\n",
       "       ...,\n",
       "       [140.70434961],\n",
       "       [139.86470805],\n",
       "       [141.64401132]])"
      ]
     },
     "execution_count": 21,
     "metadata": {},
     "output_type": "execute_result"
    }
   ],
   "source": [
    "y_pred = model.predict(x_test)\n",
    "y_pred"
   ]
  },
  {
   "cell_type": "code",
   "execution_count": 23,
   "metadata": {},
   "outputs": [
    {
     "data": {
      "text/plain": [
       "array([[132.60373556],\n",
       "       [132.32474081],\n",
       "       [135.59938686],\n",
       "       ...,\n",
       "       [140.23249408],\n",
       "       [139.45410722],\n",
       "       [141.45410722]])"
      ]
     },
     "execution_count": 23,
     "metadata": {},
     "output_type": "execute_result"
    }
   ],
   "source": [
    "y_test = np.array(y_test)\n",
    "y_test"
   ]
  },
  {
   "cell_type": "code",
   "execution_count": 26,
   "metadata": {},
   "outputs": [
    {
     "name": "stdout",
     "output_type": "stream",
     "text": [
      "RMSE: [0.64845979]\n",
      "Minimum error: [1.93570763e-09]\n",
      "Maximum error: [16.97966671]\n"
     ]
    }
   ],
   "source": [
    "RMSE_num = []\n",
    "for i in range(len(y_pred)):\n",
    "    num = (y_pred[i]-y_test[i])**2\n",
    "    RMSE_num.append(num)\n",
    "RMSE = (sum(RMSE_num)/len(y_pred))**0.5\n",
    "print(\"RMSE:\", RMSE)\n",
    "print(\"Minimum error:\", min(RMSE_num))\n",
    "print(\"Maximum error:\", max(RMSE_num))"
   ]
  },
  {
   "cell_type": "code",
   "execution_count": null,
   "metadata": {},
   "outputs": [],
   "source": []
  }
 ],
 "metadata": {
  "kernelspec": {
   "display_name": "Python 3",
   "language": "python",
   "name": "python3"
  },
  "language_info": {
   "codemirror_mode": {
    "name": "ipython",
    "version": 3
   },
   "file_extension": ".py",
   "mimetype": "text/x-python",
   "name": "python",
   "nbconvert_exporter": "python",
   "pygments_lexer": "ipython3",
   "version": "3.7.4"
  }
 },
 "nbformat": 4,
 "nbformat_minor": 2
}
